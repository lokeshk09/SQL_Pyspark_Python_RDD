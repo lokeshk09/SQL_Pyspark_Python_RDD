{
 "cells": [
  {
   "cell_type": "code",
   "execution_count": 0,
   "metadata": {
    "application/vnd.databricks.v1+cell": {
     "cellMetadata": {
      "byteLimit": 2048000,
      "rowLimit": 10000
     },
     "inputWidgets": {},
     "nuid": "87fc2054-c552-4a46-b658-ce6b96239dd4",
     "showTitle": false,
     "title": ""
    }
   },
   "outputs": [],
   "source": [
    "## Dataset used\n",
    "## https://www.kaggle.com/code/alaasedeeq/chinook-sql/notebook"
   ]
  },
  {
   "cell_type": "code",
   "execution_count": 0,
   "metadata": {
    "application/vnd.databricks.v1+cell": {
     "cellMetadata": {
      "byteLimit": 2048000,
      "rowLimit": 10000
     },
     "inputWidgets": {},
     "nuid": "105d92b2-934f-4049-b970-0f4c5b7ed694",
     "showTitle": false,
     "title": ""
    }
   },
   "outputs": [],
   "source": [
    "## Importing required libraries"
   ]
  },
  {
   "cell_type": "code",
   "execution_count": 0,
   "metadata": {
    "application/vnd.databricks.v1+cell": {
     "cellMetadata": {
      "byteLimit": 2048000,
      "rowLimit": 10000
     },
     "inputWidgets": {},
     "nuid": "e78374b0-14e1-4847-abfa-42696a9efe1f",
     "showTitle": false,
     "title": ""
    }
   },
   "outputs": [],
   "source": [
    "from pyspark.sql import SparkSession\n",
    "from pyspark.sql import DataFrame\n",
    "import pandas as pd"
   ]
  },
  {
   "cell_type": "code",
   "execution_count": 0,
   "metadata": {
    "application/vnd.databricks.v1+cell": {
     "cellMetadata": {
      "byteLimit": 2048000,
      "rowLimit": 10000
     },
     "inputWidgets": {},
     "nuid": "da477d09-2c3b-48ae-8c9f-d946a89ae4c0",
     "showTitle": false,
     "title": ""
    }
   },
   "outputs": [],
   "source": [
    "print(\"initialising the spark session\")\n",
    "\n",
    "spark = (\n",
    "    SparkSession\n",
    "    .builder\n",
    "    .appName(\"Analysis in SQL\")\n",
    "    .getOrCreate()\n",
    ")"
   ]
  },
  {
   "cell_type": "code",
   "execution_count": 0,
   "metadata": {
    "application/vnd.databricks.v1+cell": {
     "cellMetadata": {
      "byteLimit": 2048000,
      "rowLimit": 10000
     },
     "inputWidgets": {},
     "nuid": "36762a91-fad6-4462-9621-86dd28b96585",
     "showTitle": false,
     "title": ""
    }
   },
   "outputs": [],
   "source": [
    "## Loading the Pyspark Dataframes and infering the schema based on the input data"
   ]
  },
  {
   "cell_type": "code",
   "execution_count": 0,
   "metadata": {
    "application/vnd.databricks.v1+cell": {
     "cellMetadata": {
      "byteLimit": 2048000,
      "rowLimit": 10000
     },
     "inputWidgets": {},
     "nuid": "8f803280-eef2-449d-9220-36d706ee67ac",
     "showTitle": false,
     "title": ""
    }
   },
   "outputs": [],
   "source": [
    "print(\"Loading the dataframes\")\n",
    "\n",
    "pspk_df_album = spark.read.csv(\"/FileStore/tables/album.csv\", inferSchema=True, header=True)\n",
    "pspk_df_artist = spark.read.csv(\"/FileStore/tables/artist.csv\", inferSchema=True, header=True)\n",
    "pspk_df_cust = spark.read.csv(\"/FileStore/tables/customer.csv\", inferSchema=True, header=True)\n",
    "pspk_df_emp = spark.read.csv(\"/FileStore/tables/employee.csv\", inferSchema=True, header=True)\n",
    "pspk_df_genre = spark.read.csv(\"/FileStore/tables/genre.csv\", inferSchema=True, header=True)\n",
    "pspk_df_invoice = spark.read.csv(\"/FileStore/tables/invoice.csv\", inferSchema=True, header=True)\n",
    "pspk_df_inline = spark.read.csv(\"/FileStore/tables/invoiceline.csv\", inferSchema=True, header=True)\n",
    "pspk_df_medtype = spark.read.csv(\"/FileStore/tables/mediatype.csv\", inferSchema=True, header=True)\n",
    "pspk_df_playlist = spark.read.csv(\"/FileStore/tables/playlist.csv\", inferSchema=True, header=True)\n",
    "pspk_df_playtrack = spark.read.csv(\"/FileStore/tables/playlist_list_track.csv\", inferSchema=True, header=True)\n",
    "pspk_df_track = spark.read.csv(\"/FileStore/tables/track.csv\", inferSchema=True, header=True)"
   ]
  },
  {
   "cell_type": "code",
   "execution_count": 0,
   "metadata": {
    "application/vnd.databricks.v1+cell": {
     "cellMetadata": {
      "byteLimit": 2048000,
      "rowLimit": 10000
     },
     "inputWidgets": {},
     "nuid": "c225f763-eb1b-4094-ae8d-5860f6ea48ab",
     "showTitle": false,
     "title": ""
    }
   },
   "outputs": [],
   "source": [
    "## Creating a temporary tables out of those pyspark dataframes"
   ]
  },
  {
   "cell_type": "code",
   "execution_count": 0,
   "metadata": {
    "application/vnd.databricks.v1+cell": {
     "cellMetadata": {
      "byteLimit": 2048000,
      "rowLimit": 10000
     },
     "inputWidgets": {},
     "nuid": "1376a63a-610b-4279-a081-52c76bc7694d",
     "showTitle": false,
     "title": ""
    }
   },
   "outputs": [],
   "source": [
    "print(\"Loading the dataframes into the temp tables\")\n",
    "\n",
    "pspk_df_album.createOrReplaceTempView(\"album\")\n",
    "pspk_df_artist.createOrReplaceTempView(\"artist\")\n",
    "pspk_df_cust.createOrReplaceTempView(\"customers\")\n",
    "pspk_df_emp.createOrReplaceTempView(\"employees\")\n",
    "pspk_df_genre.createOrReplaceTempView(\"genre\")\n",
    "pspk_df_invoice.createOrReplaceTempView(\"invoice\")\n",
    "pspk_df_inline.createOrReplaceTempView(\"inline\")\n",
    "pspk_df_medtype.createOrReplaceTempView(\"medtype\")\n",
    "pspk_df_playlist.createOrReplaceTempView(\"playlist\")\n",
    "pspk_df_playtrack.createOrReplaceTempView(\"playtrack\")\n",
    "pspk_df_track.createOrReplaceTempView(\"track\")"
   ]
  },
  {
   "cell_type": "code",
   "execution_count": 0,
   "metadata": {
    "application/vnd.databricks.v1+cell": {
     "cellMetadata": {
      "byteLimit": 2048000,
      "rowLimit": 10000
     },
     "inputWidgets": {},
     "nuid": "b66a966c-2884-4214-bf11-a2630cd356bb",
     "showTitle": false,
     "title": ""
    }
   },
   "outputs": [],
   "source": [
    "## Listing the available tables"
   ]
  },
  {
   "cell_type": "code",
   "execution_count": 0,
   "metadata": {
    "application/vnd.databricks.v1+cell": {
     "cellMetadata": {
      "byteLimit": 2048000,
      "rowLimit": 10000
     },
     "inputWidgets": {},
     "nuid": "ff40e93e-bfe0-483e-8c9b-4724fcd4ab62",
     "showTitle": false,
     "title": ""
    }
   },
   "outputs": [],
   "source": [
    "print(\"below temp tables are available to use\")\n",
    "[\n",
    "    row[0] for row in\n",
    "    spark.catalog.listTables()\n",
    "]"
   ]
  },
  {
   "cell_type": "code",
   "execution_count": 0,
   "metadata": {
    "application/vnd.databricks.v1+cell": {
     "cellMetadata": {
      "byteLimit": 2048000,
      "rowLimit": 10000
     },
     "inputWidgets": {},
     "nuid": "1bb5ae92-d5c3-44ca-b9fd-4b7c5ee8c641",
     "showTitle": false,
     "title": ""
    }
   },
   "outputs": [],
   "source": [
    "print(\"below dataframes are available to use\")\n",
    "[\n",
    "    k for (k, v) in\n",
    "    globals().items()\n",
    "    if isinstance(v, DataFrame)\n",
    "]"
   ]
  },
  {
   "cell_type": "code",
   "execution_count": 0,
   "metadata": {
    "application/vnd.databricks.v1+cell": {
     "cellMetadata": {
      "byteLimit": 2048000,
      "rowLimit": 10000
     },
     "inputWidgets": {},
     "nuid": "1bddacab-21a4-4f1b-b8ec-b59b02c8d347",
     "showTitle": false,
     "title": ""
    }
   },
   "outputs": [],
   "source": [
    "pd_df_album = pspk_df_album.toPandas()\n",
    "pd_df_artist = pspk_df_artist.toPandas()\n",
    "pd_df_cust = pspk_df_cust.toPandas()\n",
    "pd_df_emp = pspk_df_emp.toPandas()\n",
    "pd_df_genre = pspk_df_genre.toPandas()\n",
    "pd_df_invoice = pspk_df_invoice.toPandas()\n",
    "pd_df_inline = pspk_df_inline.toPandas()\n",
    "pd_df_medtype = pspk_df_medtype.toPandas()\n",
    "pd_df_playlist = pspk_df_playlist.toPandas()\n",
    "pd_df_playtrack = pspk_df_playtrack.toPandas()\n",
    "pd_df_track = pspk_df_track.toPandas()"
   ]
  },
  {
   "cell_type": "code",
   "execution_count": 0,
   "metadata": {
    "application/vnd.databricks.v1+cell": {
     "cellMetadata": {
      "byteLimit": 2048000,
      "rowLimit": 10000
     },
     "inputWidgets": {},
     "nuid": "ab5cf4db-0970-4058-959d-b30f37698341",
     "showTitle": false,
     "title": ""
    }
   },
   "outputs": [],
   "source": [
    "print(\"available python dataframes to use\")\n",
    "%whos DataFrame"
   ]
  }
 ],
 "metadata": {
  "application/vnd.databricks.v1+notebook": {
   "dashboards": [],
   "language": "python",
   "notebookMetadata": {
    "mostRecentlyExecutedCommandWithImplicitDF": {
     "commandId": 4217878726913872,
     "dataframes": [
      "_sqldf"
     ]
    },
    "pythonIndentUnit": 4
   },
   "notebookName": "Chinook_Load_data_Load",
   "widgets": {}
  }
 },
 "nbformat": 4,
 "nbformat_minor": 0
}
