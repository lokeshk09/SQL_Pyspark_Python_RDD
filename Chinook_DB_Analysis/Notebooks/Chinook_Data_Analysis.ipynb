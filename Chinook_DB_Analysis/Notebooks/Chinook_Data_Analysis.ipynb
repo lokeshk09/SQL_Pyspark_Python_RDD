{
 "cells": [
  {
   "cell_type": "markdown",
   "metadata": {
    "application/vnd.databricks.v1+cell": {
     "cellMetadata": {},
     "inputWidgets": {},
     "nuid": "04fc2a72-765c-425e-a33e-982391d50599",
     "showTitle": false,
     "title": ""
    }
   },
   "source": [
    "#### Load the Project Data"
   ]
  },
  {
   "cell_type": "code",
   "execution_count": 0,
   "metadata": {
    "application/vnd.databricks.v1+cell": {
     "cellMetadata": {
      "byteLimit": 2048000,
      "rowLimit": 10000
     },
     "inputWidgets": {},
     "nuid": "70d95ab5-c720-4174-bbcf-08335530896b",
     "showTitle": false,
     "title": ""
    }
   },
   "outputs": [],
   "source": [
    "## Preparing the Environment containing all the required Pyspark & Pandas dataframes, temporary tables "
   ]
  },
  {
   "cell_type": "code",
   "execution_count": 0,
   "metadata": {
    "application/vnd.databricks.v1+cell": {
     "cellMetadata": {
      "byteLimit": 2048000,
      "rowLimit": 10000
     },
     "inputWidgets": {},
     "nuid": "c7a1c744-4a21-4fd1-8bc3-74eb1c7d2b81",
     "showTitle": false,
     "title": ""
    }
   },
   "outputs": [
    {
     "output_type": "display_data",
     "data": {
      "application/vnd.databricks.v1+bamboolib_hint": "{\"pd.DataFrames\": [], \"version\": \"0.0.1\"}",
      "text/plain": []
     },
     "metadata": {},
     "output_type": "display_data"
    },
    {
     "output_type": "stream",
     "name": "stdout",
     "output_type": "stream",
     "text": [
      "initialising the spark session\n"
     ]
    },
    {
     "output_type": "stream",
     "name": "stdout",
     "output_type": "stream",
     "text": [
      "Loading the dataframes\n"
     ]
    }
   ],
   "source": [
    "%run ./Chinook_Load_data_Load"
   ]
  },
  {
   "cell_type": "code",
   "execution_count": 0,
   "metadata": {
    "application/vnd.databricks.v1+cell": {
     "cellMetadata": {
      "byteLimit": 2048000,
      "rowLimit": 10000
     },
     "inputWidgets": {},
     "nuid": "f236158a-65e8-4361-90f8-eda726c40576",
     "showTitle": false,
     "title": ""
    }
   },
   "outputs": [
    {
     "output_type": "stream",
     "name": "stdout",
     "output_type": "stream",
     "text": [
      "Loading the dataframes into the temp tables\n"
     ]
    },
    {
     "output_type": "stream",
     "name": "stdout",
     "output_type": "stream",
     "text": [
      "below temp tables are available to use\nOut[11]: ['album',\n 'artist',\n 'customers',\n 'employees',\n 'genre',\n 'inline',\n 'invoice',\n 'medtype',\n 'playlist',\n 'playtrack',\n 'track']"
     ]
    },
    {
     "output_type": "stream",
     "name": "stdout",
     "output_type": "stream",
     "text": [
      "below dataframes are available to use\nOut[12]: ['pspk_df_album',\n 'pspk_df_artist',\n 'pspk_df_cust',\n 'pspk_df_emp',\n 'pspk_df_genre',\n 'pspk_df_invoice',\n 'pspk_df_inline',\n 'pspk_df_medtype',\n 'pspk_df_playlist',\n 'pspk_df_playtrack',\n 'pspk_df_track']"
     ]
    },
    {
     "output_type": "stream",
     "name": "stdout",
     "output_type": "stream",
     "text": [
      "available python dataframes to use\nVariable            Type         Data/Info\n------------------------------------------\npd_df_album         DataFrame         AlbumId             <...>n\\n[347 rows x 3 columns]\npd_df_artist        DataFrame         ArtistId            <...>n\\n[275 rows x 2 columns]\npd_df_cust          DataFrame        CustomerId  FirstName<...>@yahoo.in             3  \npd_df_emp           DataFrame       EmployeeId  LastName F<...>  laura@chinookcorp.com  \npd_df_genre         DataFrame        GenreId              <...>   25               Opera\npd_df_inline        DataFrame          InvoiceLineId  Invo<...>\\n[2240 rows x 5 columns]\npd_df_invoice       DataFrame         InvoiceId  CustomerI<...>n\\n[412 rows x 9 columns]\npd_df_medtype       DataFrame       MediaTypeId           <...>           AAC audio file\npd_df_playlist      DataFrame        PlaylistId           <...>              On-The-Go 1\npd_df_playtrack     DataFrame          PlaylistId  TrackId<...>\\n[5000 rows x 2 columns]\npd_df_track         DataFrame          TrackId            <...>\\n[3503 rows x 9 columns]\npspk_df_album       DataFrame    DataFrame[AlbumId: int, T<...>e: string, ArtistId: int]\npspk_df_artist      DataFrame    DataFrame[ArtistId: int, Name: string]\npspk_df_cust        DataFrame    DataFrame[CustomerId: int<...>tring, SupportRepId: int]\npspk_df_emp         DataFrame    DataFrame[EmployeeId: int<...>x: string, Email: string]\npspk_df_genre       DataFrame    DataFrame[GenreId: int, Name: string]\npspk_df_inline      DataFrame    DataFrame[InvoiceLineId: <...>e: double, Quantity: int]\npspk_df_invoice     DataFrame    DataFrame[InvoiceId: int,<...>e: string, Total: double]\npspk_df_medtype     DataFrame    DataFrame[MediaTypeId: int, Name: string]\npspk_df_playlist    DataFrame    DataFrame[PlaylistId: int, Name: string]\npspk_df_playtrack   DataFrame    DataFrame[PlaylistId: int, TrackId: int]\npspk_df_track       DataFrame    DataFrame[TrackId: int, N<...>tring, UnitPrice: string]\n"
     ]
    }
   ],
   "source": [
    "from pyspark.sql.functions import *\n",
    "from pyspark.sql import Row\n",
    "import pandas as pd\n",
    "import datetime\n",
    "# pd.set_options(\"display.max_rows\", None)\n",
    "pd.set_option(\"display.max_columns\", None) # this option enables to show all the columns in a single frame"
   ]
  },
  {
   "cell_type": "markdown",
   "metadata": {
    "application/vnd.databricks.v1+cell": {
     "cellMetadata": {
      "byteLimit": 2048000,
      "rowLimit": 10000
     },
     "inputWidgets": {},
     "nuid": "5b8c562f-133e-4b65-9b21-8e965c66f0cc",
     "showTitle": false,
     "title": ""
    }
   },
   "source": [
    "## Questions to solve"
   ]
  },
  {
   "cell_type": "markdown",
   "metadata": {
    "application/vnd.databricks.v1+cell": {
     "cellMetadata": {},
     "inputWidgets": {},
     "nuid": "060182cd-483a-46f0-a8d4-c121e2b86f85",
     "showTitle": false,
     "title": ""
    }
   },
   "source": [
    "#### 1. Provide a query showing Customers (just their full names, customer ID and country) who are not in the US."
   ]
  },
  {
   "cell_type": "markdown",
   "metadata": {
    "application/vnd.databricks.v1+cell": {
     "cellMetadata": {},
     "inputWidgets": {},
     "nuid": "e5fc9106-204c-454f-b527-7e4b929ed2a0",
     "showTitle": false,
     "title": ""
    }
   },
   "source": [
    "##### SQL"
   ]
  },
  {
   "cell_type": "code",
   "execution_count": 0,
   "metadata": {
    "application/vnd.databricks.v1+cell": {
     "cellMetadata": {
      "byteLimit": 2048000,
      "rowLimit": 10000
     },
     "inputWidgets": {},
     "nuid": "1a5df2b7-5e6b-4624-ac11-6dcec9993644",
     "showTitle": false,
     "title": ""
    }
   },
   "outputs": [],
   "source": [
    "# we can use the customers table to query the customers fullName(firstName + lastName), CustomerId and Country which contains a simple SQL select, from, where statements"
   ]
  },
  {
   "cell_type": "code",
   "execution_count": 0,
   "metadata": {
    "application/vnd.databricks.v1+cell": {
     "cellMetadata": {
      "byteLimit": 2048000,
      "implicitDf": true,
      "rowLimit": 10000
     },
     "inputWidgets": {},
     "nuid": "14533ae5-d687-4e45-9855-e2276d1b75a8",
     "showTitle": false,
     "title": ""
    }
   },
   "outputs": [
    {
     "output_type": "display_data",
     "data": {
      "text/html": [
       "<style scoped>\n",
       "  .table-result-container {\n",
       "    max-height: 300px;\n",
       "    overflow: auto;\n",
       "  }\n",
       "  table, th, td {\n",
       "    border: 1px solid black;\n",
       "    border-collapse: collapse;\n",
       "  }\n",
       "  th, td {\n",
       "    padding: 5px;\n",
       "  }\n",
       "  th {\n",
       "    text-align: left;\n",
       "  }\n",
       "</style><div class='table-result-container'><table class='table-result'><thead style='background-color: white'><tr><th>custFullName</th><th>customerId</th><th>country</th></tr></thead><tbody><tr><td>Luís Gonçalves</td><td>1</td><td>Brazil</td></tr><tr><td>Leonie Köhler</td><td>2</td><td>Germany</td></tr><tr><td>François Tremblay</td><td>3</td><td>Canada</td></tr><tr><td>Bjørn Hansen</td><td>4</td><td>Norway</td></tr><tr><td>František Wichterlová</td><td>5</td><td>Czech Republic</td></tr><tr><td>Helena Holý</td><td>6</td><td>Czech Republic</td></tr><tr><td>Astrid Gruber</td><td>7</td><td>Austria</td></tr><tr><td>Daan Peeters</td><td>8</td><td>Belgium</td></tr><tr><td>Kara Nielsen</td><td>9</td><td>Denmark</td></tr><tr><td>Eduardo Martins</td><td>10</td><td>Brazil</td></tr><tr><td>Alexandre Rocha</td><td>11</td><td>Brazil</td></tr><tr><td>Roberto Almeida</td><td>12</td><td>Brazil</td></tr><tr><td>Fernanda Ramos</td><td>13</td><td>Brazil</td></tr><tr><td>Mark Philips</td><td>14</td><td>Canada</td></tr><tr><td>Jennifer Peterson</td><td>15</td><td>Canada</td></tr><tr><td>Robert Brown</td><td>29</td><td>Canada</td></tr><tr><td>Edward Francis</td><td>30</td><td>Canada</td></tr><tr><td>Martha Silk</td><td>31</td><td>Canada</td></tr><tr><td>Aaron Mitchell</td><td>32</td><td>Canada</td></tr><tr><td>Ellie Sullivan</td><td>33</td><td>Canada</td></tr><tr><td>João Fernandes</td><td>34</td><td>Portugal</td></tr><tr><td>Madalena Sampaio</td><td>35</td><td>Portugal</td></tr><tr><td>Hannah Schneider</td><td>36</td><td>Germany</td></tr><tr><td>Fynn Zimmermann</td><td>37</td><td>Germany</td></tr><tr><td>Niklas Schröder</td><td>38</td><td>Germany</td></tr><tr><td>Camille Bernard</td><td>39</td><td>France</td></tr><tr><td>Dominique Lefebvre</td><td>40</td><td>France</td></tr><tr><td>Marc Dubois</td><td>41</td><td>France</td></tr><tr><td>Wyatt Girard</td><td>42</td><td>France</td></tr><tr><td>Isabelle Mercier</td><td>43</td><td>France</td></tr><tr><td>Terhi Hämäläinen</td><td>44</td><td>Finland</td></tr><tr><td>Ladislav Kovács</td><td>45</td><td>Hungary</td></tr><tr><td>Hugh O'Reilly</td><td>46</td><td>Ireland</td></tr><tr><td>Lucas Mancini</td><td>47</td><td>Italy</td></tr><tr><td>Johannes Van der Berg</td><td>48</td><td>Netherlands</td></tr><tr><td>Stanisław Wójcik</td><td>49</td><td>Poland</td></tr><tr><td>Enrique Muñoz</td><td>50</td><td>Spain</td></tr><tr><td>Joakim Johansson</td><td>51</td><td>Sweden</td></tr><tr><td>Emma Jones</td><td>52</td><td>United Kingdom</td></tr><tr><td>Phil Hughes</td><td>53</td><td>United Kingdom</td></tr><tr><td>Steve Murray</td><td>54</td><td>United Kingdom</td></tr><tr><td>Mark Taylor</td><td>55</td><td>Australia</td></tr><tr><td>Diego Gutiérrez</td><td>56</td><td>Argentina</td></tr><tr><td>Luis Rojas</td><td>57</td><td>Chile</td></tr><tr><td>Manoj Pareek</td><td>58</td><td>India</td></tr><tr><td>Puja Srivastava</td><td>59</td><td>India</td></tr></tbody></table></div>"
      ]
     },
     "metadata": {
      "application/vnd.databricks.v1+output": {
       "addedWidgets": {},
       "aggData": [],
       "aggError": "",
       "aggOverflow": false,
       "aggSchema": [],
       "aggSeriesLimitReached": false,
       "aggType": "",
       "arguments": {},
       "columnCustomDisplayInfos": {},
       "data": [
        [
         "Luís Gonçalves",
         1,
         "Brazil"
        ],
        [
         "Leonie Köhler",
         2,
         "Germany"
        ],
        [
         "François Tremblay",
         3,
         "Canada"
        ],
        [
         "Bjørn Hansen",
         4,
         "Norway"
        ],
        [
         "František Wichterlová",
         5,
         "Czech Republic"
        ],
        [
         "Helena Holý",
         6,
         "Czech Republic"
        ],
        [
         "Astrid Gruber",
         7,
         "Austria"
        ],
        [
         "Daan Peeters",
         8,
         "Belgium"
        ],
        [
         "Kara Nielsen",
         9,
         "Denmark"
        ],
        [
         "Eduardo Martins",
         10,
         "Brazil"
        ],
        [
         "Alexandre Rocha",
         11,
         "Brazil"
        ],
        [
         "Roberto Almeida",
         12,
         "Brazil"
        ],
        [
         "Fernanda Ramos",
         13,
         "Brazil"
        ],
        [
         "Mark Philips",
         14,
         "Canada"
        ],
        [
         "Jennifer Peterson",
         15,
         "Canada"
        ],
        [
         "Robert Brown",
         29,
         "Canada"
        ],
        [
         "Edward Francis",
         30,
         "Canada"
        ],
        [
         "Martha Silk",
         31,
         "Canada"
        ],
        [
         "Aaron Mitchell",
         32,
         "Canada"
        ],
        [
         "Ellie Sullivan",
         33,
         "Canada"
        ],
        [
         "João Fernandes",
         34,
         "Portugal"
        ],
        [
         "Madalena Sampaio",
         35,
         "Portugal"
        ],
        [
         "Hannah Schneider",
         36,
         "Germany"
        ],
        [
         "Fynn Zimmermann",
         37,
         "Germany"
        ],
        [
         "Niklas Schröder",
         38,
         "Germany"
        ],
        [
         "Camille Bernard",
         39,
         "France"
        ],
        [
         "Dominique Lefebvre",
         40,
         "France"
        ],
        [
         "Marc Dubois",
         41,
         "France"
        ],
        [
         "Wyatt Girard",
         42,
         "France"
        ],
        [
         "Isabelle Mercier",
         43,
         "France"
        ],
        [
         "Terhi Hämäläinen",
         44,
         "Finland"
        ],
        [
         "Ladislav Kovács",
         45,
         "Hungary"
        ],
        [
         "Hugh O'Reilly",
         46,
         "Ireland"
        ],
        [
         "Lucas Mancini",
         47,
         "Italy"
        ],
        [
         "Johannes Van der Berg",
         48,
         "Netherlands"
        ],
        [
         "Stanisław Wójcik",
         49,
         "Poland"
        ],
        [
         "Enrique Muñoz",
         50,
         "Spain"
        ],
        [
         "Joakim Johansson",
         51,
         "Sweden"
        ],
        [
         "Emma Jones",
         52,
         "United Kingdom"
        ],
        [
         "Phil Hughes",
         53,
         "United Kingdom"
        ],
        [
         "Steve Murray",
         54,
         "United Kingdom"
        ],
        [
         "Mark Taylor",
         55,
         "Australia"
        ],
        [
         "Diego Gutiérrez",
         56,
         "Argentina"
        ],
        [
         "Luis Rojas",
         57,
         "Chile"
        ],
        [
         "Manoj Pareek",
         58,
         "India"
        ],
        [
         "Puja Srivastava",
         59,
         "India"
        ]
       ],
       "datasetInfos": [],
       "dbfsResultPath": null,
       "isJsonSchema": true,
       "metadata": {},
       "overflow": false,
       "plotOptions": {
        "customPlotOptions": {},
        "displayType": "table",
        "pivotAggregation": null,
        "pivotColumns": null,
        "xColumns": null,
        "yColumns": null
       },
       "removedWidgets": [],
       "schema": [
        {
         "metadata": "{}",
         "name": "custFullName",
         "type": "\"string\""
        },
        {
         "metadata": "{}",
         "name": "customerId",
         "type": "\"integer\""
        },
        {
         "metadata": "{}",
         "name": "country",
         "type": "\"string\""
        }
       ],
       "type": "table"
      }
     },
     "output_type": "display_data"
    }
   ],
   "source": [
    "%sql\n",
    "select firstname || \" \" || lastname custFullName, customerId, country\n",
    "from customers\n",
    "where country != 'USA'"
   ]
  },
  {
   "cell_type": "code",
   "execution_count": 0,
   "metadata": {
    "application/vnd.databricks.v1+cell": {
     "cellMetadata": {
      "byteLimit": 2048000,
      "rowLimit": 10000
     },
     "inputWidgets": {},
     "nuid": "221c1e3a-08e4-465d-a032-326b818bd842",
     "showTitle": false,
     "title": ""
    }
   },
   "outputs": [],
   "source": [
    "## Aggregated Query to check if we are getting the same results or not "
   ]
  },
  {
   "cell_type": "code",
   "execution_count": 0,
   "metadata": {
    "application/vnd.databricks.v1+cell": {
     "cellMetadata": {
      "byteLimit": 2048000,
      "implicitDf": true,
      "rowLimit": 10000
     },
     "inputWidgets": {},
     "nuid": "165f01cf-e583-4df2-9b3b-3c311a046c9b",
     "showTitle": false,
     "title": ""
    }
   },
   "outputs": [
    {
     "output_type": "display_data",
     "data": {
      "text/html": [
       "<style scoped>\n",
       "  .table-result-container {\n",
       "    max-height: 300px;\n",
       "    overflow: auto;\n",
       "  }\n",
       "  table, th, td {\n",
       "    border: 1px solid black;\n",
       "    border-collapse: collapse;\n",
       "  }\n",
       "  th, td {\n",
       "    padding: 5px;\n",
       "  }\n",
       "  th {\n",
       "    text-align: left;\n",
       "  }\n",
       "</style><div class='table-result-container'><table class='table-result'><thead style='background-color: white'><tr><th>country</th><th>totalCounts</th></tr></thead><tbody><tr><td>Canada</td><td>8</td></tr><tr><td>France</td><td>5</td></tr><tr><td>Brazil</td><td>5</td></tr><tr><td>Germany</td><td>4</td></tr><tr><td>United Kingdom</td><td>3</td></tr><tr><td>India</td><td>2</td></tr><tr><td>Czech Republic</td><td>2</td></tr><tr><td>Portugal</td><td>2</td></tr><tr><td>Sweden</td><td>1</td></tr><tr><td>Argentina</td><td>1</td></tr><tr><td>Belgium</td><td>1</td></tr><tr><td>Finland</td><td>1</td></tr><tr><td>Chile</td><td>1</td></tr><tr><td>Italy</td><td>1</td></tr><tr><td>Norway</td><td>1</td></tr><tr><td>Spain</td><td>1</td></tr><tr><td>Denmark</td><td>1</td></tr><tr><td>Ireland</td><td>1</td></tr><tr><td>Poland</td><td>1</td></tr><tr><td>Australia</td><td>1</td></tr><tr><td>Austria</td><td>1</td></tr><tr><td>Hungary</td><td>1</td></tr><tr><td>Netherlands</td><td>1</td></tr></tbody></table></div>"
      ]
     },
     "metadata": {
      "application/vnd.databricks.v1+output": {
       "addedWidgets": {},
       "aggData": [],
       "aggError": "",
       "aggOverflow": false,
       "aggSchema": [],
       "aggSeriesLimitReached": false,
       "aggType": "",
       "arguments": {},
       "columnCustomDisplayInfos": {},
       "data": [
        [
         "Canada",
         8
        ],
        [
         "France",
         5
        ],
        [
         "Brazil",
         5
        ],
        [
         "Germany",
         4
        ],
        [
         "United Kingdom",
         3
        ],
        [
         "India",
         2
        ],
        [
         "Czech Republic",
         2
        ],
        [
         "Portugal",
         2
        ],
        [
         "Sweden",
         1
        ],
        [
         "Argentina",
         1
        ],
        [
         "Belgium",
         1
        ],
        [
         "Finland",
         1
        ],
        [
         "Chile",
         1
        ],
        [
         "Italy",
         1
        ],
        [
         "Norway",
         1
        ],
        [
         "Spain",
         1
        ],
        [
         "Denmark",
         1
        ],
        [
         "Ireland",
         1
        ],
        [
         "Poland",
         1
        ],
        [
         "Australia",
         1
        ],
        [
         "Austria",
         1
        ],
        [
         "Hungary",
         1
        ],
        [
         "Netherlands",
         1
        ]
       ],
       "datasetInfos": [],
       "dbfsResultPath": null,
       "isJsonSchema": true,
       "metadata": {},
       "overflow": false,
       "plotOptions": {
        "customPlotOptions": {},
        "displayType": "table",
        "pivotAggregation": null,
        "pivotColumns": null,
        "xColumns": null,
        "yColumns": null
       },
       "removedWidgets": [],
       "schema": [
        {
         "metadata": "{}",
         "name": "country",
         "type": "\"string\""
        },
        {
         "metadata": "{}",
         "name": "totalCounts",
         "type": "\"long\""
        }
       ],
       "type": "table"
      }
     },
     "output_type": "display_data"
    }
   ],
   "source": [
    "%sql\n",
    "with tb1 as (\n",
    "  select firstname || \" \" || lastname custFullName, customerId, country\n",
    "  from customers\n",
    "  where country != 'USA'\n",
    ") select country, count(1) totalCounts from tb1 \n",
    "group by country\n",
    "order by totalCounts desc\n"
   ]
  },
  {
   "cell_type": "markdown",
   "metadata": {
    "application/vnd.databricks.v1+cell": {
     "cellMetadata": {},
     "inputWidgets": {},
     "nuid": "93c1e8a7-f659-4c67-a51e-3383b5f300b7",
     "showTitle": false,
     "title": ""
    }
   },
   "source": [
    "##### Pyspark"
   ]
  },
  {
   "cell_type": "code",
   "execution_count": 0,
   "metadata": {
    "application/vnd.databricks.v1+cell": {
     "cellMetadata": {},
     "inputWidgets": {},
     "nuid": "42151b77-6098-48e0-babc-42f31ac0be4a",
     "showTitle": false,
     "title": ""
    }
   },
   "outputs": [],
   "source": [
    "## SQL equivalnet for select, where with Pyspark are filter, selectExpr, select"
   ]
  },
  {
   "cell_type": "code",
   "execution_count": 0,
   "metadata": {
    "application/vnd.databricks.v1+cell": {
     "cellMetadata": {
      "byteLimit": 2048000,
      "rowLimit": 10000
     },
     "inputWidgets": {},
     "nuid": "42915de9-8f1e-421f-9717-7a4df7a90fcd",
     "showTitle": false,
     "title": ""
    }
   },
   "outputs": [
    {
     "output_type": "display_data",
     "data": {
      "text/html": [
       "<style scoped>\n",
       "  .table-result-container {\n",
       "    max-height: 300px;\n",
       "    overflow: auto;\n",
       "  }\n",
       "  table, th, td {\n",
       "    border: 1px solid black;\n",
       "    border-collapse: collapse;\n",
       "  }\n",
       "  th, td {\n",
       "    padding: 5px;\n",
       "  }\n",
       "  th {\n",
       "    text-align: left;\n",
       "  }\n",
       "</style><div class='table-result-container'><table class='table-result'><thead style='background-color: white'><tr><th>custFullName</th><th>customerId</th><th>country</th></tr></thead><tbody><tr><td>Luís Gonçalves</td><td>1</td><td>Brazil</td></tr><tr><td>Leonie Köhler</td><td>2</td><td>Germany</td></tr><tr><td>François Tremblay</td><td>3</td><td>Canada</td></tr><tr><td>Bjørn Hansen</td><td>4</td><td>Norway</td></tr><tr><td>František Wichterlová</td><td>5</td><td>Czech Republic</td></tr><tr><td>Helena Holý</td><td>6</td><td>Czech Republic</td></tr><tr><td>Astrid Gruber</td><td>7</td><td>Austria</td></tr><tr><td>Daan Peeters</td><td>8</td><td>Belgium</td></tr><tr><td>Kara Nielsen</td><td>9</td><td>Denmark</td></tr><tr><td>Eduardo Martins</td><td>10</td><td>Brazil</td></tr><tr><td>Alexandre Rocha</td><td>11</td><td>Brazil</td></tr><tr><td>Roberto Almeida</td><td>12</td><td>Brazil</td></tr><tr><td>Fernanda Ramos</td><td>13</td><td>Brazil</td></tr><tr><td>Mark Philips</td><td>14</td><td>Canada</td></tr><tr><td>Jennifer Peterson</td><td>15</td><td>Canada</td></tr><tr><td>Robert Brown</td><td>29</td><td>Canada</td></tr><tr><td>Edward Francis</td><td>30</td><td>Canada</td></tr><tr><td>Martha Silk</td><td>31</td><td>Canada</td></tr><tr><td>Aaron Mitchell</td><td>32</td><td>Canada</td></tr><tr><td>Ellie Sullivan</td><td>33</td><td>Canada</td></tr><tr><td>João Fernandes</td><td>34</td><td>Portugal</td></tr><tr><td>Madalena Sampaio</td><td>35</td><td>Portugal</td></tr><tr><td>Hannah Schneider</td><td>36</td><td>Germany</td></tr><tr><td>Fynn Zimmermann</td><td>37</td><td>Germany</td></tr><tr><td>Niklas Schröder</td><td>38</td><td>Germany</td></tr><tr><td>Camille Bernard</td><td>39</td><td>France</td></tr><tr><td>Dominique Lefebvre</td><td>40</td><td>France</td></tr><tr><td>Marc Dubois</td><td>41</td><td>France</td></tr><tr><td>Wyatt Girard</td><td>42</td><td>France</td></tr><tr><td>Isabelle Mercier</td><td>43</td><td>France</td></tr><tr><td>Terhi Hämäläinen</td><td>44</td><td>Finland</td></tr><tr><td>Ladislav Kovács</td><td>45</td><td>Hungary</td></tr><tr><td>Hugh O'Reilly</td><td>46</td><td>Ireland</td></tr><tr><td>Lucas Mancini</td><td>47</td><td>Italy</td></tr><tr><td>Johannes Van der Berg</td><td>48</td><td>Netherlands</td></tr><tr><td>Stanisław Wójcik</td><td>49</td><td>Poland</td></tr><tr><td>Enrique Muñoz</td><td>50</td><td>Spain</td></tr><tr><td>Joakim Johansson</td><td>51</td><td>Sweden</td></tr><tr><td>Emma Jones</td><td>52</td><td>United Kingdom</td></tr><tr><td>Phil Hughes</td><td>53</td><td>United Kingdom</td></tr><tr><td>Steve Murray</td><td>54</td><td>United Kingdom</td></tr><tr><td>Mark Taylor</td><td>55</td><td>Australia</td></tr><tr><td>Diego Gutiérrez</td><td>56</td><td>Argentina</td></tr><tr><td>Luis Rojas</td><td>57</td><td>Chile</td></tr><tr><td>Manoj Pareek</td><td>58</td><td>India</td></tr><tr><td>Puja Srivastava</td><td>59</td><td>India</td></tr></tbody></table></div>"
      ]
     },
     "metadata": {
      "application/vnd.databricks.v1+output": {
       "addedWidgets": {},
       "aggData": [],
       "aggError": "",
       "aggOverflow": false,
       "aggSchema": [],
       "aggSeriesLimitReached": false,
       "aggType": "",
       "arguments": {},
       "columnCustomDisplayInfos": {},
       "data": [
        [
         "Luís Gonçalves",
         1,
         "Brazil"
        ],
        [
         "Leonie Köhler",
         2,
         "Germany"
        ],
        [
         "François Tremblay",
         3,
         "Canada"
        ],
        [
         "Bjørn Hansen",
         4,
         "Norway"
        ],
        [
         "František Wichterlová",
         5,
         "Czech Republic"
        ],
        [
         "Helena Holý",
         6,
         "Czech Republic"
        ],
        [
         "Astrid Gruber",
         7,
         "Austria"
        ],
        [
         "Daan Peeters",
         8,
         "Belgium"
        ],
        [
         "Kara Nielsen",
         9,
         "Denmark"
        ],
        [
         "Eduardo Martins",
         10,
         "Brazil"
        ],
        [
         "Alexandre Rocha",
         11,
         "Brazil"
        ],
        [
         "Roberto Almeida",
         12,
         "Brazil"
        ],
        [
         "Fernanda Ramos",
         13,
         "Brazil"
        ],
        [
         "Mark Philips",
         14,
         "Canada"
        ],
        [
         "Jennifer Peterson",
         15,
         "Canada"
        ],
        [
         "Robert Brown",
         29,
         "Canada"
        ],
        [
         "Edward Francis",
         30,
         "Canada"
        ],
        [
         "Martha Silk",
         31,
         "Canada"
        ],
        [
         "Aaron Mitchell",
         32,
         "Canada"
        ],
        [
         "Ellie Sullivan",
         33,
         "Canada"
        ],
        [
         "João Fernandes",
         34,
         "Portugal"
        ],
        [
         "Madalena Sampaio",
         35,
         "Portugal"
        ],
        [
         "Hannah Schneider",
         36,
         "Germany"
        ],
        [
         "Fynn Zimmermann",
         37,
         "Germany"
        ],
        [
         "Niklas Schröder",
         38,
         "Germany"
        ],
        [
         "Camille Bernard",
         39,
         "France"
        ],
        [
         "Dominique Lefebvre",
         40,
         "France"
        ],
        [
         "Marc Dubois",
         41,
         "France"
        ],
        [
         "Wyatt Girard",
         42,
         "France"
        ],
        [
         "Isabelle Mercier",
         43,
         "France"
        ],
        [
         "Terhi Hämäläinen",
         44,
         "Finland"
        ],
        [
         "Ladislav Kovács",
         45,
         "Hungary"
        ],
        [
         "Hugh O'Reilly",
         46,
         "Ireland"
        ],
        [
         "Lucas Mancini",
         47,
         "Italy"
        ],
        [
         "Johannes Van der Berg",
         48,
         "Netherlands"
        ],
        [
         "Stanisław Wójcik",
         49,
         "Poland"
        ],
        [
         "Enrique Muñoz",
         50,
         "Spain"
        ],
        [
         "Joakim Johansson",
         51,
         "Sweden"
        ],
        [
         "Emma Jones",
         52,
         "United Kingdom"
        ],
        [
         "Phil Hughes",
         53,
         "United Kingdom"
        ],
        [
         "Steve Murray",
         54,
         "United Kingdom"
        ],
        [
         "Mark Taylor",
         55,
         "Australia"
        ],
        [
         "Diego Gutiérrez",
         56,
         "Argentina"
        ],
        [
         "Luis Rojas",
         57,
         "Chile"
        ],
        [
         "Manoj Pareek",
         58,
         "India"
        ],
        [
         "Puja Srivastava",
         59,
         "India"
        ]
       ],
       "datasetInfos": [],
       "dbfsResultPath": null,
       "isJsonSchema": true,
       "metadata": {},
       "overflow": false,
       "plotOptions": {
        "customPlotOptions": {},
        "displayType": "table",
        "pivotAggregation": null,
        "pivotColumns": null,
        "xColumns": null,
        "yColumns": null
       },
       "removedWidgets": [],
       "schema": [
        {
         "metadata": "{}",
         "name": "custFullName",
         "type": "\"string\""
        },
        {
         "metadata": "{}",
         "name": "customerId",
         "type": "\"integer\""
        },
        {
         "metadata": "{}",
         "name": "country",
         "type": "\"string\""
        }
       ],
       "type": "table"
      }
     },
     "output_type": "display_data"
    }
   ],
   "source": [
    "display(\n",
    "    pspk_df_cust\n",
    "    .filter(\"country != 'USA'\")\n",
    "    .selectExpr(\"concat(firstname,' ',lastname) as custFullName\", \"customerId\", \"country\")\n",
    ")"
   ]
  },
  {
   "cell_type": "code",
   "execution_count": 0,
   "metadata": {
    "application/vnd.databricks.v1+cell": {
     "cellMetadata": {
      "byteLimit": 2048000,
      "rowLimit": 10000
     },
     "inputWidgets": {},
     "nuid": "c36dd616-7dd4-4a71-8e1d-6153b70fd686",
     "showTitle": false,
     "title": ""
    }
   },
   "outputs": [
    {
     "output_type": "display_data",
     "data": {
      "text/html": [
       "<style scoped>\n",
       "  .table-result-container {\n",
       "    max-height: 300px;\n",
       "    overflow: auto;\n",
       "  }\n",
       "  table, th, td {\n",
       "    border: 1px solid black;\n",
       "    border-collapse: collapse;\n",
       "  }\n",
       "  th, td {\n",
       "    padding: 5px;\n",
       "  }\n",
       "  th {\n",
       "    text-align: left;\n",
       "  }\n",
       "</style><div class='table-result-container'><table class='table-result'><thead style='background-color: white'><tr><th>country</th><th>count</th></tr></thead><tbody><tr><td>Canada</td><td>8</td></tr><tr><td>France</td><td>5</td></tr><tr><td>Brazil</td><td>5</td></tr><tr><td>Germany</td><td>4</td></tr><tr><td>United Kingdom</td><td>3</td></tr><tr><td>India</td><td>2</td></tr><tr><td>Czech Republic</td><td>2</td></tr><tr><td>Portugal</td><td>2</td></tr><tr><td>Sweden</td><td>1</td></tr><tr><td>Argentina</td><td>1</td></tr><tr><td>Belgium</td><td>1</td></tr><tr><td>Finland</td><td>1</td></tr><tr><td>Chile</td><td>1</td></tr><tr><td>Italy</td><td>1</td></tr><tr><td>Norway</td><td>1</td></tr><tr><td>Spain</td><td>1</td></tr><tr><td>Denmark</td><td>1</td></tr><tr><td>Ireland</td><td>1</td></tr><tr><td>Poland</td><td>1</td></tr><tr><td>Australia</td><td>1</td></tr><tr><td>Austria</td><td>1</td></tr><tr><td>Hungary</td><td>1</td></tr><tr><td>Netherlands</td><td>1</td></tr></tbody></table></div>"
      ]
     },
     "metadata": {
      "application/vnd.databricks.v1+output": {
       "addedWidgets": {},
       "aggData": [],
       "aggError": "",
       "aggOverflow": false,
       "aggSchema": [],
       "aggSeriesLimitReached": false,
       "aggType": "",
       "arguments": {},
       "columnCustomDisplayInfos": {},
       "data": [
        [
         "Canada",
         8
        ],
        [
         "France",
         5
        ],
        [
         "Brazil",
         5
        ],
        [
         "Germany",
         4
        ],
        [
         "United Kingdom",
         3
        ],
        [
         "India",
         2
        ],
        [
         "Czech Republic",
         2
        ],
        [
         "Portugal",
         2
        ],
        [
         "Sweden",
         1
        ],
        [
         "Argentina",
         1
        ],
        [
         "Belgium",
         1
        ],
        [
         "Finland",
         1
        ],
        [
         "Chile",
         1
        ],
        [
         "Italy",
         1
        ],
        [
         "Norway",
         1
        ],
        [
         "Spain",
         1
        ],
        [
         "Denmark",
         1
        ],
        [
         "Ireland",
         1
        ],
        [
         "Poland",
         1
        ],
        [
         "Australia",
         1
        ],
        [
         "Austria",
         1
        ],
        [
         "Hungary",
         1
        ],
        [
         "Netherlands",
         1
        ]
       ],
       "datasetInfos": [],
       "dbfsResultPath": null,
       "isJsonSchema": true,
       "metadata": {},
       "overflow": false,
       "plotOptions": {
        "customPlotOptions": {},
        "displayType": "table",
        "pivotAggregation": null,
        "pivotColumns": null,
        "xColumns": null,
        "yColumns": null
       },
       "removedWidgets": [],
       "schema": [
        {
         "metadata": "{}",
         "name": "country",
         "type": "\"string\""
        },
        {
         "metadata": "{}",
         "name": "count",
         "type": "\"long\""
        }
       ],
       "type": "table"
      }
     },
     "output_type": "display_data"
    }
   ],
   "source": [
    "display(\n",
    "    pspk_df_cust\n",
    "    .filter(\"country != 'USA'\")\n",
    "    .selectExpr(\"concat(firstname,' ',lastname) as custFullName\", \"customerId\", \"country\")\n",
    "    .groupBy(\"country\")\n",
    "    .count()\n",
    "    .orderBy(desc(\"count\"))\n",
    ")"
   ]
  },
  {
   "cell_type": "markdown",
   "metadata": {
    "application/vnd.databricks.v1+cell": {
     "cellMetadata": {
      "byteLimit": 2048000,
      "rowLimit": 10000
     },
     "inputWidgets": {},
     "nuid": "0bb52ce8-482e-4726-9d2a-e40203f1617b",
     "showTitle": false,
     "title": ""
    }
   },
   "source": [
    "##### Python"
   ]
  },
  {
   "cell_type": "code",
   "execution_count": 0,
   "metadata": {
    "application/vnd.databricks.v1+cell": {
     "cellMetadata": {
      "byteLimit": 2048000,
      "rowLimit": 10000
     },
     "inputWidgets": {},
     "nuid": "b1d9a6de-3186-46c0-b4f0-0332f406e6b1",
     "showTitle": false,
     "title": ""
    }
   },
   "outputs": [
    {
     "output_type": "stream",
     "name": "stderr",
     "output_type": "stream",
     "text": [
      "<command-4098600776233896>:2: SettingWithCopyWarning: \nA value is trying to be set on a copy of a slice from a DataFrame.\nTry using .loc[row_indexer,col_indexer] = value instead\n\nSee the caveats in the documentation: https://pandas.pydata.org/pandas-docs/stable/user_guide/indexing.html#returning-a-view-versus-a-copy\n  pd_df_cust_filt['custFullName'] = pd_df_cust_filt['FirstName'] +\" \" +pd_df_cust_filt['LastName']\n"
     ]
    },
    {
     "output_type": "display_data",
     "data": {
      "text/html": [
       "<div>\n",
       "<style scoped>\n",
       "    .dataframe tbody tr th:only-of-type {\n",
       "        vertical-align: middle;\n",
       "    }\n",
       "\n",
       "    .dataframe tbody tr th {\n",
       "        vertical-align: top;\n",
       "    }\n",
       "\n",
       "    .dataframe thead th {\n",
       "        text-align: right;\n",
       "    }\n",
       "</style>\n",
       "<table border=\"1\" class=\"dataframe\">\n",
       "  <thead>\n",
       "    <tr style=\"text-align: right;\">\n",
       "      <th></th>\n",
       "      <th>custFullName</th>\n",
       "      <th>CustomerId</th>\n",
       "      <th>Country</th>\n",
       "    </tr>\n",
       "  </thead>\n",
       "  <tbody>\n",
       "    <tr>\n",
       "      <th>0</th>\n",
       "      <td>Luís Gonçalves</td>\n",
       "      <td>1</td>\n",
       "      <td>Brazil</td>\n",
       "    </tr>\n",
       "    <tr>\n",
       "      <th>1</th>\n",
       "      <td>Leonie Köhler</td>\n",
       "      <td>2</td>\n",
       "      <td>Germany</td>\n",
       "    </tr>\n",
       "    <tr>\n",
       "      <th>2</th>\n",
       "      <td>François Tremblay</td>\n",
       "      <td>3</td>\n",
       "      <td>Canada</td>\n",
       "    </tr>\n",
       "    <tr>\n",
       "      <th>3</th>\n",
       "      <td>Bjørn Hansen</td>\n",
       "      <td>4</td>\n",
       "      <td>Norway</td>\n",
       "    </tr>\n",
       "    <tr>\n",
       "      <th>4</th>\n",
       "      <td>František Wichterlová</td>\n",
       "      <td>5</td>\n",
       "      <td>Czech Republic</td>\n",
       "    </tr>\n",
       "    <tr>\n",
       "      <th>5</th>\n",
       "      <td>Helena Holý</td>\n",
       "      <td>6</td>\n",
       "      <td>Czech Republic</td>\n",
       "    </tr>\n",
       "    <tr>\n",
       "      <th>6</th>\n",
       "      <td>Astrid Gruber</td>\n",
       "      <td>7</td>\n",
       "      <td>Austria</td>\n",
       "    </tr>\n",
       "    <tr>\n",
       "      <th>7</th>\n",
       "      <td>Daan Peeters</td>\n",
       "      <td>8</td>\n",
       "      <td>Belgium</td>\n",
       "    </tr>\n",
       "    <tr>\n",
       "      <th>8</th>\n",
       "      <td>Kara Nielsen</td>\n",
       "      <td>9</td>\n",
       "      <td>Denmark</td>\n",
       "    </tr>\n",
       "    <tr>\n",
       "      <th>9</th>\n",
       "      <td>Eduardo Martins</td>\n",
       "      <td>10</td>\n",
       "      <td>Brazil</td>\n",
       "    </tr>\n",
       "    <tr>\n",
       "      <th>10</th>\n",
       "      <td>Alexandre Rocha</td>\n",
       "      <td>11</td>\n",
       "      <td>Brazil</td>\n",
       "    </tr>\n",
       "    <tr>\n",
       "      <th>11</th>\n",
       "      <td>Roberto Almeida</td>\n",
       "      <td>12</td>\n",
       "      <td>Brazil</td>\n",
       "    </tr>\n",
       "    <tr>\n",
       "      <th>12</th>\n",
       "      <td>Fernanda Ramos</td>\n",
       "      <td>13</td>\n",
       "      <td>Brazil</td>\n",
       "    </tr>\n",
       "    <tr>\n",
       "      <th>13</th>\n",
       "      <td>Mark Philips</td>\n",
       "      <td>14</td>\n",
       "      <td>Canada</td>\n",
       "    </tr>\n",
       "    <tr>\n",
       "      <th>14</th>\n",
       "      <td>Jennifer Peterson</td>\n",
       "      <td>15</td>\n",
       "      <td>Canada</td>\n",
       "    </tr>\n",
       "    <tr>\n",
       "      <th>15</th>\n",
       "      <td>Robert Brown</td>\n",
       "      <td>29</td>\n",
       "      <td>Canada</td>\n",
       "    </tr>\n",
       "    <tr>\n",
       "      <th>16</th>\n",
       "      <td>Edward Francis</td>\n",
       "      <td>30</td>\n",
       "      <td>Canada</td>\n",
       "    </tr>\n",
       "    <tr>\n",
       "      <th>17</th>\n",
       "      <td>Martha Silk</td>\n",
       "      <td>31</td>\n",
       "      <td>Canada</td>\n",
       "    </tr>\n",
       "    <tr>\n",
       "      <th>18</th>\n",
       "      <td>Aaron Mitchell</td>\n",
       "      <td>32</td>\n",
       "      <td>Canada</td>\n",
       "    </tr>\n",
       "    <tr>\n",
       "      <th>19</th>\n",
       "      <td>Ellie Sullivan</td>\n",
       "      <td>33</td>\n",
       "      <td>Canada</td>\n",
       "    </tr>\n",
       "    <tr>\n",
       "      <th>20</th>\n",
       "      <td>João Fernandes</td>\n",
       "      <td>34</td>\n",
       "      <td>Portugal</td>\n",
       "    </tr>\n",
       "    <tr>\n",
       "      <th>21</th>\n",
       "      <td>Madalena Sampaio</td>\n",
       "      <td>35</td>\n",
       "      <td>Portugal</td>\n",
       "    </tr>\n",
       "    <tr>\n",
       "      <th>22</th>\n",
       "      <td>Hannah Schneider</td>\n",
       "      <td>36</td>\n",
       "      <td>Germany</td>\n",
       "    </tr>\n",
       "    <tr>\n",
       "      <th>23</th>\n",
       "      <td>Fynn Zimmermann</td>\n",
       "      <td>37</td>\n",
       "      <td>Germany</td>\n",
       "    </tr>\n",
       "    <tr>\n",
       "      <th>24</th>\n",
       "      <td>Niklas Schröder</td>\n",
       "      <td>38</td>\n",
       "      <td>Germany</td>\n",
       "    </tr>\n",
       "    <tr>\n",
       "      <th>25</th>\n",
       "      <td>Camille Bernard</td>\n",
       "      <td>39</td>\n",
       "      <td>France</td>\n",
       "    </tr>\n",
       "    <tr>\n",
       "      <th>26</th>\n",
       "      <td>Dominique Lefebvre</td>\n",
       "      <td>40</td>\n",
       "      <td>France</td>\n",
       "    </tr>\n",
       "    <tr>\n",
       "      <th>27</th>\n",
       "      <td>Marc Dubois</td>\n",
       "      <td>41</td>\n",
       "      <td>France</td>\n",
       "    </tr>\n",
       "    <tr>\n",
       "      <th>28</th>\n",
       "      <td>Wyatt Girard</td>\n",
       "      <td>42</td>\n",
       "      <td>France</td>\n",
       "    </tr>\n",
       "    <tr>\n",
       "      <th>29</th>\n",
       "      <td>Isabelle Mercier</td>\n",
       "      <td>43</td>\n",
       "      <td>France</td>\n",
       "    </tr>\n",
       "    <tr>\n",
       "      <th>30</th>\n",
       "      <td>Terhi Hämäläinen</td>\n",
       "      <td>44</td>\n",
       "      <td>Finland</td>\n",
       "    </tr>\n",
       "    <tr>\n",
       "      <th>31</th>\n",
       "      <td>Ladislav Kovács</td>\n",
       "      <td>45</td>\n",
       "      <td>Hungary</td>\n",
       "    </tr>\n",
       "    <tr>\n",
       "      <th>32</th>\n",
       "      <td>Hugh O'Reilly</td>\n",
       "      <td>46</td>\n",
       "      <td>Ireland</td>\n",
       "    </tr>\n",
       "    <tr>\n",
       "      <th>33</th>\n",
       "      <td>Lucas Mancini</td>\n",
       "      <td>47</td>\n",
       "      <td>Italy</td>\n",
       "    </tr>\n",
       "    <tr>\n",
       "      <th>34</th>\n",
       "      <td>Johannes Van der Berg</td>\n",
       "      <td>48</td>\n",
       "      <td>Netherlands</td>\n",
       "    </tr>\n",
       "    <tr>\n",
       "      <th>35</th>\n",
       "      <td>Stanisław Wójcik</td>\n",
       "      <td>49</td>\n",
       "      <td>Poland</td>\n",
       "    </tr>\n",
       "    <tr>\n",
       "      <th>36</th>\n",
       "      <td>Enrique Muñoz</td>\n",
       "      <td>50</td>\n",
       "      <td>Spain</td>\n",
       "    </tr>\n",
       "    <tr>\n",
       "      <th>37</th>\n",
       "      <td>Joakim Johansson</td>\n",
       "      <td>51</td>\n",
       "      <td>Sweden</td>\n",
       "    </tr>\n",
       "    <tr>\n",
       "      <th>38</th>\n",
       "      <td>Emma Jones</td>\n",
       "      <td>52</td>\n",
       "      <td>United Kingdom</td>\n",
       "    </tr>\n",
       "    <tr>\n",
       "      <th>39</th>\n",
       "      <td>Phil Hughes</td>\n",
       "      <td>53</td>\n",
       "      <td>United Kingdom</td>\n",
       "    </tr>\n",
       "    <tr>\n",
       "      <th>40</th>\n",
       "      <td>Steve Murray</td>\n",
       "      <td>54</td>\n",
       "      <td>United Kingdom</td>\n",
       "    </tr>\n",
       "    <tr>\n",
       "      <th>41</th>\n",
       "      <td>Mark Taylor</td>\n",
       "      <td>55</td>\n",
       "      <td>Australia</td>\n",
       "    </tr>\n",
       "    <tr>\n",
       "      <th>42</th>\n",
       "      <td>Diego Gutiérrez</td>\n",
       "      <td>56</td>\n",
       "      <td>Argentina</td>\n",
       "    </tr>\n",
       "    <tr>\n",
       "      <th>43</th>\n",
       "      <td>Luis Rojas</td>\n",
       "      <td>57</td>\n",
       "      <td>Chile</td>\n",
       "    </tr>\n",
       "    <tr>\n",
       "      <th>44</th>\n",
       "      <td>Manoj Pareek</td>\n",
       "      <td>58</td>\n",
       "      <td>India</td>\n",
       "    </tr>\n",
       "    <tr>\n",
       "      <th>45</th>\n",
       "      <td>Puja Srivastava</td>\n",
       "      <td>59</td>\n",
       "      <td>India</td>\n",
       "    </tr>\n",
       "  </tbody>\n",
       "</table>\n",
       "</div>"
      ]
     },
     "metadata": {
      "application/vnd.databricks.v1+output": {
       "addedWidgets": {},
       "arguments": {},
       "data": "<div>\n<style scoped>\n    .dataframe tbody tr th:only-of-type {\n        vertical-align: middle;\n    }\n\n    .dataframe tbody tr th {\n        vertical-align: top;\n    }\n\n    .dataframe thead th {\n        text-align: right;\n    }\n</style>\n<table border=\"1\" class=\"dataframe\">\n  <thead>\n    <tr style=\"text-align: right;\">\n      <th></th>\n      <th>custFullName</th>\n      <th>CustomerId</th>\n      <th>Country</th>\n    </tr>\n  </thead>\n  <tbody>\n    <tr>\n      <th>0</th>\n      <td>Luís Gonçalves</td>\n      <td>1</td>\n      <td>Brazil</td>\n    </tr>\n    <tr>\n      <th>1</th>\n      <td>Leonie Köhler</td>\n      <td>2</td>\n      <td>Germany</td>\n    </tr>\n    <tr>\n      <th>2</th>\n      <td>François Tremblay</td>\n      <td>3</td>\n      <td>Canada</td>\n    </tr>\n    <tr>\n      <th>3</th>\n      <td>Bjørn Hansen</td>\n      <td>4</td>\n      <td>Norway</td>\n    </tr>\n    <tr>\n      <th>4</th>\n      <td>František Wichterlová</td>\n      <td>5</td>\n      <td>Czech Republic</td>\n    </tr>\n    <tr>\n      <th>5</th>\n      <td>Helena Holý</td>\n      <td>6</td>\n      <td>Czech Republic</td>\n    </tr>\n    <tr>\n      <th>6</th>\n      <td>Astrid Gruber</td>\n      <td>7</td>\n      <td>Austria</td>\n    </tr>\n    <tr>\n      <th>7</th>\n      <td>Daan Peeters</td>\n      <td>8</td>\n      <td>Belgium</td>\n    </tr>\n    <tr>\n      <th>8</th>\n      <td>Kara Nielsen</td>\n      <td>9</td>\n      <td>Denmark</td>\n    </tr>\n    <tr>\n      <th>9</th>\n      <td>Eduardo Martins</td>\n      <td>10</td>\n      <td>Brazil</td>\n    </tr>\n    <tr>\n      <th>10</th>\n      <td>Alexandre Rocha</td>\n      <td>11</td>\n      <td>Brazil</td>\n    </tr>\n    <tr>\n      <th>11</th>\n      <td>Roberto Almeida</td>\n      <td>12</td>\n      <td>Brazil</td>\n    </tr>\n    <tr>\n      <th>12</th>\n      <td>Fernanda Ramos</td>\n      <td>13</td>\n      <td>Brazil</td>\n    </tr>\n    <tr>\n      <th>13</th>\n      <td>Mark Philips</td>\n      <td>14</td>\n      <td>Canada</td>\n    </tr>\n    <tr>\n      <th>14</th>\n      <td>Jennifer Peterson</td>\n      <td>15</td>\n      <td>Canada</td>\n    </tr>\n    <tr>\n      <th>15</th>\n      <td>Robert Brown</td>\n      <td>29</td>\n      <td>Canada</td>\n    </tr>\n    <tr>\n      <th>16</th>\n      <td>Edward Francis</td>\n      <td>30</td>\n      <td>Canada</td>\n    </tr>\n    <tr>\n      <th>17</th>\n      <td>Martha Silk</td>\n      <td>31</td>\n      <td>Canada</td>\n    </tr>\n    <tr>\n      <th>18</th>\n      <td>Aaron Mitchell</td>\n      <td>32</td>\n      <td>Canada</td>\n    </tr>\n    <tr>\n      <th>19</th>\n      <td>Ellie Sullivan</td>\n      <td>33</td>\n      <td>Canada</td>\n    </tr>\n    <tr>\n      <th>20</th>\n      <td>João Fernandes</td>\n      <td>34</td>\n      <td>Portugal</td>\n    </tr>\n    <tr>\n      <th>21</th>\n      <td>Madalena Sampaio</td>\n      <td>35</td>\n      <td>Portugal</td>\n    </tr>\n    <tr>\n      <th>22</th>\n      <td>Hannah Schneider</td>\n      <td>36</td>\n      <td>Germany</td>\n    </tr>\n    <tr>\n      <th>23</th>\n      <td>Fynn Zimmermann</td>\n      <td>37</td>\n      <td>Germany</td>\n    </tr>\n    <tr>\n      <th>24</th>\n      <td>Niklas Schröder</td>\n      <td>38</td>\n      <td>Germany</td>\n    </tr>\n    <tr>\n      <th>25</th>\n      <td>Camille Bernard</td>\n      <td>39</td>\n      <td>France</td>\n    </tr>\n    <tr>\n      <th>26</th>\n      <td>Dominique Lefebvre</td>\n      <td>40</td>\n      <td>France</td>\n    </tr>\n    <tr>\n      <th>27</th>\n      <td>Marc Dubois</td>\n      <td>41</td>\n      <td>France</td>\n    </tr>\n    <tr>\n      <th>28</th>\n      <td>Wyatt Girard</td>\n      <td>42</td>\n      <td>France</td>\n    </tr>\n    <tr>\n      <th>29</th>\n      <td>Isabelle Mercier</td>\n      <td>43</td>\n      <td>France</td>\n    </tr>\n    <tr>\n      <th>30</th>\n      <td>Terhi Hämäläinen</td>\n      <td>44</td>\n      <td>Finland</td>\n    </tr>\n    <tr>\n      <th>31</th>\n      <td>Ladislav Kovács</td>\n      <td>45</td>\n      <td>Hungary</td>\n    </tr>\n    <tr>\n      <th>32</th>\n      <td>Hugh O'Reilly</td>\n      <td>46</td>\n      <td>Ireland</td>\n    </tr>\n    <tr>\n      <th>33</th>\n      <td>Lucas Mancini</td>\n      <td>47</td>\n      <td>Italy</td>\n    </tr>\n    <tr>\n      <th>34</th>\n      <td>Johannes Van der Berg</td>\n      <td>48</td>\n      <td>Netherlands</td>\n    </tr>\n    <tr>\n      <th>35</th>\n      <td>Stanisław Wójcik</td>\n      <td>49</td>\n      <td>Poland</td>\n    </tr>\n    <tr>\n      <th>36</th>\n      <td>Enrique Muñoz</td>\n      <td>50</td>\n      <td>Spain</td>\n    </tr>\n    <tr>\n      <th>37</th>\n      <td>Joakim Johansson</td>\n      <td>51</td>\n      <td>Sweden</td>\n    </tr>\n    <tr>\n      <th>38</th>\n      <td>Emma Jones</td>\n      <td>52</td>\n      <td>United Kingdom</td>\n    </tr>\n    <tr>\n      <th>39</th>\n      <td>Phil Hughes</td>\n      <td>53</td>\n      <td>United Kingdom</td>\n    </tr>\n    <tr>\n      <th>40</th>\n      <td>Steve Murray</td>\n      <td>54</td>\n      <td>United Kingdom</td>\n    </tr>\n    <tr>\n      <th>41</th>\n      <td>Mark Taylor</td>\n      <td>55</td>\n      <td>Australia</td>\n    </tr>\n    <tr>\n      <th>42</th>\n      <td>Diego Gutiérrez</td>\n      <td>56</td>\n      <td>Argentina</td>\n    </tr>\n    <tr>\n      <th>43</th>\n      <td>Luis Rojas</td>\n      <td>57</td>\n      <td>Chile</td>\n    </tr>\n    <tr>\n      <th>44</th>\n      <td>Manoj Pareek</td>\n      <td>58</td>\n      <td>India</td>\n    </tr>\n    <tr>\n      <th>45</th>\n      <td>Puja Srivastava</td>\n      <td>59</td>\n      <td>India</td>\n    </tr>\n  </tbody>\n</table>\n</div>",
       "datasetInfos": [],
       "metadata": {},
       "removedWidgets": [],
       "textData": null,
       "type": "htmlSandbox"
      }
     },
     "output_type": "display_data"
    }
   ],
   "source": [
    "pd_df_cust_filt = pd_df_cust[pd_df_cust['Country'] != \"USA\"]\n",
    "pd_df_cust_filt['custFullName'] = pd_df_cust_filt['FirstName'] +\" \" +pd_df_cust_filt['LastName']\n",
    "pd_df_cust_filt_final = pd_df_cust_filt[[\"custFullName\", \"CustomerId\", \"Country\"]].reset_index(drop=True)\n",
    "pd_df_cust_filt_final"
   ]
  },
  {
   "cell_type": "code",
   "execution_count": 0,
   "metadata": {
    "application/vnd.databricks.v1+cell": {
     "cellMetadata": {
      "byteLimit": 2048000,
      "rowLimit": 10000
     },
     "inputWidgets": {},
     "nuid": "ee83404b-3356-4312-981e-416bd2285c14",
     "showTitle": false,
     "title": ""
    }
   },
   "outputs": [
    {
     "output_type": "display_data",
     "data": {
      "text/html": [
       "<div>\n",
       "<style scoped>\n",
       "    .dataframe tbody tr th:only-of-type {\n",
       "        vertical-align: middle;\n",
       "    }\n",
       "\n",
       "    .dataframe tbody tr th {\n",
       "        vertical-align: top;\n",
       "    }\n",
       "\n",
       "    .dataframe thead th {\n",
       "        text-align: right;\n",
       "    }\n",
       "</style>\n",
       "<table border=\"1\" class=\"dataframe\">\n",
       "  <thead>\n",
       "    <tr style=\"text-align: right;\">\n",
       "      <th></th>\n",
       "      <th>Country</th>\n",
       "      <th>counts</th>\n",
       "    </tr>\n",
       "  </thead>\n",
       "  <tbody>\n",
       "    <tr>\n",
       "      <th>0</th>\n",
       "      <td>Canada</td>\n",
       "      <td>8</td>\n",
       "    </tr>\n",
       "    <tr>\n",
       "      <th>1</th>\n",
       "      <td>Brazil</td>\n",
       "      <td>5</td>\n",
       "    </tr>\n",
       "    <tr>\n",
       "      <th>2</th>\n",
       "      <td>France</td>\n",
       "      <td>5</td>\n",
       "    </tr>\n",
       "    <tr>\n",
       "      <th>3</th>\n",
       "      <td>Germany</td>\n",
       "      <td>4</td>\n",
       "    </tr>\n",
       "    <tr>\n",
       "      <th>4</th>\n",
       "      <td>United Kingdom</td>\n",
       "      <td>3</td>\n",
       "    </tr>\n",
       "    <tr>\n",
       "      <th>5</th>\n",
       "      <td>Czech Republic</td>\n",
       "      <td>2</td>\n",
       "    </tr>\n",
       "    <tr>\n",
       "      <th>6</th>\n",
       "      <td>Portugal</td>\n",
       "      <td>2</td>\n",
       "    </tr>\n",
       "    <tr>\n",
       "      <th>7</th>\n",
       "      <td>India</td>\n",
       "      <td>2</td>\n",
       "    </tr>\n",
       "    <tr>\n",
       "      <th>8</th>\n",
       "      <td>Belgium</td>\n",
       "      <td>1</td>\n",
       "    </tr>\n",
       "    <tr>\n",
       "      <th>9</th>\n",
       "      <td>Italy</td>\n",
       "      <td>1</td>\n",
       "    </tr>\n",
       "    <tr>\n",
       "      <th>10</th>\n",
       "      <td>Sweden</td>\n",
       "      <td>1</td>\n",
       "    </tr>\n",
       "    <tr>\n",
       "      <th>11</th>\n",
       "      <td>Spain</td>\n",
       "      <td>1</td>\n",
       "    </tr>\n",
       "    <tr>\n",
       "      <th>12</th>\n",
       "      <td>Poland</td>\n",
       "      <td>1</td>\n",
       "    </tr>\n",
       "    <tr>\n",
       "      <th>13</th>\n",
       "      <td>Norway</td>\n",
       "      <td>1</td>\n",
       "    </tr>\n",
       "    <tr>\n",
       "      <th>14</th>\n",
       "      <td>Netherlands</td>\n",
       "      <td>1</td>\n",
       "    </tr>\n",
       "    <tr>\n",
       "      <th>15</th>\n",
       "      <td>Ireland</td>\n",
       "      <td>1</td>\n",
       "    </tr>\n",
       "    <tr>\n",
       "      <th>16</th>\n",
       "      <td>Chile</td>\n",
       "      <td>1</td>\n",
       "    </tr>\n",
       "    <tr>\n",
       "      <th>17</th>\n",
       "      <td>Hungary</td>\n",
       "      <td>1</td>\n",
       "    </tr>\n",
       "    <tr>\n",
       "      <th>18</th>\n",
       "      <td>Australia</td>\n",
       "      <td>1</td>\n",
       "    </tr>\n",
       "    <tr>\n",
       "      <th>19</th>\n",
       "      <td>Austria</td>\n",
       "      <td>1</td>\n",
       "    </tr>\n",
       "    <tr>\n",
       "      <th>20</th>\n",
       "      <td>Finland</td>\n",
       "      <td>1</td>\n",
       "    </tr>\n",
       "    <tr>\n",
       "      <th>21</th>\n",
       "      <td>Denmark</td>\n",
       "      <td>1</td>\n",
       "    </tr>\n",
       "    <tr>\n",
       "      <th>22</th>\n",
       "      <td>Argentina</td>\n",
       "      <td>1</td>\n",
       "    </tr>\n",
       "  </tbody>\n",
       "</table>\n",
       "</div>"
      ]
     },
     "metadata": {
      "application/vnd.databricks.v1+output": {
       "addedWidgets": {},
       "arguments": {},
       "data": "<div>\n<style scoped>\n    .dataframe tbody tr th:only-of-type {\n        vertical-align: middle;\n    }\n\n    .dataframe tbody tr th {\n        vertical-align: top;\n    }\n\n    .dataframe thead th {\n        text-align: right;\n    }\n</style>\n<table border=\"1\" class=\"dataframe\">\n  <thead>\n    <tr style=\"text-align: right;\">\n      <th></th>\n      <th>Country</th>\n      <th>counts</th>\n    </tr>\n  </thead>\n  <tbody>\n    <tr>\n      <th>0</th>\n      <td>Canada</td>\n      <td>8</td>\n    </tr>\n    <tr>\n      <th>1</th>\n      <td>Brazil</td>\n      <td>5</td>\n    </tr>\n    <tr>\n      <th>2</th>\n      <td>France</td>\n      <td>5</td>\n    </tr>\n    <tr>\n      <th>3</th>\n      <td>Germany</td>\n      <td>4</td>\n    </tr>\n    <tr>\n      <th>4</th>\n      <td>United Kingdom</td>\n      <td>3</td>\n    </tr>\n    <tr>\n      <th>5</th>\n      <td>Czech Republic</td>\n      <td>2</td>\n    </tr>\n    <tr>\n      <th>6</th>\n      <td>Portugal</td>\n      <td>2</td>\n    </tr>\n    <tr>\n      <th>7</th>\n      <td>India</td>\n      <td>2</td>\n    </tr>\n    <tr>\n      <th>8</th>\n      <td>Belgium</td>\n      <td>1</td>\n    </tr>\n    <tr>\n      <th>9</th>\n      <td>Italy</td>\n      <td>1</td>\n    </tr>\n    <tr>\n      <th>10</th>\n      <td>Sweden</td>\n      <td>1</td>\n    </tr>\n    <tr>\n      <th>11</th>\n      <td>Spain</td>\n      <td>1</td>\n    </tr>\n    <tr>\n      <th>12</th>\n      <td>Poland</td>\n      <td>1</td>\n    </tr>\n    <tr>\n      <th>13</th>\n      <td>Norway</td>\n      <td>1</td>\n    </tr>\n    <tr>\n      <th>14</th>\n      <td>Netherlands</td>\n      <td>1</td>\n    </tr>\n    <tr>\n      <th>15</th>\n      <td>Ireland</td>\n      <td>1</td>\n    </tr>\n    <tr>\n      <th>16</th>\n      <td>Chile</td>\n      <td>1</td>\n    </tr>\n    <tr>\n      <th>17</th>\n      <td>Hungary</td>\n      <td>1</td>\n    </tr>\n    <tr>\n      <th>18</th>\n      <td>Australia</td>\n      <td>1</td>\n    </tr>\n    <tr>\n      <th>19</th>\n      <td>Austria</td>\n      <td>1</td>\n    </tr>\n    <tr>\n      <th>20</th>\n      <td>Finland</td>\n      <td>1</td>\n    </tr>\n    <tr>\n      <th>21</th>\n      <td>Denmark</td>\n      <td>1</td>\n    </tr>\n    <tr>\n      <th>22</th>\n      <td>Argentina</td>\n      <td>1</td>\n    </tr>\n  </tbody>\n</table>\n</div>",
       "datasetInfos": [],
       "metadata": {},
       "removedWidgets": [],
       "textData": null,
       "type": "htmlSandbox"
      }
     },
     "output_type": "display_data"
    }
   ],
   "source": [
    "# pd_df_cust_filt_final.groupby(\"Country\")['Country'].count().to_frame()\n",
    "(\n",
    "    pd_df_cust_filt_final\n",
    "    .groupby(\"Country\")\n",
    "    .agg(counts=(\"Country\", \"count\"))\n",
    "    .sort_values(by=['counts'], ascending=False)\n",
    "    .reset_index()\n",
    ")\n"
   ]
  },
  {
   "cell_type": "code",
   "execution_count": 0,
   "metadata": {
    "application/vnd.databricks.v1+cell": {
     "cellMetadata": {
      "byteLimit": 2048000,
      "rowLimit": 10000
     },
     "inputWidgets": {},
     "nuid": "db8af5b9-231e-46a8-80f9-6faf14f6b4be",
     "showTitle": false,
     "title": ""
    }
   },
   "outputs": [],
   "source": [
    "# using .query to get the same results as above for pandas dataframe"
   ]
  },
  {
   "cell_type": "code",
   "execution_count": 0,
   "metadata": {
    "application/vnd.databricks.v1+cell": {
     "cellMetadata": {
      "byteLimit": 2048000,
      "rowLimit": 10000
     },
     "inputWidgets": {},
     "nuid": "bec4466f-2943-4ab5-8888-0eb11506e690",
     "showTitle": false,
     "title": ""
    }
   },
   "outputs": [
    {
     "output_type": "display_data",
     "data": {
      "text/html": [
       "<div>\n",
       "<style scoped>\n",
       "    .dataframe tbody tr th:only-of-type {\n",
       "        vertical-align: middle;\n",
       "    }\n",
       "\n",
       "    .dataframe tbody tr th {\n",
       "        vertical-align: top;\n",
       "    }\n",
       "\n",
       "    .dataframe thead th {\n",
       "        text-align: right;\n",
       "    }\n",
       "</style>\n",
       "<table border=\"1\" class=\"dataframe\">\n",
       "  <thead>\n",
       "    <tr style=\"text-align: right;\">\n",
       "      <th></th>\n",
       "      <th>custFullName</th>\n",
       "      <th>CustomerId</th>\n",
       "      <th>Country</th>\n",
       "    </tr>\n",
       "  </thead>\n",
       "  <tbody>\n",
       "    <tr>\n",
       "      <th>0</th>\n",
       "      <td>Luís Gonçalves</td>\n",
       "      <td>1</td>\n",
       "      <td>Brazil</td>\n",
       "    </tr>\n",
       "    <tr>\n",
       "      <th>1</th>\n",
       "      <td>Leonie Köhler</td>\n",
       "      <td>2</td>\n",
       "      <td>Germany</td>\n",
       "    </tr>\n",
       "    <tr>\n",
       "      <th>2</th>\n",
       "      <td>François Tremblay</td>\n",
       "      <td>3</td>\n",
       "      <td>Canada</td>\n",
       "    </tr>\n",
       "    <tr>\n",
       "      <th>3</th>\n",
       "      <td>Bjørn Hansen</td>\n",
       "      <td>4</td>\n",
       "      <td>Norway</td>\n",
       "    </tr>\n",
       "    <tr>\n",
       "      <th>4</th>\n",
       "      <td>František Wichterlová</td>\n",
       "      <td>5</td>\n",
       "      <td>Czech Republic</td>\n",
       "    </tr>\n",
       "    <tr>\n",
       "      <th>5</th>\n",
       "      <td>Helena Holý</td>\n",
       "      <td>6</td>\n",
       "      <td>Czech Republic</td>\n",
       "    </tr>\n",
       "    <tr>\n",
       "      <th>6</th>\n",
       "      <td>Astrid Gruber</td>\n",
       "      <td>7</td>\n",
       "      <td>Austria</td>\n",
       "    </tr>\n",
       "    <tr>\n",
       "      <th>7</th>\n",
       "      <td>Daan Peeters</td>\n",
       "      <td>8</td>\n",
       "      <td>Belgium</td>\n",
       "    </tr>\n",
       "    <tr>\n",
       "      <th>8</th>\n",
       "      <td>Kara Nielsen</td>\n",
       "      <td>9</td>\n",
       "      <td>Denmark</td>\n",
       "    </tr>\n",
       "    <tr>\n",
       "      <th>9</th>\n",
       "      <td>Eduardo Martins</td>\n",
       "      <td>10</td>\n",
       "      <td>Brazil</td>\n",
       "    </tr>\n",
       "    <tr>\n",
       "      <th>10</th>\n",
       "      <td>Alexandre Rocha</td>\n",
       "      <td>11</td>\n",
       "      <td>Brazil</td>\n",
       "    </tr>\n",
       "    <tr>\n",
       "      <th>11</th>\n",
       "      <td>Roberto Almeida</td>\n",
       "      <td>12</td>\n",
       "      <td>Brazil</td>\n",
       "    </tr>\n",
       "    <tr>\n",
       "      <th>12</th>\n",
       "      <td>Fernanda Ramos</td>\n",
       "      <td>13</td>\n",
       "      <td>Brazil</td>\n",
       "    </tr>\n",
       "    <tr>\n",
       "      <th>13</th>\n",
       "      <td>Mark Philips</td>\n",
       "      <td>14</td>\n",
       "      <td>Canada</td>\n",
       "    </tr>\n",
       "    <tr>\n",
       "      <th>14</th>\n",
       "      <td>Jennifer Peterson</td>\n",
       "      <td>15</td>\n",
       "      <td>Canada</td>\n",
       "    </tr>\n",
       "    <tr>\n",
       "      <th>28</th>\n",
       "      <td>Robert Brown</td>\n",
       "      <td>29</td>\n",
       "      <td>Canada</td>\n",
       "    </tr>\n",
       "    <tr>\n",
       "      <th>29</th>\n",
       "      <td>Edward Francis</td>\n",
       "      <td>30</td>\n",
       "      <td>Canada</td>\n",
       "    </tr>\n",
       "    <tr>\n",
       "      <th>30</th>\n",
       "      <td>Martha Silk</td>\n",
       "      <td>31</td>\n",
       "      <td>Canada</td>\n",
       "    </tr>\n",
       "    <tr>\n",
       "      <th>31</th>\n",
       "      <td>Aaron Mitchell</td>\n",
       "      <td>32</td>\n",
       "      <td>Canada</td>\n",
       "    </tr>\n",
       "    <tr>\n",
       "      <th>32</th>\n",
       "      <td>Ellie Sullivan</td>\n",
       "      <td>33</td>\n",
       "      <td>Canada</td>\n",
       "    </tr>\n",
       "    <tr>\n",
       "      <th>33</th>\n",
       "      <td>João Fernandes</td>\n",
       "      <td>34</td>\n",
       "      <td>Portugal</td>\n",
       "    </tr>\n",
       "    <tr>\n",
       "      <th>34</th>\n",
       "      <td>Madalena Sampaio</td>\n",
       "      <td>35</td>\n",
       "      <td>Portugal</td>\n",
       "    </tr>\n",
       "    <tr>\n",
       "      <th>35</th>\n",
       "      <td>Hannah Schneider</td>\n",
       "      <td>36</td>\n",
       "      <td>Germany</td>\n",
       "    </tr>\n",
       "    <tr>\n",
       "      <th>36</th>\n",
       "      <td>Fynn Zimmermann</td>\n",
       "      <td>37</td>\n",
       "      <td>Germany</td>\n",
       "    </tr>\n",
       "    <tr>\n",
       "      <th>37</th>\n",
       "      <td>Niklas Schröder</td>\n",
       "      <td>38</td>\n",
       "      <td>Germany</td>\n",
       "    </tr>\n",
       "    <tr>\n",
       "      <th>38</th>\n",
       "      <td>Camille Bernard</td>\n",
       "      <td>39</td>\n",
       "      <td>France</td>\n",
       "    </tr>\n",
       "    <tr>\n",
       "      <th>39</th>\n",
       "      <td>Dominique Lefebvre</td>\n",
       "      <td>40</td>\n",
       "      <td>France</td>\n",
       "    </tr>\n",
       "    <tr>\n",
       "      <th>40</th>\n",
       "      <td>Marc Dubois</td>\n",
       "      <td>41</td>\n",
       "      <td>France</td>\n",
       "    </tr>\n",
       "    <tr>\n",
       "      <th>41</th>\n",
       "      <td>Wyatt Girard</td>\n",
       "      <td>42</td>\n",
       "      <td>France</td>\n",
       "    </tr>\n",
       "    <tr>\n",
       "      <th>42</th>\n",
       "      <td>Isabelle Mercier</td>\n",
       "      <td>43</td>\n",
       "      <td>France</td>\n",
       "    </tr>\n",
       "    <tr>\n",
       "      <th>43</th>\n",
       "      <td>Terhi Hämäläinen</td>\n",
       "      <td>44</td>\n",
       "      <td>Finland</td>\n",
       "    </tr>\n",
       "    <tr>\n",
       "      <th>44</th>\n",
       "      <td>Ladislav Kovács</td>\n",
       "      <td>45</td>\n",
       "      <td>Hungary</td>\n",
       "    </tr>\n",
       "    <tr>\n",
       "      <th>45</th>\n",
       "      <td>Hugh O'Reilly</td>\n",
       "      <td>46</td>\n",
       "      <td>Ireland</td>\n",
       "    </tr>\n",
       "    <tr>\n",
       "      <th>46</th>\n",
       "      <td>Lucas Mancini</td>\n",
       "      <td>47</td>\n",
       "      <td>Italy</td>\n",
       "    </tr>\n",
       "    <tr>\n",
       "      <th>47</th>\n",
       "      <td>Johannes Van der Berg</td>\n",
       "      <td>48</td>\n",
       "      <td>Netherlands</td>\n",
       "    </tr>\n",
       "    <tr>\n",
       "      <th>48</th>\n",
       "      <td>Stanisław Wójcik</td>\n",
       "      <td>49</td>\n",
       "      <td>Poland</td>\n",
       "    </tr>\n",
       "    <tr>\n",
       "      <th>49</th>\n",
       "      <td>Enrique Muñoz</td>\n",
       "      <td>50</td>\n",
       "      <td>Spain</td>\n",
       "    </tr>\n",
       "    <tr>\n",
       "      <th>50</th>\n",
       "      <td>Joakim Johansson</td>\n",
       "      <td>51</td>\n",
       "      <td>Sweden</td>\n",
       "    </tr>\n",
       "    <tr>\n",
       "      <th>51</th>\n",
       "      <td>Emma Jones</td>\n",
       "      <td>52</td>\n",
       "      <td>United Kingdom</td>\n",
       "    </tr>\n",
       "    <tr>\n",
       "      <th>52</th>\n",
       "      <td>Phil Hughes</td>\n",
       "      <td>53</td>\n",
       "      <td>United Kingdom</td>\n",
       "    </tr>\n",
       "    <tr>\n",
       "      <th>53</th>\n",
       "      <td>Steve Murray</td>\n",
       "      <td>54</td>\n",
       "      <td>United Kingdom</td>\n",
       "    </tr>\n",
       "    <tr>\n",
       "      <th>54</th>\n",
       "      <td>Mark Taylor</td>\n",
       "      <td>55</td>\n",
       "      <td>Australia</td>\n",
       "    </tr>\n",
       "    <tr>\n",
       "      <th>55</th>\n",
       "      <td>Diego Gutiérrez</td>\n",
       "      <td>56</td>\n",
       "      <td>Argentina</td>\n",
       "    </tr>\n",
       "    <tr>\n",
       "      <th>56</th>\n",
       "      <td>Luis Rojas</td>\n",
       "      <td>57</td>\n",
       "      <td>Chile</td>\n",
       "    </tr>\n",
       "    <tr>\n",
       "      <th>57</th>\n",
       "      <td>Manoj Pareek</td>\n",
       "      <td>58</td>\n",
       "      <td>India</td>\n",
       "    </tr>\n",
       "    <tr>\n",
       "      <th>58</th>\n",
       "      <td>Puja Srivastava</td>\n",
       "      <td>59</td>\n",
       "      <td>India</td>\n",
       "    </tr>\n",
       "  </tbody>\n",
       "</table>\n",
       "</div>"
      ]
     },
     "metadata": {
      "application/vnd.databricks.v1+output": {
       "addedWidgets": {},
       "arguments": {},
       "data": "<div>\n<style scoped>\n    .dataframe tbody tr th:only-of-type {\n        vertical-align: middle;\n    }\n\n    .dataframe tbody tr th {\n        vertical-align: top;\n    }\n\n    .dataframe thead th {\n        text-align: right;\n    }\n</style>\n<table border=\"1\" class=\"dataframe\">\n  <thead>\n    <tr style=\"text-align: right;\">\n      <th></th>\n      <th>custFullName</th>\n      <th>CustomerId</th>\n      <th>Country</th>\n    </tr>\n  </thead>\n  <tbody>\n    <tr>\n      <th>0</th>\n      <td>Luís Gonçalves</td>\n      <td>1</td>\n      <td>Brazil</td>\n    </tr>\n    <tr>\n      <th>1</th>\n      <td>Leonie Köhler</td>\n      <td>2</td>\n      <td>Germany</td>\n    </tr>\n    <tr>\n      <th>2</th>\n      <td>François Tremblay</td>\n      <td>3</td>\n      <td>Canada</td>\n    </tr>\n    <tr>\n      <th>3</th>\n      <td>Bjørn Hansen</td>\n      <td>4</td>\n      <td>Norway</td>\n    </tr>\n    <tr>\n      <th>4</th>\n      <td>František Wichterlová</td>\n      <td>5</td>\n      <td>Czech Republic</td>\n    </tr>\n    <tr>\n      <th>5</th>\n      <td>Helena Holý</td>\n      <td>6</td>\n      <td>Czech Republic</td>\n    </tr>\n    <tr>\n      <th>6</th>\n      <td>Astrid Gruber</td>\n      <td>7</td>\n      <td>Austria</td>\n    </tr>\n    <tr>\n      <th>7</th>\n      <td>Daan Peeters</td>\n      <td>8</td>\n      <td>Belgium</td>\n    </tr>\n    <tr>\n      <th>8</th>\n      <td>Kara Nielsen</td>\n      <td>9</td>\n      <td>Denmark</td>\n    </tr>\n    <tr>\n      <th>9</th>\n      <td>Eduardo Martins</td>\n      <td>10</td>\n      <td>Brazil</td>\n    </tr>\n    <tr>\n      <th>10</th>\n      <td>Alexandre Rocha</td>\n      <td>11</td>\n      <td>Brazil</td>\n    </tr>\n    <tr>\n      <th>11</th>\n      <td>Roberto Almeida</td>\n      <td>12</td>\n      <td>Brazil</td>\n    </tr>\n    <tr>\n      <th>12</th>\n      <td>Fernanda Ramos</td>\n      <td>13</td>\n      <td>Brazil</td>\n    </tr>\n    <tr>\n      <th>13</th>\n      <td>Mark Philips</td>\n      <td>14</td>\n      <td>Canada</td>\n    </tr>\n    <tr>\n      <th>14</th>\n      <td>Jennifer Peterson</td>\n      <td>15</td>\n      <td>Canada</td>\n    </tr>\n    <tr>\n      <th>28</th>\n      <td>Robert Brown</td>\n      <td>29</td>\n      <td>Canada</td>\n    </tr>\n    <tr>\n      <th>29</th>\n      <td>Edward Francis</td>\n      <td>30</td>\n      <td>Canada</td>\n    </tr>\n    <tr>\n      <th>30</th>\n      <td>Martha Silk</td>\n      <td>31</td>\n      <td>Canada</td>\n    </tr>\n    <tr>\n      <th>31</th>\n      <td>Aaron Mitchell</td>\n      <td>32</td>\n      <td>Canada</td>\n    </tr>\n    <tr>\n      <th>32</th>\n      <td>Ellie Sullivan</td>\n      <td>33</td>\n      <td>Canada</td>\n    </tr>\n    <tr>\n      <th>33</th>\n      <td>João Fernandes</td>\n      <td>34</td>\n      <td>Portugal</td>\n    </tr>\n    <tr>\n      <th>34</th>\n      <td>Madalena Sampaio</td>\n      <td>35</td>\n      <td>Portugal</td>\n    </tr>\n    <tr>\n      <th>35</th>\n      <td>Hannah Schneider</td>\n      <td>36</td>\n      <td>Germany</td>\n    </tr>\n    <tr>\n      <th>36</th>\n      <td>Fynn Zimmermann</td>\n      <td>37</td>\n      <td>Germany</td>\n    </tr>\n    <tr>\n      <th>37</th>\n      <td>Niklas Schröder</td>\n      <td>38</td>\n      <td>Germany</td>\n    </tr>\n    <tr>\n      <th>38</th>\n      <td>Camille Bernard</td>\n      <td>39</td>\n      <td>France</td>\n    </tr>\n    <tr>\n      <th>39</th>\n      <td>Dominique Lefebvre</td>\n      <td>40</td>\n      <td>France</td>\n    </tr>\n    <tr>\n      <th>40</th>\n      <td>Marc Dubois</td>\n      <td>41</td>\n      <td>France</td>\n    </tr>\n    <tr>\n      <th>41</th>\n      <td>Wyatt Girard</td>\n      <td>42</td>\n      <td>France</td>\n    </tr>\n    <tr>\n      <th>42</th>\n      <td>Isabelle Mercier</td>\n      <td>43</td>\n      <td>France</td>\n    </tr>\n    <tr>\n      <th>43</th>\n      <td>Terhi Hämäläinen</td>\n      <td>44</td>\n      <td>Finland</td>\n    </tr>\n    <tr>\n      <th>44</th>\n      <td>Ladislav Kovács</td>\n      <td>45</td>\n      <td>Hungary</td>\n    </tr>\n    <tr>\n      <th>45</th>\n      <td>Hugh O'Reilly</td>\n      <td>46</td>\n      <td>Ireland</td>\n    </tr>\n    <tr>\n      <th>46</th>\n      <td>Lucas Mancini</td>\n      <td>47</td>\n      <td>Italy</td>\n    </tr>\n    <tr>\n      <th>47</th>\n      <td>Johannes Van der Berg</td>\n      <td>48</td>\n      <td>Netherlands</td>\n    </tr>\n    <tr>\n      <th>48</th>\n      <td>Stanisław Wójcik</td>\n      <td>49</td>\n      <td>Poland</td>\n    </tr>\n    <tr>\n      <th>49</th>\n      <td>Enrique Muñoz</td>\n      <td>50</td>\n      <td>Spain</td>\n    </tr>\n    <tr>\n      <th>50</th>\n      <td>Joakim Johansson</td>\n      <td>51</td>\n      <td>Sweden</td>\n    </tr>\n    <tr>\n      <th>51</th>\n      <td>Emma Jones</td>\n      <td>52</td>\n      <td>United Kingdom</td>\n    </tr>\n    <tr>\n      <th>52</th>\n      <td>Phil Hughes</td>\n      <td>53</td>\n      <td>United Kingdom</td>\n    </tr>\n    <tr>\n      <th>53</th>\n      <td>Steve Murray</td>\n      <td>54</td>\n      <td>United Kingdom</td>\n    </tr>\n    <tr>\n      <th>54</th>\n      <td>Mark Taylor</td>\n      <td>55</td>\n      <td>Australia</td>\n    </tr>\n    <tr>\n      <th>55</th>\n      <td>Diego Gutiérrez</td>\n      <td>56</td>\n      <td>Argentina</td>\n    </tr>\n    <tr>\n      <th>56</th>\n      <td>Luis Rojas</td>\n      <td>57</td>\n      <td>Chile</td>\n    </tr>\n    <tr>\n      <th>57</th>\n      <td>Manoj Pareek</td>\n      <td>58</td>\n      <td>India</td>\n    </tr>\n    <tr>\n      <th>58</th>\n      <td>Puja Srivastava</td>\n      <td>59</td>\n      <td>India</td>\n    </tr>\n  </tbody>\n</table>\n</div>",
       "datasetInfos": [],
       "metadata": {},
       "removedWidgets": [],
       "textData": null,
       "type": "htmlSandbox"
      }
     },
     "output_type": "display_data"
    }
   ],
   "source": [
    "(\n",
    "    pd_df_cust_filt\n",
    "    .query(\"Country != 'USA'\")\n",
    "    .assign(custFullName = pd_df_cust_filt[\"FirstName\"] +\" \" +pd_df_cust_filt[\"LastName\"])\n",
    "    [[\"custFullName\", \"CustomerId\", \"Country\"]]\n",
    ")\n"
   ]
  },
  {
   "cell_type": "markdown",
   "metadata": {
    "application/vnd.databricks.v1+cell": {
     "cellMetadata": {},
     "inputWidgets": {},
     "nuid": "48411471-17fe-4dd9-b9de-7f6bd90fe46e",
     "showTitle": false,
     "title": ""
    }
   },
   "source": [
    "##### RDDs"
   ]
  },
  {
   "cell_type": "code",
   "execution_count": 0,
   "metadata": {
    "application/vnd.databricks.v1+cell": {
     "cellMetadata": {
      "byteLimit": 2048000,
      "rowLimit": 10000
     },
     "inputWidgets": {},
     "nuid": "f4ddfc6c-9ec2-430e-ab2d-11772b503506",
     "showTitle": false,
     "title": ""
    }
   },
   "outputs": [],
   "source": [
    "## Creating a RDDs."
   ]
  },
  {
   "cell_type": "code",
   "execution_count": 0,
   "metadata": {
    "application/vnd.databricks.v1+cell": {
     "cellMetadata": {
      "byteLimit": 2048000,
      "rowLimit": 10000
     },
     "inputWidgets": {},
     "nuid": "81b5266c-aab3-4d40-9f9e-e4b261c93077",
     "showTitle": false,
     "title": ""
    }
   },
   "outputs": [],
   "source": [
    "pspk_rdd_cust = pspk_df_cust.rdd"
   ]
  },
  {
   "cell_type": "code",
   "execution_count": 0,
   "metadata": {
    "application/vnd.databricks.v1+cell": {
     "cellMetadata": {
      "byteLimit": 2048000,
      "rowLimit": 10000
     },
     "inputWidgets": {},
     "nuid": "4d58c145-49c7-407b-b3e2-2067aa6c6f49",
     "showTitle": false,
     "title": ""
    }
   },
   "outputs": [],
   "source": [
    "## To get the same results as SQL while using RDD and as RDD allows to work on each row,first we need to filter out the rows and later to concat firstName & lastName we can use map function."
   ]
  },
  {
   "cell_type": "code",
   "execution_count": 0,
   "metadata": {
    "application/vnd.databricks.v1+cell": {
     "cellMetadata": {
      "byteLimit": 2048000,
      "rowLimit": 10000
     },
     "inputWidgets": {},
     "nuid": "b76f5e98-413b-48d0-ac24-3974804e92d9",
     "showTitle": false,
     "title": ""
    }
   },
   "outputs": [
    {
     "output_type": "stream",
     "name": "stdout",
     "output_type": "stream",
     "text": [
      "Out[31]: [('Luís Gonçalves', 1, 'Brazil'),\n ('Leonie Köhler', 2, 'Germany'),\n ('François Tremblay', 3, 'Canada'),\n ('Bjørn Hansen', 4, 'Norway'),\n ('František Wichterlová', 5, 'Czech Republic'),\n ('Helena Holý', 6, 'Czech Republic'),\n ('Astrid Gruber', 7, 'Austria'),\n ('Daan Peeters', 8, 'Belgium'),\n ('Kara Nielsen', 9, 'Denmark'),\n ('Eduardo Martins', 10, 'Brazil'),\n ('Alexandre Rocha', 11, 'Brazil'),\n ('Roberto Almeida', 12, 'Brazil'),\n ('Fernanda Ramos', 13, 'Brazil'),\n ('Mark Philips', 14, 'Canada'),\n ('Jennifer Peterson', 15, 'Canada'),\n ('Robert Brown', 29, 'Canada'),\n ('Edward Francis', 30, 'Canada'),\n ('Martha Silk', 31, 'Canada'),\n ('Aaron Mitchell', 32, 'Canada'),\n ('Ellie Sullivan', 33, 'Canada'),\n ('João Fernandes', 34, 'Portugal'),\n ('Madalena Sampaio', 35, 'Portugal'),\n ('Hannah Schneider', 36, 'Germany'),\n ('Fynn Zimmermann', 37, 'Germany'),\n ('Niklas Schröder', 38, 'Germany'),\n ('Camille Bernard', 39, 'France'),\n ('Dominique Lefebvre', 40, 'France'),\n ('Marc Dubois', 41, 'France'),\n ('Wyatt Girard', 42, 'France'),\n ('Isabelle Mercier', 43, 'France'),\n ('Terhi Hämäläinen', 44, 'Finland'),\n ('Ladislav Kovács', 45, 'Hungary'),\n (\"Hugh O'Reilly\", 46, 'Ireland'),\n ('Lucas Mancini', 47, 'Italy'),\n ('Johannes Van der Berg', 48, 'Netherlands'),\n ('Stanisław Wójcik', 49, 'Poland'),\n ('Enrique Muñoz', 50, 'Spain'),\n ('Joakim Johansson', 51, 'Sweden'),\n ('Emma Jones', 52, 'United Kingdom'),\n ('Phil Hughes', 53, 'United Kingdom'),\n ('Steve Murray', 54, 'United Kingdom'),\n ('Mark Taylor', 55, 'Australia'),\n ('Diego Gutiérrez', 56, 'Argentina'),\n ('Luis Rojas', 57, 'Chile'),\n ('Manoj Pareek', 58, 'India'),\n ('Puja Srivastava', 59, 'India')]"
     ]
    }
   ],
   "source": [
    "(\n",
    "    pspk_rdd_cust\n",
    "    .filter(lambda x: x['Country'] != 'USA')\n",
    "    .map(lambda row: (row['FirstName']+\" \"+row[\"LastName\"], row['CustomerId'], row['Country']))\n",
    "    # .take(2)\n",
    "    .collect()\n",
    ")"
   ]
  },
  {
   "cell_type": "code",
   "execution_count": 0,
   "metadata": {
    "application/vnd.databricks.v1+cell": {
     "cellMetadata": {
      "byteLimit": 2048000,
      "rowLimit": 10000
     },
     "inputWidgets": {},
     "nuid": "0579608f-9750-4eaa-9736-1c41a4192e49",
     "showTitle": false,
     "title": ""
    }
   },
   "outputs": [],
   "source": [
    "## to validate the results we can use RDDs key-value pairs to check if the values againist each country(counts) are matching or not"
   ]
  },
  {
   "cell_type": "code",
   "execution_count": 0,
   "metadata": {
    "application/vnd.databricks.v1+cell": {
     "cellMetadata": {
      "byteLimit": 2048000,
      "rowLimit": 10000
     },
     "inputWidgets": {},
     "nuid": "5964d466-3678-4d66-9b40-2bca5da414b8",
     "showTitle": false,
     "title": ""
    }
   },
   "outputs": [
    {
     "output_type": "display_data",
     "data": {
      "text/html": [
       "<style scoped>\n",
       "  .table-result-container {\n",
       "    max-height: 300px;\n",
       "    overflow: auto;\n",
       "  }\n",
       "  table, th, td {\n",
       "    border: 1px solid black;\n",
       "    border-collapse: collapse;\n",
       "  }\n",
       "  th, td {\n",
       "    padding: 5px;\n",
       "  }\n",
       "  th {\n",
       "    text-align: left;\n",
       "  }\n",
       "</style><div class='table-result-container'><table class='table-result'><thead style='background-color: white'><tr><th>_1</th><th>_2</th></tr></thead><tbody><tr><td>Canada</td><td>8</td></tr><tr><td>Brazil</td><td>5</td></tr><tr><td>France</td><td>5</td></tr><tr><td>Germany</td><td>4</td></tr><tr><td>United Kingdom</td><td>3</td></tr><tr><td>Czech Republic</td><td>2</td></tr><tr><td>Portugal</td><td>2</td></tr><tr><td>India</td><td>2</td></tr><tr><td>Norway</td><td>1</td></tr><tr><td>Austria</td><td>1</td></tr><tr><td>Belgium</td><td>1</td></tr><tr><td>Denmark</td><td>1</td></tr><tr><td>Finland</td><td>1</td></tr><tr><td>Hungary</td><td>1</td></tr><tr><td>Ireland</td><td>1</td></tr><tr><td>Italy</td><td>1</td></tr><tr><td>Netherlands</td><td>1</td></tr><tr><td>Poland</td><td>1</td></tr><tr><td>Spain</td><td>1</td></tr><tr><td>Sweden</td><td>1</td></tr><tr><td>Australia</td><td>1</td></tr><tr><td>Argentina</td><td>1</td></tr><tr><td>Chile</td><td>1</td></tr></tbody></table></div>"
      ]
     },
     "metadata": {
      "application/vnd.databricks.v1+output": {
       "addedWidgets": {},
       "aggData": [],
       "aggError": "",
       "aggOverflow": false,
       "aggSchema": [],
       "aggSeriesLimitReached": false,
       "aggType": "",
       "arguments": {},
       "columnCustomDisplayInfos": {},
       "data": [
        [
         "Canada",
         8
        ],
        [
         "Brazil",
         5
        ],
        [
         "France",
         5
        ],
        [
         "Germany",
         4
        ],
        [
         "United Kingdom",
         3
        ],
        [
         "Czech Republic",
         2
        ],
        [
         "Portugal",
         2
        ],
        [
         "India",
         2
        ],
        [
         "Norway",
         1
        ],
        [
         "Austria",
         1
        ],
        [
         "Belgium",
         1
        ],
        [
         "Denmark",
         1
        ],
        [
         "Finland",
         1
        ],
        [
         "Hungary",
         1
        ],
        [
         "Ireland",
         1
        ],
        [
         "Italy",
         1
        ],
        [
         "Netherlands",
         1
        ],
        [
         "Poland",
         1
        ],
        [
         "Spain",
         1
        ],
        [
         "Sweden",
         1
        ],
        [
         "Australia",
         1
        ],
        [
         "Argentina",
         1
        ],
        [
         "Chile",
         1
        ]
       ],
       "datasetInfos": [],
       "dbfsResultPath": null,
       "isJsonSchema": true,
       "metadata": {},
       "overflow": false,
       "plotOptions": {
        "customPlotOptions": {},
        "displayType": "table",
        "pivotAggregation": null,
        "pivotColumns": null,
        "xColumns": null,
        "yColumns": null
       },
       "removedWidgets": [],
       "schema": [
        {
         "metadata": "{}",
         "name": "_1",
         "type": "\"string\""
        },
        {
         "metadata": "{}",
         "name": "_2",
         "type": "\"long\""
        }
       ],
       "type": "table"
      }
     },
     "output_type": "display_data"
    }
   ],
   "source": [
    "display(\n",
    "    pspk_rdd_cust\n",
    "    .filter(lambda x: x['Country'] != 'USA')\n",
    "    .map(lambda row: (row['FirstName']+\" \"+row[\"LastName\"], row['CustomerId'], row['Country']))\n",
    "    .map(lambda row: (row[2], 1))\n",
    "    .reduceByKey(lambda x,y: x+y)\n",
    "    .sortBy(lambda x: x[1], ascending=False)\n",
    "    .collect()\n",
    "    # .toDF()\n",
    ")"
   ]
  },
  {
   "cell_type": "markdown",
   "metadata": {
    "application/vnd.databricks.v1+cell": {
     "cellMetadata": {},
     "inputWidgets": {},
     "nuid": "c1f4aa6b-8fea-4a0f-b10d-f386c590c1f3",
     "showTitle": false,
     "title": ""
    }
   },
   "source": [
    "#### 2. Provide a query showing the Invoices of customers who are from Brazil. The resultant table should show the customer's full name, Invoice ID, Date of the invoice and billing country."
   ]
  },
  {
   "cell_type": "code",
   "execution_count": 0,
   "metadata": {
    "application/vnd.databricks.v1+cell": {
     "cellMetadata": {
      "byteLimit": 2048000,
      "rowLimit": 10000
     },
     "inputWidgets": {},
     "nuid": "c67e2c8f-de6a-40a4-9a66-f21b51220735",
     "showTitle": false,
     "title": ""
    }
   },
   "outputs": [],
   "source": [
    "## In above query we need to join multiple tables to get the required output, and in SQL we can join 2 tables and apply required filters to get the expected output."
   ]
  },
  {
   "cell_type": "markdown",
   "metadata": {
    "application/vnd.databricks.v1+cell": {
     "cellMetadata": {},
     "inputWidgets": {},
     "nuid": "77b1abe2-4a73-476a-956f-a04a769687f3",
     "showTitle": false,
     "title": ""
    }
   },
   "source": [
    "##### SQL"
   ]
  },
  {
   "cell_type": "code",
   "execution_count": 0,
   "metadata": {
    "application/vnd.databricks.v1+cell": {
     "cellMetadata": {
      "byteLimit": 2048000,
      "implicitDf": true,
      "rowLimit": 10000
     },
     "inputWidgets": {},
     "nuid": "f1ee6ed7-2ba8-4704-bc14-bcb39c3f357b",
     "showTitle": false,
     "title": ""
    }
   },
   "outputs": [
    {
     "output_type": "display_data",
     "data": {
      "text/html": [
       "<style scoped>\n",
       "  .table-result-container {\n",
       "    max-height: 300px;\n",
       "    overflow: auto;\n",
       "  }\n",
       "  table, th, td {\n",
       "    border: 1px solid black;\n",
       "    border-collapse: collapse;\n",
       "  }\n",
       "  th, td {\n",
       "    padding: 5px;\n",
       "  }\n",
       "  th {\n",
       "    text-align: left;\n",
       "  }\n",
       "</style><div class='table-result-container'><table class='table-result'><thead style='background-color: white'><tr><th>custFullName</th><th>InvoiceId</th><th>InvoiceDate</th><th>BillingCountry</th></tr></thead><tbody><tr><td>Eduardo Martins</td><td>25</td><td>2009-04-09T00:00:00.000+0000</td><td>Brazil</td></tr><tr><td>Roberto Almeida</td><td>34</td><td>2009-05-23T00:00:00.000+0000</td><td>Brazil</td></tr><tr><td>Fernanda Ramos</td><td>35</td><td>2009-06-05T00:00:00.000+0000</td><td>Brazil</td></tr><tr><td>Alexandre Rocha</td><td>57</td><td>2009-09-06T00:00:00.000+0000</td><td>Brazil</td></tr><tr><td>Fernanda Ramos</td><td>58</td><td>2009-09-07T00:00:00.000+0000</td><td>Brazil</td></tr><tr><td>Alexandre Rocha</td><td>68</td><td>2009-10-17T00:00:00.000+0000</td><td>Brazil</td></tr><tr><td>Fernanda Ramos</td><td>80</td><td>2009-12-10T00:00:00.000+0000</td><td>Brazil</td></tr><tr><td>Luís Gonçalves</td><td>98</td><td>2010-03-11T00:00:00.000+0000</td><td>Brazil</td></tr><tr><td>Luís Gonçalves</td><td>121</td><td>2010-06-13T00:00:00.000+0000</td><td>Brazil</td></tr><tr><td>Alexandre Rocha</td><td>123</td><td>2010-06-17T00:00:00.000+0000</td><td>Brazil</td></tr><tr><td>Fernanda Ramos</td><td>132</td><td>2010-07-31T00:00:00.000+0000</td><td>Brazil</td></tr><tr><td>Luís Gonçalves</td><td>143</td><td>2010-09-15T00:00:00.000+0000</td><td>Brazil</td></tr><tr><td>Eduardo Martins</td><td>154</td><td>2010-11-14T00:00:00.000+0000</td><td>Brazil</td></tr><tr><td>Roberto Almeida</td><td>155</td><td>2010-11-14T00:00:00.000+0000</td><td>Brazil</td></tr><tr><td>Roberto Almeida</td><td>166</td><td>2010-12-25T00:00:00.000+0000</td><td>Brazil</td></tr><tr><td>Eduardo Martins</td><td>177</td><td>2011-02-16T00:00:00.000+0000</td><td>Brazil</td></tr><tr><td>Luís Gonçalves</td><td>195</td><td>2011-05-06T00:00:00.000+0000</td><td>Brazil</td></tr><tr><td>Eduardo Martins</td><td>199</td><td>2011-05-21T00:00:00.000+0000</td><td>Brazil</td></tr><tr><td>Roberto Almeida</td><td>221</td><td>2011-08-25T00:00:00.000+0000</td><td>Brazil</td></tr><tr><td>Eduardo Martins</td><td>251</td><td>2012-01-09T00:00:00.000+0000</td><td>Brazil</td></tr><tr><td>Alexandre Rocha</td><td>252</td><td>2012-01-22T00:00:00.000+0000</td><td>Brazil</td></tr><tr><td>Fernanda Ramos</td><td>253</td><td>2012-01-22T00:00:00.000+0000</td><td>Brazil</td></tr><tr><td>Fernanda Ramos</td><td>264</td><td>2012-03-03T00:00:00.000+0000</td><td>Brazil</td></tr><tr><td>Alexandre Rocha</td><td>275</td><td>2012-04-25T00:00:00.000+0000</td><td>Brazil</td></tr><tr><td>Alexandre Rocha</td><td>297</td><td>2012-07-28T00:00:00.000+0000</td><td>Brazil</td></tr><tr><td>Luís Gonçalves</td><td>316</td><td>2012-10-27T00:00:00.000+0000</td><td>Brazil</td></tr><tr><td>Fernanda Ramos</td><td>319</td><td>2012-11-01T00:00:00.000+0000</td><td>Brazil</td></tr><tr><td>Luís Gonçalves</td><td>327</td><td>2012-12-07T00:00:00.000+0000</td><td>Brazil</td></tr><tr><td>Alexandre Rocha</td><td>349</td><td>2013-03-18T00:00:00.000+0000</td><td>Brazil</td></tr><tr><td>Roberto Almeida</td><td>350</td><td>2013-03-31T00:00:00.000+0000</td><td>Brazil</td></tr><tr><td>Eduardo Martins</td><td>372</td><td>2013-07-02T00:00:00.000+0000</td><td>Brazil</td></tr><tr><td>Roberto Almeida</td><td>373</td><td>2013-07-03T00:00:00.000+0000</td><td>Brazil</td></tr><tr><td>Luís Gonçalves</td><td>382</td><td>2013-08-07T00:00:00.000+0000</td><td>Brazil</td></tr><tr><td>Eduardo Martins</td><td>383</td><td>2013-08-12T00:00:00.000+0000</td><td>Brazil</td></tr><tr><td>Roberto Almeida</td><td>395</td><td>2013-10-05T00:00:00.000+0000</td><td>Brazil</td></tr></tbody></table></div>"
      ]
     },
     "metadata": {
      "application/vnd.databricks.v1+output": {
       "addedWidgets": {},
       "aggData": [],
       "aggError": "",
       "aggOverflow": false,
       "aggSchema": [],
       "aggSeriesLimitReached": false,
       "aggType": "",
       "arguments": {},
       "columnCustomDisplayInfos": {},
       "data": [
        [
         "Eduardo Martins",
         25,
         "2009-04-09T00:00:00.000+0000",
         "Brazil"
        ],
        [
         "Roberto Almeida",
         34,
         "2009-05-23T00:00:00.000+0000",
         "Brazil"
        ],
        [
         "Fernanda Ramos",
         35,
         "2009-06-05T00:00:00.000+0000",
         "Brazil"
        ],
        [
         "Alexandre Rocha",
         57,
         "2009-09-06T00:00:00.000+0000",
         "Brazil"
        ],
        [
         "Fernanda Ramos",
         58,
         "2009-09-07T00:00:00.000+0000",
         "Brazil"
        ],
        [
         "Alexandre Rocha",
         68,
         "2009-10-17T00:00:00.000+0000",
         "Brazil"
        ],
        [
         "Fernanda Ramos",
         80,
         "2009-12-10T00:00:00.000+0000",
         "Brazil"
        ],
        [
         "Luís Gonçalves",
         98,
         "2010-03-11T00:00:00.000+0000",
         "Brazil"
        ],
        [
         "Luís Gonçalves",
         121,
         "2010-06-13T00:00:00.000+0000",
         "Brazil"
        ],
        [
         "Alexandre Rocha",
         123,
         "2010-06-17T00:00:00.000+0000",
         "Brazil"
        ],
        [
         "Fernanda Ramos",
         132,
         "2010-07-31T00:00:00.000+0000",
         "Brazil"
        ],
        [
         "Luís Gonçalves",
         143,
         "2010-09-15T00:00:00.000+0000",
         "Brazil"
        ],
        [
         "Eduardo Martins",
         154,
         "2010-11-14T00:00:00.000+0000",
         "Brazil"
        ],
        [
         "Roberto Almeida",
         155,
         "2010-11-14T00:00:00.000+0000",
         "Brazil"
        ],
        [
         "Roberto Almeida",
         166,
         "2010-12-25T00:00:00.000+0000",
         "Brazil"
        ],
        [
         "Eduardo Martins",
         177,
         "2011-02-16T00:00:00.000+0000",
         "Brazil"
        ],
        [
         "Luís Gonçalves",
         195,
         "2011-05-06T00:00:00.000+0000",
         "Brazil"
        ],
        [
         "Eduardo Martins",
         199,
         "2011-05-21T00:00:00.000+0000",
         "Brazil"
        ],
        [
         "Roberto Almeida",
         221,
         "2011-08-25T00:00:00.000+0000",
         "Brazil"
        ],
        [
         "Eduardo Martins",
         251,
         "2012-01-09T00:00:00.000+0000",
         "Brazil"
        ],
        [
         "Alexandre Rocha",
         252,
         "2012-01-22T00:00:00.000+0000",
         "Brazil"
        ],
        [
         "Fernanda Ramos",
         253,
         "2012-01-22T00:00:00.000+0000",
         "Brazil"
        ],
        [
         "Fernanda Ramos",
         264,
         "2012-03-03T00:00:00.000+0000",
         "Brazil"
        ],
        [
         "Alexandre Rocha",
         275,
         "2012-04-25T00:00:00.000+0000",
         "Brazil"
        ],
        [
         "Alexandre Rocha",
         297,
         "2012-07-28T00:00:00.000+0000",
         "Brazil"
        ],
        [
         "Luís Gonçalves",
         316,
         "2012-10-27T00:00:00.000+0000",
         "Brazil"
        ],
        [
         "Fernanda Ramos",
         319,
         "2012-11-01T00:00:00.000+0000",
         "Brazil"
        ],
        [
         "Luís Gonçalves",
         327,
         "2012-12-07T00:00:00.000+0000",
         "Brazil"
        ],
        [
         "Alexandre Rocha",
         349,
         "2013-03-18T00:00:00.000+0000",
         "Brazil"
        ],
        [
         "Roberto Almeida",
         350,
         "2013-03-31T00:00:00.000+0000",
         "Brazil"
        ],
        [
         "Eduardo Martins",
         372,
         "2013-07-02T00:00:00.000+0000",
         "Brazil"
        ],
        [
         "Roberto Almeida",
         373,
         "2013-07-03T00:00:00.000+0000",
         "Brazil"
        ],
        [
         "Luís Gonçalves",
         382,
         "2013-08-07T00:00:00.000+0000",
         "Brazil"
        ],
        [
         "Eduardo Martins",
         383,
         "2013-08-12T00:00:00.000+0000",
         "Brazil"
        ],
        [
         "Roberto Almeida",
         395,
         "2013-10-05T00:00:00.000+0000",
         "Brazil"
        ]
       ],
       "datasetInfos": [],
       "dbfsResultPath": null,
       "isJsonSchema": true,
       "metadata": {},
       "overflow": false,
       "plotOptions": {
        "customPlotOptions": {},
        "displayType": "table",
        "pivotAggregation": null,
        "pivotColumns": null,
        "xColumns": null,
        "yColumns": null
       },
       "removedWidgets": [],
       "schema": [
        {
         "metadata": "{}",
         "name": "custFullName",
         "type": "\"string\""
        },
        {
         "metadata": "{}",
         "name": "InvoiceId",
         "type": "\"integer\""
        },
        {
         "metadata": "{}",
         "name": "InvoiceDate",
         "type": "\"timestamp\""
        },
        {
         "metadata": "{}",
         "name": "BillingCountry",
         "type": "\"string\""
        }
       ],
       "type": "table"
      }
     },
     "output_type": "display_data"
    }
   ],
   "source": [
    "%sql\n",
    "\n",
    "select customers.FirstName || \" \" || customers.LastName custFullName, invoice.InvoiceId, invoice.InvoiceDate, invoice.BillingCountry\n",
    "from customers \n",
    "  inner join invoice on (customers.CustomerId = invoice.CustomerId)\n",
    "  where invoice.BillingCountry = \"Brazil\""
   ]
  },
  {
   "cell_type": "code",
   "execution_count": 0,
   "metadata": {
    "application/vnd.databricks.v1+cell": {
     "cellMetadata": {
      "byteLimit": 2048000,
      "implicitDf": true,
      "rowLimit": 10000
     },
     "inputWidgets": {},
     "nuid": "0ec0b9bb-9486-4e08-9161-22fd5c71330e",
     "showTitle": false,
     "title": ""
    }
   },
   "outputs": [
    {
     "output_type": "display_data",
     "data": {
      "text/html": [
       "<style scoped>\n",
       "  .table-result-container {\n",
       "    max-height: 300px;\n",
       "    overflow: auto;\n",
       "  }\n",
       "  table, th, td {\n",
       "    border: 1px solid black;\n",
       "    border-collapse: collapse;\n",
       "  }\n",
       "  th, td {\n",
       "    padding: 5px;\n",
       "  }\n",
       "  th {\n",
       "    text-align: left;\n",
       "  }\n",
       "</style><div class='table-result-container'><table class='table-result'><thead style='background-color: white'><tr><th>BillingCountry</th><th>totalCounts</th></tr></thead><tbody><tr><td>Brazil</td><td>35</td></tr></tbody></table></div>"
      ]
     },
     "metadata": {
      "application/vnd.databricks.v1+output": {
       "addedWidgets": {},
       "aggData": [],
       "aggError": "",
       "aggOverflow": false,
       "aggSchema": [],
       "aggSeriesLimitReached": false,
       "aggType": "",
       "arguments": {},
       "columnCustomDisplayInfos": {},
       "data": [
        [
         "Brazil",
         35
        ]
       ],
       "datasetInfos": [],
       "dbfsResultPath": null,
       "isJsonSchema": true,
       "metadata": {},
       "overflow": false,
       "plotOptions": {
        "customPlotOptions": {},
        "displayType": "table",
        "pivotAggregation": null,
        "pivotColumns": null,
        "xColumns": null,
        "yColumns": null
       },
       "removedWidgets": [],
       "schema": [
        {
         "metadata": "{}",
         "name": "BillingCountry",
         "type": "\"string\""
        },
        {
         "metadata": "{}",
         "name": "totalCounts",
         "type": "\"long\""
        }
       ],
       "type": "table"
      }
     },
     "output_type": "display_data"
    }
   ],
   "source": [
    "%sql\n",
    "\n",
    "select invoice.BillingCountry, count(invoice.BillingCountry) totalCounts\n",
    "from customers \n",
    "  inner join invoice on (customers.CustomerId = invoice.CustomerId)\n",
    "  where invoice.BillingCountry = \"Brazil\"\n",
    "group by invoice.BillingCountry"
   ]
  },
  {
   "cell_type": "markdown",
   "metadata": {
    "application/vnd.databricks.v1+cell": {
     "cellMetadata": {},
     "inputWidgets": {},
     "nuid": "69568e75-2fd9-46d5-8537-2299d6f61458",
     "showTitle": false,
     "title": ""
    }
   },
   "source": [
    "##### Pyspark"
   ]
  },
  {
   "cell_type": "code",
   "execution_count": 0,
   "metadata": {
    "application/vnd.databricks.v1+cell": {
     "cellMetadata": {
      "byteLimit": 2048000,
      "rowLimit": 10000
     },
     "inputWidgets": {},
     "nuid": "28b4b22b-14fb-4d71-a1b8-355dbdc4720c",
     "showTitle": false,
     "title": ""
    }
   },
   "outputs": [],
   "source": [
    "## InPyspark the logic is almost similar we can use alias to the dataframes and then join it with other dataframes as show below and we can use sequence of chained statements to get the results"
   ]
  },
  {
   "cell_type": "code",
   "execution_count": 0,
   "metadata": {
    "application/vnd.databricks.v1+cell": {
     "cellMetadata": {
      "byteLimit": 2048000,
      "rowLimit": 10000
     },
     "inputWidgets": {},
     "nuid": "a971725c-9076-4ab2-bc8e-9a332b95314f",
     "showTitle": false,
     "title": ""
    }
   },
   "outputs": [
    {
     "output_type": "display_data",
     "data": {
      "text/html": [
       "<style scoped>\n",
       "  .table-result-container {\n",
       "    max-height: 300px;\n",
       "    overflow: auto;\n",
       "  }\n",
       "  table, th, td {\n",
       "    border: 1px solid black;\n",
       "    border-collapse: collapse;\n",
       "  }\n",
       "  th, td {\n",
       "    padding: 5px;\n",
       "  }\n",
       "  th {\n",
       "    text-align: left;\n",
       "  }\n",
       "</style><div class='table-result-container'><table class='table-result'><thead style='background-color: white'><tr><th>custFullName</th><th>invoiceId</th><th>invoiceDate</th><th>BillingCountry</th></tr></thead><tbody><tr><td>Eduardo Martins</td><td>25</td><td>2009-04-09T00:00:00.000+0000</td><td>Brazil</td></tr><tr><td>Roberto Almeida</td><td>34</td><td>2009-05-23T00:00:00.000+0000</td><td>Brazil</td></tr><tr><td>Fernanda Ramos</td><td>35</td><td>2009-06-05T00:00:00.000+0000</td><td>Brazil</td></tr><tr><td>Alexandre Rocha</td><td>57</td><td>2009-09-06T00:00:00.000+0000</td><td>Brazil</td></tr><tr><td>Fernanda Ramos</td><td>58</td><td>2009-09-07T00:00:00.000+0000</td><td>Brazil</td></tr><tr><td>Alexandre Rocha</td><td>68</td><td>2009-10-17T00:00:00.000+0000</td><td>Brazil</td></tr><tr><td>Fernanda Ramos</td><td>80</td><td>2009-12-10T00:00:00.000+0000</td><td>Brazil</td></tr><tr><td>Luís Gonçalves</td><td>98</td><td>2010-03-11T00:00:00.000+0000</td><td>Brazil</td></tr><tr><td>Luís Gonçalves</td><td>121</td><td>2010-06-13T00:00:00.000+0000</td><td>Brazil</td></tr><tr><td>Alexandre Rocha</td><td>123</td><td>2010-06-17T00:00:00.000+0000</td><td>Brazil</td></tr><tr><td>Fernanda Ramos</td><td>132</td><td>2010-07-31T00:00:00.000+0000</td><td>Brazil</td></tr><tr><td>Luís Gonçalves</td><td>143</td><td>2010-09-15T00:00:00.000+0000</td><td>Brazil</td></tr><tr><td>Eduardo Martins</td><td>154</td><td>2010-11-14T00:00:00.000+0000</td><td>Brazil</td></tr><tr><td>Roberto Almeida</td><td>155</td><td>2010-11-14T00:00:00.000+0000</td><td>Brazil</td></tr><tr><td>Roberto Almeida</td><td>166</td><td>2010-12-25T00:00:00.000+0000</td><td>Brazil</td></tr><tr><td>Eduardo Martins</td><td>177</td><td>2011-02-16T00:00:00.000+0000</td><td>Brazil</td></tr><tr><td>Luís Gonçalves</td><td>195</td><td>2011-05-06T00:00:00.000+0000</td><td>Brazil</td></tr><tr><td>Eduardo Martins</td><td>199</td><td>2011-05-21T00:00:00.000+0000</td><td>Brazil</td></tr><tr><td>Roberto Almeida</td><td>221</td><td>2011-08-25T00:00:00.000+0000</td><td>Brazil</td></tr><tr><td>Eduardo Martins</td><td>251</td><td>2012-01-09T00:00:00.000+0000</td><td>Brazil</td></tr><tr><td>Alexandre Rocha</td><td>252</td><td>2012-01-22T00:00:00.000+0000</td><td>Brazil</td></tr><tr><td>Fernanda Ramos</td><td>253</td><td>2012-01-22T00:00:00.000+0000</td><td>Brazil</td></tr><tr><td>Fernanda Ramos</td><td>264</td><td>2012-03-03T00:00:00.000+0000</td><td>Brazil</td></tr><tr><td>Alexandre Rocha</td><td>275</td><td>2012-04-25T00:00:00.000+0000</td><td>Brazil</td></tr><tr><td>Alexandre Rocha</td><td>297</td><td>2012-07-28T00:00:00.000+0000</td><td>Brazil</td></tr><tr><td>Luís Gonçalves</td><td>316</td><td>2012-10-27T00:00:00.000+0000</td><td>Brazil</td></tr><tr><td>Fernanda Ramos</td><td>319</td><td>2012-11-01T00:00:00.000+0000</td><td>Brazil</td></tr><tr><td>Luís Gonçalves</td><td>327</td><td>2012-12-07T00:00:00.000+0000</td><td>Brazil</td></tr><tr><td>Alexandre Rocha</td><td>349</td><td>2013-03-18T00:00:00.000+0000</td><td>Brazil</td></tr><tr><td>Roberto Almeida</td><td>350</td><td>2013-03-31T00:00:00.000+0000</td><td>Brazil</td></tr><tr><td>Eduardo Martins</td><td>372</td><td>2013-07-02T00:00:00.000+0000</td><td>Brazil</td></tr><tr><td>Roberto Almeida</td><td>373</td><td>2013-07-03T00:00:00.000+0000</td><td>Brazil</td></tr><tr><td>Luís Gonçalves</td><td>382</td><td>2013-08-07T00:00:00.000+0000</td><td>Brazil</td></tr><tr><td>Eduardo Martins</td><td>383</td><td>2013-08-12T00:00:00.000+0000</td><td>Brazil</td></tr><tr><td>Roberto Almeida</td><td>395</td><td>2013-10-05T00:00:00.000+0000</td><td>Brazil</td></tr></tbody></table></div>"
      ]
     },
     "metadata": {
      "application/vnd.databricks.v1+output": {
       "addedWidgets": {},
       "aggData": [],
       "aggError": "",
       "aggOverflow": false,
       "aggSchema": [],
       "aggSeriesLimitReached": false,
       "aggType": "",
       "arguments": {},
       "columnCustomDisplayInfos": {},
       "data": [
        [
         "Eduardo Martins",
         25,
         "2009-04-09T00:00:00.000+0000",
         "Brazil"
        ],
        [
         "Roberto Almeida",
         34,
         "2009-05-23T00:00:00.000+0000",
         "Brazil"
        ],
        [
         "Fernanda Ramos",
         35,
         "2009-06-05T00:00:00.000+0000",
         "Brazil"
        ],
        [
         "Alexandre Rocha",
         57,
         "2009-09-06T00:00:00.000+0000",
         "Brazil"
        ],
        [
         "Fernanda Ramos",
         58,
         "2009-09-07T00:00:00.000+0000",
         "Brazil"
        ],
        [
         "Alexandre Rocha",
         68,
         "2009-10-17T00:00:00.000+0000",
         "Brazil"
        ],
        [
         "Fernanda Ramos",
         80,
         "2009-12-10T00:00:00.000+0000",
         "Brazil"
        ],
        [
         "Luís Gonçalves",
         98,
         "2010-03-11T00:00:00.000+0000",
         "Brazil"
        ],
        [
         "Luís Gonçalves",
         121,
         "2010-06-13T00:00:00.000+0000",
         "Brazil"
        ],
        [
         "Alexandre Rocha",
         123,
         "2010-06-17T00:00:00.000+0000",
         "Brazil"
        ],
        [
         "Fernanda Ramos",
         132,
         "2010-07-31T00:00:00.000+0000",
         "Brazil"
        ],
        [
         "Luís Gonçalves",
         143,
         "2010-09-15T00:00:00.000+0000",
         "Brazil"
        ],
        [
         "Eduardo Martins",
         154,
         "2010-11-14T00:00:00.000+0000",
         "Brazil"
        ],
        [
         "Roberto Almeida",
         155,
         "2010-11-14T00:00:00.000+0000",
         "Brazil"
        ],
        [
         "Roberto Almeida",
         166,
         "2010-12-25T00:00:00.000+0000",
         "Brazil"
        ],
        [
         "Eduardo Martins",
         177,
         "2011-02-16T00:00:00.000+0000",
         "Brazil"
        ],
        [
         "Luís Gonçalves",
         195,
         "2011-05-06T00:00:00.000+0000",
         "Brazil"
        ],
        [
         "Eduardo Martins",
         199,
         "2011-05-21T00:00:00.000+0000",
         "Brazil"
        ],
        [
         "Roberto Almeida",
         221,
         "2011-08-25T00:00:00.000+0000",
         "Brazil"
        ],
        [
         "Eduardo Martins",
         251,
         "2012-01-09T00:00:00.000+0000",
         "Brazil"
        ],
        [
         "Alexandre Rocha",
         252,
         "2012-01-22T00:00:00.000+0000",
         "Brazil"
        ],
        [
         "Fernanda Ramos",
         253,
         "2012-01-22T00:00:00.000+0000",
         "Brazil"
        ],
        [
         "Fernanda Ramos",
         264,
         "2012-03-03T00:00:00.000+0000",
         "Brazil"
        ],
        [
         "Alexandre Rocha",
         275,
         "2012-04-25T00:00:00.000+0000",
         "Brazil"
        ],
        [
         "Alexandre Rocha",
         297,
         "2012-07-28T00:00:00.000+0000",
         "Brazil"
        ],
        [
         "Luís Gonçalves",
         316,
         "2012-10-27T00:00:00.000+0000",
         "Brazil"
        ],
        [
         "Fernanda Ramos",
         319,
         "2012-11-01T00:00:00.000+0000",
         "Brazil"
        ],
        [
         "Luís Gonçalves",
         327,
         "2012-12-07T00:00:00.000+0000",
         "Brazil"
        ],
        [
         "Alexandre Rocha",
         349,
         "2013-03-18T00:00:00.000+0000",
         "Brazil"
        ],
        [
         "Roberto Almeida",
         350,
         "2013-03-31T00:00:00.000+0000",
         "Brazil"
        ],
        [
         "Eduardo Martins",
         372,
         "2013-07-02T00:00:00.000+0000",
         "Brazil"
        ],
        [
         "Roberto Almeida",
         373,
         "2013-07-03T00:00:00.000+0000",
         "Brazil"
        ],
        [
         "Luís Gonçalves",
         382,
         "2013-08-07T00:00:00.000+0000",
         "Brazil"
        ],
        [
         "Eduardo Martins",
         383,
         "2013-08-12T00:00:00.000+0000",
         "Brazil"
        ],
        [
         "Roberto Almeida",
         395,
         "2013-10-05T00:00:00.000+0000",
         "Brazil"
        ]
       ],
       "datasetInfos": [],
       "dbfsResultPath": null,
       "isJsonSchema": true,
       "metadata": {},
       "overflow": false,
       "plotOptions": {
        "customPlotOptions": {},
        "displayType": "table",
        "pivotAggregation": null,
        "pivotColumns": null,
        "xColumns": null,
        "yColumns": null
       },
       "removedWidgets": [],
       "schema": [
        {
         "metadata": "{}",
         "name": "custFullName",
         "type": "\"string\""
        },
        {
         "metadata": "{}",
         "name": "invoiceId",
         "type": "\"integer\""
        },
        {
         "metadata": "{}",
         "name": "invoiceDate",
         "type": "\"timestamp\""
        },
        {
         "metadata": "{}",
         "name": "BillingCountry",
         "type": "\"string\""
        }
       ],
       "type": "table"
      }
     },
     "output_type": "display_data"
    }
   ],
   "source": [
    "display(\n",
    "    pspk_df_cust.alias(\"cust\")\n",
    "    .join(pspk_df_invoice.alias(\"inv\"), on=['CustomerId'], how='inner')\n",
    "    .filter(\"inv.BillingCountry = 'Brazil'\")\n",
    "    .selectExpr(\"cust.FirstName||' '||cust.LastName custFullName\", \"inv.invoiceId\", \"inv.invoiceDate\", \"inv.BillingCountry\")\n",
    ")"
   ]
  },
  {
   "cell_type": "code",
   "execution_count": 0,
   "metadata": {
    "application/vnd.databricks.v1+cell": {
     "cellMetadata": {
      "byteLimit": 2048000,
      "rowLimit": 10000
     },
     "inputWidgets": {},
     "nuid": "a9ddb8e1-9dcb-413b-9eca-c2124a504220",
     "showTitle": false,
     "title": ""
    }
   },
   "outputs": [
    {
     "output_type": "display_data",
     "data": {
      "text/html": [
       "<style scoped>\n",
       "  .table-result-container {\n",
       "    max-height: 300px;\n",
       "    overflow: auto;\n",
       "  }\n",
       "  table, th, td {\n",
       "    border: 1px solid black;\n",
       "    border-collapse: collapse;\n",
       "  }\n",
       "  th, td {\n",
       "    padding: 5px;\n",
       "  }\n",
       "  th {\n",
       "    text-align: left;\n",
       "  }\n",
       "</style><div class='table-result-container'><table class='table-result'><thead style='background-color: white'><tr><th>BillingCountry</th><th>count</th></tr></thead><tbody><tr><td>Brazil</td><td>35</td></tr></tbody></table></div>"
      ]
     },
     "metadata": {
      "application/vnd.databricks.v1+output": {
       "addedWidgets": {},
       "aggData": [],
       "aggError": "",
       "aggOverflow": false,
       "aggSchema": [],
       "aggSeriesLimitReached": false,
       "aggType": "",
       "arguments": {},
       "columnCustomDisplayInfos": {},
       "data": [
        [
         "Brazil",
         35
        ]
       ],
       "datasetInfos": [],
       "dbfsResultPath": null,
       "isJsonSchema": true,
       "metadata": {},
       "overflow": false,
       "plotOptions": {
        "customPlotOptions": {},
        "displayType": "table",
        "pivotAggregation": null,
        "pivotColumns": null,
        "xColumns": null,
        "yColumns": null
       },
       "removedWidgets": [],
       "schema": [
        {
         "metadata": "{}",
         "name": "BillingCountry",
         "type": "\"string\""
        },
        {
         "metadata": "{}",
         "name": "count",
         "type": "\"long\""
        }
       ],
       "type": "table"
      }
     },
     "output_type": "display_data"
    }
   ],
   "source": [
    "display(\n",
    "    pspk_df_cust.alias(\"cust\")\n",
    "    .join(pspk_df_invoice.alias(\"inv\"), on=['CustomerId'], how='inner')\n",
    "    .filter(\"inv.BillingCountry = 'Brazil'\")\n",
    "    # .selectExpr(\"cust.FirstName||' '||cust.LastName custFullName\", \"inv.invoiceId\", \"inv.invoiceDate\", \"inv.BillingCountry\")\n",
    "    .groupBy(\"inv.BillingCountry\")\n",
    "    .count()\n",
    ")"
   ]
  },
  {
   "cell_type": "markdown",
   "metadata": {
    "application/vnd.databricks.v1+cell": {
     "cellMetadata": {},
     "inputWidgets": {},
     "nuid": "73fe6251-ad50-44ff-8886-79e434133707",
     "showTitle": false,
     "title": ""
    }
   },
   "source": [
    "##### Python"
   ]
  },
  {
   "cell_type": "code",
   "execution_count": 0,
   "metadata": {
    "application/vnd.databricks.v1+cell": {
     "cellMetadata": {
      "byteLimit": 2048000,
      "rowLimit": 10000
     },
     "inputWidgets": {},
     "nuid": "f1a186d7-89c0-4ef3-9432-bca1c4426a31",
     "showTitle": false,
     "title": ""
    }
   },
   "outputs": [],
   "source": [
    "## to add a new column we can use assign where a new column is added to the existing dataframe without disturbing the structure\n",
    "## and the equivalent of join for python is merge"
   ]
  },
  {
   "cell_type": "code",
   "execution_count": 0,
   "metadata": {
    "application/vnd.databricks.v1+cell": {
     "cellMetadata": {
      "byteLimit": 2048000,
      "rowLimit": 10000
     },
     "inputWidgets": {},
     "nuid": "be1f1c4c-f775-48f2-86bd-a0c8df8ba917",
     "showTitle": false,
     "title": ""
    }
   },
   "outputs": [
    {
     "output_type": "display_data",
     "data": {
      "text/html": [
       "<div>\n",
       "<style scoped>\n",
       "    .dataframe tbody tr th:only-of-type {\n",
       "        vertical-align: middle;\n",
       "    }\n",
       "\n",
       "    .dataframe tbody tr th {\n",
       "        vertical-align: top;\n",
       "    }\n",
       "\n",
       "    .dataframe thead th {\n",
       "        text-align: right;\n",
       "    }\n",
       "</style>\n",
       "<table border=\"1\" class=\"dataframe\">\n",
       "  <thead>\n",
       "    <tr style=\"text-align: right;\">\n",
       "      <th></th>\n",
       "      <th>custFullName</th>\n",
       "      <th>InvoiceId</th>\n",
       "      <th>InvoiceDate</th>\n",
       "      <th>BillingCountry</th>\n",
       "    </tr>\n",
       "  </thead>\n",
       "  <tbody>\n",
       "    <tr>\n",
       "      <th>0</th>\n",
       "      <td>Luís Gonçalves</td>\n",
       "      <td>98</td>\n",
       "      <td>2010-03-11</td>\n",
       "      <td>Brazil</td>\n",
       "    </tr>\n",
       "    <tr>\n",
       "      <th>1</th>\n",
       "      <td>Leonie Köhler</td>\n",
       "      <td>121</td>\n",
       "      <td>2010-06-13</td>\n",
       "      <td>Brazil</td>\n",
       "    </tr>\n",
       "    <tr>\n",
       "      <th>2</th>\n",
       "      <td>François Tremblay</td>\n",
       "      <td>143</td>\n",
       "      <td>2010-09-15</td>\n",
       "      <td>Brazil</td>\n",
       "    </tr>\n",
       "    <tr>\n",
       "      <th>3</th>\n",
       "      <td>Bjørn Hansen</td>\n",
       "      <td>195</td>\n",
       "      <td>2011-05-06</td>\n",
       "      <td>Brazil</td>\n",
       "    </tr>\n",
       "    <tr>\n",
       "      <th>4</th>\n",
       "      <td>František Wichterlová</td>\n",
       "      <td>316</td>\n",
       "      <td>2012-10-27</td>\n",
       "      <td>Brazil</td>\n",
       "    </tr>\n",
       "    <tr>\n",
       "      <th>5</th>\n",
       "      <td>Helena Holý</td>\n",
       "      <td>327</td>\n",
       "      <td>2012-12-07</td>\n",
       "      <td>Brazil</td>\n",
       "    </tr>\n",
       "    <tr>\n",
       "      <th>6</th>\n",
       "      <td>Astrid Gruber</td>\n",
       "      <td>382</td>\n",
       "      <td>2013-08-07</td>\n",
       "      <td>Brazil</td>\n",
       "    </tr>\n",
       "    <tr>\n",
       "      <th>7</th>\n",
       "      <td>Daan Peeters</td>\n",
       "      <td>25</td>\n",
       "      <td>2009-04-09</td>\n",
       "      <td>Brazil</td>\n",
       "    </tr>\n",
       "    <tr>\n",
       "      <th>8</th>\n",
       "      <td>Kara Nielsen</td>\n",
       "      <td>154</td>\n",
       "      <td>2010-11-14</td>\n",
       "      <td>Brazil</td>\n",
       "    </tr>\n",
       "    <tr>\n",
       "      <th>9</th>\n",
       "      <td>Eduardo Martins</td>\n",
       "      <td>177</td>\n",
       "      <td>2011-02-16</td>\n",
       "      <td>Brazil</td>\n",
       "    </tr>\n",
       "    <tr>\n",
       "      <th>10</th>\n",
       "      <td>Alexandre Rocha</td>\n",
       "      <td>199</td>\n",
       "      <td>2011-05-21</td>\n",
       "      <td>Brazil</td>\n",
       "    </tr>\n",
       "    <tr>\n",
       "      <th>11</th>\n",
       "      <td>Roberto Almeida</td>\n",
       "      <td>251</td>\n",
       "      <td>2012-01-09</td>\n",
       "      <td>Brazil</td>\n",
       "    </tr>\n",
       "    <tr>\n",
       "      <th>12</th>\n",
       "      <td>Fernanda Ramos</td>\n",
       "      <td>372</td>\n",
       "      <td>2013-07-02</td>\n",
       "      <td>Brazil</td>\n",
       "    </tr>\n",
       "    <tr>\n",
       "      <th>13</th>\n",
       "      <td>Mark Philips</td>\n",
       "      <td>383</td>\n",
       "      <td>2013-08-12</td>\n",
       "      <td>Brazil</td>\n",
       "    </tr>\n",
       "    <tr>\n",
       "      <th>14</th>\n",
       "      <td>Jennifer Peterson</td>\n",
       "      <td>57</td>\n",
       "      <td>2009-09-06</td>\n",
       "      <td>Brazil</td>\n",
       "    </tr>\n",
       "    <tr>\n",
       "      <th>15</th>\n",
       "      <td>Frank Harris</td>\n",
       "      <td>68</td>\n",
       "      <td>2009-10-17</td>\n",
       "      <td>Brazil</td>\n",
       "    </tr>\n",
       "    <tr>\n",
       "      <th>16</th>\n",
       "      <td>Jack Smith</td>\n",
       "      <td>123</td>\n",
       "      <td>2010-06-17</td>\n",
       "      <td>Brazil</td>\n",
       "    </tr>\n",
       "    <tr>\n",
       "      <th>17</th>\n",
       "      <td>Michelle Brooks</td>\n",
       "      <td>252</td>\n",
       "      <td>2012-01-22</td>\n",
       "      <td>Brazil</td>\n",
       "    </tr>\n",
       "    <tr>\n",
       "      <th>18</th>\n",
       "      <td>Tim Goyer</td>\n",
       "      <td>275</td>\n",
       "      <td>2012-04-25</td>\n",
       "      <td>Brazil</td>\n",
       "    </tr>\n",
       "    <tr>\n",
       "      <th>19</th>\n",
       "      <td>Dan Miller</td>\n",
       "      <td>297</td>\n",
       "      <td>2012-07-28</td>\n",
       "      <td>Brazil</td>\n",
       "    </tr>\n",
       "    <tr>\n",
       "      <th>20</th>\n",
       "      <td>Kathy Chase</td>\n",
       "      <td>349</td>\n",
       "      <td>2013-03-18</td>\n",
       "      <td>Brazil</td>\n",
       "    </tr>\n",
       "    <tr>\n",
       "      <th>21</th>\n",
       "      <td>Heather Leacock</td>\n",
       "      <td>34</td>\n",
       "      <td>2009-05-23</td>\n",
       "      <td>Brazil</td>\n",
       "    </tr>\n",
       "    <tr>\n",
       "      <th>22</th>\n",
       "      <td>John Gordon</td>\n",
       "      <td>155</td>\n",
       "      <td>2010-11-14</td>\n",
       "      <td>Brazil</td>\n",
       "    </tr>\n",
       "    <tr>\n",
       "      <th>23</th>\n",
       "      <td>Frank Ralston</td>\n",
       "      <td>166</td>\n",
       "      <td>2010-12-25</td>\n",
       "      <td>Brazil</td>\n",
       "    </tr>\n",
       "    <tr>\n",
       "      <th>24</th>\n",
       "      <td>Victor Stevens</td>\n",
       "      <td>221</td>\n",
       "      <td>2011-08-25</td>\n",
       "      <td>Brazil</td>\n",
       "    </tr>\n",
       "    <tr>\n",
       "      <th>25</th>\n",
       "      <td>Richard Cunningham</td>\n",
       "      <td>350</td>\n",
       "      <td>2013-03-31</td>\n",
       "      <td>Brazil</td>\n",
       "    </tr>\n",
       "    <tr>\n",
       "      <th>26</th>\n",
       "      <td>Patrick Gray</td>\n",
       "      <td>373</td>\n",
       "      <td>2013-07-03</td>\n",
       "      <td>Brazil</td>\n",
       "    </tr>\n",
       "    <tr>\n",
       "      <th>27</th>\n",
       "      <td>Julia Barnett</td>\n",
       "      <td>395</td>\n",
       "      <td>2013-10-05</td>\n",
       "      <td>Brazil</td>\n",
       "    </tr>\n",
       "    <tr>\n",
       "      <th>28</th>\n",
       "      <td>Robert Brown</td>\n",
       "      <td>35</td>\n",
       "      <td>2009-06-05</td>\n",
       "      <td>Brazil</td>\n",
       "    </tr>\n",
       "    <tr>\n",
       "      <th>29</th>\n",
       "      <td>Edward Francis</td>\n",
       "      <td>58</td>\n",
       "      <td>2009-09-07</td>\n",
       "      <td>Brazil</td>\n",
       "    </tr>\n",
       "    <tr>\n",
       "      <th>30</th>\n",
       "      <td>Martha Silk</td>\n",
       "      <td>80</td>\n",
       "      <td>2009-12-10</td>\n",
       "      <td>Brazil</td>\n",
       "    </tr>\n",
       "    <tr>\n",
       "      <th>31</th>\n",
       "      <td>Aaron Mitchell</td>\n",
       "      <td>132</td>\n",
       "      <td>2010-07-31</td>\n",
       "      <td>Brazil</td>\n",
       "    </tr>\n",
       "    <tr>\n",
       "      <th>32</th>\n",
       "      <td>Ellie Sullivan</td>\n",
       "      <td>253</td>\n",
       "      <td>2012-01-22</td>\n",
       "      <td>Brazil</td>\n",
       "    </tr>\n",
       "    <tr>\n",
       "      <th>33</th>\n",
       "      <td>João Fernandes</td>\n",
       "      <td>264</td>\n",
       "      <td>2012-03-03</td>\n",
       "      <td>Brazil</td>\n",
       "    </tr>\n",
       "    <tr>\n",
       "      <th>34</th>\n",
       "      <td>Madalena Sampaio</td>\n",
       "      <td>319</td>\n",
       "      <td>2012-11-01</td>\n",
       "      <td>Brazil</td>\n",
       "    </tr>\n",
       "  </tbody>\n",
       "</table>\n",
       "</div>"
      ]
     },
     "metadata": {
      "application/vnd.databricks.v1+output": {
       "addedWidgets": {},
       "arguments": {},
       "data": "<div>\n<style scoped>\n    .dataframe tbody tr th:only-of-type {\n        vertical-align: middle;\n    }\n\n    .dataframe tbody tr th {\n        vertical-align: top;\n    }\n\n    .dataframe thead th {\n        text-align: right;\n    }\n</style>\n<table border=\"1\" class=\"dataframe\">\n  <thead>\n    <tr style=\"text-align: right;\">\n      <th></th>\n      <th>custFullName</th>\n      <th>InvoiceId</th>\n      <th>InvoiceDate</th>\n      <th>BillingCountry</th>\n    </tr>\n  </thead>\n  <tbody>\n    <tr>\n      <th>0</th>\n      <td>Luís Gonçalves</td>\n      <td>98</td>\n      <td>2010-03-11</td>\n      <td>Brazil</td>\n    </tr>\n    <tr>\n      <th>1</th>\n      <td>Leonie Köhler</td>\n      <td>121</td>\n      <td>2010-06-13</td>\n      <td>Brazil</td>\n    </tr>\n    <tr>\n      <th>2</th>\n      <td>François Tremblay</td>\n      <td>143</td>\n      <td>2010-09-15</td>\n      <td>Brazil</td>\n    </tr>\n    <tr>\n      <th>3</th>\n      <td>Bjørn Hansen</td>\n      <td>195</td>\n      <td>2011-05-06</td>\n      <td>Brazil</td>\n    </tr>\n    <tr>\n      <th>4</th>\n      <td>František Wichterlová</td>\n      <td>316</td>\n      <td>2012-10-27</td>\n      <td>Brazil</td>\n    </tr>\n    <tr>\n      <th>5</th>\n      <td>Helena Holý</td>\n      <td>327</td>\n      <td>2012-12-07</td>\n      <td>Brazil</td>\n    </tr>\n    <tr>\n      <th>6</th>\n      <td>Astrid Gruber</td>\n      <td>382</td>\n      <td>2013-08-07</td>\n      <td>Brazil</td>\n    </tr>\n    <tr>\n      <th>7</th>\n      <td>Daan Peeters</td>\n      <td>25</td>\n      <td>2009-04-09</td>\n      <td>Brazil</td>\n    </tr>\n    <tr>\n      <th>8</th>\n      <td>Kara Nielsen</td>\n      <td>154</td>\n      <td>2010-11-14</td>\n      <td>Brazil</td>\n    </tr>\n    <tr>\n      <th>9</th>\n      <td>Eduardo Martins</td>\n      <td>177</td>\n      <td>2011-02-16</td>\n      <td>Brazil</td>\n    </tr>\n    <tr>\n      <th>10</th>\n      <td>Alexandre Rocha</td>\n      <td>199</td>\n      <td>2011-05-21</td>\n      <td>Brazil</td>\n    </tr>\n    <tr>\n      <th>11</th>\n      <td>Roberto Almeida</td>\n      <td>251</td>\n      <td>2012-01-09</td>\n      <td>Brazil</td>\n    </tr>\n    <tr>\n      <th>12</th>\n      <td>Fernanda Ramos</td>\n      <td>372</td>\n      <td>2013-07-02</td>\n      <td>Brazil</td>\n    </tr>\n    <tr>\n      <th>13</th>\n      <td>Mark Philips</td>\n      <td>383</td>\n      <td>2013-08-12</td>\n      <td>Brazil</td>\n    </tr>\n    <tr>\n      <th>14</th>\n      <td>Jennifer Peterson</td>\n      <td>57</td>\n      <td>2009-09-06</td>\n      <td>Brazil</td>\n    </tr>\n    <tr>\n      <th>15</th>\n      <td>Frank Harris</td>\n      <td>68</td>\n      <td>2009-10-17</td>\n      <td>Brazil</td>\n    </tr>\n    <tr>\n      <th>16</th>\n      <td>Jack Smith</td>\n      <td>123</td>\n      <td>2010-06-17</td>\n      <td>Brazil</td>\n    </tr>\n    <tr>\n      <th>17</th>\n      <td>Michelle Brooks</td>\n      <td>252</td>\n      <td>2012-01-22</td>\n      <td>Brazil</td>\n    </tr>\n    <tr>\n      <th>18</th>\n      <td>Tim Goyer</td>\n      <td>275</td>\n      <td>2012-04-25</td>\n      <td>Brazil</td>\n    </tr>\n    <tr>\n      <th>19</th>\n      <td>Dan Miller</td>\n      <td>297</td>\n      <td>2012-07-28</td>\n      <td>Brazil</td>\n    </tr>\n    <tr>\n      <th>20</th>\n      <td>Kathy Chase</td>\n      <td>349</td>\n      <td>2013-03-18</td>\n      <td>Brazil</td>\n    </tr>\n    <tr>\n      <th>21</th>\n      <td>Heather Leacock</td>\n      <td>34</td>\n      <td>2009-05-23</td>\n      <td>Brazil</td>\n    </tr>\n    <tr>\n      <th>22</th>\n      <td>John Gordon</td>\n      <td>155</td>\n      <td>2010-11-14</td>\n      <td>Brazil</td>\n    </tr>\n    <tr>\n      <th>23</th>\n      <td>Frank Ralston</td>\n      <td>166</td>\n      <td>2010-12-25</td>\n      <td>Brazil</td>\n    </tr>\n    <tr>\n      <th>24</th>\n      <td>Victor Stevens</td>\n      <td>221</td>\n      <td>2011-08-25</td>\n      <td>Brazil</td>\n    </tr>\n    <tr>\n      <th>25</th>\n      <td>Richard Cunningham</td>\n      <td>350</td>\n      <td>2013-03-31</td>\n      <td>Brazil</td>\n    </tr>\n    <tr>\n      <th>26</th>\n      <td>Patrick Gray</td>\n      <td>373</td>\n      <td>2013-07-03</td>\n      <td>Brazil</td>\n    </tr>\n    <tr>\n      <th>27</th>\n      <td>Julia Barnett</td>\n      <td>395</td>\n      <td>2013-10-05</td>\n      <td>Brazil</td>\n    </tr>\n    <tr>\n      <th>28</th>\n      <td>Robert Brown</td>\n      <td>35</td>\n      <td>2009-06-05</td>\n      <td>Brazil</td>\n    </tr>\n    <tr>\n      <th>29</th>\n      <td>Edward Francis</td>\n      <td>58</td>\n      <td>2009-09-07</td>\n      <td>Brazil</td>\n    </tr>\n    <tr>\n      <th>30</th>\n      <td>Martha Silk</td>\n      <td>80</td>\n      <td>2009-12-10</td>\n      <td>Brazil</td>\n    </tr>\n    <tr>\n      <th>31</th>\n      <td>Aaron Mitchell</td>\n      <td>132</td>\n      <td>2010-07-31</td>\n      <td>Brazil</td>\n    </tr>\n    <tr>\n      <th>32</th>\n      <td>Ellie Sullivan</td>\n      <td>253</td>\n      <td>2012-01-22</td>\n      <td>Brazil</td>\n    </tr>\n    <tr>\n      <th>33</th>\n      <td>João Fernandes</td>\n      <td>264</td>\n      <td>2012-03-03</td>\n      <td>Brazil</td>\n    </tr>\n    <tr>\n      <th>34</th>\n      <td>Madalena Sampaio</td>\n      <td>319</td>\n      <td>2012-11-01</td>\n      <td>Brazil</td>\n    </tr>\n  </tbody>\n</table>\n</div>",
       "datasetInfos": [],
       "metadata": {},
       "removedWidgets": [],
       "textData": null,
       "type": "htmlSandbox"
      }
     },
     "output_type": "display_data"
    }
   ],
   "source": [
    "(\n",
    "    pd_df_cust\n",
    "    .query(\"Country == 'Brazil'\")\n",
    "    .merge(pd_df_invoice, on='CustomerId', how='inner')\n",
    "    .assign(custFullName = pd_df_cust['FirstName']+\" \"+pd_df_cust['LastName'])\n",
    "    [['custFullName', 'InvoiceId', 'InvoiceDate', 'BillingCountry']]\n",
    ")"
   ]
  },
  {
   "cell_type": "code",
   "execution_count": 0,
   "metadata": {
    "application/vnd.databricks.v1+cell": {
     "cellMetadata": {
      "byteLimit": 2048000,
      "rowLimit": 10000
     },
     "inputWidgets": {},
     "nuid": "8e05ba9e-1e13-488d-abd6-db50ca59b37a",
     "showTitle": false,
     "title": ""
    }
   },
   "outputs": [
    {
     "output_type": "display_data",
     "data": {
      "text/html": [
       "<div>\n",
       "<style scoped>\n",
       "    .dataframe tbody tr th:only-of-type {\n",
       "        vertical-align: middle;\n",
       "    }\n",
       "\n",
       "    .dataframe tbody tr th {\n",
       "        vertical-align: top;\n",
       "    }\n",
       "\n",
       "    .dataframe thead th {\n",
       "        text-align: right;\n",
       "    }\n",
       "</style>\n",
       "<table border=\"1\" class=\"dataframe\">\n",
       "  <thead>\n",
       "    <tr style=\"text-align: right;\">\n",
       "      <th></th>\n",
       "      <th>BillingCountry</th>\n",
       "      <th>counts</th>\n",
       "    </tr>\n",
       "  </thead>\n",
       "  <tbody>\n",
       "    <tr>\n",
       "      <th>0</th>\n",
       "      <td>Brazil</td>\n",
       "      <td>35</td>\n",
       "    </tr>\n",
       "  </tbody>\n",
       "</table>\n",
       "</div>"
      ]
     },
     "metadata": {
      "application/vnd.databricks.v1+output": {
       "addedWidgets": {},
       "arguments": {},
       "data": "<div>\n<style scoped>\n    .dataframe tbody tr th:only-of-type {\n        vertical-align: middle;\n    }\n\n    .dataframe tbody tr th {\n        vertical-align: top;\n    }\n\n    .dataframe thead th {\n        text-align: right;\n    }\n</style>\n<table border=\"1\" class=\"dataframe\">\n  <thead>\n    <tr style=\"text-align: right;\">\n      <th></th>\n      <th>BillingCountry</th>\n      <th>counts</th>\n    </tr>\n  </thead>\n  <tbody>\n    <tr>\n      <th>0</th>\n      <td>Brazil</td>\n      <td>35</td>\n    </tr>\n  </tbody>\n</table>\n</div>",
       "datasetInfos": [],
       "metadata": {},
       "removedWidgets": [],
       "textData": null,
       "type": "htmlSandbox"
      }
     },
     "output_type": "display_data"
    }
   ],
   "source": [
    "(\n",
    "    pd_df_cust\n",
    "    .query(\"Country == 'Brazil'\")\n",
    "    .merge(pd_df_invoice, on='CustomerId', how='inner')\n",
    "    .assign(custFullName = pd_df_cust['FirstName']+\" \"+pd_df_cust['LastName'])\n",
    "    [['custFullName', 'InvoiceId', 'InvoiceDate', 'BillingCountry']]\n",
    "    .groupby(\"BillingCountry\")\n",
    "    .agg(counts = (\"BillingCountry\", \"count\") ) # new column name is \"counts\" and the function to add for the column BillingCountry is count as show above which is similar to Pyspars groupBy and count\n",
    "    .reset_index()\n",
    ")"
   ]
  },
  {
   "cell_type": "markdown",
   "metadata": {
    "application/vnd.databricks.v1+cell": {
     "cellMetadata": {},
     "inputWidgets": {},
     "nuid": "096ae112-87fd-42a5-9d4c-701f889d505c",
     "showTitle": false,
     "title": ""
    }
   },
   "source": [
    "##### RDDs"
   ]
  },
  {
   "cell_type": "code",
   "execution_count": 0,
   "metadata": {
    "application/vnd.databricks.v1+cell": {
     "cellMetadata": {
      "byteLimit": 2048000,
      "rowLimit": 10000
     },
     "inputWidgets": {},
     "nuid": "0bdab552-4fdf-4ded-8875-95de41babd22",
     "showTitle": false,
     "title": ""
    }
   },
   "outputs": [],
   "source": [
    "## while for RDDs there from my obsrevation there is no direction way to get the required results. and for Joining Multiple RDDs,the RDD has to be in Key-Value pairs where the keys can be the joining column."
   ]
  },
  {
   "cell_type": "code",
   "execution_count": 0,
   "metadata": {
    "application/vnd.databricks.v1+cell": {
     "cellMetadata": {
      "byteLimit": 2048000,
      "rowLimit": 10000
     },
     "inputWidgets": {},
     "nuid": "90f8f3a1-6db4-484a-b2e8-4040469a0a66",
     "showTitle": false,
     "title": ""
    }
   },
   "outputs": [],
   "source": [
    "pspk_rdd_cust = pspk_df_cust.rdd\n",
    "pspk_rdd_inv = pspk_df_invoice.rdd"
   ]
  },
  {
   "cell_type": "code",
   "execution_count": 0,
   "metadata": {
    "application/vnd.databricks.v1+cell": {
     "cellMetadata": {
      "byteLimit": 2048000,
      "rowLimit": 10000
     },
     "inputWidgets": {},
     "nuid": "12940186-408a-4698-985f-a1fb093435d7",
     "showTitle": false,
     "title": ""
    }
   },
   "outputs": [],
   "source": [
    "## creating 2 RDD with similar keys for joining\n",
    "pspk_rdd_cust_v1 = (\n",
    "    pspk_rdd_cust\n",
    "    .filter(lambda x: x['Country'] == 'Brazil')\n",
    "    .map(lambda row: (row['CustomerId'], row['FirstName']+\" \" +row['LastName'])  )\n",
    ")\n",
    "\n",
    "pspk_rdd_inv_v1 = (\n",
    "    pspk_rdd_inv\n",
    "    .map(lambda row: (row['CustomerId'], [row['InvoiceId'], row['InvoiceDate'], row['BillingCountry'] ] ) )\n",
    "    # .take(1)\n",
    ")"
   ]
  },
  {
   "cell_type": "code",
   "execution_count": 0,
   "metadata": {
    "application/vnd.databricks.v1+cell": {
     "cellMetadata": {
      "byteLimit": 2048000,
      "rowLimit": 10000
     },
     "inputWidgets": {},
     "nuid": "42e3fcd7-173e-435c-a861-88b2a5b98129",
     "showTitle": false,
     "title": ""
    }
   },
   "outputs": [
    {
     "output_type": "stream",
     "name": "stdout",
     "output_type": "stream",
     "text": [
      "Out[53]: [(1, 'Luís Gonçalves'), (10, 'Eduardo Martins')]"
     ]
    }
   ],
   "source": [
    "(\n",
    "    pspk_rdd_cust_v1\n",
    "    .take(2)\n",
    ")"
   ]
  },
  {
   "cell_type": "code",
   "execution_count": 0,
   "metadata": {
    "application/vnd.databricks.v1+cell": {
     "cellMetadata": {
      "byteLimit": 2048000,
      "rowLimit": 10000
     },
     "inputWidgets": {},
     "nuid": "b2c9724d-fb06-4d68-881a-4f3bd23d4c9a",
     "showTitle": false,
     "title": ""
    }
   },
   "outputs": [
    {
     "output_type": "stream",
     "name": "stdout",
     "output_type": "stream",
     "text": [
      "Out[55]: [(10, [25, datetime.datetime(2009, 4, 9, 0, 0), 'Brazil']),\n (10, [154, datetime.datetime(2010, 11, 14, 0, 0), 'Brazil'])]"
     ]
    }
   ],
   "source": [
    "(\n",
    "    pspk_rdd_inv_v1\n",
    "    .filter(lambda x: x[0] == 10)\n",
    "    .take(2)\n",
    ")"
   ]
  },
  {
   "cell_type": "code",
   "execution_count": 0,
   "metadata": {
    "application/vnd.databricks.v1+cell": {
     "cellMetadata": {
      "byteLimit": 2048000,
      "rowLimit": 10000
     },
     "inputWidgets": {},
     "nuid": "a998b3dd-0f47-49c6-a9ee-abeed892dc12",
     "showTitle": false,
     "title": ""
    }
   },
   "outputs": [
    {
     "output_type": "stream",
     "name": "stdout",
     "output_type": "stream",
     "text": [
      "Out[70]: [(10,\n  ('Eduardo Martins', [25, datetime.datetime(2009, 4, 9, 0, 0), 'Brazil'])),\n (10,\n  ('Eduardo Martins', [154, datetime.datetime(2010, 11, 14, 0, 0), 'Brazil'])),\n (10,\n  ('Eduardo Martins', [177, datetime.datetime(2011, 2, 16, 0, 0), 'Brazil'])),\n (10,\n  ('Eduardo Martins', [199, datetime.datetime(2011, 5, 21, 0, 0), 'Brazil'])),\n (10,\n  ('Eduardo Martins', [251, datetime.datetime(2012, 1, 9, 0, 0), 'Brazil'])),\n (10,\n  ('Eduardo Martins', [372, datetime.datetime(2013, 7, 2, 0, 0), 'Brazil'])),\n (10,\n  ('Eduardo Martins', [383, datetime.datetime(2013, 8, 12, 0, 0), 'Brazil'])),\n (12,\n  ('Roberto Almeida', [34, datetime.datetime(2009, 5, 23, 0, 0), 'Brazil'])),\n (12,\n  ('Roberto Almeida', [155, datetime.datetime(2010, 11, 14, 0, 0), 'Brazil'])),\n (12,\n  ('Roberto Almeida', [166, datetime.datetime(2010, 12, 25, 0, 0), 'Brazil'])),\n (12,\n  ('Roberto Almeida', [221, datetime.datetime(2011, 8, 25, 0, 0), 'Brazil'])),\n (12,\n  ('Roberto Almeida', [350, datetime.datetime(2013, 3, 31, 0, 0), 'Brazil'])),\n (12,\n  ('Roberto Almeida', [373, datetime.datetime(2013, 7, 3, 0, 0), 'Brazil'])),\n (12,\n  ('Roberto Almeida', [395, datetime.datetime(2013, 10, 5, 0, 0), 'Brazil'])),\n (1, ('Luís Gonçalves', [98, datetime.datetime(2010, 3, 11, 0, 0), 'Brazil'])),\n (1,\n  ('Luís Gonçalves', [121, datetime.datetime(2010, 6, 13, 0, 0), 'Brazil'])),\n (1,\n  ('Luís Gonçalves', [143, datetime.datetime(2010, 9, 15, 0, 0), 'Brazil'])),\n (1, ('Luís Gonçalves', [195, datetime.datetime(2011, 5, 6, 0, 0), 'Brazil'])),\n (1,\n  ('Luís Gonçalves', [316, datetime.datetime(2012, 10, 27, 0, 0), 'Brazil'])),\n (1,\n  ('Luís Gonçalves', [327, datetime.datetime(2012, 12, 7, 0, 0), 'Brazil'])),\n (1, ('Luís Gonçalves', [382, datetime.datetime(2013, 8, 7, 0, 0), 'Brazil'])),\n (11,\n  ('Alexandre Rocha', [57, datetime.datetime(2009, 9, 6, 0, 0), 'Brazil'])),\n (11,\n  ('Alexandre Rocha', [68, datetime.datetime(2009, 10, 17, 0, 0), 'Brazil'])),\n (11,\n  ('Alexandre Rocha', [123, datetime.datetime(2010, 6, 17, 0, 0), 'Brazil'])),\n (11,\n  ('Alexandre Rocha', [252, datetime.datetime(2012, 1, 22, 0, 0), 'Brazil'])),\n (11,\n  ('Alexandre Rocha', [275, datetime.datetime(2012, 4, 25, 0, 0), 'Brazil'])),\n (11,\n  ('Alexandre Rocha', [297, datetime.datetime(2012, 7, 28, 0, 0), 'Brazil'])),\n (11,\n  ('Alexandre Rocha', [349, datetime.datetime(2013, 3, 18, 0, 0), 'Brazil'])),\n (13, ('Fernanda Ramos', [35, datetime.datetime(2009, 6, 5, 0, 0), 'Brazil'])),\n (13, ('Fernanda Ramos', [58, datetime.datetime(2009, 9, 7, 0, 0), 'Brazil'])),\n (13,\n  ('Fernanda Ramos', [80, datetime.datetime(2009, 12, 10, 0, 0), 'Brazil'])),\n (13,\n  ('Fernanda Ramos', [132, datetime.datetime(2010, 7, 31, 0, 0), 'Brazil'])),\n (13,\n  ('Fernanda Ramos', [253, datetime.datetime(2012, 1, 22, 0, 0), 'Brazil'])),\n (13,\n  ('Fernanda Ramos', [264, datetime.datetime(2012, 3, 3, 0, 0), 'Brazil'])),\n (13,\n  ('Fernanda Ramos', [319, datetime.datetime(2012, 11, 1, 0, 0), 'Brazil']))]"
     ]
    }
   ],
   "source": [
    "(\n",
    "    pspk_rdd_cust_v1\n",
    "    .join(pspk_rdd_inv_v1)\n",
    "    # .flatMap(lambda x: x) # on using this function then the resultant key-value pairs are furthur reduced. initially the output has35 key-value pairs and on using flatMap the values are increased to 70\n",
    "    .collect()\n",
    ")"
   ]
  },
  {
   "cell_type": "code",
   "execution_count": 0,
   "metadata": {
    "application/vnd.databricks.v1+cell": {
     "cellMetadata": {
      "byteLimit": 2048000,
      "rowLimit": 10000
     },
     "inputWidgets": {},
     "nuid": "6d93741d-5e93-48df-8883-9dc56f8cca92",
     "showTitle": false,
     "title": ""
    }
   },
   "outputs": [
    {
     "output_type": "stream",
     "name": "stdout",
     "output_type": "stream",
     "text": [
      "Out[79]: [('Brazil', 35)]"
     ]
    }
   ],
   "source": [
    "(\n",
    "    pspk_rdd_cust_v1\n",
    "    .join(pspk_rdd_inv_v1)\n",
    "    .map(lambda x: (x[1][1][2], 1))\n",
    "    .reduceByKey(lambda x,y: x+y)\n",
    "    .collect()\n",
    ")"
   ]
  },
  {
   "cell_type": "markdown",
   "metadata": {
    "application/vnd.databricks.v1+cell": {
     "cellMetadata": {},
     "inputWidgets": {},
     "nuid": "613f29a2-b14a-4a2a-9948-fda6f2d231ac",
     "showTitle": false,
     "title": ""
    }
   },
   "source": [
    "#### 3. Provide a query that shows the invoices associated with each sales agent. The resultant table should include the Sales Agent's full name."
   ]
  },
  {
   "cell_type": "markdown",
   "metadata": {
    "application/vnd.databricks.v1+cell": {
     "cellMetadata": {},
     "inputWidgets": {},
     "nuid": "6bf68fe2-9b84-4af1-b99d-eeda7a727f81",
     "showTitle": false,
     "title": ""
    }
   },
   "source": [
    "##### SQL"
   ]
  },
  {
   "cell_type": "code",
   "execution_count": 0,
   "metadata": {
    "application/vnd.databricks.v1+cell": {
     "cellMetadata": {
      "byteLimit": 2048000,
      "rowLimit": 10000
     },
     "inputWidgets": {},
     "nuid": "86596534-b94c-4cd2-8f77-56b3edf53991",
     "showTitle": false,
     "title": ""
    }
   },
   "outputs": [],
   "source": [
    "## for this query we need to join 3 tables\n",
    "# employees -- to get sales agent names\n",
    "# customers -- invoice are used to get the relationship between them"
   ]
  },
  {
   "cell_type": "code",
   "execution_count": 0,
   "metadata": {
    "application/vnd.databricks.v1+cell": {
     "cellMetadata": {
      "byteLimit": 2048000,
      "implicitDf": true,
      "rowLimit": 10000
     },
     "inputWidgets": {},
     "nuid": "7d52e6fc-ba6d-48db-aa28-dcd0cd5c0436",
     "showTitle": false,
     "title": ""
    }
   },
   "outputs": [
    {
     "output_type": "display_data",
     "data": {
      "text/html": [
       "<style scoped>\n",
       "  .table-result-container {\n",
       "    max-height: 300px;\n",
       "    overflow: auto;\n",
       "  }\n",
       "  table, th, td {\n",
       "    border: 1px solid black;\n",
       "    border-collapse: collapse;\n",
       "  }\n",
       "  th, td {\n",
       "    padding: 5px;\n",
       "  }\n",
       "  th {\n",
       "    text-align: left;\n",
       "  }\n",
       "</style><div class='table-result-container'><table class='table-result'><thead style='background-color: white'><tr><th>salesAgentName</th><th>InvoiceId</th></tr></thead><tbody><tr><td>Jane Peacock</td><td>382</td></tr><tr><td>Jane Peacock</td><td>327</td></tr><tr><td>Jane Peacock</td><td>316</td></tr><tr><td>Jane Peacock</td><td>195</td></tr><tr><td>Jane Peacock</td><td>143</td></tr><tr><td>Jane Peacock</td><td>121</td></tr><tr><td>Jane Peacock</td><td>98</td></tr><tr><td>Steve Johnson</td><td>293</td></tr><tr><td>Steve Johnson</td><td>241</td></tr><tr><td>Steve Johnson</td><td>219</td></tr><tr><td>Steve Johnson</td><td>196</td></tr><tr><td>Steve Johnson</td><td>67</td></tr><tr><td>Steve Johnson</td><td>12</td></tr><tr><td>Steve Johnson</td><td>1</td></tr><tr><td>Jane Peacock</td><td>391</td></tr><tr><td>Jane Peacock</td><td>339</td></tr><tr><td>Jane Peacock</td><td>317</td></tr><tr><td>Jane Peacock</td><td>294</td></tr><tr><td>Jane Peacock</td><td>165</td></tr><tr><td>Jane Peacock</td><td>110</td></tr><tr><td>Jane Peacock</td><td>99</td></tr><tr><td>Margaret Park</td><td>392</td></tr><tr><td>Margaret Park</td><td>263</td></tr><tr><td>Margaret Park</td><td>208</td></tr><tr><td>Margaret Park</td><td>197</td></tr><tr><td>Margaret Park</td><td>76</td></tr><tr><td>Margaret Park</td><td>24</td></tr><tr><td>Margaret Park</td><td>2</td></tr><tr><td>Margaret Park</td><td>361</td></tr><tr><td>Margaret Park</td><td>306</td></tr><tr><td>Margaret Park</td><td>295</td></tr><tr><td>Margaret Park</td><td>174</td></tr><tr><td>Margaret Park</td><td>122</td></tr><tr><td>Margaret Park</td><td>100</td></tr><tr><td>Margaret Park</td><td>77</td></tr><tr><td>Steve Johnson</td><td>404</td></tr><tr><td>Steve Johnson</td><td>393</td></tr><tr><td>Steve Johnson</td><td>272</td></tr><tr><td>Steve Johnson</td><td>220</td></tr><tr><td>Steve Johnson</td><td>198</td></tr><tr><td>Steve Johnson</td><td>175</td></tr><tr><td>Steve Johnson</td><td>46</td></tr><tr><td>Steve Johnson</td><td>370</td></tr><tr><td>Steve Johnson</td><td>318</td></tr><tr><td>Steve Johnson</td><td>296</td></tr><tr><td>Steve Johnson</td><td>273</td></tr><tr><td>Steve Johnson</td><td>144</td></tr><tr><td>Steve Johnson</td><td>89</td></tr><tr><td>Steve Johnson</td><td>78</td></tr><tr><td>Margaret Park</td><td>394</td></tr><tr><td>Margaret Park</td><td>371</td></tr><tr><td>Margaret Park</td><td>242</td></tr><tr><td>Margaret Park</td><td>187</td></tr><tr><td>Margaret Park</td><td>176</td></tr><tr><td>Margaret Park</td><td>55</td></tr><tr><td>Margaret Park</td><td>3</td></tr><tr><td>Margaret Park</td><td>340</td></tr><tr><td>Margaret Park</td><td>285</td></tr><tr><td>Margaret Park</td><td>274</td></tr><tr><td>Margaret Park</td><td>153</td></tr><tr><td>Margaret Park</td><td>101</td></tr><tr><td>Margaret Park</td><td>79</td></tr><tr><td>Margaret Park</td><td>56</td></tr><tr><td>Margaret Park</td><td>383</td></tr><tr><td>Margaret Park</td><td>372</td></tr><tr><td>Margaret Park</td><td>251</td></tr><tr><td>Margaret Park</td><td>199</td></tr><tr><td>Margaret Park</td><td>177</td></tr><tr><td>Margaret Park</td><td>154</td></tr><tr><td>Margaret Park</td><td>25</td></tr><tr><td>Steve Johnson</td><td>349</td></tr><tr><td>Steve Johnson</td><td>297</td></tr><tr><td>Steve Johnson</td><td>275</td></tr><tr><td>Steve Johnson</td><td>252</td></tr><tr><td>Steve Johnson</td><td>123</td></tr><tr><td>Steve Johnson</td><td>68</td></tr><tr><td>Steve Johnson</td><td>57</td></tr><tr><td>Jane Peacock</td><td>395</td></tr><tr><td>Jane Peacock</td><td>373</td></tr><tr><td>Jane Peacock</td><td>350</td></tr><tr><td>Jane Peacock</td><td>221</td></tr><tr><td>Jane Peacock</td><td>166</td></tr><tr><td>Jane Peacock</td><td>155</td></tr><tr><td>Jane Peacock</td><td>34</td></tr><tr><td>Margaret Park</td><td>319</td></tr><tr><td>Margaret Park</td><td>264</td></tr><tr><td>Margaret Park</td><td>253</td></tr><tr><td>Margaret Park</td><td>132</td></tr><tr><td>Margaret Park</td><td>80</td></tr><tr><td>Margaret Park</td><td>58</td></tr><tr><td>Margaret Park</td><td>35</td></tr><tr><td>Steve Johnson</td><td>362</td></tr><tr><td>Steve Johnson</td><td>351</td></tr><tr><td>Steve Johnson</td><td>230</td></tr><tr><td>Steve Johnson</td><td>178</td></tr><tr><td>Steve Johnson</td><td>156</td></tr><tr><td>Steve Johnson</td><td>133</td></tr><tr><td>Steve Johnson</td><td>4</td></tr><tr><td>Jane Peacock</td><td>328</td></tr><tr><td>Jane Peacock</td><td>276</td></tr><tr><td>Jane Peacock</td><td>254</td></tr><tr><td>Jane Peacock</td><td>231</td></tr><tr><td>Jane Peacock</td><td>102</td></tr><tr><td>Jane Peacock</td><td>47</td></tr><tr><td>Jane Peacock</td><td>36</td></tr><tr><td>Margaret Park</td><td>374</td></tr><tr><td>Margaret Park</td><td>352</td></tr><tr><td>Margaret Park</td><td>329</td></tr><tr><td>Margaret Park</td><td>200</td></tr><tr><td>Margaret Park</td><td>145</td></tr><tr><td>Margaret Park</td><td>134</td></tr><tr><td>Margaret Park</td><td>13</td></tr><tr><td>Steve Johnson</td><td>298</td></tr><tr><td>Steve Johnson</td><td>243</td></tr><tr><td>Steve Johnson</td><td>232</td></tr><tr><td>Steve Johnson</td><td>111</td></tr><tr><td>Steve Johnson</td><td>59</td></tr><tr><td>Steve Johnson</td><td>37</td></tr><tr><td>Steve Johnson</td><td>14</td></tr><tr><td>Jane Peacock</td><td>396</td></tr><tr><td>Jane Peacock</td><td>341</td></tr><tr><td>Jane Peacock</td><td>330</td></tr><tr><td>Jane Peacock</td><td>209</td></tr><tr><td>Jane Peacock</td><td>157</td></tr><tr><td>Jane Peacock</td><td>135</td></tr><tr><td>Jane Peacock</td><td>112</td></tr><tr><td>Jane Peacock</td><td>307</td></tr><tr><td>Jane Peacock</td><td>255</td></tr><tr><td>Jane Peacock</td><td>233</td></tr><tr><td>Jane Peacock</td><td>210</td></tr><tr><td>Jane Peacock</td><td>81</td></tr><tr><td>Jane Peacock</td><td>26</td></tr><tr><td>Jane Peacock</td><td>15</td></tr><tr><td>Margaret Park</td><td>405</td></tr><tr><td>Margaret Park</td><td>353</td></tr><tr><td>Margaret Park</td><td>331</td></tr><tr><td>Margaret Park</td><td>308</td></tr><tr><td>Margaret Park</td><td>179</td></tr><tr><td>Margaret Park</td><td>124</td></tr><tr><td>Margaret Park</td><td>113</td></tr><tr><td>Steve Johnson</td><td>406</td></tr><tr><td>Steve Johnson</td><td>277</td></tr><tr><td>Steve Johnson</td><td>222</td></tr><tr><td>Steve Johnson</td><td>211</td></tr><tr><td>Steve Johnson</td><td>90</td></tr><tr><td>Steve Johnson</td><td>38</td></tr><tr><td>Steve Johnson</td><td>16</td></tr><tr><td>Margaret Park</td><td>375</td></tr><tr><td>Margaret Park</td><td>320</td></tr><tr><td>Margaret Park</td><td>309</td></tr><tr><td>Margaret Park</td><td>188</td></tr><tr><td>Margaret Park</td><td>136</td></tr><tr><td>Margaret Park</td><td>114</td></tr><tr><td>Margaret Park</td><td>91</td></tr><tr><td>Margaret Park</td><td>407</td></tr><tr><td>Margaret Park</td><td>286</td></tr><tr><td>Margaret Park</td><td>234</td></tr><tr><td>Margaret Park</td><td>212</td></tr><tr><td>Margaret Park</td><td>189</td></tr><tr><td>Margaret Park</td><td>60</td></tr><tr><td>Margaret Park</td><td>5</td></tr><tr><td>Jane Peacock</td><td>384</td></tr><tr><td>Jane Peacock</td><td>332</td></tr><tr><td>Jane Peacock</td><td>310</td></tr><tr><td>Jane Peacock</td><td>287</td></tr><tr><td>Jane Peacock</td><td>158</td></tr><tr><td>Jane Peacock</td><td>103</td></tr><tr><td>Jane Peacock</td><td>92</td></tr><tr><td>Steve Johnson</td><td>408</td></tr><tr><td>Steve Johnson</td><td>385</td></tr><tr><td>Steve Johnson</td><td>256</td></tr><tr><td>Steve Johnson</td><td>201</td></tr><tr><td>Steve Johnson</td><td>190</td></tr><tr><td>Steve Johnson</td><td>69</td></tr><tr><td>Steve Johnson</td><td>17</td></tr><tr><td>Margaret Park</td><td>354</td></tr><tr><td>Margaret Park</td><td>299</td></tr><tr><td>Margaret Park</td><td>288</td></tr><tr><td>Margaret Park</td><td>167</td></tr><tr><td>Margaret Park</td><td>115</td></tr><tr><td>Margaret Park</td><td>93</td></tr><tr><td>Margaret Park</td><td>70</td></tr><tr><td>Margaret Park</td><td>397</td></tr><tr><td>Margaret Park</td><td>386</td></tr><tr><td>Margaret Park</td><td>265</td></tr><tr><td>Margaret Park</td><td>213</td></tr><tr><td>Margaret Park</td><td>191</td></tr><tr><td>Margaret Park</td><td>168</td></tr><tr><td>Margaret Park</td><td>39</td></tr><tr><td>Steve Johnson</td><td>363</td></tr><tr><td>Steve Johnson</td><td>311</td></tr><tr><td>Steve Johnson</td><td>289</td></tr><tr><td>Steve Johnson</td><td>266</td></tr><tr><td>Steve Johnson</td><td>137</td></tr><tr><td>Steve Johnson</td><td>82</td></tr><tr><td>Steve Johnson</td><td>71</td></tr><tr><td>Jane Peacock</td><td>409</td></tr><tr><td>Jane Peacock</td><td>387</td></tr><tr><td>Jane Peacock</td><td>364</td></tr><tr><td>Jane Peacock</td><td>235</td></tr><tr><td>Jane Peacock</td><td>180</td></tr><tr><td>Jane Peacock</td><td>169</td></tr><tr><td>Jane Peacock</td><td>48</td></tr><tr><td>Jane Peacock</td><td>333</td></tr><tr><td>Jane Peacock</td><td>278</td></tr><tr><td>Jane Peacock</td><td>267</td></tr><tr><td>Jane Peacock</td><td>146</td></tr><tr><td>Jane Peacock</td><td>94</td></tr><tr><td>Jane Peacock</td><td>72</td></tr><tr><td>Jane Peacock</td><td>49</td></tr><tr><td>Steve Johnson</td><td>376</td></tr><tr><td>Steve Johnson</td><td>365</td></tr><tr><td>Steve Johnson</td><td>244</td></tr><tr><td>Steve Johnson</td><td>192</td></tr><tr><td>Steve Johnson</td><td>170</td></tr><tr><td>Steve Johnson</td><td>147</td></tr><tr><td>Steve Johnson</td><td>18</td></tr><tr><td>Margaret Park</td><td>342</td></tr><tr><td>Margaret Park</td><td>290</td></tr><tr><td>Margaret Park</td><td>268</td></tr><tr><td>Margaret Park</td><td>245</td></tr><tr><td>Margaret Park</td><td>116</td></tr><tr><td>Margaret Park</td><td>61</td></tr><tr><td>Margaret Park</td><td>50</td></tr><tr><td>Jane Peacock</td><td>388</td></tr><tr><td>Jane Peacock</td><td>366</td></tr><tr><td>Jane Peacock</td><td>343</td></tr><tr><td>Jane Peacock</td><td>214</td></tr><tr><td>Jane Peacock</td><td>159</td></tr><tr><td>Jane Peacock</td><td>148</td></tr><tr><td>Jane Peacock</td><td>27</td></tr><tr><td>Margaret Park</td><td>312</td></tr><tr><td>Margaret Park</td><td>257</td></tr><tr><td>Margaret Park</td><td>246</td></tr><tr><td>Margaret Park</td><td>125</td></tr><tr><td>Margaret Park</td><td>73</td></tr><tr><td>Margaret Park</td><td>51</td></tr><tr><td>Margaret Park</td><td>28</td></tr><tr><td>Margaret Park</td><td>410</td></tr><tr><td>Margaret Park</td><td>355</td></tr><tr><td>Margaret Park</td><td>344</td></tr><tr><td>Margaret Park</td><td>223</td></tr><tr><td>Margaret Park</td><td>171</td></tr><tr><td>Margaret Park</td><td>149</td></tr><tr><td>Margaret Park</td><td>126</td></tr><tr><td>Steve Johnson</td><td>321</td></tr><tr><td>Steve Johnson</td><td>269</td></tr><tr><td>Steve Johnson</td><td>247</td></tr><tr><td>Steve Johnson</td><td>224</td></tr><tr><td>Steve Johnson</td><td>95</td></tr><tr><td>Steve Johnson</td><td>40</td></tr><tr><td>Steve Johnson</td><td>29</td></tr><tr><td>Jane Peacock</td><td>367</td></tr><tr><td>Jane Peacock</td><td>345</td></tr><tr><td>Jane Peacock</td><td>322</td></tr><tr><td>Jane Peacock</td><td>193</td></tr><tr><td>Jane Peacock</td><td>138</td></tr><tr><td>Jane Peacock</td><td>127</td></tr><tr><td>Jane Peacock</td><td>6</td></tr><tr><td>Jane Peacock</td><td>291</td></tr><tr><td>Jane Peacock</td><td>236</td></tr><tr><td>Jane Peacock</td><td>225</td></tr><tr><td>Jane Peacock</td><td>104</td></tr><tr><td>Jane Peacock</td><td>52</td></tr><tr><td>Jane Peacock</td><td>30</td></tr><tr><td>Jane Peacock</td><td>7</td></tr><tr><td>Margaret Park</td><td>389</td></tr><tr><td>Margaret Park</td><td>334</td></tr><tr><td>Margaret Park</td><td>323</td></tr><tr><td>Margaret Park</td><td>202</td></tr><tr><td>Margaret Park</td><td>150</td></tr><tr><td>Margaret Park</td><td>128</td></tr><tr><td>Margaret Park</td><td>105</td></tr><tr><td>Margaret Park</td><td>300</td></tr><tr><td>Margaret Park</td><td>248</td></tr><tr><td>Margaret Park</td><td>226</td></tr><tr><td>Margaret Park</td><td>203</td></tr><tr><td>Margaret Park</td><td>74</td></tr><tr><td>Margaret Park</td><td>19</td></tr><tr><td>Margaret Park</td><td>8</td></tr><tr><td>Steve Johnson</td><td>398</td></tr><tr><td>Steve Johnson</td><td>346</td></tr><tr><td>Steve Johnson</td><td>324</td></tr><tr><td>Steve Johnson</td><td>301</td></tr><tr><td>Steve Johnson</td><td>172</td></tr><tr><td>Steve Johnson</td><td>117</td></tr><tr><td>Steve Johnson</td><td>106</td></tr><tr><td>Jane Peacock</td><td>399</td></tr><tr><td>Jane Peacock</td><td>270</td></tr><tr><td>Jane Peacock</td><td>215</td></tr><tr><td>Jane Peacock</td><td>204</td></tr><tr><td>Jane Peacock</td><td>83</td></tr><tr><td>Jane Peacock</td><td>31</td></tr><tr><td>Jane Peacock</td><td>9</td></tr><tr><td>Jane Peacock</td><td>368</td></tr><tr><td>Jane Peacock</td><td>313</td></tr><tr><td>Jane Peacock</td><td>302</td></tr><tr><td>Jane Peacock</td><td>181</td></tr><tr><td>Jane Peacock</td><td>129</td></tr><tr><td>Jane Peacock</td><td>107</td></tr><tr><td>Jane Peacock</td><td>84</td></tr><tr><td>Jane Peacock</td><td>411</td></tr><tr><td>Jane Peacock</td><td>400</td></tr><tr><td>Jane Peacock</td><td>279</td></tr><tr><td>Jane Peacock</td><td>227</td></tr><tr><td>Jane Peacock</td><td>205</td></tr><tr><td>Jane Peacock</td><td>182</td></tr><tr><td>Jane Peacock</td><td>53</td></tr><tr><td>Jane Peacock</td><td>377</td></tr><tr><td>Jane Peacock</td><td>325</td></tr><tr><td>Jane Peacock</td><td>303</td></tr><tr><td>Jane Peacock</td><td>280</td></tr><tr><td>Jane Peacock</td><td>151</td></tr><tr><td>Jane Peacock</td><td>96</td></tr><tr><td>Jane Peacock</td><td>85</td></tr><tr><td>Jane Peacock</td><td>401</td></tr><tr><td>Jane Peacock</td><td>378</td></tr><tr><td>Jane Peacock</td><td>249</td></tr><tr><td>Jane Peacock</td><td>194</td></tr><tr><td>Jane Peacock</td><td>183</td></tr><tr><td>Jane Peacock</td><td>62</td></tr><tr><td>Jane Peacock</td><td>10</td></tr><tr><td>Steve Johnson</td><td>347</td></tr><tr><td>Steve Johnson</td><td>292</td></tr><tr><td>Steve Johnson</td><td>281</td></tr><tr><td>Steve Johnson</td><td>160</td></tr><tr><td>Steve Johnson</td><td>108</td></tr><tr><td>Steve Johnson</td><td>86</td></tr><tr><td>Steve Johnson</td><td>63</td></tr><tr><td>Steve Johnson</td><td>390</td></tr><tr><td>Steve Johnson</td><td>379</td></tr><tr><td>Steve Johnson</td><td>258</td></tr><tr><td>Steve Johnson</td><td>206</td></tr><tr><td>Steve Johnson</td><td>184</td></tr><tr><td>Steve Johnson</td><td>161</td></tr><tr><td>Steve Johnson</td><td>32</td></tr><tr><td>Margaret Park</td><td>356</td></tr><tr><td>Margaret Park</td><td>304</td></tr><tr><td>Margaret Park</td><td>282</td></tr><tr><td>Margaret Park</td><td>259</td></tr><tr><td>Margaret Park</td><td>130</td></tr><tr><td>Margaret Park</td><td>75</td></tr><tr><td>Margaret Park</td><td>64</td></tr><tr><td>Steve Johnson</td><td>402</td></tr><tr><td>Steve Johnson</td><td>380</td></tr><tr><td>Steve Johnson</td><td>357</td></tr><tr><td>Steve Johnson</td><td>228</td></tr><tr><td>Steve Johnson</td><td>173</td></tr><tr><td>Steve Johnson</td><td>162</td></tr><tr><td>Steve Johnson</td><td>41</td></tr><tr><td>Steve Johnson</td><td>326</td></tr><tr><td>Steve Johnson</td><td>271</td></tr><tr><td>Steve Johnson</td><td>260</td></tr><tr><td>Steve Johnson</td><td>139</td></tr><tr><td>Steve Johnson</td><td>87</td></tr><tr><td>Steve Johnson</td><td>65</td></tr><tr><td>Steve Johnson</td><td>42</td></tr><tr><td>Jane Peacock</td><td>369</td></tr><tr><td>Jane Peacock</td><td>358</td></tr><tr><td>Jane Peacock</td><td>237</td></tr><tr><td>Jane Peacock</td><td>185</td></tr><tr><td>Jane Peacock</td><td>163</td></tr><tr><td>Jane Peacock</td><td>140</td></tr><tr><td>Jane Peacock</td><td>11</td></tr><tr><td>Jane Peacock</td><td>335</td></tr><tr><td>Jane Peacock</td><td>283</td></tr><tr><td>Jane Peacock</td><td>261</td></tr><tr><td>Jane Peacock</td><td>238</td></tr><tr><td>Jane Peacock</td><td>109</td></tr><tr><td>Jane Peacock</td><td>54</td></tr><tr><td>Jane Peacock</td><td>43</td></tr><tr><td>Steve Johnson</td><td>381</td></tr><tr><td>Steve Johnson</td><td>359</td></tr><tr><td>Steve Johnson</td><td>336</td></tr><tr><td>Steve Johnson</td><td>207</td></tr><tr><td>Steve Johnson</td><td>152</td></tr><tr><td>Steve Johnson</td><td>141</td></tr><tr><td>Steve Johnson</td><td>20</td></tr><tr><td>Margaret Park</td><td>305</td></tr><tr><td>Margaret Park</td><td>250</td></tr><tr><td>Margaret Park</td><td>239</td></tr><tr><td>Margaret Park</td><td>118</td></tr><tr><td>Margaret Park</td><td>66</td></tr><tr><td>Margaret Park</td><td>44</td></tr><tr><td>Margaret Park</td><td>21</td></tr><tr><td>Margaret Park</td><td>403</td></tr><tr><td>Margaret Park</td><td>348</td></tr><tr><td>Margaret Park</td><td>337</td></tr><tr><td>Margaret Park</td><td>216</td></tr><tr><td>Margaret Park</td><td>164</td></tr><tr><td>Margaret Park</td><td>142</td></tr><tr><td>Margaret Park</td><td>119</td></tr><tr><td>Steve Johnson</td><td>314</td></tr><tr><td>Steve Johnson</td><td>262</td></tr><tr><td>Steve Johnson</td><td>240</td></tr><tr><td>Steve Johnson</td><td>217</td></tr><tr><td>Steve Johnson</td><td>88</td></tr><tr><td>Steve Johnson</td><td>33</td></tr><tr><td>Steve Johnson</td><td>22</td></tr><tr><td>Jane Peacock</td><td>412</td></tr><tr><td>Jane Peacock</td><td>360</td></tr><tr><td>Jane Peacock</td><td>338</td></tr><tr><td>Jane Peacock</td><td>315</td></tr><tr><td>Jane Peacock</td><td>186</td></tr><tr><td>Jane Peacock</td><td>131</td></tr><tr><td>Jane Peacock</td><td>120</td></tr><tr><td>Jane Peacock</td><td>284</td></tr><tr><td>Jane Peacock</td><td>229</td></tr><tr><td>Jane Peacock</td><td>218</td></tr><tr><td>Jane Peacock</td><td>97</td></tr><tr><td>Jane Peacock</td><td>45</td></tr><tr><td>Jane Peacock</td><td>23</td></tr></tbody></table></div>"
      ]
     },
     "metadata": {
      "application/vnd.databricks.v1+output": {
       "addedWidgets": {},
       "aggData": [],
       "aggError": "",
       "aggOverflow": false,
       "aggSchema": [],
       "aggSeriesLimitReached": false,
       "aggType": "",
       "arguments": {},
       "columnCustomDisplayInfos": {},
       "data": [
        [
         "Jane Peacock",
         382
        ],
        [
         "Jane Peacock",
         327
        ],
        [
         "Jane Peacock",
         316
        ],
        [
         "Jane Peacock",
         195
        ],
        [
         "Jane Peacock",
         143
        ],
        [
         "Jane Peacock",
         121
        ],
        [
         "Jane Peacock",
         98
        ],
        [
         "Steve Johnson",
         293
        ],
        [
         "Steve Johnson",
         241
        ],
        [
         "Steve Johnson",
         219
        ],
        [
         "Steve Johnson",
         196
        ],
        [
         "Steve Johnson",
         67
        ],
        [
         "Steve Johnson",
         12
        ],
        [
         "Steve Johnson",
         1
        ],
        [
         "Jane Peacock",
         391
        ],
        [
         "Jane Peacock",
         339
        ],
        [
         "Jane Peacock",
         317
        ],
        [
         "Jane Peacock",
         294
        ],
        [
         "Jane Peacock",
         165
        ],
        [
         "Jane Peacock",
         110
        ],
        [
         "Jane Peacock",
         99
        ],
        [
         "Margaret Park",
         392
        ],
        [
         "Margaret Park",
         263
        ],
        [
         "Margaret Park",
         208
        ],
        [
         "Margaret Park",
         197
        ],
        [
         "Margaret Park",
         76
        ],
        [
         "Margaret Park",
         24
        ],
        [
         "Margaret Park",
         2
        ],
        [
         "Margaret Park",
         361
        ],
        [
         "Margaret Park",
         306
        ],
        [
         "Margaret Park",
         295
        ],
        [
         "Margaret Park",
         174
        ],
        [
         "Margaret Park",
         122
        ],
        [
         "Margaret Park",
         100
        ],
        [
         "Margaret Park",
         77
        ],
        [
         "Steve Johnson",
         404
        ],
        [
         "Steve Johnson",
         393
        ],
        [
         "Steve Johnson",
         272
        ],
        [
         "Steve Johnson",
         220
        ],
        [
         "Steve Johnson",
         198
        ],
        [
         "Steve Johnson",
         175
        ],
        [
         "Steve Johnson",
         46
        ],
        [
         "Steve Johnson",
         370
        ],
        [
         "Steve Johnson",
         318
        ],
        [
         "Steve Johnson",
         296
        ],
        [
         "Steve Johnson",
         273
        ],
        [
         "Steve Johnson",
         144
        ],
        [
         "Steve Johnson",
         89
        ],
        [
         "Steve Johnson",
         78
        ],
        [
         "Margaret Park",
         394
        ],
        [
         "Margaret Park",
         371
        ],
        [
         "Margaret Park",
         242
        ],
        [
         "Margaret Park",
         187
        ],
        [
         "Margaret Park",
         176
        ],
        [
         "Margaret Park",
         55
        ],
        [
         "Margaret Park",
         3
        ],
        [
         "Margaret Park",
         340
        ],
        [
         "Margaret Park",
         285
        ],
        [
         "Margaret Park",
         274
        ],
        [
         "Margaret Park",
         153
        ],
        [
         "Margaret Park",
         101
        ],
        [
         "Margaret Park",
         79
        ],
        [
         "Margaret Park",
         56
        ],
        [
         "Margaret Park",
         383
        ],
        [
         "Margaret Park",
         372
        ],
        [
         "Margaret Park",
         251
        ],
        [
         "Margaret Park",
         199
        ],
        [
         "Margaret Park",
         177
        ],
        [
         "Margaret Park",
         154
        ],
        [
         "Margaret Park",
         25
        ],
        [
         "Steve Johnson",
         349
        ],
        [
         "Steve Johnson",
         297
        ],
        [
         "Steve Johnson",
         275
        ],
        [
         "Steve Johnson",
         252
        ],
        [
         "Steve Johnson",
         123
        ],
        [
         "Steve Johnson",
         68
        ],
        [
         "Steve Johnson",
         57
        ],
        [
         "Jane Peacock",
         395
        ],
        [
         "Jane Peacock",
         373
        ],
        [
         "Jane Peacock",
         350
        ],
        [
         "Jane Peacock",
         221
        ],
        [
         "Jane Peacock",
         166
        ],
        [
         "Jane Peacock",
         155
        ],
        [
         "Jane Peacock",
         34
        ],
        [
         "Margaret Park",
         319
        ],
        [
         "Margaret Park",
         264
        ],
        [
         "Margaret Park",
         253
        ],
        [
         "Margaret Park",
         132
        ],
        [
         "Margaret Park",
         80
        ],
        [
         "Margaret Park",
         58
        ],
        [
         "Margaret Park",
         35
        ],
        [
         "Steve Johnson",
         362
        ],
        [
         "Steve Johnson",
         351
        ],
        [
         "Steve Johnson",
         230
        ],
        [
         "Steve Johnson",
         178
        ],
        [
         "Steve Johnson",
         156
        ],
        [
         "Steve Johnson",
         133
        ],
        [
         "Steve Johnson",
         4
        ],
        [
         "Jane Peacock",
         328
        ],
        [
         "Jane Peacock",
         276
        ],
        [
         "Jane Peacock",
         254
        ],
        [
         "Jane Peacock",
         231
        ],
        [
         "Jane Peacock",
         102
        ],
        [
         "Jane Peacock",
         47
        ],
        [
         "Jane Peacock",
         36
        ],
        [
         "Margaret Park",
         374
        ],
        [
         "Margaret Park",
         352
        ],
        [
         "Margaret Park",
         329
        ],
        [
         "Margaret Park",
         200
        ],
        [
         "Margaret Park",
         145
        ],
        [
         "Margaret Park",
         134
        ],
        [
         "Margaret Park",
         13
        ],
        [
         "Steve Johnson",
         298
        ],
        [
         "Steve Johnson",
         243
        ],
        [
         "Steve Johnson",
         232
        ],
        [
         "Steve Johnson",
         111
        ],
        [
         "Steve Johnson",
         59
        ],
        [
         "Steve Johnson",
         37
        ],
        [
         "Steve Johnson",
         14
        ],
        [
         "Jane Peacock",
         396
        ],
        [
         "Jane Peacock",
         341
        ],
        [
         "Jane Peacock",
         330
        ],
        [
         "Jane Peacock",
         209
        ],
        [
         "Jane Peacock",
         157
        ],
        [
         "Jane Peacock",
         135
        ],
        [
         "Jane Peacock",
         112
        ],
        [
         "Jane Peacock",
         307
        ],
        [
         "Jane Peacock",
         255
        ],
        [
         "Jane Peacock",
         233
        ],
        [
         "Jane Peacock",
         210
        ],
        [
         "Jane Peacock",
         81
        ],
        [
         "Jane Peacock",
         26
        ],
        [
         "Jane Peacock",
         15
        ],
        [
         "Margaret Park",
         405
        ],
        [
         "Margaret Park",
         353
        ],
        [
         "Margaret Park",
         331
        ],
        [
         "Margaret Park",
         308
        ],
        [
         "Margaret Park",
         179
        ],
        [
         "Margaret Park",
         124
        ],
        [
         "Margaret Park",
         113
        ],
        [
         "Steve Johnson",
         406
        ],
        [
         "Steve Johnson",
         277
        ],
        [
         "Steve Johnson",
         222
        ],
        [
         "Steve Johnson",
         211
        ],
        [
         "Steve Johnson",
         90
        ],
        [
         "Steve Johnson",
         38
        ],
        [
         "Steve Johnson",
         16
        ],
        [
         "Margaret Park",
         375
        ],
        [
         "Margaret Park",
         320
        ],
        [
         "Margaret Park",
         309
        ],
        [
         "Margaret Park",
         188
        ],
        [
         "Margaret Park",
         136
        ],
        [
         "Margaret Park",
         114
        ],
        [
         "Margaret Park",
         91
        ],
        [
         "Margaret Park",
         407
        ],
        [
         "Margaret Park",
         286
        ],
        [
         "Margaret Park",
         234
        ],
        [
         "Margaret Park",
         212
        ],
        [
         "Margaret Park",
         189
        ],
        [
         "Margaret Park",
         60
        ],
        [
         "Margaret Park",
         5
        ],
        [
         "Jane Peacock",
         384
        ],
        [
         "Jane Peacock",
         332
        ],
        [
         "Jane Peacock",
         310
        ],
        [
         "Jane Peacock",
         287
        ],
        [
         "Jane Peacock",
         158
        ],
        [
         "Jane Peacock",
         103
        ],
        [
         "Jane Peacock",
         92
        ],
        [
         "Steve Johnson",
         408
        ],
        [
         "Steve Johnson",
         385
        ],
        [
         "Steve Johnson",
         256
        ],
        [
         "Steve Johnson",
         201
        ],
        [
         "Steve Johnson",
         190
        ],
        [
         "Steve Johnson",
         69
        ],
        [
         "Steve Johnson",
         17
        ],
        [
         "Margaret Park",
         354
        ],
        [
         "Margaret Park",
         299
        ],
        [
         "Margaret Park",
         288
        ],
        [
         "Margaret Park",
         167
        ],
        [
         "Margaret Park",
         115
        ],
        [
         "Margaret Park",
         93
        ],
        [
         "Margaret Park",
         70
        ],
        [
         "Margaret Park",
         397
        ],
        [
         "Margaret Park",
         386
        ],
        [
         "Margaret Park",
         265
        ],
        [
         "Margaret Park",
         213
        ],
        [
         "Margaret Park",
         191
        ],
        [
         "Margaret Park",
         168
        ],
        [
         "Margaret Park",
         39
        ],
        [
         "Steve Johnson",
         363
        ],
        [
         "Steve Johnson",
         311
        ],
        [
         "Steve Johnson",
         289
        ],
        [
         "Steve Johnson",
         266
        ],
        [
         "Steve Johnson",
         137
        ],
        [
         "Steve Johnson",
         82
        ],
        [
         "Steve Johnson",
         71
        ],
        [
         "Jane Peacock",
         409
        ],
        [
         "Jane Peacock",
         387
        ],
        [
         "Jane Peacock",
         364
        ],
        [
         "Jane Peacock",
         235
        ],
        [
         "Jane Peacock",
         180
        ],
        [
         "Jane Peacock",
         169
        ],
        [
         "Jane Peacock",
         48
        ],
        [
         "Jane Peacock",
         333
        ],
        [
         "Jane Peacock",
         278
        ],
        [
         "Jane Peacock",
         267
        ],
        [
         "Jane Peacock",
         146
        ],
        [
         "Jane Peacock",
         94
        ],
        [
         "Jane Peacock",
         72
        ],
        [
         "Jane Peacock",
         49
        ],
        [
         "Steve Johnson",
         376
        ],
        [
         "Steve Johnson",
         365
        ],
        [
         "Steve Johnson",
         244
        ],
        [
         "Steve Johnson",
         192
        ],
        [
         "Steve Johnson",
         170
        ],
        [
         "Steve Johnson",
         147
        ],
        [
         "Steve Johnson",
         18
        ],
        [
         "Margaret Park",
         342
        ],
        [
         "Margaret Park",
         290
        ],
        [
         "Margaret Park",
         268
        ],
        [
         "Margaret Park",
         245
        ],
        [
         "Margaret Park",
         116
        ],
        [
         "Margaret Park",
         61
        ],
        [
         "Margaret Park",
         50
        ],
        [
         "Jane Peacock",
         388
        ],
        [
         "Jane Peacock",
         366
        ],
        [
         "Jane Peacock",
         343
        ],
        [
         "Jane Peacock",
         214
        ],
        [
         "Jane Peacock",
         159
        ],
        [
         "Jane Peacock",
         148
        ],
        [
         "Jane Peacock",
         27
        ],
        [
         "Margaret Park",
         312
        ],
        [
         "Margaret Park",
         257
        ],
        [
         "Margaret Park",
         246
        ],
        [
         "Margaret Park",
         125
        ],
        [
         "Margaret Park",
         73
        ],
        [
         "Margaret Park",
         51
        ],
        [
         "Margaret Park",
         28
        ],
        [
         "Margaret Park",
         410
        ],
        [
         "Margaret Park",
         355
        ],
        [
         "Margaret Park",
         344
        ],
        [
         "Margaret Park",
         223
        ],
        [
         "Margaret Park",
         171
        ],
        [
         "Margaret Park",
         149
        ],
        [
         "Margaret Park",
         126
        ],
        [
         "Steve Johnson",
         321
        ],
        [
         "Steve Johnson",
         269
        ],
        [
         "Steve Johnson",
         247
        ],
        [
         "Steve Johnson",
         224
        ],
        [
         "Steve Johnson",
         95
        ],
        [
         "Steve Johnson",
         40
        ],
        [
         "Steve Johnson",
         29
        ],
        [
         "Jane Peacock",
         367
        ],
        [
         "Jane Peacock",
         345
        ],
        [
         "Jane Peacock",
         322
        ],
        [
         "Jane Peacock",
         193
        ],
        [
         "Jane Peacock",
         138
        ],
        [
         "Jane Peacock",
         127
        ],
        [
         "Jane Peacock",
         6
        ],
        [
         "Jane Peacock",
         291
        ],
        [
         "Jane Peacock",
         236
        ],
        [
         "Jane Peacock",
         225
        ],
        [
         "Jane Peacock",
         104
        ],
        [
         "Jane Peacock",
         52
        ],
        [
         "Jane Peacock",
         30
        ],
        [
         "Jane Peacock",
         7
        ],
        [
         "Margaret Park",
         389
        ],
        [
         "Margaret Park",
         334
        ],
        [
         "Margaret Park",
         323
        ],
        [
         "Margaret Park",
         202
        ],
        [
         "Margaret Park",
         150
        ],
        [
         "Margaret Park",
         128
        ],
        [
         "Margaret Park",
         105
        ],
        [
         "Margaret Park",
         300
        ],
        [
         "Margaret Park",
         248
        ],
        [
         "Margaret Park",
         226
        ],
        [
         "Margaret Park",
         203
        ],
        [
         "Margaret Park",
         74
        ],
        [
         "Margaret Park",
         19
        ],
        [
         "Margaret Park",
         8
        ],
        [
         "Steve Johnson",
         398
        ],
        [
         "Steve Johnson",
         346
        ],
        [
         "Steve Johnson",
         324
        ],
        [
         "Steve Johnson",
         301
        ],
        [
         "Steve Johnson",
         172
        ],
        [
         "Steve Johnson",
         117
        ],
        [
         "Steve Johnson",
         106
        ],
        [
         "Jane Peacock",
         399
        ],
        [
         "Jane Peacock",
         270
        ],
        [
         "Jane Peacock",
         215
        ],
        [
         "Jane Peacock",
         204
        ],
        [
         "Jane Peacock",
         83
        ],
        [
         "Jane Peacock",
         31
        ],
        [
         "Jane Peacock",
         9
        ],
        [
         "Jane Peacock",
         368
        ],
        [
         "Jane Peacock",
         313
        ],
        [
         "Jane Peacock",
         302
        ],
        [
         "Jane Peacock",
         181
        ],
        [
         "Jane Peacock",
         129
        ],
        [
         "Jane Peacock",
         107
        ],
        [
         "Jane Peacock",
         84
        ],
        [
         "Jane Peacock",
         411
        ],
        [
         "Jane Peacock",
         400
        ],
        [
         "Jane Peacock",
         279
        ],
        [
         "Jane Peacock",
         227
        ],
        [
         "Jane Peacock",
         205
        ],
        [
         "Jane Peacock",
         182
        ],
        [
         "Jane Peacock",
         53
        ],
        [
         "Jane Peacock",
         377
        ],
        [
         "Jane Peacock",
         325
        ],
        [
         "Jane Peacock",
         303
        ],
        [
         "Jane Peacock",
         280
        ],
        [
         "Jane Peacock",
         151
        ],
        [
         "Jane Peacock",
         96
        ],
        [
         "Jane Peacock",
         85
        ],
        [
         "Jane Peacock",
         401
        ],
        [
         "Jane Peacock",
         378
        ],
        [
         "Jane Peacock",
         249
        ],
        [
         "Jane Peacock",
         194
        ],
        [
         "Jane Peacock",
         183
        ],
        [
         "Jane Peacock",
         62
        ],
        [
         "Jane Peacock",
         10
        ],
        [
         "Steve Johnson",
         347
        ],
        [
         "Steve Johnson",
         292
        ],
        [
         "Steve Johnson",
         281
        ],
        [
         "Steve Johnson",
         160
        ],
        [
         "Steve Johnson",
         108
        ],
        [
         "Steve Johnson",
         86
        ],
        [
         "Steve Johnson",
         63
        ],
        [
         "Steve Johnson",
         390
        ],
        [
         "Steve Johnson",
         379
        ],
        [
         "Steve Johnson",
         258
        ],
        [
         "Steve Johnson",
         206
        ],
        [
         "Steve Johnson",
         184
        ],
        [
         "Steve Johnson",
         161
        ],
        [
         "Steve Johnson",
         32
        ],
        [
         "Margaret Park",
         356
        ],
        [
         "Margaret Park",
         304
        ],
        [
         "Margaret Park",
         282
        ],
        [
         "Margaret Park",
         259
        ],
        [
         "Margaret Park",
         130
        ],
        [
         "Margaret Park",
         75
        ],
        [
         "Margaret Park",
         64
        ],
        [
         "Steve Johnson",
         402
        ],
        [
         "Steve Johnson",
         380
        ],
        [
         "Steve Johnson",
         357
        ],
        [
         "Steve Johnson",
         228
        ],
        [
         "Steve Johnson",
         173
        ],
        [
         "Steve Johnson",
         162
        ],
        [
         "Steve Johnson",
         41
        ],
        [
         "Steve Johnson",
         326
        ],
        [
         "Steve Johnson",
         271
        ],
        [
         "Steve Johnson",
         260
        ],
        [
         "Steve Johnson",
         139
        ],
        [
         "Steve Johnson",
         87
        ],
        [
         "Steve Johnson",
         65
        ],
        [
         "Steve Johnson",
         42
        ],
        [
         "Jane Peacock",
         369
        ],
        [
         "Jane Peacock",
         358
        ],
        [
         "Jane Peacock",
         237
        ],
        [
         "Jane Peacock",
         185
        ],
        [
         "Jane Peacock",
         163
        ],
        [
         "Jane Peacock",
         140
        ],
        [
         "Jane Peacock",
         11
        ],
        [
         "Jane Peacock",
         335
        ],
        [
         "Jane Peacock",
         283
        ],
        [
         "Jane Peacock",
         261
        ],
        [
         "Jane Peacock",
         238
        ],
        [
         "Jane Peacock",
         109
        ],
        [
         "Jane Peacock",
         54
        ],
        [
         "Jane Peacock",
         43
        ],
        [
         "Steve Johnson",
         381
        ],
        [
         "Steve Johnson",
         359
        ],
        [
         "Steve Johnson",
         336
        ],
        [
         "Steve Johnson",
         207
        ],
        [
         "Steve Johnson",
         152
        ],
        [
         "Steve Johnson",
         141
        ],
        [
         "Steve Johnson",
         20
        ],
        [
         "Margaret Park",
         305
        ],
        [
         "Margaret Park",
         250
        ],
        [
         "Margaret Park",
         239
        ],
        [
         "Margaret Park",
         118
        ],
        [
         "Margaret Park",
         66
        ],
        [
         "Margaret Park",
         44
        ],
        [
         "Margaret Park",
         21
        ],
        [
         "Margaret Park",
         403
        ],
        [
         "Margaret Park",
         348
        ],
        [
         "Margaret Park",
         337
        ],
        [
         "Margaret Park",
         216
        ],
        [
         "Margaret Park",
         164
        ],
        [
         "Margaret Park",
         142
        ],
        [
         "Margaret Park",
         119
        ],
        [
         "Steve Johnson",
         314
        ],
        [
         "Steve Johnson",
         262
        ],
        [
         "Steve Johnson",
         240
        ],
        [
         "Steve Johnson",
         217
        ],
        [
         "Steve Johnson",
         88
        ],
        [
         "Steve Johnson",
         33
        ],
        [
         "Steve Johnson",
         22
        ],
        [
         "Jane Peacock",
         412
        ],
        [
         "Jane Peacock",
         360
        ],
        [
         "Jane Peacock",
         338
        ],
        [
         "Jane Peacock",
         315
        ],
        [
         "Jane Peacock",
         186
        ],
        [
         "Jane Peacock",
         131
        ],
        [
         "Jane Peacock",
         120
        ],
        [
         "Jane Peacock",
         284
        ],
        [
         "Jane Peacock",
         229
        ],
        [
         "Jane Peacock",
         218
        ],
        [
         "Jane Peacock",
         97
        ],
        [
         "Jane Peacock",
         45
        ],
        [
         "Jane Peacock",
         23
        ]
       ],
       "datasetInfos": [],
       "dbfsResultPath": null,
       "isJsonSchema": true,
       "metadata": {},
       "overflow": false,
       "plotOptions": {
        "customPlotOptions": {},
        "displayType": "table",
        "pivotAggregation": null,
        "pivotColumns": null,
        "xColumns": null,
        "yColumns": null
       },
       "removedWidgets": [],
       "schema": [
        {
         "metadata": "{}",
         "name": "salesAgentName",
         "type": "\"string\""
        },
        {
         "metadata": "{}",
         "name": "InvoiceId",
         "type": "\"integer\""
        }
       ],
       "type": "table"
      }
     },
     "output_type": "display_data"
    }
   ],
   "source": [
    "%sql\n",
    "\n",
    "select employees.FirstName || \" \" || employees.LastName salesAgentName,\n",
    "  invoice.InvoiceId\n",
    "from employees\n",
    "  inner join customers on employees.EmployeeId = customers.SupportRepId\n",
    "  inner join invoice on customers.CustomerId = invoice.CustomerId"
   ]
  },
  {
   "cell_type": "code",
   "execution_count": 0,
   "metadata": {
    "application/vnd.databricks.v1+cell": {
     "cellMetadata": {
      "byteLimit": 2048000,
      "implicitDf": true,
      "rowLimit": 10000
     },
     "inputWidgets": {},
     "nuid": "ae10744d-2d49-4ac1-8bb5-2eba19829a81",
     "showTitle": false,
     "title": ""
    }
   },
   "outputs": [
    {
     "output_type": "display_data",
     "data": {
      "text/html": [
       "<style scoped>\n",
       "  .table-result-container {\n",
       "    max-height: 300px;\n",
       "    overflow: auto;\n",
       "  }\n",
       "  table, th, td {\n",
       "    border: 1px solid black;\n",
       "    border-collapse: collapse;\n",
       "  }\n",
       "  th, td {\n",
       "    padding: 5px;\n",
       "  }\n",
       "  th {\n",
       "    text-align: left;\n",
       "  }\n",
       "</style><div class='table-result-container'><table class='table-result'><thead style='background-color: white'><tr><th>salesAgentName</th><th>total_invoices</th></tr></thead><tbody><tr><td>Jane Peacock</td><td>146</td></tr><tr><td>Margaret Park</td><td>140</td></tr><tr><td>Steve Johnson</td><td>126</td></tr></tbody></table></div>"
      ]
     },
     "metadata": {
      "application/vnd.databricks.v1+output": {
       "addedWidgets": {},
       "aggData": [],
       "aggError": "",
       "aggOverflow": false,
       "aggSchema": [],
       "aggSeriesLimitReached": false,
       "aggType": "",
       "arguments": {},
       "columnCustomDisplayInfos": {},
       "data": [
        [
         "Jane Peacock",
         146
        ],
        [
         "Margaret Park",
         140
        ],
        [
         "Steve Johnson",
         126
        ]
       ],
       "datasetInfos": [],
       "dbfsResultPath": null,
       "isJsonSchema": true,
       "metadata": {},
       "overflow": false,
       "plotOptions": {
        "customPlotOptions": {},
        "displayType": "table",
        "pivotAggregation": null,
        "pivotColumns": null,
        "xColumns": null,
        "yColumns": null
       },
       "removedWidgets": [],
       "schema": [
        {
         "metadata": "{}",
         "name": "salesAgentName",
         "type": "\"string\""
        },
        {
         "metadata": "{}",
         "name": "total_invoices",
         "type": "\"long\""
        }
       ],
       "type": "table"
      }
     },
     "output_type": "display_data"
    }
   ],
   "source": [
    "%sql\n",
    "\n",
    "with tb1 as (\n",
    "  select employees.FirstName || \" \" || employees.LastName salesAgentName,\n",
    "    invoice.InvoiceId\n",
    "  from employees\n",
    "    inner join customers on employees.EmployeeId = customers.SupportRepId\n",
    "    inner join invoice on customers.CustomerId = invoice.CustomerId\n",
    ") select salesAgentName, count(*) total_invoices from tb1\n",
    "group by salesAgentName\n",
    "order by salesAgentName"
   ]
  },
  {
   "cell_type": "markdown",
   "metadata": {
    "application/vnd.databricks.v1+cell": {
     "cellMetadata": {},
     "inputWidgets": {},
     "nuid": "56be0151-0422-44ff-bb79-497cdaa8410d",
     "showTitle": false,
     "title": ""
    }
   },
   "source": [
    "##### Pyspark"
   ]
  },
  {
   "cell_type": "code",
   "execution_count": 0,
   "metadata": {
    "application/vnd.databricks.v1+cell": {
     "cellMetadata": {
      "byteLimit": 2048000,
      "rowLimit": 10000
     },
     "inputWidgets": {},
     "nuid": "ead18172-f6de-4949-8016-81509ab51bb9",
     "showTitle": false,
     "title": ""
    }
   },
   "outputs": [
    {
     "output_type": "display_data",
     "data": {
      "text/html": [
       "<style scoped>\n",
       "  .table-result-container {\n",
       "    max-height: 300px;\n",
       "    overflow: auto;\n",
       "  }\n",
       "  table, th, td {\n",
       "    border: 1px solid black;\n",
       "    border-collapse: collapse;\n",
       "  }\n",
       "  th, td {\n",
       "    padding: 5px;\n",
       "  }\n",
       "  th {\n",
       "    text-align: left;\n",
       "  }\n",
       "</style><div class='table-result-container'><table class='table-result'><thead style='background-color: white'><tr><th>salesAgentName</th><th>invoiceId</th></tr></thead><tbody><tr><td>Jane Peacock</td><td>382</td></tr><tr><td>Jane Peacock</td><td>327</td></tr><tr><td>Jane Peacock</td><td>316</td></tr><tr><td>Jane Peacock</td><td>195</td></tr><tr><td>Jane Peacock</td><td>143</td></tr><tr><td>Jane Peacock</td><td>121</td></tr><tr><td>Jane Peacock</td><td>98</td></tr><tr><td>Steve Johnson</td><td>293</td></tr><tr><td>Steve Johnson</td><td>241</td></tr><tr><td>Steve Johnson</td><td>219</td></tr><tr><td>Steve Johnson</td><td>196</td></tr><tr><td>Steve Johnson</td><td>67</td></tr><tr><td>Steve Johnson</td><td>12</td></tr><tr><td>Steve Johnson</td><td>1</td></tr><tr><td>Jane Peacock</td><td>391</td></tr><tr><td>Jane Peacock</td><td>339</td></tr><tr><td>Jane Peacock</td><td>317</td></tr><tr><td>Jane Peacock</td><td>294</td></tr><tr><td>Jane Peacock</td><td>165</td></tr><tr><td>Jane Peacock</td><td>110</td></tr><tr><td>Jane Peacock</td><td>99</td></tr><tr><td>Margaret Park</td><td>392</td></tr><tr><td>Margaret Park</td><td>263</td></tr><tr><td>Margaret Park</td><td>208</td></tr><tr><td>Margaret Park</td><td>197</td></tr><tr><td>Margaret Park</td><td>76</td></tr><tr><td>Margaret Park</td><td>24</td></tr><tr><td>Margaret Park</td><td>2</td></tr><tr><td>Margaret Park</td><td>361</td></tr><tr><td>Margaret Park</td><td>306</td></tr><tr><td>Margaret Park</td><td>295</td></tr><tr><td>Margaret Park</td><td>174</td></tr><tr><td>Margaret Park</td><td>122</td></tr><tr><td>Margaret Park</td><td>100</td></tr><tr><td>Margaret Park</td><td>77</td></tr><tr><td>Steve Johnson</td><td>404</td></tr><tr><td>Steve Johnson</td><td>393</td></tr><tr><td>Steve Johnson</td><td>272</td></tr><tr><td>Steve Johnson</td><td>220</td></tr><tr><td>Steve Johnson</td><td>198</td></tr><tr><td>Steve Johnson</td><td>175</td></tr><tr><td>Steve Johnson</td><td>46</td></tr><tr><td>Steve Johnson</td><td>370</td></tr><tr><td>Steve Johnson</td><td>318</td></tr><tr><td>Steve Johnson</td><td>296</td></tr><tr><td>Steve Johnson</td><td>273</td></tr><tr><td>Steve Johnson</td><td>144</td></tr><tr><td>Steve Johnson</td><td>89</td></tr><tr><td>Steve Johnson</td><td>78</td></tr><tr><td>Margaret Park</td><td>394</td></tr><tr><td>Margaret Park</td><td>371</td></tr><tr><td>Margaret Park</td><td>242</td></tr><tr><td>Margaret Park</td><td>187</td></tr><tr><td>Margaret Park</td><td>176</td></tr><tr><td>Margaret Park</td><td>55</td></tr><tr><td>Margaret Park</td><td>3</td></tr><tr><td>Margaret Park</td><td>340</td></tr><tr><td>Margaret Park</td><td>285</td></tr><tr><td>Margaret Park</td><td>274</td></tr><tr><td>Margaret Park</td><td>153</td></tr><tr><td>Margaret Park</td><td>101</td></tr><tr><td>Margaret Park</td><td>79</td></tr><tr><td>Margaret Park</td><td>56</td></tr><tr><td>Margaret Park</td><td>383</td></tr><tr><td>Margaret Park</td><td>372</td></tr><tr><td>Margaret Park</td><td>251</td></tr><tr><td>Margaret Park</td><td>199</td></tr><tr><td>Margaret Park</td><td>177</td></tr><tr><td>Margaret Park</td><td>154</td></tr><tr><td>Margaret Park</td><td>25</td></tr><tr><td>Steve Johnson</td><td>349</td></tr><tr><td>Steve Johnson</td><td>297</td></tr><tr><td>Steve Johnson</td><td>275</td></tr><tr><td>Steve Johnson</td><td>252</td></tr><tr><td>Steve Johnson</td><td>123</td></tr><tr><td>Steve Johnson</td><td>68</td></tr><tr><td>Steve Johnson</td><td>57</td></tr><tr><td>Jane Peacock</td><td>395</td></tr><tr><td>Jane Peacock</td><td>373</td></tr><tr><td>Jane Peacock</td><td>350</td></tr><tr><td>Jane Peacock</td><td>221</td></tr><tr><td>Jane Peacock</td><td>166</td></tr><tr><td>Jane Peacock</td><td>155</td></tr><tr><td>Jane Peacock</td><td>34</td></tr><tr><td>Margaret Park</td><td>319</td></tr><tr><td>Margaret Park</td><td>264</td></tr><tr><td>Margaret Park</td><td>253</td></tr><tr><td>Margaret Park</td><td>132</td></tr><tr><td>Margaret Park</td><td>80</td></tr><tr><td>Margaret Park</td><td>58</td></tr><tr><td>Margaret Park</td><td>35</td></tr><tr><td>Steve Johnson</td><td>362</td></tr><tr><td>Steve Johnson</td><td>351</td></tr><tr><td>Steve Johnson</td><td>230</td></tr><tr><td>Steve Johnson</td><td>178</td></tr><tr><td>Steve Johnson</td><td>156</td></tr><tr><td>Steve Johnson</td><td>133</td></tr><tr><td>Steve Johnson</td><td>4</td></tr><tr><td>Jane Peacock</td><td>328</td></tr><tr><td>Jane Peacock</td><td>276</td></tr><tr><td>Jane Peacock</td><td>254</td></tr><tr><td>Jane Peacock</td><td>231</td></tr><tr><td>Jane Peacock</td><td>102</td></tr><tr><td>Jane Peacock</td><td>47</td></tr><tr><td>Jane Peacock</td><td>36</td></tr><tr><td>Margaret Park</td><td>374</td></tr><tr><td>Margaret Park</td><td>352</td></tr><tr><td>Margaret Park</td><td>329</td></tr><tr><td>Margaret Park</td><td>200</td></tr><tr><td>Margaret Park</td><td>145</td></tr><tr><td>Margaret Park</td><td>134</td></tr><tr><td>Margaret Park</td><td>13</td></tr><tr><td>Steve Johnson</td><td>298</td></tr><tr><td>Steve Johnson</td><td>243</td></tr><tr><td>Steve Johnson</td><td>232</td></tr><tr><td>Steve Johnson</td><td>111</td></tr><tr><td>Steve Johnson</td><td>59</td></tr><tr><td>Steve Johnson</td><td>37</td></tr><tr><td>Steve Johnson</td><td>14</td></tr><tr><td>Jane Peacock</td><td>396</td></tr><tr><td>Jane Peacock</td><td>341</td></tr><tr><td>Jane Peacock</td><td>330</td></tr><tr><td>Jane Peacock</td><td>209</td></tr><tr><td>Jane Peacock</td><td>157</td></tr><tr><td>Jane Peacock</td><td>135</td></tr><tr><td>Jane Peacock</td><td>112</td></tr><tr><td>Jane Peacock</td><td>307</td></tr><tr><td>Jane Peacock</td><td>255</td></tr><tr><td>Jane Peacock</td><td>233</td></tr><tr><td>Jane Peacock</td><td>210</td></tr><tr><td>Jane Peacock</td><td>81</td></tr><tr><td>Jane Peacock</td><td>26</td></tr><tr><td>Jane Peacock</td><td>15</td></tr><tr><td>Margaret Park</td><td>405</td></tr><tr><td>Margaret Park</td><td>353</td></tr><tr><td>Margaret Park</td><td>331</td></tr><tr><td>Margaret Park</td><td>308</td></tr><tr><td>Margaret Park</td><td>179</td></tr><tr><td>Margaret Park</td><td>124</td></tr><tr><td>Margaret Park</td><td>113</td></tr><tr><td>Steve Johnson</td><td>406</td></tr><tr><td>Steve Johnson</td><td>277</td></tr><tr><td>Steve Johnson</td><td>222</td></tr><tr><td>Steve Johnson</td><td>211</td></tr><tr><td>Steve Johnson</td><td>90</td></tr><tr><td>Steve Johnson</td><td>38</td></tr><tr><td>Steve Johnson</td><td>16</td></tr><tr><td>Margaret Park</td><td>375</td></tr><tr><td>Margaret Park</td><td>320</td></tr><tr><td>Margaret Park</td><td>309</td></tr><tr><td>Margaret Park</td><td>188</td></tr><tr><td>Margaret Park</td><td>136</td></tr><tr><td>Margaret Park</td><td>114</td></tr><tr><td>Margaret Park</td><td>91</td></tr><tr><td>Margaret Park</td><td>407</td></tr><tr><td>Margaret Park</td><td>286</td></tr><tr><td>Margaret Park</td><td>234</td></tr><tr><td>Margaret Park</td><td>212</td></tr><tr><td>Margaret Park</td><td>189</td></tr><tr><td>Margaret Park</td><td>60</td></tr><tr><td>Margaret Park</td><td>5</td></tr><tr><td>Jane Peacock</td><td>384</td></tr><tr><td>Jane Peacock</td><td>332</td></tr><tr><td>Jane Peacock</td><td>310</td></tr><tr><td>Jane Peacock</td><td>287</td></tr><tr><td>Jane Peacock</td><td>158</td></tr><tr><td>Jane Peacock</td><td>103</td></tr><tr><td>Jane Peacock</td><td>92</td></tr><tr><td>Steve Johnson</td><td>408</td></tr><tr><td>Steve Johnson</td><td>385</td></tr><tr><td>Steve Johnson</td><td>256</td></tr><tr><td>Steve Johnson</td><td>201</td></tr><tr><td>Steve Johnson</td><td>190</td></tr><tr><td>Steve Johnson</td><td>69</td></tr><tr><td>Steve Johnson</td><td>17</td></tr><tr><td>Margaret Park</td><td>354</td></tr><tr><td>Margaret Park</td><td>299</td></tr><tr><td>Margaret Park</td><td>288</td></tr><tr><td>Margaret Park</td><td>167</td></tr><tr><td>Margaret Park</td><td>115</td></tr><tr><td>Margaret Park</td><td>93</td></tr><tr><td>Margaret Park</td><td>70</td></tr><tr><td>Margaret Park</td><td>397</td></tr><tr><td>Margaret Park</td><td>386</td></tr><tr><td>Margaret Park</td><td>265</td></tr><tr><td>Margaret Park</td><td>213</td></tr><tr><td>Margaret Park</td><td>191</td></tr><tr><td>Margaret Park</td><td>168</td></tr><tr><td>Margaret Park</td><td>39</td></tr><tr><td>Steve Johnson</td><td>363</td></tr><tr><td>Steve Johnson</td><td>311</td></tr><tr><td>Steve Johnson</td><td>289</td></tr><tr><td>Steve Johnson</td><td>266</td></tr><tr><td>Steve Johnson</td><td>137</td></tr><tr><td>Steve Johnson</td><td>82</td></tr><tr><td>Steve Johnson</td><td>71</td></tr><tr><td>Jane Peacock</td><td>409</td></tr><tr><td>Jane Peacock</td><td>387</td></tr><tr><td>Jane Peacock</td><td>364</td></tr><tr><td>Jane Peacock</td><td>235</td></tr><tr><td>Jane Peacock</td><td>180</td></tr><tr><td>Jane Peacock</td><td>169</td></tr><tr><td>Jane Peacock</td><td>48</td></tr><tr><td>Jane Peacock</td><td>333</td></tr><tr><td>Jane Peacock</td><td>278</td></tr><tr><td>Jane Peacock</td><td>267</td></tr><tr><td>Jane Peacock</td><td>146</td></tr><tr><td>Jane Peacock</td><td>94</td></tr><tr><td>Jane Peacock</td><td>72</td></tr><tr><td>Jane Peacock</td><td>49</td></tr><tr><td>Steve Johnson</td><td>376</td></tr><tr><td>Steve Johnson</td><td>365</td></tr><tr><td>Steve Johnson</td><td>244</td></tr><tr><td>Steve Johnson</td><td>192</td></tr><tr><td>Steve Johnson</td><td>170</td></tr><tr><td>Steve Johnson</td><td>147</td></tr><tr><td>Steve Johnson</td><td>18</td></tr><tr><td>Margaret Park</td><td>342</td></tr><tr><td>Margaret Park</td><td>290</td></tr><tr><td>Margaret Park</td><td>268</td></tr><tr><td>Margaret Park</td><td>245</td></tr><tr><td>Margaret Park</td><td>116</td></tr><tr><td>Margaret Park</td><td>61</td></tr><tr><td>Margaret Park</td><td>50</td></tr><tr><td>Jane Peacock</td><td>388</td></tr><tr><td>Jane Peacock</td><td>366</td></tr><tr><td>Jane Peacock</td><td>343</td></tr><tr><td>Jane Peacock</td><td>214</td></tr><tr><td>Jane Peacock</td><td>159</td></tr><tr><td>Jane Peacock</td><td>148</td></tr><tr><td>Jane Peacock</td><td>27</td></tr><tr><td>Margaret Park</td><td>312</td></tr><tr><td>Margaret Park</td><td>257</td></tr><tr><td>Margaret Park</td><td>246</td></tr><tr><td>Margaret Park</td><td>125</td></tr><tr><td>Margaret Park</td><td>73</td></tr><tr><td>Margaret Park</td><td>51</td></tr><tr><td>Margaret Park</td><td>28</td></tr><tr><td>Margaret Park</td><td>410</td></tr><tr><td>Margaret Park</td><td>355</td></tr><tr><td>Margaret Park</td><td>344</td></tr><tr><td>Margaret Park</td><td>223</td></tr><tr><td>Margaret Park</td><td>171</td></tr><tr><td>Margaret Park</td><td>149</td></tr><tr><td>Margaret Park</td><td>126</td></tr><tr><td>Steve Johnson</td><td>321</td></tr><tr><td>Steve Johnson</td><td>269</td></tr><tr><td>Steve Johnson</td><td>247</td></tr><tr><td>Steve Johnson</td><td>224</td></tr><tr><td>Steve Johnson</td><td>95</td></tr><tr><td>Steve Johnson</td><td>40</td></tr><tr><td>Steve Johnson</td><td>29</td></tr><tr><td>Jane Peacock</td><td>367</td></tr><tr><td>Jane Peacock</td><td>345</td></tr><tr><td>Jane Peacock</td><td>322</td></tr><tr><td>Jane Peacock</td><td>193</td></tr><tr><td>Jane Peacock</td><td>138</td></tr><tr><td>Jane Peacock</td><td>127</td></tr><tr><td>Jane Peacock</td><td>6</td></tr><tr><td>Jane Peacock</td><td>291</td></tr><tr><td>Jane Peacock</td><td>236</td></tr><tr><td>Jane Peacock</td><td>225</td></tr><tr><td>Jane Peacock</td><td>104</td></tr><tr><td>Jane Peacock</td><td>52</td></tr><tr><td>Jane Peacock</td><td>30</td></tr><tr><td>Jane Peacock</td><td>7</td></tr><tr><td>Margaret Park</td><td>389</td></tr><tr><td>Margaret Park</td><td>334</td></tr><tr><td>Margaret Park</td><td>323</td></tr><tr><td>Margaret Park</td><td>202</td></tr><tr><td>Margaret Park</td><td>150</td></tr><tr><td>Margaret Park</td><td>128</td></tr><tr><td>Margaret Park</td><td>105</td></tr><tr><td>Margaret Park</td><td>300</td></tr><tr><td>Margaret Park</td><td>248</td></tr><tr><td>Margaret Park</td><td>226</td></tr><tr><td>Margaret Park</td><td>203</td></tr><tr><td>Margaret Park</td><td>74</td></tr><tr><td>Margaret Park</td><td>19</td></tr><tr><td>Margaret Park</td><td>8</td></tr><tr><td>Steve Johnson</td><td>398</td></tr><tr><td>Steve Johnson</td><td>346</td></tr><tr><td>Steve Johnson</td><td>324</td></tr><tr><td>Steve Johnson</td><td>301</td></tr><tr><td>Steve Johnson</td><td>172</td></tr><tr><td>Steve Johnson</td><td>117</td></tr><tr><td>Steve Johnson</td><td>106</td></tr><tr><td>Jane Peacock</td><td>399</td></tr><tr><td>Jane Peacock</td><td>270</td></tr><tr><td>Jane Peacock</td><td>215</td></tr><tr><td>Jane Peacock</td><td>204</td></tr><tr><td>Jane Peacock</td><td>83</td></tr><tr><td>Jane Peacock</td><td>31</td></tr><tr><td>Jane Peacock</td><td>9</td></tr><tr><td>Jane Peacock</td><td>368</td></tr><tr><td>Jane Peacock</td><td>313</td></tr><tr><td>Jane Peacock</td><td>302</td></tr><tr><td>Jane Peacock</td><td>181</td></tr><tr><td>Jane Peacock</td><td>129</td></tr><tr><td>Jane Peacock</td><td>107</td></tr><tr><td>Jane Peacock</td><td>84</td></tr><tr><td>Jane Peacock</td><td>411</td></tr><tr><td>Jane Peacock</td><td>400</td></tr><tr><td>Jane Peacock</td><td>279</td></tr><tr><td>Jane Peacock</td><td>227</td></tr><tr><td>Jane Peacock</td><td>205</td></tr><tr><td>Jane Peacock</td><td>182</td></tr><tr><td>Jane Peacock</td><td>53</td></tr><tr><td>Jane Peacock</td><td>377</td></tr><tr><td>Jane Peacock</td><td>325</td></tr><tr><td>Jane Peacock</td><td>303</td></tr><tr><td>Jane Peacock</td><td>280</td></tr><tr><td>Jane Peacock</td><td>151</td></tr><tr><td>Jane Peacock</td><td>96</td></tr><tr><td>Jane Peacock</td><td>85</td></tr><tr><td>Jane Peacock</td><td>401</td></tr><tr><td>Jane Peacock</td><td>378</td></tr><tr><td>Jane Peacock</td><td>249</td></tr><tr><td>Jane Peacock</td><td>194</td></tr><tr><td>Jane Peacock</td><td>183</td></tr><tr><td>Jane Peacock</td><td>62</td></tr><tr><td>Jane Peacock</td><td>10</td></tr><tr><td>Steve Johnson</td><td>347</td></tr><tr><td>Steve Johnson</td><td>292</td></tr><tr><td>Steve Johnson</td><td>281</td></tr><tr><td>Steve Johnson</td><td>160</td></tr><tr><td>Steve Johnson</td><td>108</td></tr><tr><td>Steve Johnson</td><td>86</td></tr><tr><td>Steve Johnson</td><td>63</td></tr><tr><td>Steve Johnson</td><td>390</td></tr><tr><td>Steve Johnson</td><td>379</td></tr><tr><td>Steve Johnson</td><td>258</td></tr><tr><td>Steve Johnson</td><td>206</td></tr><tr><td>Steve Johnson</td><td>184</td></tr><tr><td>Steve Johnson</td><td>161</td></tr><tr><td>Steve Johnson</td><td>32</td></tr><tr><td>Margaret Park</td><td>356</td></tr><tr><td>Margaret Park</td><td>304</td></tr><tr><td>Margaret Park</td><td>282</td></tr><tr><td>Margaret Park</td><td>259</td></tr><tr><td>Margaret Park</td><td>130</td></tr><tr><td>Margaret Park</td><td>75</td></tr><tr><td>Margaret Park</td><td>64</td></tr><tr><td>Steve Johnson</td><td>402</td></tr><tr><td>Steve Johnson</td><td>380</td></tr><tr><td>Steve Johnson</td><td>357</td></tr><tr><td>Steve Johnson</td><td>228</td></tr><tr><td>Steve Johnson</td><td>173</td></tr><tr><td>Steve Johnson</td><td>162</td></tr><tr><td>Steve Johnson</td><td>41</td></tr><tr><td>Steve Johnson</td><td>326</td></tr><tr><td>Steve Johnson</td><td>271</td></tr><tr><td>Steve Johnson</td><td>260</td></tr><tr><td>Steve Johnson</td><td>139</td></tr><tr><td>Steve Johnson</td><td>87</td></tr><tr><td>Steve Johnson</td><td>65</td></tr><tr><td>Steve Johnson</td><td>42</td></tr><tr><td>Jane Peacock</td><td>369</td></tr><tr><td>Jane Peacock</td><td>358</td></tr><tr><td>Jane Peacock</td><td>237</td></tr><tr><td>Jane Peacock</td><td>185</td></tr><tr><td>Jane Peacock</td><td>163</td></tr><tr><td>Jane Peacock</td><td>140</td></tr><tr><td>Jane Peacock</td><td>11</td></tr><tr><td>Jane Peacock</td><td>335</td></tr><tr><td>Jane Peacock</td><td>283</td></tr><tr><td>Jane Peacock</td><td>261</td></tr><tr><td>Jane Peacock</td><td>238</td></tr><tr><td>Jane Peacock</td><td>109</td></tr><tr><td>Jane Peacock</td><td>54</td></tr><tr><td>Jane Peacock</td><td>43</td></tr><tr><td>Steve Johnson</td><td>381</td></tr><tr><td>Steve Johnson</td><td>359</td></tr><tr><td>Steve Johnson</td><td>336</td></tr><tr><td>Steve Johnson</td><td>207</td></tr><tr><td>Steve Johnson</td><td>152</td></tr><tr><td>Steve Johnson</td><td>141</td></tr><tr><td>Steve Johnson</td><td>20</td></tr><tr><td>Margaret Park</td><td>305</td></tr><tr><td>Margaret Park</td><td>250</td></tr><tr><td>Margaret Park</td><td>239</td></tr><tr><td>Margaret Park</td><td>118</td></tr><tr><td>Margaret Park</td><td>66</td></tr><tr><td>Margaret Park</td><td>44</td></tr><tr><td>Margaret Park</td><td>21</td></tr><tr><td>Margaret Park</td><td>403</td></tr><tr><td>Margaret Park</td><td>348</td></tr><tr><td>Margaret Park</td><td>337</td></tr><tr><td>Margaret Park</td><td>216</td></tr><tr><td>Margaret Park</td><td>164</td></tr><tr><td>Margaret Park</td><td>142</td></tr><tr><td>Margaret Park</td><td>119</td></tr><tr><td>Steve Johnson</td><td>314</td></tr><tr><td>Steve Johnson</td><td>262</td></tr><tr><td>Steve Johnson</td><td>240</td></tr><tr><td>Steve Johnson</td><td>217</td></tr><tr><td>Steve Johnson</td><td>88</td></tr><tr><td>Steve Johnson</td><td>33</td></tr><tr><td>Steve Johnson</td><td>22</td></tr><tr><td>Jane Peacock</td><td>412</td></tr><tr><td>Jane Peacock</td><td>360</td></tr><tr><td>Jane Peacock</td><td>338</td></tr><tr><td>Jane Peacock</td><td>315</td></tr><tr><td>Jane Peacock</td><td>186</td></tr><tr><td>Jane Peacock</td><td>131</td></tr><tr><td>Jane Peacock</td><td>120</td></tr><tr><td>Jane Peacock</td><td>284</td></tr><tr><td>Jane Peacock</td><td>229</td></tr><tr><td>Jane Peacock</td><td>218</td></tr><tr><td>Jane Peacock</td><td>97</td></tr><tr><td>Jane Peacock</td><td>45</td></tr><tr><td>Jane Peacock</td><td>23</td></tr></tbody></table></div>"
      ]
     },
     "metadata": {
      "application/vnd.databricks.v1+output": {
       "addedWidgets": {},
       "aggData": [],
       "aggError": "",
       "aggOverflow": false,
       "aggSchema": [],
       "aggSeriesLimitReached": false,
       "aggType": "",
       "arguments": {},
       "columnCustomDisplayInfos": {},
       "data": [
        [
         "Jane Peacock",
         382
        ],
        [
         "Jane Peacock",
         327
        ],
        [
         "Jane Peacock",
         316
        ],
        [
         "Jane Peacock",
         195
        ],
        [
         "Jane Peacock",
         143
        ],
        [
         "Jane Peacock",
         121
        ],
        [
         "Jane Peacock",
         98
        ],
        [
         "Steve Johnson",
         293
        ],
        [
         "Steve Johnson",
         241
        ],
        [
         "Steve Johnson",
         219
        ],
        [
         "Steve Johnson",
         196
        ],
        [
         "Steve Johnson",
         67
        ],
        [
         "Steve Johnson",
         12
        ],
        [
         "Steve Johnson",
         1
        ],
        [
         "Jane Peacock",
         391
        ],
        [
         "Jane Peacock",
         339
        ],
        [
         "Jane Peacock",
         317
        ],
        [
         "Jane Peacock",
         294
        ],
        [
         "Jane Peacock",
         165
        ],
        [
         "Jane Peacock",
         110
        ],
        [
         "Jane Peacock",
         99
        ],
        [
         "Margaret Park",
         392
        ],
        [
         "Margaret Park",
         263
        ],
        [
         "Margaret Park",
         208
        ],
        [
         "Margaret Park",
         197
        ],
        [
         "Margaret Park",
         76
        ],
        [
         "Margaret Park",
         24
        ],
        [
         "Margaret Park",
         2
        ],
        [
         "Margaret Park",
         361
        ],
        [
         "Margaret Park",
         306
        ],
        [
         "Margaret Park",
         295
        ],
        [
         "Margaret Park",
         174
        ],
        [
         "Margaret Park",
         122
        ],
        [
         "Margaret Park",
         100
        ],
        [
         "Margaret Park",
         77
        ],
        [
         "Steve Johnson",
         404
        ],
        [
         "Steve Johnson",
         393
        ],
        [
         "Steve Johnson",
         272
        ],
        [
         "Steve Johnson",
         220
        ],
        [
         "Steve Johnson",
         198
        ],
        [
         "Steve Johnson",
         175
        ],
        [
         "Steve Johnson",
         46
        ],
        [
         "Steve Johnson",
         370
        ],
        [
         "Steve Johnson",
         318
        ],
        [
         "Steve Johnson",
         296
        ],
        [
         "Steve Johnson",
         273
        ],
        [
         "Steve Johnson",
         144
        ],
        [
         "Steve Johnson",
         89
        ],
        [
         "Steve Johnson",
         78
        ],
        [
         "Margaret Park",
         394
        ],
        [
         "Margaret Park",
         371
        ],
        [
         "Margaret Park",
         242
        ],
        [
         "Margaret Park",
         187
        ],
        [
         "Margaret Park",
         176
        ],
        [
         "Margaret Park",
         55
        ],
        [
         "Margaret Park",
         3
        ],
        [
         "Margaret Park",
         340
        ],
        [
         "Margaret Park",
         285
        ],
        [
         "Margaret Park",
         274
        ],
        [
         "Margaret Park",
         153
        ],
        [
         "Margaret Park",
         101
        ],
        [
         "Margaret Park",
         79
        ],
        [
         "Margaret Park",
         56
        ],
        [
         "Margaret Park",
         383
        ],
        [
         "Margaret Park",
         372
        ],
        [
         "Margaret Park",
         251
        ],
        [
         "Margaret Park",
         199
        ],
        [
         "Margaret Park",
         177
        ],
        [
         "Margaret Park",
         154
        ],
        [
         "Margaret Park",
         25
        ],
        [
         "Steve Johnson",
         349
        ],
        [
         "Steve Johnson",
         297
        ],
        [
         "Steve Johnson",
         275
        ],
        [
         "Steve Johnson",
         252
        ],
        [
         "Steve Johnson",
         123
        ],
        [
         "Steve Johnson",
         68
        ],
        [
         "Steve Johnson",
         57
        ],
        [
         "Jane Peacock",
         395
        ],
        [
         "Jane Peacock",
         373
        ],
        [
         "Jane Peacock",
         350
        ],
        [
         "Jane Peacock",
         221
        ],
        [
         "Jane Peacock",
         166
        ],
        [
         "Jane Peacock",
         155
        ],
        [
         "Jane Peacock",
         34
        ],
        [
         "Margaret Park",
         319
        ],
        [
         "Margaret Park",
         264
        ],
        [
         "Margaret Park",
         253
        ],
        [
         "Margaret Park",
         132
        ],
        [
         "Margaret Park",
         80
        ],
        [
         "Margaret Park",
         58
        ],
        [
         "Margaret Park",
         35
        ],
        [
         "Steve Johnson",
         362
        ],
        [
         "Steve Johnson",
         351
        ],
        [
         "Steve Johnson",
         230
        ],
        [
         "Steve Johnson",
         178
        ],
        [
         "Steve Johnson",
         156
        ],
        [
         "Steve Johnson",
         133
        ],
        [
         "Steve Johnson",
         4
        ],
        [
         "Jane Peacock",
         328
        ],
        [
         "Jane Peacock",
         276
        ],
        [
         "Jane Peacock",
         254
        ],
        [
         "Jane Peacock",
         231
        ],
        [
         "Jane Peacock",
         102
        ],
        [
         "Jane Peacock",
         47
        ],
        [
         "Jane Peacock",
         36
        ],
        [
         "Margaret Park",
         374
        ],
        [
         "Margaret Park",
         352
        ],
        [
         "Margaret Park",
         329
        ],
        [
         "Margaret Park",
         200
        ],
        [
         "Margaret Park",
         145
        ],
        [
         "Margaret Park",
         134
        ],
        [
         "Margaret Park",
         13
        ],
        [
         "Steve Johnson",
         298
        ],
        [
         "Steve Johnson",
         243
        ],
        [
         "Steve Johnson",
         232
        ],
        [
         "Steve Johnson",
         111
        ],
        [
         "Steve Johnson",
         59
        ],
        [
         "Steve Johnson",
         37
        ],
        [
         "Steve Johnson",
         14
        ],
        [
         "Jane Peacock",
         396
        ],
        [
         "Jane Peacock",
         341
        ],
        [
         "Jane Peacock",
         330
        ],
        [
         "Jane Peacock",
         209
        ],
        [
         "Jane Peacock",
         157
        ],
        [
         "Jane Peacock",
         135
        ],
        [
         "Jane Peacock",
         112
        ],
        [
         "Jane Peacock",
         307
        ],
        [
         "Jane Peacock",
         255
        ],
        [
         "Jane Peacock",
         233
        ],
        [
         "Jane Peacock",
         210
        ],
        [
         "Jane Peacock",
         81
        ],
        [
         "Jane Peacock",
         26
        ],
        [
         "Jane Peacock",
         15
        ],
        [
         "Margaret Park",
         405
        ],
        [
         "Margaret Park",
         353
        ],
        [
         "Margaret Park",
         331
        ],
        [
         "Margaret Park",
         308
        ],
        [
         "Margaret Park",
         179
        ],
        [
         "Margaret Park",
         124
        ],
        [
         "Margaret Park",
         113
        ],
        [
         "Steve Johnson",
         406
        ],
        [
         "Steve Johnson",
         277
        ],
        [
         "Steve Johnson",
         222
        ],
        [
         "Steve Johnson",
         211
        ],
        [
         "Steve Johnson",
         90
        ],
        [
         "Steve Johnson",
         38
        ],
        [
         "Steve Johnson",
         16
        ],
        [
         "Margaret Park",
         375
        ],
        [
         "Margaret Park",
         320
        ],
        [
         "Margaret Park",
         309
        ],
        [
         "Margaret Park",
         188
        ],
        [
         "Margaret Park",
         136
        ],
        [
         "Margaret Park",
         114
        ],
        [
         "Margaret Park",
         91
        ],
        [
         "Margaret Park",
         407
        ],
        [
         "Margaret Park",
         286
        ],
        [
         "Margaret Park",
         234
        ],
        [
         "Margaret Park",
         212
        ],
        [
         "Margaret Park",
         189
        ],
        [
         "Margaret Park",
         60
        ],
        [
         "Margaret Park",
         5
        ],
        [
         "Jane Peacock",
         384
        ],
        [
         "Jane Peacock",
         332
        ],
        [
         "Jane Peacock",
         310
        ],
        [
         "Jane Peacock",
         287
        ],
        [
         "Jane Peacock",
         158
        ],
        [
         "Jane Peacock",
         103
        ],
        [
         "Jane Peacock",
         92
        ],
        [
         "Steve Johnson",
         408
        ],
        [
         "Steve Johnson",
         385
        ],
        [
         "Steve Johnson",
         256
        ],
        [
         "Steve Johnson",
         201
        ],
        [
         "Steve Johnson",
         190
        ],
        [
         "Steve Johnson",
         69
        ],
        [
         "Steve Johnson",
         17
        ],
        [
         "Margaret Park",
         354
        ],
        [
         "Margaret Park",
         299
        ],
        [
         "Margaret Park",
         288
        ],
        [
         "Margaret Park",
         167
        ],
        [
         "Margaret Park",
         115
        ],
        [
         "Margaret Park",
         93
        ],
        [
         "Margaret Park",
         70
        ],
        [
         "Margaret Park",
         397
        ],
        [
         "Margaret Park",
         386
        ],
        [
         "Margaret Park",
         265
        ],
        [
         "Margaret Park",
         213
        ],
        [
         "Margaret Park",
         191
        ],
        [
         "Margaret Park",
         168
        ],
        [
         "Margaret Park",
         39
        ],
        [
         "Steve Johnson",
         363
        ],
        [
         "Steve Johnson",
         311
        ],
        [
         "Steve Johnson",
         289
        ],
        [
         "Steve Johnson",
         266
        ],
        [
         "Steve Johnson",
         137
        ],
        [
         "Steve Johnson",
         82
        ],
        [
         "Steve Johnson",
         71
        ],
        [
         "Jane Peacock",
         409
        ],
        [
         "Jane Peacock",
         387
        ],
        [
         "Jane Peacock",
         364
        ],
        [
         "Jane Peacock",
         235
        ],
        [
         "Jane Peacock",
         180
        ],
        [
         "Jane Peacock",
         169
        ],
        [
         "Jane Peacock",
         48
        ],
        [
         "Jane Peacock",
         333
        ],
        [
         "Jane Peacock",
         278
        ],
        [
         "Jane Peacock",
         267
        ],
        [
         "Jane Peacock",
         146
        ],
        [
         "Jane Peacock",
         94
        ],
        [
         "Jane Peacock",
         72
        ],
        [
         "Jane Peacock",
         49
        ],
        [
         "Steve Johnson",
         376
        ],
        [
         "Steve Johnson",
         365
        ],
        [
         "Steve Johnson",
         244
        ],
        [
         "Steve Johnson",
         192
        ],
        [
         "Steve Johnson",
         170
        ],
        [
         "Steve Johnson",
         147
        ],
        [
         "Steve Johnson",
         18
        ],
        [
         "Margaret Park",
         342
        ],
        [
         "Margaret Park",
         290
        ],
        [
         "Margaret Park",
         268
        ],
        [
         "Margaret Park",
         245
        ],
        [
         "Margaret Park",
         116
        ],
        [
         "Margaret Park",
         61
        ],
        [
         "Margaret Park",
         50
        ],
        [
         "Jane Peacock",
         388
        ],
        [
         "Jane Peacock",
         366
        ],
        [
         "Jane Peacock",
         343
        ],
        [
         "Jane Peacock",
         214
        ],
        [
         "Jane Peacock",
         159
        ],
        [
         "Jane Peacock",
         148
        ],
        [
         "Jane Peacock",
         27
        ],
        [
         "Margaret Park",
         312
        ],
        [
         "Margaret Park",
         257
        ],
        [
         "Margaret Park",
         246
        ],
        [
         "Margaret Park",
         125
        ],
        [
         "Margaret Park",
         73
        ],
        [
         "Margaret Park",
         51
        ],
        [
         "Margaret Park",
         28
        ],
        [
         "Margaret Park",
         410
        ],
        [
         "Margaret Park",
         355
        ],
        [
         "Margaret Park",
         344
        ],
        [
         "Margaret Park",
         223
        ],
        [
         "Margaret Park",
         171
        ],
        [
         "Margaret Park",
         149
        ],
        [
         "Margaret Park",
         126
        ],
        [
         "Steve Johnson",
         321
        ],
        [
         "Steve Johnson",
         269
        ],
        [
         "Steve Johnson",
         247
        ],
        [
         "Steve Johnson",
         224
        ],
        [
         "Steve Johnson",
         95
        ],
        [
         "Steve Johnson",
         40
        ],
        [
         "Steve Johnson",
         29
        ],
        [
         "Jane Peacock",
         367
        ],
        [
         "Jane Peacock",
         345
        ],
        [
         "Jane Peacock",
         322
        ],
        [
         "Jane Peacock",
         193
        ],
        [
         "Jane Peacock",
         138
        ],
        [
         "Jane Peacock",
         127
        ],
        [
         "Jane Peacock",
         6
        ],
        [
         "Jane Peacock",
         291
        ],
        [
         "Jane Peacock",
         236
        ],
        [
         "Jane Peacock",
         225
        ],
        [
         "Jane Peacock",
         104
        ],
        [
         "Jane Peacock",
         52
        ],
        [
         "Jane Peacock",
         30
        ],
        [
         "Jane Peacock",
         7
        ],
        [
         "Margaret Park",
         389
        ],
        [
         "Margaret Park",
         334
        ],
        [
         "Margaret Park",
         323
        ],
        [
         "Margaret Park",
         202
        ],
        [
         "Margaret Park",
         150
        ],
        [
         "Margaret Park",
         128
        ],
        [
         "Margaret Park",
         105
        ],
        [
         "Margaret Park",
         300
        ],
        [
         "Margaret Park",
         248
        ],
        [
         "Margaret Park",
         226
        ],
        [
         "Margaret Park",
         203
        ],
        [
         "Margaret Park",
         74
        ],
        [
         "Margaret Park",
         19
        ],
        [
         "Margaret Park",
         8
        ],
        [
         "Steve Johnson",
         398
        ],
        [
         "Steve Johnson",
         346
        ],
        [
         "Steve Johnson",
         324
        ],
        [
         "Steve Johnson",
         301
        ],
        [
         "Steve Johnson",
         172
        ],
        [
         "Steve Johnson",
         117
        ],
        [
         "Steve Johnson",
         106
        ],
        [
         "Jane Peacock",
         399
        ],
        [
         "Jane Peacock",
         270
        ],
        [
         "Jane Peacock",
         215
        ],
        [
         "Jane Peacock",
         204
        ],
        [
         "Jane Peacock",
         83
        ],
        [
         "Jane Peacock",
         31
        ],
        [
         "Jane Peacock",
         9
        ],
        [
         "Jane Peacock",
         368
        ],
        [
         "Jane Peacock",
         313
        ],
        [
         "Jane Peacock",
         302
        ],
        [
         "Jane Peacock",
         181
        ],
        [
         "Jane Peacock",
         129
        ],
        [
         "Jane Peacock",
         107
        ],
        [
         "Jane Peacock",
         84
        ],
        [
         "Jane Peacock",
         411
        ],
        [
         "Jane Peacock",
         400
        ],
        [
         "Jane Peacock",
         279
        ],
        [
         "Jane Peacock",
         227
        ],
        [
         "Jane Peacock",
         205
        ],
        [
         "Jane Peacock",
         182
        ],
        [
         "Jane Peacock",
         53
        ],
        [
         "Jane Peacock",
         377
        ],
        [
         "Jane Peacock",
         325
        ],
        [
         "Jane Peacock",
         303
        ],
        [
         "Jane Peacock",
         280
        ],
        [
         "Jane Peacock",
         151
        ],
        [
         "Jane Peacock",
         96
        ],
        [
         "Jane Peacock",
         85
        ],
        [
         "Jane Peacock",
         401
        ],
        [
         "Jane Peacock",
         378
        ],
        [
         "Jane Peacock",
         249
        ],
        [
         "Jane Peacock",
         194
        ],
        [
         "Jane Peacock",
         183
        ],
        [
         "Jane Peacock",
         62
        ],
        [
         "Jane Peacock",
         10
        ],
        [
         "Steve Johnson",
         347
        ],
        [
         "Steve Johnson",
         292
        ],
        [
         "Steve Johnson",
         281
        ],
        [
         "Steve Johnson",
         160
        ],
        [
         "Steve Johnson",
         108
        ],
        [
         "Steve Johnson",
         86
        ],
        [
         "Steve Johnson",
         63
        ],
        [
         "Steve Johnson",
         390
        ],
        [
         "Steve Johnson",
         379
        ],
        [
         "Steve Johnson",
         258
        ],
        [
         "Steve Johnson",
         206
        ],
        [
         "Steve Johnson",
         184
        ],
        [
         "Steve Johnson",
         161
        ],
        [
         "Steve Johnson",
         32
        ],
        [
         "Margaret Park",
         356
        ],
        [
         "Margaret Park",
         304
        ],
        [
         "Margaret Park",
         282
        ],
        [
         "Margaret Park",
         259
        ],
        [
         "Margaret Park",
         130
        ],
        [
         "Margaret Park",
         75
        ],
        [
         "Margaret Park",
         64
        ],
        [
         "Steve Johnson",
         402
        ],
        [
         "Steve Johnson",
         380
        ],
        [
         "Steve Johnson",
         357
        ],
        [
         "Steve Johnson",
         228
        ],
        [
         "Steve Johnson",
         173
        ],
        [
         "Steve Johnson",
         162
        ],
        [
         "Steve Johnson",
         41
        ],
        [
         "Steve Johnson",
         326
        ],
        [
         "Steve Johnson",
         271
        ],
        [
         "Steve Johnson",
         260
        ],
        [
         "Steve Johnson",
         139
        ],
        [
         "Steve Johnson",
         87
        ],
        [
         "Steve Johnson",
         65
        ],
        [
         "Steve Johnson",
         42
        ],
        [
         "Jane Peacock",
         369
        ],
        [
         "Jane Peacock",
         358
        ],
        [
         "Jane Peacock",
         237
        ],
        [
         "Jane Peacock",
         185
        ],
        [
         "Jane Peacock",
         163
        ],
        [
         "Jane Peacock",
         140
        ],
        [
         "Jane Peacock",
         11
        ],
        [
         "Jane Peacock",
         335
        ],
        [
         "Jane Peacock",
         283
        ],
        [
         "Jane Peacock",
         261
        ],
        [
         "Jane Peacock",
         238
        ],
        [
         "Jane Peacock",
         109
        ],
        [
         "Jane Peacock",
         54
        ],
        [
         "Jane Peacock",
         43
        ],
        [
         "Steve Johnson",
         381
        ],
        [
         "Steve Johnson",
         359
        ],
        [
         "Steve Johnson",
         336
        ],
        [
         "Steve Johnson",
         207
        ],
        [
         "Steve Johnson",
         152
        ],
        [
         "Steve Johnson",
         141
        ],
        [
         "Steve Johnson",
         20
        ],
        [
         "Margaret Park",
         305
        ],
        [
         "Margaret Park",
         250
        ],
        [
         "Margaret Park",
         239
        ],
        [
         "Margaret Park",
         118
        ],
        [
         "Margaret Park",
         66
        ],
        [
         "Margaret Park",
         44
        ],
        [
         "Margaret Park",
         21
        ],
        [
         "Margaret Park",
         403
        ],
        [
         "Margaret Park",
         348
        ],
        [
         "Margaret Park",
         337
        ],
        [
         "Margaret Park",
         216
        ],
        [
         "Margaret Park",
         164
        ],
        [
         "Margaret Park",
         142
        ],
        [
         "Margaret Park",
         119
        ],
        [
         "Steve Johnson",
         314
        ],
        [
         "Steve Johnson",
         262
        ],
        [
         "Steve Johnson",
         240
        ],
        [
         "Steve Johnson",
         217
        ],
        [
         "Steve Johnson",
         88
        ],
        [
         "Steve Johnson",
         33
        ],
        [
         "Steve Johnson",
         22
        ],
        [
         "Jane Peacock",
         412
        ],
        [
         "Jane Peacock",
         360
        ],
        [
         "Jane Peacock",
         338
        ],
        [
         "Jane Peacock",
         315
        ],
        [
         "Jane Peacock",
         186
        ],
        [
         "Jane Peacock",
         131
        ],
        [
         "Jane Peacock",
         120
        ],
        [
         "Jane Peacock",
         284
        ],
        [
         "Jane Peacock",
         229
        ],
        [
         "Jane Peacock",
         218
        ],
        [
         "Jane Peacock",
         97
        ],
        [
         "Jane Peacock",
         45
        ],
        [
         "Jane Peacock",
         23
        ]
       ],
       "datasetInfos": [],
       "dbfsResultPath": null,
       "isJsonSchema": true,
       "metadata": {},
       "overflow": false,
       "plotOptions": {
        "customPlotOptions": {},
        "displayType": "table",
        "pivotAggregation": null,
        "pivotColumns": null,
        "xColumns": null,
        "yColumns": null
       },
       "removedWidgets": [],
       "schema": [
        {
         "metadata": "{}",
         "name": "salesAgentName",
         "type": "\"string\""
        },
        {
         "metadata": "{}",
         "name": "invoiceId",
         "type": "\"integer\""
        }
       ],
       "type": "table"
      }
     },
     "output_type": "display_data"
    }
   ],
   "source": [
    "display(\n",
    "    pspk_df_emp.alias(\"emp\")\n",
    "    .join(pspk_df_cust.alias(\"cust\")).where(\"emp.EmployeeId == cust.SupportRepId\")\n",
    "    .join(pspk_df_invoice.alias(\"invoice\")).where(\"invoice.customerId == cust.customerId\")\n",
    "    .selectExpr(\"emp.FirstName || ' ' || emp.LastName as salesAgentName\", \"invoice.invoiceId\")\n",
    ")"
   ]
  },
  {
   "cell_type": "code",
   "execution_count": 0,
   "metadata": {
    "application/vnd.databricks.v1+cell": {
     "cellMetadata": {
      "byteLimit": 2048000,
      "rowLimit": 10000
     },
     "inputWidgets": {},
     "nuid": "d801bcfd-7e20-400c-ab8d-5358abcf8879",
     "showTitle": false,
     "title": ""
    }
   },
   "outputs": [
    {
     "output_type": "display_data",
     "data": {
      "text/html": [
       "<style scoped>\n",
       "  .table-result-container {\n",
       "    max-height: 300px;\n",
       "    overflow: auto;\n",
       "  }\n",
       "  table, th, td {\n",
       "    border: 1px solid black;\n",
       "    border-collapse: collapse;\n",
       "  }\n",
       "  th, td {\n",
       "    padding: 5px;\n",
       "  }\n",
       "  th {\n",
       "    text-align: left;\n",
       "  }\n",
       "</style><div class='table-result-container'><table class='table-result'><thead style='background-color: white'><tr><th>salesAgentName</th><th>count</th></tr></thead><tbody><tr><td>Jane Peacock</td><td>146</td></tr><tr><td>Steve Johnson</td><td>126</td></tr><tr><td>Margaret Park</td><td>140</td></tr></tbody></table></div>"
      ]
     },
     "metadata": {
      "application/vnd.databricks.v1+output": {
       "addedWidgets": {},
       "aggData": [],
       "aggError": "",
       "aggOverflow": false,
       "aggSchema": [],
       "aggSeriesLimitReached": false,
       "aggType": "",
       "arguments": {},
       "columnCustomDisplayInfos": {},
       "data": [
        [
         "Jane Peacock",
         146
        ],
        [
         "Steve Johnson",
         126
        ],
        [
         "Margaret Park",
         140
        ]
       ],
       "datasetInfos": [],
       "dbfsResultPath": null,
       "isJsonSchema": true,
       "metadata": {},
       "overflow": false,
       "plotOptions": {
        "customPlotOptions": {},
        "displayType": "table",
        "pivotAggregation": null,
        "pivotColumns": null,
        "xColumns": null,
        "yColumns": null
       },
       "removedWidgets": [],
       "schema": [
        {
         "metadata": "{}",
         "name": "salesAgentName",
         "type": "\"string\""
        },
        {
         "metadata": "{}",
         "name": "count",
         "type": "\"long\""
        }
       ],
       "type": "table"
      }
     },
     "output_type": "display_data"
    }
   ],
   "source": [
    "display(\n",
    "    pspk_df_emp.alias(\"emp\")\n",
    "    .join(pspk_df_cust.alias(\"cust\")).where(\"emp.EmployeeId == cust.SupportRepId\")\n",
    "    .join(pspk_df_invoice.alias(\"invoice\")).where(\"invoice.customerId == cust.customerId\")\n",
    "    .selectExpr(\"emp.FirstName || ' ' || emp.LastName as salesAgentName\", \"invoice.invoiceId\")\n",
    "    .groupBy(\"salesAgentName\")\n",
    "    .count()\n",
    ")"
   ]
  },
  {
   "cell_type": "markdown",
   "metadata": {
    "application/vnd.databricks.v1+cell": {
     "cellMetadata": {},
     "inputWidgets": {},
     "nuid": "8ada4666-1f97-467d-a975-3c2d98be0515",
     "showTitle": false,
     "title": ""
    }
   },
   "source": [
    "##### Python"
   ]
  },
  {
   "cell_type": "code",
   "execution_count": 0,
   "metadata": {
    "application/vnd.databricks.v1+cell": {
     "cellMetadata": {
      "byteLimit": 2048000,
      "rowLimit": 10000
     },
     "inputWidgets": {},
     "nuid": "a029d3c8-fa45-407b-b48d-14e248cae868",
     "showTitle": false,
     "title": ""
    }
   },
   "outputs": [
    {
     "output_type": "display_data",
     "data": {
      "text/html": [
       "<div>\n",
       "<style scoped>\n",
       "    .dataframe tbody tr th:only-of-type {\n",
       "        vertical-align: middle;\n",
       "    }\n",
       "\n",
       "    .dataframe tbody tr th {\n",
       "        vertical-align: top;\n",
       "    }\n",
       "\n",
       "    .dataframe thead th {\n",
       "        text-align: right;\n",
       "    }\n",
       "</style>\n",
       "<table border=\"1\" class=\"dataframe\">\n",
       "  <thead>\n",
       "    <tr style=\"text-align: right;\">\n",
       "      <th></th>\n",
       "      <th>salesAgentName</th>\n",
       "      <th>InvoiceId</th>\n",
       "    </tr>\n",
       "  </thead>\n",
       "  <tbody>\n",
       "    <tr>\n",
       "      <th>0</th>\n",
       "      <td>Jane Peacock</td>\n",
       "      <td>98</td>\n",
       "    </tr>\n",
       "    <tr>\n",
       "      <th>1</th>\n",
       "      <td>Jane Peacock</td>\n",
       "      <td>121</td>\n",
       "    </tr>\n",
       "    <tr>\n",
       "      <th>2</th>\n",
       "      <td>Jane Peacock</td>\n",
       "      <td>143</td>\n",
       "    </tr>\n",
       "    <tr>\n",
       "      <th>3</th>\n",
       "      <td>Jane Peacock</td>\n",
       "      <td>195</td>\n",
       "    </tr>\n",
       "    <tr>\n",
       "      <th>4</th>\n",
       "      <td>Jane Peacock</td>\n",
       "      <td>316</td>\n",
       "    </tr>\n",
       "    <tr>\n",
       "      <th>...</th>\n",
       "      <td>...</td>\n",
       "      <td>...</td>\n",
       "    </tr>\n",
       "    <tr>\n",
       "      <th>407</th>\n",
       "      <td>Steve Johnson</td>\n",
       "      <td>88</td>\n",
       "    </tr>\n",
       "    <tr>\n",
       "      <th>408</th>\n",
       "      <td>Steve Johnson</td>\n",
       "      <td>217</td>\n",
       "    </tr>\n",
       "    <tr>\n",
       "      <th>409</th>\n",
       "      <td>Steve Johnson</td>\n",
       "      <td>240</td>\n",
       "    </tr>\n",
       "    <tr>\n",
       "      <th>410</th>\n",
       "      <td>Steve Johnson</td>\n",
       "      <td>262</td>\n",
       "    </tr>\n",
       "    <tr>\n",
       "      <th>411</th>\n",
       "      <td>Steve Johnson</td>\n",
       "      <td>314</td>\n",
       "    </tr>\n",
       "  </tbody>\n",
       "</table>\n",
       "<p>412 rows × 2 columns</p>\n",
       "</div>"
      ]
     },
     "metadata": {
      "application/vnd.databricks.v1+output": {
       "addedWidgets": {},
       "arguments": {},
       "data": "<div>\n<style scoped>\n    .dataframe tbody tr th:only-of-type {\n        vertical-align: middle;\n    }\n\n    .dataframe tbody tr th {\n        vertical-align: top;\n    }\n\n    .dataframe thead th {\n        text-align: right;\n    }\n</style>\n<table border=\"1\" class=\"dataframe\">\n  <thead>\n    <tr style=\"text-align: right;\">\n      <th></th>\n      <th>salesAgentName</th>\n      <th>InvoiceId</th>\n    </tr>\n  </thead>\n  <tbody>\n    <tr>\n      <th>0</th>\n      <td>Jane Peacock</td>\n      <td>98</td>\n    </tr>\n    <tr>\n      <th>1</th>\n      <td>Jane Peacock</td>\n      <td>121</td>\n    </tr>\n    <tr>\n      <th>2</th>\n      <td>Jane Peacock</td>\n      <td>143</td>\n    </tr>\n    <tr>\n      <th>3</th>\n      <td>Jane Peacock</td>\n      <td>195</td>\n    </tr>\n    <tr>\n      <th>4</th>\n      <td>Jane Peacock</td>\n      <td>316</td>\n    </tr>\n    <tr>\n      <th>...</th>\n      <td>...</td>\n      <td>...</td>\n    </tr>\n    <tr>\n      <th>407</th>\n      <td>Steve Johnson</td>\n      <td>88</td>\n    </tr>\n    <tr>\n      <th>408</th>\n      <td>Steve Johnson</td>\n      <td>217</td>\n    </tr>\n    <tr>\n      <th>409</th>\n      <td>Steve Johnson</td>\n      <td>240</td>\n    </tr>\n    <tr>\n      <th>410</th>\n      <td>Steve Johnson</td>\n      <td>262</td>\n    </tr>\n    <tr>\n      <th>411</th>\n      <td>Steve Johnson</td>\n      <td>314</td>\n    </tr>\n  </tbody>\n</table>\n<p>412 rows × 2 columns</p>\n</div>",
       "datasetInfos": [],
       "metadata": {},
       "removedWidgets": [],
       "textData": null,
       "type": "htmlSandbox"
      }
     },
     "output_type": "display_data"
    }
   ],
   "source": [
    "(\n",
    "    pd_df_emp\n",
    "    .assign(salesAgentName = pd_df_emp['FirstName'] +\" \" +pd_df_emp['LastName'])\n",
    "    .merge(pd_df_cust, left_on = 'EmployeeId', right_on = 'SupportRepId', how = 'inner')\n",
    "    .merge(pd_df_invoice, left_on = 'CustomerId', right_on = 'CustomerId', how = 'inner')\n",
    "    [['salesAgentName', 'InvoiceId']]\n",
    "    .reset_index(drop=True)\n",
    ")\n"
   ]
  },
  {
   "cell_type": "code",
   "execution_count": 0,
   "metadata": {
    "application/vnd.databricks.v1+cell": {
     "cellMetadata": {
      "byteLimit": 2048000,
      "rowLimit": 10000
     },
     "inputWidgets": {},
     "nuid": "c4eff6cf-c7a1-4f81-8fa0-f1dda0357678",
     "showTitle": false,
     "title": ""
    }
   },
   "outputs": [
    {
     "output_type": "display_data",
     "data": {
      "text/html": [
       "<div>\n",
       "<style scoped>\n",
       "    .dataframe tbody tr th:only-of-type {\n",
       "        vertical-align: middle;\n",
       "    }\n",
       "\n",
       "    .dataframe tbody tr th {\n",
       "        vertical-align: top;\n",
       "    }\n",
       "\n",
       "    .dataframe thead th {\n",
       "        text-align: right;\n",
       "    }\n",
       "</style>\n",
       "<table border=\"1\" class=\"dataframe\">\n",
       "  <thead>\n",
       "    <tr style=\"text-align: right;\">\n",
       "      <th></th>\n",
       "      <th>salesAgentName</th>\n",
       "      <th>InvoiceId</th>\n",
       "    </tr>\n",
       "  </thead>\n",
       "  <tbody>\n",
       "    <tr>\n",
       "      <th>0</th>\n",
       "      <td>Steve Johnson</td>\n",
       "      <td>126</td>\n",
       "    </tr>\n",
       "    <tr>\n",
       "      <th>1</th>\n",
       "      <td>Margaret Park</td>\n",
       "      <td>140</td>\n",
       "    </tr>\n",
       "    <tr>\n",
       "      <th>2</th>\n",
       "      <td>Jane Peacock</td>\n",
       "      <td>146</td>\n",
       "    </tr>\n",
       "  </tbody>\n",
       "</table>\n",
       "</div>"
      ]
     },
     "metadata": {
      "application/vnd.databricks.v1+output": {
       "addedWidgets": {},
       "arguments": {},
       "data": "<div>\n<style scoped>\n    .dataframe tbody tr th:only-of-type {\n        vertical-align: middle;\n    }\n\n    .dataframe tbody tr th {\n        vertical-align: top;\n    }\n\n    .dataframe thead th {\n        text-align: right;\n    }\n</style>\n<table border=\"1\" class=\"dataframe\">\n  <thead>\n    <tr style=\"text-align: right;\">\n      <th></th>\n      <th>salesAgentName</th>\n      <th>InvoiceId</th>\n    </tr>\n  </thead>\n  <tbody>\n    <tr>\n      <th>0</th>\n      <td>Steve Johnson</td>\n      <td>126</td>\n    </tr>\n    <tr>\n      <th>1</th>\n      <td>Margaret Park</td>\n      <td>140</td>\n    </tr>\n    <tr>\n      <th>2</th>\n      <td>Jane Peacock</td>\n      <td>146</td>\n    </tr>\n  </tbody>\n</table>\n</div>",
       "datasetInfos": [],
       "metadata": {},
       "removedWidgets": [],
       "textData": null,
       "type": "htmlSandbox"
      }
     },
     "output_type": "display_data"
    }
   ],
   "source": [
    "(\n",
    "    pd_df_emp\n",
    "    .assign(salesAgentName = pd_df_emp['FirstName'] +\" \" +pd_df_emp['LastName'])\n",
    "    .merge(pd_df_cust, left_on = 'EmployeeId', right_on = 'SupportRepId', how = 'inner')\n",
    "    .merge(pd_df_invoice, left_on = 'CustomerId', right_on = 'CustomerId', how = 'inner')\n",
    "    [['salesAgentName', 'InvoiceId']]\n",
    "    .groupby(\"salesAgentName\")\n",
    "    .count()\n",
    "    .sort_values(by=['InvoiceId'])\n",
    "    .reset_index()\n",
    ")\n"
   ]
  },
  {
   "cell_type": "markdown",
   "metadata": {
    "application/vnd.databricks.v1+cell": {
     "cellMetadata": {},
     "inputWidgets": {},
     "nuid": "ebacf73a-9385-4061-8e6a-47f110ff1ba1",
     "showTitle": false,
     "title": ""
    }
   },
   "source": [
    "##### RDDs"
   ]
  },
  {
   "cell_type": "code",
   "execution_count": 0,
   "metadata": {
    "application/vnd.databricks.v1+cell": {
     "cellMetadata": {
      "byteLimit": 2048000,
      "rowLimit": 10000
     },
     "inputWidgets": {},
     "nuid": "61c04c80-ad7e-476b-a8e4-145dd4ff891f",
     "showTitle": false,
     "title": ""
    }
   },
   "outputs": [],
   "source": [
    "pspk_rdd_emp = pspk_df_emp.rdd\n",
    "pspk_rdd_cust = pspk_df_cust.rdd\n",
    "pspk_rdd_inv = pspk_df_invoice.rdd"
   ]
  },
  {
   "cell_type": "code",
   "execution_count": 0,
   "metadata": {
    "application/vnd.databricks.v1+cell": {
     "cellMetadata": {
      "byteLimit": 2048000,
      "rowLimit": 10000
     },
     "inputWidgets": {},
     "nuid": "beaa6b2a-c092-4d7a-99ea-2b25b2409438",
     "showTitle": false,
     "title": ""
    }
   },
   "outputs": [],
   "source": [
    "# as we need to join 3 tables we need to create 3 RDDs having similar key-value pairs (keys being the common joining condition) \n",
    "pspk_rdd_emp_mod = (\n",
    "    pspk_rdd_emp\n",
    "    # .filter(lambda x: x['EmployeeId']==3)\n",
    "    .map(lambda x: (x['EmployeeId'], x['FirstName'] +\" \" +x['LastName']) )\n",
    ")\n",
    "pspk_rdd_cust_mod = (\n",
    "    pspk_rdd_cust\n",
    "    # .filter(lambda x: x['SupportRepId']==3)\n",
    "    .map(lambda x: (x['SupportRepId'], x['CustomerId']) )\n",
    ")\n",
    "pspk_rdd_inv_mod = (\n",
    "    pspk_rdd_inv\n",
    "    .map(lambda x: (x['CustomerId'], x['InvoiceId']) )\n",
    ")"
   ]
  },
  {
   "cell_type": "code",
   "execution_count": 0,
   "metadata": {
    "application/vnd.databricks.v1+cell": {
     "cellMetadata": {
      "byteLimit": 2048000,
      "rowLimit": 10000
     },
     "inputWidgets": {},
     "nuid": "6a8b3117-c018-4142-838f-1068f2b57b43",
     "showTitle": false,
     "title": ""
    }
   },
   "outputs": [
    {
     "output_type": "stream",
     "name": "stdout",
     "output_type": "stream",
     "text": [
      "Out[89]: defaultdict(int,\n            {'Margaret Park': 140, 'Jane Peacock': 146, 'Steve Johnson': 126})"
     ]
    }
   ],
   "source": [
    "(\n",
    "    pspk_rdd_emp_mod\n",
    "    .join(pspk_rdd_cust_mod)\n",
    "    .map(lambda x: x[1])\n",
    "    .map(lambda x: (x[1], x[0] ) )\n",
    "    .join(pspk_rdd_inv_mod)\n",
    "    .map(lambda x: x[1])\n",
    "    .countByKey()\n",
    "    # .take(4)\n",
    ")"
   ]
  },
  {
   "cell_type": "markdown",
   "metadata": {
    "application/vnd.databricks.v1+cell": {
     "cellMetadata": {},
     "inputWidgets": {},
     "nuid": "43c34ad8-596d-46c6-9af1-0d41c7406cb0",
     "showTitle": false,
     "title": ""
    }
   },
   "source": [
    "### 4. How many Invoices were there in 2009 and 2011? What are the respective total sales for each of those years?"
   ]
  },
  {
   "cell_type": "markdown",
   "metadata": {
    "application/vnd.databricks.v1+cell": {
     "cellMetadata": {},
     "inputWidgets": {},
     "nuid": "d174f6f2-9c89-4614-9d5b-c69a3c796dc2",
     "showTitle": false,
     "title": ""
    }
   },
   "source": [
    "#### SQL"
   ]
  },
  {
   "cell_type": "code",
   "execution_count": 0,
   "metadata": {
    "application/vnd.databricks.v1+cell": {
     "cellMetadata": {
      "byteLimit": 2048000,
      "implicitDf": true,
      "rowLimit": 10000
     },
     "inputWidgets": {},
     "nuid": "96de0abe-1d68-4e1b-8fe2-ccb3c85fec6a",
     "showTitle": false,
     "title": ""
    }
   },
   "outputs": [
    {
     "output_type": "display_data",
     "data": {
      "text/html": [
       "<style scoped>\n",
       "  .table-result-container {\n",
       "    max-height: 300px;\n",
       "    overflow: auto;\n",
       "  }\n",
       "  table, th, td {\n",
       "    border: 1px solid black;\n",
       "    border-collapse: collapse;\n",
       "  }\n",
       "  th, td {\n",
       "    padding: 5px;\n",
       "  }\n",
       "  th {\n",
       "    text-align: left;\n",
       "  }\n",
       "</style><div class='table-result-container'><table class='table-result'><thead style='background-color: white'><tr><th>yr</th><th>total_sales</th></tr></thead><tbody><tr><td>2009</td><td>83</td></tr><tr><td>2011</td><td>83</td></tr></tbody></table></div>"
      ]
     },
     "metadata": {
      "application/vnd.databricks.v1+output": {
       "addedWidgets": {},
       "aggData": [],
       "aggError": "",
       "aggOverflow": false,
       "aggSchema": [],
       "aggSeriesLimitReached": false,
       "aggType": "",
       "arguments": {},
       "columnCustomDisplayInfos": {},
       "data": [
        [
         2009,
         83
        ],
        [
         2011,
         83
        ]
       ],
       "datasetInfos": [],
       "dbfsResultPath": null,
       "isJsonSchema": true,
       "metadata": {},
       "overflow": false,
       "plotOptions": {
        "customPlotOptions": {},
        "displayType": "table",
        "pivotAggregation": null,
        "pivotColumns": null,
        "xColumns": null,
        "yColumns": null
       },
       "removedWidgets": [],
       "schema": [
        {
         "metadata": "{}",
         "name": "yr",
         "type": "\"integer\""
        },
        {
         "metadata": "{}",
         "name": "total_sales",
         "type": "\"long\""
        }
       ],
       "type": "table"
      }
     },
     "output_type": "display_data"
    }
   ],
   "source": [
    "%sql\n",
    "\n",
    "select year(invoicedate) yr, count(*) total_sales\n",
    "from invoice\n",
    "where year(invoicedate) in ('2009', '2011')\n",
    "group by yr"
   ]
  },
  {
   "cell_type": "markdown",
   "metadata": {
    "application/vnd.databricks.v1+cell": {
     "cellMetadata": {},
     "inputWidgets": {},
     "nuid": "faf895aa-939b-491a-a70a-d6f7466a24b4",
     "showTitle": false,
     "title": ""
    }
   },
   "source": [
    "#### Pyspark"
   ]
  },
  {
   "cell_type": "code",
   "execution_count": 0,
   "metadata": {
    "application/vnd.databricks.v1+cell": {
     "cellMetadata": {
      "byteLimit": 2048000,
      "rowLimit": 10000
     },
     "inputWidgets": {},
     "nuid": "e58facdd-1a3e-4134-97d1-4cf6251c132e",
     "showTitle": false,
     "title": ""
    }
   },
   "outputs": [
    {
     "output_type": "display_data",
     "data": {
      "text/html": [
       "<style scoped>\n",
       "  .table-result-container {\n",
       "    max-height: 300px;\n",
       "    overflow: auto;\n",
       "  }\n",
       "  table, th, td {\n",
       "    border: 1px solid black;\n",
       "    border-collapse: collapse;\n",
       "  }\n",
       "  th, td {\n",
       "    padding: 5px;\n",
       "  }\n",
       "  th {\n",
       "    text-align: left;\n",
       "  }\n",
       "</style><div class='table-result-container'><table class='table-result'><thead style='background-color: white'><tr><th>invYear</th><th>count</th></tr></thead><tbody><tr><td>2009</td><td>83</td></tr><tr><td>2011</td><td>83</td></tr></tbody></table></div>"
      ]
     },
     "metadata": {
      "application/vnd.databricks.v1+output": {
       "addedWidgets": {},
       "aggData": [],
       "aggError": "",
       "aggOverflow": false,
       "aggSchema": [],
       "aggSeriesLimitReached": false,
       "aggType": "",
       "arguments": {},
       "columnCustomDisplayInfos": {},
       "data": [
        [
         2009,
         83
        ],
        [
         2011,
         83
        ]
       ],
       "datasetInfos": [],
       "dbfsResultPath": null,
       "isJsonSchema": true,
       "metadata": {},
       "overflow": false,
       "plotOptions": {
        "customPlotOptions": {},
        "displayType": "table",
        "pivotAggregation": null,
        "pivotColumns": null,
        "xColumns": null,
        "yColumns": null
       },
       "removedWidgets": [],
       "schema": [
        {
         "metadata": "{}",
         "name": "invYear",
         "type": "\"integer\""
        },
        {
         "metadata": "{}",
         "name": "count",
         "type": "\"long\""
        }
       ],
       "type": "table"
      }
     },
     "output_type": "display_data"
    }
   ],
   "source": [
    "display(\n",
    "    pspk_df_invoice\n",
    "    .withColumn(\"invYear\", year(col(\"InvoiceDate\")))\n",
    "    .filter(\"invYear in ('2009', '2011') \")\n",
    "    .groupBy(\"invYear\")\n",
    "    .count()\n",
    ")"
   ]
  },
  {
   "cell_type": "code",
   "execution_count": 0,
   "metadata": {
    "application/vnd.databricks.v1+cell": {
     "cellMetadata": {
      "byteLimit": 2048000,
      "rowLimit": 10000
     },
     "inputWidgets": {},
     "nuid": "a45112d8-b349-4f27-8789-5c818a9a35dc",
     "showTitle": false,
     "title": ""
    }
   },
   "outputs": [
    {
     "output_type": "display_data",
     "data": {
      "text/html": [
       "<style scoped>\n",
       "  .table-result-container {\n",
       "    max-height: 300px;\n",
       "    overflow: auto;\n",
       "  }\n",
       "  table, th, td {\n",
       "    border: 1px solid black;\n",
       "    border-collapse: collapse;\n",
       "  }\n",
       "  th, td {\n",
       "    padding: 5px;\n",
       "  }\n",
       "  th {\n",
       "    text-align: left;\n",
       "  }\n",
       "</style><div class='table-result-container'><table class='table-result'><thead style='background-color: white'><tr><th>invYear</th><th>count</th></tr></thead><tbody><tr><td>2009</td><td>83</td></tr><tr><td>2011</td><td>83</td></tr></tbody></table></div>"
      ]
     },
     "metadata": {
      "application/vnd.databricks.v1+output": {
       "addedWidgets": {},
       "aggData": [],
       "aggError": "",
       "aggOverflow": false,
       "aggSchema": [],
       "aggSeriesLimitReached": false,
       "aggType": "",
       "arguments": {},
       "columnCustomDisplayInfos": {},
       "data": [
        [
         2009,
         83
        ],
        [
         2011,
         83
        ]
       ],
       "datasetInfos": [],
       "dbfsResultPath": null,
       "isJsonSchema": true,
       "metadata": {},
       "overflow": false,
       "plotOptions": {
        "customPlotOptions": {},
        "displayType": "table",
        "pivotAggregation": null,
        "pivotColumns": null,
        "xColumns": null,
        "yColumns": null
       },
       "removedWidgets": [],
       "schema": [
        {
         "metadata": "{}",
         "name": "invYear",
         "type": "\"integer\""
        },
        {
         "metadata": "{}",
         "name": "count",
         "type": "\"long\""
        }
       ],
       "type": "table"
      }
     },
     "output_type": "display_data"
    }
   ],
   "source": [
    "display(\n",
    "    pspk_df_invoice\n",
    "    .withColumn(\"invYear\", year(col(\"InvoiceDate\")))\n",
    "    .filter(\"invYear in ('2009', '2011') \")\n",
    "    .groupBy(\"invYear\")\n",
    "    .count()\n",
    "    # .pivot(\"invYear\").sum(\"count\")\n",
    ")"
   ]
  },
  {
   "cell_type": "markdown",
   "metadata": {
    "application/vnd.databricks.v1+cell": {
     "cellMetadata": {},
     "inputWidgets": {},
     "nuid": "2a567a0e-5ffd-4e47-878a-f6e785411d9a",
     "showTitle": false,
     "title": ""
    }
   },
   "source": [
    "#### Python"
   ]
  },
  {
   "cell_type": "code",
   "execution_count": 0,
   "metadata": {
    "application/vnd.databricks.v1+cell": {
     "cellMetadata": {
      "byteLimit": 2048000,
      "rowLimit": 10000
     },
     "inputWidgets": {},
     "nuid": "2157b2ad-8d1e-436b-84af-ab08dcc503c8",
     "showTitle": false,
     "title": ""
    }
   },
   "outputs": [],
   "source": [
    "pd_df_invoice = (\n",
    "    pd_df_invoice\n",
    "    .assign(InvYear = pd_df_invoice['InvoiceDate'].dt.year.astype(str))\n",
    ")"
   ]
  },
  {
   "cell_type": "code",
   "execution_count": 0,
   "metadata": {
    "application/vnd.databricks.v1+cell": {
     "cellMetadata": {
      "byteLimit": 2048000,
      "rowLimit": 10000
     },
     "inputWidgets": {},
     "nuid": "e15c16ce-ad88-4da0-9a9c-4579522c0892",
     "showTitle": false,
     "title": ""
    }
   },
   "outputs": [
    {
     "output_type": "stream",
     "name": "stdout",
     "output_type": "stream",
     "text": [
      "Out[94]: InvYear\n2009    83\n2011    83\nName: InvYear, dtype: int64"
     ]
    }
   ],
   "source": [
    "(\n",
    "    pd_df_invoice[ (pd_df_invoice['InvYear'] == '2009') | (pd_df_invoice['InvYear'] == '2011') ]\n",
    "    .groupby(\"InvYear\")['InvYear']\n",
    "    .count()\n",
    ")"
   ]
  },
  {
   "cell_type": "markdown",
   "metadata": {
    "application/vnd.databricks.v1+cell": {
     "cellMetadata": {},
     "inputWidgets": {},
     "nuid": "776b875b-103a-4280-8d5a-82b041c9be17",
     "showTitle": false,
     "title": ""
    }
   },
   "source": [
    "#### RDDs"
   ]
  },
  {
   "cell_type": "code",
   "execution_count": 0,
   "metadata": {
    "application/vnd.databricks.v1+cell": {
     "cellMetadata": {
      "byteLimit": 2048000,
      "rowLimit": 10000
     },
     "inputWidgets": {},
     "nuid": "8b7c1e2b-6248-4188-8eae-26a00e9802d5",
     "showTitle": false,
     "title": ""
    }
   },
   "outputs": [
    {
     "output_type": "stream",
     "name": "stdout",
     "output_type": "stream",
     "text": [
      "Out[95]: '2009'"
     ]
    }
   ],
   "source": [
    "def parseTimeToDate(inDt):\n",
    "    dt = datetime.datetime.strftime(inDt, \"%Y\")\n",
    "    return dt\n",
    "\n",
    "parseTimeToDate(datetime.datetime(2009, 1, 1, 0, 0))"
   ]
  },
  {
   "cell_type": "code",
   "execution_count": 0,
   "metadata": {
    "application/vnd.databricks.v1+cell": {
     "cellMetadata": {
      "byteLimit": 2048000,
      "rowLimit": 10000
     },
     "inputWidgets": {},
     "nuid": "745457a8-bb36-4e2d-a9c2-18b5fa9bfec3",
     "showTitle": false,
     "title": ""
    }
   },
   "outputs": [],
   "source": [
    "pspk_df_invoice_rdd = pspk_df_invoice.rdd"
   ]
  },
  {
   "cell_type": "code",
   "execution_count": 0,
   "metadata": {
    "application/vnd.databricks.v1+cell": {
     "cellMetadata": {
      "byteLimit": 2048000,
      "rowLimit": 10000
     },
     "inputWidgets": {},
     "nuid": "aa5594ec-161c-4025-8fcb-2b9ac059c5d4",
     "showTitle": false,
     "title": ""
    }
   },
   "outputs": [
    {
     "output_type": "stream",
     "name": "stdout",
     "output_type": "stream",
     "text": [
      "Out[97]: [('2009', 83), ('2011', 83)]"
     ]
    }
   ],
   "source": [
    "(\n",
    "    pspk_df_invoice_rdd\n",
    "    .map(lambda x: (parseTimeToDate(x['InvoiceDate']), 1))\n",
    "    .reduceByKey(lambda x,y: x+y)\n",
    "    .filter(lambda x: x[0] in ['2009', '2011'] )\n",
    "    .collect()\n",
    ")"
   ]
  }
 ],
 "metadata": {
  "application/vnd.databricks.v1+notebook": {
   "dashboards": [],
   "language": "python",
   "notebookMetadata": {
    "mostRecentlyExecutedCommandWithImplicitDF": {
     "commandId": 3656353783988802,
     "dataframes": [
      "_sqldf"
     ]
    },
    "pythonIndentUnit": 4
   },
   "notebookName": "Chinook_Data_Analysis",
   "widgets": {}
  }
 },
 "nbformat": 4,
 "nbformat_minor": 0
}
