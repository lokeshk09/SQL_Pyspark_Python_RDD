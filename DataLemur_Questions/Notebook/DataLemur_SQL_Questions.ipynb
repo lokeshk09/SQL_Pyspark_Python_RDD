{
 "cells": [
  {
   "cell_type": "markdown",
   "metadata": {
    "application/vnd.databricks.v1+cell": {
     "cellMetadata": {},
     "inputWidgets": {},
     "nuid": "0072beb2-2276-46a7-92d3-4305611275fb",
     "showTitle": false,
     "title": ""
    }
   },
   "source": [
    "## Loading the Data"
   ]
  },
  {
   "cell_type": "code",
   "execution_count": 0,
   "metadata": {
    "application/vnd.databricks.v1+cell": {
     "cellMetadata": {
      "byteLimit": 2048000,
      "rowLimit": 10000
     },
     "inputWidgets": {},
     "nuid": "3f3f0d84-6871-403b-b500-3952a185f4af",
     "showTitle": false,
     "title": ""
    }
   },
   "outputs": [
    {
     "output_type": "display_data",
     "data": {
      "text/html": [
       "<style scoped>\n",
       "  .table-result-container {\n",
       "    max-height: 300px;\n",
       "    overflow: auto;\n",
       "  }\n",
       "  table, th, td {\n",
       "    border: 1px solid black;\n",
       "    border-collapse: collapse;\n",
       "  }\n",
       "  th, td {\n",
       "    padding: 5px;\n",
       "  }\n",
       "  th {\n",
       "    text-align: left;\n",
       "  }\n",
       "</style><div class='table-result-container'><table class='table-result'><thead style='background-color: white'><tr><th>database</th><th>tableName</th><th>isTemporary</th></tr></thead><tbody><tr><td>datalemur_q</td><td>candidates_skills</td><td>false</td></tr><tr><td>datalemur_q</td><td>emails</td><td>false</td></tr><tr><td>datalemur_q</td><td>items_per_order</td><td>false</td></tr><tr><td>datalemur_q</td><td>job_listings</td><td>false</td></tr><tr><td>datalemur_q</td><td>messages</td><td>false</td></tr><tr><td>datalemur_q</td><td>monthly_cards_issued</td><td>false</td></tr><tr><td>datalemur_q</td><td>page_likes</td><td>false</td></tr><tr><td>datalemur_q</td><td>pages</td><td>false</td></tr><tr><td>datalemur_q</td><td>parts_assembly</td><td>false</td></tr><tr><td>datalemur_q</td><td>pharmacy_sales_p1</td><td>false</td></tr><tr><td>datalemur_q</td><td>pharmacy_sales_p2</td><td>false</td></tr><tr><td>datalemur_q</td><td>pharmacy_sales_p3</td><td>false</td></tr><tr><td>datalemur_q</td><td>posts</td><td>false</td></tr><tr><td>datalemur_q</td><td>reviews</td><td>false</td></tr><tr><td>datalemur_q</td><td>texts</td><td>false</td></tr><tr><td>datalemur_q</td><td>trades</td><td>false</td></tr><tr><td>datalemur_q</td><td>tweets</td><td>false</td></tr><tr><td>datalemur_q</td><td>users</td><td>false</td></tr><tr><td>datalemur_q</td><td>viewership</td><td>false</td></tr></tbody></table></div>"
      ]
     },
     "metadata": {
      "application/vnd.databricks.v1+output": {
       "addedWidgets": {},
       "aggData": [],
       "aggError": "",
       "aggOverflow": false,
       "aggSchema": [],
       "aggSeriesLimitReached": false,
       "aggType": "",
       "arguments": {},
       "columnCustomDisplayInfos": {},
       "data": [
        [
         "datalemur_q",
         "candidates_skills",
         false
        ],
        [
         "datalemur_q",
         "emails",
         false
        ],
        [
         "datalemur_q",
         "items_per_order",
         false
        ],
        [
         "datalemur_q",
         "job_listings",
         false
        ],
        [
         "datalemur_q",
         "messages",
         false
        ],
        [
         "datalemur_q",
         "monthly_cards_issued",
         false
        ],
        [
         "datalemur_q",
         "page_likes",
         false
        ],
        [
         "datalemur_q",
         "pages",
         false
        ],
        [
         "datalemur_q",
         "parts_assembly",
         false
        ],
        [
         "datalemur_q",
         "pharmacy_sales_p1",
         false
        ],
        [
         "datalemur_q",
         "pharmacy_sales_p2",
         false
        ],
        [
         "datalemur_q",
         "pharmacy_sales_p3",
         false
        ],
        [
         "datalemur_q",
         "posts",
         false
        ],
        [
         "datalemur_q",
         "reviews",
         false
        ],
        [
         "datalemur_q",
         "texts",
         false
        ],
        [
         "datalemur_q",
         "trades",
         false
        ],
        [
         "datalemur_q",
         "tweets",
         false
        ],
        [
         "datalemur_q",
         "users",
         false
        ],
        [
         "datalemur_q",
         "viewership",
         false
        ]
       ],
       "datasetInfos": [],
       "dbfsResultPath": null,
       "isJsonSchema": true,
       "metadata": {
        "isDbfsCommandResult": false
       },
       "overflow": false,
       "plotOptions": {
        "customPlotOptions": {},
        "displayType": "table",
        "pivotAggregation": null,
        "pivotColumns": null,
        "xColumns": null,
        "yColumns": null
       },
       "removedWidgets": [],
       "schema": [
        {
         "metadata": "{}",
         "name": "database",
         "type": "\"string\""
        },
        {
         "metadata": "{}",
         "name": "tableName",
         "type": "\"string\""
        },
        {
         "metadata": "{}",
         "name": "isTemporary",
         "type": "\"boolean\""
        }
       ],
       "type": "table"
      }
     },
     "output_type": "display_data"
    }
   ],
   "source": [
    "%run ./DataLemur_DataLoad"
   ]
  },
  {
   "cell_type": "code",
   "execution_count": 0,
   "metadata": {
    "application/vnd.databricks.v1+cell": {
     "cellMetadata": {
      "byteLimit": 2048000,
      "rowLimit": 10000
     },
     "inputWidgets": {},
     "nuid": "bbf63260-a835-4175-935b-b511d374171c",
     "showTitle": false,
     "title": ""
    }
   },
   "outputs": [
    {
     "output_type": "display_data",
     "data": {
      "text/html": [
       "<style scoped>\n",
       "  .table-result-container {\n",
       "    max-height: 300px;\n",
       "    overflow: auto;\n",
       "  }\n",
       "  table, th, td {\n",
       "    border: 1px solid black;\n",
       "    border-collapse: collapse;\n",
       "  }\n",
       "  th, td {\n",
       "    padding: 5px;\n",
       "  }\n",
       "  th {\n",
       "    text-align: left;\n",
       "  }\n",
       "</style><div class='table-result-container'><table class='table-result'><thead style='background-color: white'><tr><th>database</th><th>tableName</th><th>isTemporary</th></tr></thead><tbody></tbody></table></div>"
      ]
     },
     "metadata": {
      "application/vnd.databricks.v1+output": {
       "addedWidgets": {},
       "aggData": [],
       "aggError": "",
       "aggOverflow": false,
       "aggSchema": [],
       "aggSeriesLimitReached": false,
       "aggType": "",
       "arguments": {},
       "columnCustomDisplayInfos": {},
       "data": [],
       "datasetInfos": [],
       "dbfsResultPath": null,
       "isJsonSchema": true,
       "metadata": {
        "isDbfsCommandResult": false
       },
       "overflow": false,
       "plotOptions": {
        "customPlotOptions": {},
        "displayType": "table",
        "pivotAggregation": null,
        "pivotColumns": null,
        "xColumns": null,
        "yColumns": null
       },
       "removedWidgets": [],
       "schema": [
        {
         "metadata": "{}",
         "name": "database",
         "type": "\"string\""
        },
        {
         "metadata": "{}",
         "name": "tableName",
         "type": "\"string\""
        },
        {
         "metadata": "{}",
         "name": "isTemporary",
         "type": "\"boolean\""
        }
       ],
       "type": "table"
      }
     },
     "output_type": "display_data"
    }
   ],
   "source": [
    "%sql\n",
    "show tables;"
   ]
  },
  {
   "cell_type": "markdown",
   "metadata": {
    "application/vnd.databricks.v1+cell": {
     "cellMetadata": {},
     "inputWidgets": {},
     "nuid": "6cf3038c-19d3-4c0a-8039-b9d2547e9872",
     "showTitle": false,
     "title": ""
    }
   },
   "source": [
    "## Questions in SQL(Easy)"
   ]
  },
  {
   "cell_type": "markdown",
   "metadata": {
    "application/vnd.databricks.v1+cell": {
     "cellMetadata": {},
     "inputWidgets": {},
     "nuid": "6b288681-d28d-42cc-9113-bad0aa8fb1b6",
     "showTitle": false,
     "title": ""
    }
   },
   "source": [
    "#### Q1 : Data Science Skills [LinkedIn SQL Interview Question]"
   ]
  },
  {
   "cell_type": "code",
   "execution_count": 0,
   "metadata": {
    "application/vnd.databricks.v1+cell": {
     "cellMetadata": {
      "byteLimit": 2048000,
      "rowLimit": 10000
     },
     "inputWidgets": {},
     "nuid": "cd669c18-ca5d-49d5-acb7-f3387e54292d",
     "showTitle": false,
     "title": ""
    }
   },
   "outputs": [],
   "source": [
    "%sql\n",
    "-- Given a table of candidates and their skills, you're tasked with finding the candidates best suited for an open Data Science job. You want to find candidates who are proficient in Python, Tableau, and PostgreSQL.\n",
    "\n",
    "-- Write a query to list the candidates who possess all of the required skills for the job. Sort the output by candidate ID in ascending order.\n",
    "-- use the table candidates_skills\n",
    "\n",
    "-- https://datalemur.com/questions/matching-skills"
   ]
  },
  {
   "cell_type": "code",
   "execution_count": 0,
   "metadata": {
    "application/vnd.databricks.v1+cell": {
     "cellMetadata": {
      "byteLimit": 2048000,
      "rowLimit": 10000
     },
     "inputWidgets": {},
     "nuid": "3097e268-d774-4701-b413-a2eb002c45ee",
     "showTitle": false,
     "title": ""
    }
   },
   "outputs": [
    {
     "output_type": "display_data",
     "data": {
      "text/html": [
       "<style scoped>\n",
       "  .table-result-container {\n",
       "    max-height: 300px;\n",
       "    overflow: auto;\n",
       "  }\n",
       "  table, th, td {\n",
       "    border: 1px solid black;\n",
       "    border-collapse: collapse;\n",
       "  }\n",
       "  th, td {\n",
       "    padding: 5px;\n",
       "  }\n",
       "  th {\n",
       "    text-align: left;\n",
       "  }\n",
       "</style><div class='table-result-container'><table class='table-result'><thead style='background-color: white'><tr><th>candidate_id</th></tr></thead><tbody><tr><td>123</td></tr></tbody></table></div>"
      ]
     },
     "metadata": {
      "application/vnd.databricks.v1+output": {
       "addedWidgets": {},
       "aggData": [],
       "aggError": "",
       "aggOverflow": false,
       "aggSchema": [],
       "aggSeriesLimitReached": false,
       "aggType": "",
       "arguments": {},
       "columnCustomDisplayInfos": {},
       "data": [
        [
         123
        ]
       ],
       "datasetInfos": [],
       "dbfsResultPath": null,
       "isJsonSchema": true,
       "metadata": {
        "isDbfsCommandResult": false
       },
       "overflow": false,
       "plotOptions": {
        "customPlotOptions": {},
        "displayType": "table",
        "pivotAggregation": null,
        "pivotColumns": null,
        "xColumns": null,
        "yColumns": null
       },
       "removedWidgets": [],
       "schema": [
        {
         "metadata": "{}",
         "name": "candidate_id",
         "type": "\"integer\""
        }
       ],
       "type": "table"
      }
     },
     "output_type": "display_data"
    }
   ],
   "source": [
    "%sql\n",
    "select candidate_id\n",
    "from datalemur_q.candidates_skills\n",
    "where skill in ('Python', 'Tableau', 'PostgreSQL')\n",
    "group by candidate_id\n",
    "having count(candidate_id) = 3\n",
    "order by candidate_id"
   ]
  },
  {
   "cell_type": "markdown",
   "metadata": {
    "application/vnd.databricks.v1+cell": {
     "cellMetadata": {},
     "inputWidgets": {},
     "nuid": "b2b36ca9-a8e9-4e5a-8fb9-5a3a8049290b",
     "showTitle": false,
     "title": ""
    }
   },
   "source": [
    "#### Q2 : Histogram of Tweets [Twitter SQL Interview Question]"
   ]
  },
  {
   "cell_type": "code",
   "execution_count": 0,
   "metadata": {
    "application/vnd.databricks.v1+cell": {
     "cellMetadata": {
      "byteLimit": 2048000,
      "rowLimit": 10000
     },
     "inputWidgets": {},
     "nuid": "a86b3346-3a87-403b-b825-638087036611",
     "showTitle": false,
     "title": ""
    }
   },
   "outputs": [],
   "source": [
    "%sql\n",
    "-- Assume you're given a table Twitter tweet data, write a query to obtain a histogram of tweets posted per user in 2022. Output the tweet count per user as the bucket and the number of Twitter users who fall into that bucket.\n",
    "\n",
    "-- In other words, group the users by the number of tweets they posted in 2022 and count the number of users in each group.\n",
    "\n",
    "-- use tweets table for this exercise\n",
    "-- question from datalemur\n",
    "-- https://datalemur.com/questions/sql-histogram-tweets"
   ]
  },
  {
   "cell_type": "code",
   "execution_count": 0,
   "metadata": {
    "application/vnd.databricks.v1+cell": {
     "cellMetadata": {
      "byteLimit": 2048000,
      "rowLimit": 10000
     },
     "inputWidgets": {},
     "nuid": "3dd4e5b5-63f3-4b14-a913-9c61789ec08b",
     "showTitle": false,
     "title": ""
    }
   },
   "outputs": [
    {
     "output_type": "display_data",
     "data": {
      "text/html": [
       "<style scoped>\n",
       "  .table-result-container {\n",
       "    max-height: 300px;\n",
       "    overflow: auto;\n",
       "  }\n",
       "  table, th, td {\n",
       "    border: 1px solid black;\n",
       "    border-collapse: collapse;\n",
       "  }\n",
       "  th, td {\n",
       "    padding: 5px;\n",
       "  }\n",
       "  th {\n",
       "    text-align: left;\n",
       "  }\n",
       "</style><div class='table-result-container'><table class='table-result'><thead style='background-color: white'><tr><th>tweet_bucket</th><th>users_num</th></tr></thead><tbody><tr><td>1</td><td>2</td></tr><tr><td>2</td><td>1</td></tr></tbody></table></div>"
      ]
     },
     "metadata": {
      "application/vnd.databricks.v1+output": {
       "addedWidgets": {},
       "aggData": [],
       "aggError": "",
       "aggOverflow": false,
       "aggSchema": [],
       "aggSeriesLimitReached": false,
       "aggType": "",
       "arguments": {},
       "columnCustomDisplayInfos": {},
       "data": [
        [
         1,
         2
        ],
        [
         2,
         1
        ]
       ],
       "datasetInfos": [],
       "dbfsResultPath": null,
       "isJsonSchema": true,
       "metadata": {
        "isDbfsCommandResult": false
       },
       "overflow": false,
       "plotOptions": {
        "customPlotOptions": {},
        "displayType": "table",
        "pivotAggregation": null,
        "pivotColumns": null,
        "xColumns": null,
        "yColumns": null
       },
       "removedWidgets": [],
       "schema": [
        {
         "metadata": "{}",
         "name": "tweet_bucket",
         "type": "\"long\""
        },
        {
         "metadata": "{}",
         "name": "users_num",
         "type": "\"long\""
        }
       ],
       "type": "table"
      }
     },
     "output_type": "display_data"
    }
   ],
   "source": [
    "%sql\n",
    "with tb1 as (\n",
    "  select user_id, count(*) tweet_bucket\n",
    "  from datalemur_q.tweets\n",
    "  where year(from_unixtime(unix_timestamp(tweet_date, 'MM/dd/yyyy HH:mm:ss'))) = '2022'\n",
    "  group by user_id\n",
    ")\n",
    "select tweet_bucket, count(*) users_num from tb1\n",
    "group by tweet_bucket"
   ]
  },
  {
   "cell_type": "markdown",
   "metadata": {
    "application/vnd.databricks.v1+cell": {
     "cellMetadata": {},
     "inputWidgets": {},
     "nuid": "3e789ebe-5b61-413a-9094-db40ac4eb23b",
     "showTitle": false,
     "title": ""
    }
   },
   "source": [
    "#### Q3 : Page With No Likes [Facebook SQL Interview Question]"
   ]
  },
  {
   "cell_type": "code",
   "execution_count": 0,
   "metadata": {
    "application/vnd.databricks.v1+cell": {
     "cellMetadata": {
      "byteLimit": 2048000,
      "rowLimit": 10000
     },
     "inputWidgets": {},
     "nuid": "40a5df44-27e5-495c-b5db-d021bcf477a0",
     "showTitle": false,
     "title": ""
    }
   },
   "outputs": [],
   "source": [
    "%sql\n",
    "-- Assume you're given two tables containing data about Facebook Pages and their respective likes (as in \"Like a Facebook Page\").\n",
    "\n",
    "-- Write a query to return the IDs of the Facebook pages that have zero likes. The output should be sorted in ascending order based on the page IDs.\n",
    "\n",
    "-- https://datalemur.com/questions/sql-page-with-no-likes\n",
    "\n",
    "-- use pages & page_likes table for this task"
   ]
  },
  {
   "cell_type": "code",
   "execution_count": 0,
   "metadata": {
    "application/vnd.databricks.v1+cell": {
     "cellMetadata": {
      "byteLimit": 2048000,
      "rowLimit": 10000
     },
     "inputWidgets": {},
     "nuid": "212619db-7d93-4a56-a76d-f0842801dd68",
     "showTitle": false,
     "title": ""
    }
   },
   "outputs": [
    {
     "output_type": "display_data",
     "data": {
      "text/html": [
       "<style scoped>\n",
       "  .table-result-container {\n",
       "    max-height: 300px;\n",
       "    overflow: auto;\n",
       "  }\n",
       "  table, th, td {\n",
       "    border: 1px solid black;\n",
       "    border-collapse: collapse;\n",
       "  }\n",
       "  th, td {\n",
       "    padding: 5px;\n",
       "  }\n",
       "  th {\n",
       "    text-align: left;\n",
       "  }\n",
       "</style><div class='table-result-container'><table class='table-result'><thead style='background-color: white'><tr><th>page_id</th></tr></thead><tbody><tr><td>20701</td></tr></tbody></table></div>"
      ]
     },
     "metadata": {
      "application/vnd.databricks.v1+output": {
       "addedWidgets": {},
       "aggData": [],
       "aggError": "",
       "aggOverflow": false,
       "aggSchema": [],
       "aggSeriesLimitReached": false,
       "aggType": "",
       "arguments": {},
       "columnCustomDisplayInfos": {},
       "data": [
        [
         20701
        ]
       ],
       "datasetInfos": [],
       "dbfsResultPath": null,
       "isJsonSchema": true,
       "metadata": {
        "isDbfsCommandResult": false
       },
       "overflow": false,
       "plotOptions": {
        "customPlotOptions": {},
        "displayType": "table",
        "pivotAggregation": null,
        "pivotColumns": null,
        "xColumns": null,
        "yColumns": null
       },
       "removedWidgets": [],
       "schema": [
        {
         "metadata": "{}",
         "name": "page_id",
         "type": "\"integer\""
        }
       ],
       "type": "table"
      }
     },
     "output_type": "display_data"
    }
   ],
   "source": [
    "%sql\n",
    "with tb1 as (\n",
    "  select p.page_id, pl.liked_date\n",
    "  from datalemur_q.pages p\n",
    "  left join datalemur_q.page_likes pl on (p.page_id = pl.page_id)\n",
    "  where pl.liked_date is NULL\n",
    ")\n",
    "select page_id from tb1 ORDER BY page_id"
   ]
  },
  {
   "cell_type": "markdown",
   "metadata": {
    "application/vnd.databricks.v1+cell": {
     "cellMetadata": {
      "byteLimit": 2048000,
      "rowLimit": 10000
     },
     "inputWidgets": {},
     "nuid": "00e50dc5-8efb-4e0f-a0aa-e0ecccc4a158",
     "showTitle": false,
     "title": ""
    }
   },
   "source": [
    "\n",
    "#### Q4 : Unfinished Parts [Tesla SQL Interview Question]"
   ]
  },
  {
   "cell_type": "code",
   "execution_count": 0,
   "metadata": {
    "application/vnd.databricks.v1+cell": {
     "cellMetadata": {
      "byteLimit": 2048000,
      "rowLimit": 10000
     },
     "inputWidgets": {},
     "nuid": "a9ca2eea-de7a-4c1c-b799-1e9ef9bc0991",
     "showTitle": false,
     "title": ""
    }
   },
   "outputs": [],
   "source": [
    "%sql\n",
    "-- Tesla is investigating production bottlenecks and they need your help to extract the relevant data. Write a query to determine which parts have begun the assembly process but are not yet finished.\n",
    "\n",
    "-- Assumptions:\n",
    "\n",
    "-- parts_assembly table contains all parts currently in production, each at varying stages of the assembly process.\n",
    "-- An unfinished part is one that lacks a finish_date.\n",
    "-- This question is straightforward, so let's approach it with simplicity in both thinking and solution.\n",
    "\n",
    "-- Effective April 11th 2023, the problem statement and assumptions were updated to enhance clarity.\n",
    "\n",
    "-- # https://datalemur.com/questions/tesla-unfinished-parts\n",
    "-- use the table parts_assembly for this task"
   ]
  },
  {
   "cell_type": "code",
   "execution_count": 0,
   "metadata": {
    "application/vnd.databricks.v1+cell": {
     "cellMetadata": {
      "byteLimit": 2048000,
      "rowLimit": 10000
     },
     "inputWidgets": {},
     "nuid": "159bdb13-7165-40ab-8742-a53ab0e08119",
     "showTitle": false,
     "title": ""
    }
   },
   "outputs": [
    {
     "output_type": "display_data",
     "data": {
      "text/html": [
       "<style scoped>\n",
       "  .table-result-container {\n",
       "    max-height: 300px;\n",
       "    overflow: auto;\n",
       "  }\n",
       "  table, th, td {\n",
       "    border: 1px solid black;\n",
       "    border-collapse: collapse;\n",
       "  }\n",
       "  th, td {\n",
       "    padding: 5px;\n",
       "  }\n",
       "  th {\n",
       "    text-align: left;\n",
       "  }\n",
       "</style><div class='table-result-container'><table class='table-result'><thead style='background-color: white'><tr><th>part</th><th>assembly_step</th></tr></thead><tbody><tr><td>bumper</td><td>3</td></tr><tr><td>bumper</td><td>4</td></tr></tbody></table></div>"
      ]
     },
     "metadata": {
      "application/vnd.databricks.v1+output": {
       "addedWidgets": {},
       "aggData": [],
       "aggError": "",
       "aggOverflow": false,
       "aggSchema": [],
       "aggSeriesLimitReached": false,
       "aggType": "",
       "arguments": {},
       "columnCustomDisplayInfos": {},
       "data": [
        [
         "bumper",
         3
        ],
        [
         "bumper",
         4
        ]
       ],
       "datasetInfos": [],
       "dbfsResultPath": null,
       "isJsonSchema": true,
       "metadata": {
        "isDbfsCommandResult": false
       },
       "overflow": false,
       "plotOptions": {
        "customPlotOptions": {},
        "displayType": "table",
        "pivotAggregation": null,
        "pivotColumns": null,
        "xColumns": null,
        "yColumns": null
       },
       "removedWidgets": [],
       "schema": [
        {
         "metadata": "{}",
         "name": "part",
         "type": "\"string\""
        },
        {
         "metadata": "{}",
         "name": "assembly_step",
         "type": "\"integer\""
        }
       ],
       "type": "table"
      }
     },
     "output_type": "display_data"
    }
   ],
   "source": [
    "%sql\n",
    "select part, assembly_step from datalemur_q.parts_assembly where finish_date is null"
   ]
  },
  {
   "cell_type": "markdown",
   "metadata": {
    "application/vnd.databricks.v1+cell": {
     "cellMetadata": {},
     "inputWidgets": {},
     "nuid": "015871df-cc13-4066-9972-6baf4b020cc3",
     "showTitle": false,
     "title": ""
    }
   },
   "source": [
    "#### Q5 : Laptop vs. Mobile Viewership [New York Times SQL Interview Question]"
   ]
  },
  {
   "cell_type": "code",
   "execution_count": 0,
   "metadata": {
    "application/vnd.databricks.v1+cell": {
     "cellMetadata": {
      "byteLimit": 2048000,
      "rowLimit": 10000
     },
     "inputWidgets": {},
     "nuid": "80927e7a-c807-4e30-bbad-4748d9fc1c18",
     "showTitle": false,
     "title": ""
    }
   },
   "outputs": [],
   "source": [
    "%sql\n",
    "-- Assume you're given the table on user viewership categorised by device type where the three types are laptop, tablet, and phone.\n",
    "\n",
    "-- Write a query that calculates the total viewership for laptops and mobile devices where mobile is defined as the sum of tablet and phone viewership. Output the total viewership for laptops as laptop_reviews and the total viewership for mobile devices as mobile_views.\n",
    "\n",
    "-- use viewership table for this task\n",
    "\n",
    "-- https://datalemur.com/questions/laptop-mobile-viewership"
   ]
  },
  {
   "cell_type": "code",
   "execution_count": 0,
   "metadata": {
    "application/vnd.databricks.v1+cell": {
     "cellMetadata": {
      "byteLimit": 2048000,
      "rowLimit": 10000
     },
     "inputWidgets": {},
     "nuid": "3fe2fcff-a6be-468f-86eb-862f159a6a21",
     "showTitle": false,
     "title": ""
    }
   },
   "outputs": [
    {
     "output_type": "display_data",
     "data": {
      "text/html": [
       "<style scoped>\n",
       "  .table-result-container {\n",
       "    max-height: 300px;\n",
       "    overflow: auto;\n",
       "  }\n",
       "  table, th, td {\n",
       "    border: 1px solid black;\n",
       "    border-collapse: collapse;\n",
       "  }\n",
       "  th, td {\n",
       "    padding: 5px;\n",
       "  }\n",
       "  th {\n",
       "    text-align: left;\n",
       "  }\n",
       "</style><div class='table-result-container'><table class='table-result'><thead style='background-color: white'><tr><th>laptop_views</th><th>mobile_views</th></tr></thead><tbody><tr><td>2</td><td>3</td></tr></tbody></table></div>"
      ]
     },
     "metadata": {
      "application/vnd.databricks.v1+output": {
       "addedWidgets": {},
       "aggData": [],
       "aggError": "",
       "aggOverflow": false,
       "aggSchema": [],
       "aggSeriesLimitReached": false,
       "aggType": "",
       "arguments": {},
       "columnCustomDisplayInfos": {},
       "data": [
        [
         2,
         3
        ]
       ],
       "datasetInfos": [],
       "dbfsResultPath": null,
       "isJsonSchema": true,
       "metadata": {
        "isDbfsCommandResult": false
       },
       "overflow": false,
       "plotOptions": {
        "customPlotOptions": {},
        "displayType": "table",
        "pivotAggregation": null,
        "pivotColumns": null,
        "xColumns": null,
        "yColumns": null
       },
       "removedWidgets": [],
       "schema": [
        {
         "metadata": "{}",
         "name": "laptop_views",
         "type": "\"long\""
        },
        {
         "metadata": "{}",
         "name": "mobile_views",
         "type": "\"long\""
        }
       ],
       "type": "table"
      }
     },
     "output_type": "display_data"
    }
   ],
   "source": [
    "%sql\n",
    "-- SELECT \n",
    "--   COUNT(*) FILTER (WHERE device_type = 'laptop') AS laptop_views,\n",
    "--   COUNT(*) FILTER (WHERE device_type IN ('tablet', 'phone'))  AS mobile_views \n",
    "-- FROM viewership; -- learn more on how to use this\n",
    "\n",
    "select sum(case when device_type = 'laptop' then 1 else 0 end) laptop_views,\n",
    "  sum(case when device_type = 'laptop' then 0 else 1 end) mobile_views\n",
    "from datalemur_q.viewership"
   ]
  },
  {
   "cell_type": "markdown",
   "metadata": {
    "application/vnd.databricks.v1+cell": {
     "cellMetadata": {},
     "inputWidgets": {},
     "nuid": "e0db3729-3d59-4d2e-aefb-bf8016c38429",
     "showTitle": false,
     "title": ""
    }
   },
   "source": [
    "#### Q6 : Average Post Hiatus (Part 1) [Facebook SQL Interview Question]"
   ]
  },
  {
   "cell_type": "code",
   "execution_count": 0,
   "metadata": {
    "application/vnd.databricks.v1+cell": {
     "cellMetadata": {
      "byteLimit": 2048000,
      "rowLimit": 10000
     },
     "inputWidgets": {},
     "nuid": "3397fea9-4964-45a4-a369-81c7f2c5c36a",
     "showTitle": false,
     "title": ""
    }
   },
   "outputs": [],
   "source": [
    "%sql\n",
    "-- Given a table of Facebook posts, for each user who posted at least twice in 2021, write a query to find the number of days between each user’s first post of the year and last post of the year in the year 2021. Output the user and number of the days between each user's first and last post.\n",
    "\n",
    "-- use posts table for this task\n",
    "\n",
    "-- https://datalemur.com/questions/sql-average-post-hiatus-1"
   ]
  },
  {
   "cell_type": "code",
   "execution_count": 0,
   "metadata": {
    "application/vnd.databricks.v1+cell": {
     "cellMetadata": {
      "byteLimit": 2048000,
      "rowLimit": 10000
     },
     "inputWidgets": {},
     "nuid": "c0d4b192-a564-45a6-a384-174e7cf4d783",
     "showTitle": false,
     "title": ""
    }
   },
   "outputs": [
    {
     "output_type": "display_data",
     "data": {
      "text/html": [
       "<style scoped>\n",
       "  .table-result-container {\n",
       "    max-height: 300px;\n",
       "    overflow: auto;\n",
       "  }\n",
       "  table, th, td {\n",
       "    border: 1px solid black;\n",
       "    border-collapse: collapse;\n",
       "  }\n",
       "  th, td {\n",
       "    padding: 5px;\n",
       "  }\n",
       "  th {\n",
       "    text-align: left;\n",
       "  }\n",
       "</style><div class='table-result-container'><table class='table-result'><thead style='background-color: white'><tr><th>user_id</th><th>days_between</th></tr></thead><tbody><tr><td>151652</td><td>2</td></tr><tr><td>661093</td><td>21</td></tr></tbody></table></div>"
      ]
     },
     "metadata": {
      "application/vnd.databricks.v1+output": {
       "addedWidgets": {},
       "aggData": [],
       "aggError": "",
       "aggOverflow": false,
       "aggSchema": [],
       "aggSeriesLimitReached": false,
       "aggType": "",
       "arguments": {},
       "columnCustomDisplayInfos": {},
       "data": [
        [
         151652,
         2
        ],
        [
         661093,
         21
        ]
       ],
       "datasetInfos": [],
       "dbfsResultPath": null,
       "isJsonSchema": true,
       "metadata": {
        "isDbfsCommandResult": false
       },
       "overflow": false,
       "plotOptions": {
        "customPlotOptions": {},
        "displayType": "table",
        "pivotAggregation": null,
        "pivotColumns": null,
        "xColumns": null,
        "yColumns": null
       },
       "removedWidgets": [],
       "schema": [
        {
         "metadata": "{}",
         "name": "user_id",
         "type": "\"integer\""
        },
        {
         "metadata": "{}",
         "name": "days_between",
         "type": "\"integer\""
        }
       ],
       "type": "table"
      }
     },
     "output_type": "display_data"
    }
   ],
   "source": [
    "%sql\n",
    "with tb1 as (\n",
    "  select user_id, from_unixtime(unix_timestamp(post_date, 'MM/dd/yyyy HH:mm:ss')) days_between\n",
    "  from datalemur_q.posts order by user_id, days_between asc  \n",
    ") select user_id, datediff(max(days_between), min(days_between)) days_between\n",
    "from tb1\n",
    "group by user_id\n",
    "having count(user_id) >= 2"
   ]
  },
  {
   "cell_type": "markdown",
   "metadata": {
    "application/vnd.databricks.v1+cell": {
     "cellMetadata": {},
     "inputWidgets": {},
     "nuid": "768f83d4-1319-47a9-91ca-53779d9726c3",
     "showTitle": false,
     "title": ""
    }
   },
   "source": [
    "#### Q7 : Teams Power Users [Microsoft SQL Interview Question]"
   ]
  },
  {
   "cell_type": "code",
   "execution_count": 0,
   "metadata": {
    "application/vnd.databricks.v1+cell": {
     "cellMetadata": {
      "byteLimit": 2048000,
      "rowLimit": 10000
     },
     "inputWidgets": {},
     "nuid": "e093bf17-284b-4077-813b-468ea0ecb75f",
     "showTitle": false,
     "title": ""
    }
   },
   "outputs": [],
   "source": [
    "%sql\n",
    "-- write a Query to identify the top 2 Power Users who sent the highest number of messages on Microsoft Teams in August 2022. Display the IDs of these 2 users along with the total number of messages they sent. Output the results in descending order based on the count of messages.\n",
    "-- Assumption:\n",
    "-- No 2 users have semt the same number of messages in August2022\n",
    "\n",
    "-- https://datalemur.com/questions/teams-power-users\n",
    "-- use messages table for this task"
   ]
  },
  {
   "cell_type": "code",
   "execution_count": 0,
   "metadata": {
    "application/vnd.databricks.v1+cell": {
     "cellMetadata": {
      "byteLimit": 2048000,
      "rowLimit": 10000
     },
     "inputWidgets": {},
     "nuid": "696fc493-730c-47c4-95db-42b2948f22ae",
     "showTitle": false,
     "title": ""
    }
   },
   "outputs": [
    {
     "output_type": "display_data",
     "data": {
      "text/html": [
       "<style scoped>\n",
       "  .table-result-container {\n",
       "    max-height: 300px;\n",
       "    overflow: auto;\n",
       "  }\n",
       "  table, th, td {\n",
       "    border: 1px solid black;\n",
       "    border-collapse: collapse;\n",
       "  }\n",
       "  th, td {\n",
       "    padding: 5px;\n",
       "  }\n",
       "  th {\n",
       "    text-align: left;\n",
       "  }\n",
       "</style><div class='table-result-container'><table class='table-result'><thead style='background-color: white'><tr><th>sender_id</th><th>messages_sent</th></tr></thead><tbody><tr><td>3601</td><td>2</td></tr><tr><td>4500</td><td>1</td></tr></tbody></table></div>"
      ]
     },
     "metadata": {
      "application/vnd.databricks.v1+output": {
       "addedWidgets": {},
       "aggData": [],
       "aggError": "",
       "aggOverflow": false,
       "aggSchema": [],
       "aggSeriesLimitReached": false,
       "aggType": "",
       "arguments": {},
       "columnCustomDisplayInfos": {},
       "data": [
        [
         3601,
         2
        ],
        [
         4500,
         1
        ]
       ],
       "datasetInfos": [],
       "dbfsResultPath": null,
       "isJsonSchema": true,
       "metadata": {
        "isDbfsCommandResult": false
       },
       "overflow": false,
       "plotOptions": {
        "customPlotOptions": {},
        "displayType": "table",
        "pivotAggregation": null,
        "pivotColumns": null,
        "xColumns": null,
        "yColumns": null
       },
       "removedWidgets": [],
       "schema": [
        {
         "metadata": "{}",
         "name": "sender_id",
         "type": "\"integer\""
        },
        {
         "metadata": "{}",
         "name": "messages_sent",
         "type": "\"long\""
        }
       ],
       "type": "table"
      }
     },
     "output_type": "display_data"
    }
   ],
   "source": [
    "%sql\n",
    "select sender_id, count(*) messages_sent from datalemur_q.messages\n",
    "where month(from_unixtime(unix_timestamp(sent_date, 'MM/dd/yyyy HH:mm:ss')) ) = '08'\n",
    "group by sender_id"
   ]
  },
  {
   "cell_type": "markdown",
   "metadata": {
    "application/vnd.databricks.v1+cell": {
     "cellMetadata": {
      "byteLimit": 2048000,
      "rowLimit": 10000
     },
     "inputWidgets": {},
     "nuid": "232f8516-da44-44fa-b571-004c553a2947",
     "showTitle": false,
     "title": ""
    }
   },
   "source": [
    "#### Q8 : Duplicate Job Listings [Linkedin SQL Interview Question]"
   ]
  },
  {
   "cell_type": "code",
   "execution_count": 0,
   "metadata": {
    "application/vnd.databricks.v1+cell": {
     "cellMetadata": {
      "byteLimit": 2048000,
      "rowLimit": 10000
     },
     "inputWidgets": {},
     "nuid": "08234d89-2ab9-4d01-8a73-750d325f251d",
     "showTitle": false,
     "title": ""
    }
   },
   "outputs": [],
   "source": [
    "%sql\n",
    "-- Assume you're given a table containing the job postings from various companies on the Linkedin Platform. write a query to retrive the count of companies that have posted duplicate job postings\n",
    "\n",
    "-- Definition:\n",
    "-- Duplicate job postings are defined as 2 job listings within the same company that share identical titles and descriptions\n",
    "\n",
    "-- https://datalemur.com/questions/teams-power-users\n",
    "-- use the table job_listings for this task"
   ]
  },
  {
   "cell_type": "code",
   "execution_count": 0,
   "metadata": {
    "application/vnd.databricks.v1+cell": {
     "cellMetadata": {
      "byteLimit": 2048000,
      "rowLimit": 10000
     },
     "inputWidgets": {},
     "nuid": "b6b3ee06-717a-4be8-aff8-203bd3b15ec3",
     "showTitle": false,
     "title": ""
    }
   },
   "outputs": [
    {
     "output_type": "display_data",
     "data": {
      "text/html": [
       "<style scoped>\n",
       "  .table-result-container {\n",
       "    max-height: 300px;\n",
       "    overflow: auto;\n",
       "  }\n",
       "  table, th, td {\n",
       "    border: 1px solid black;\n",
       "    border-collapse: collapse;\n",
       "  }\n",
       "  th, td {\n",
       "    padding: 5px;\n",
       "  }\n",
       "  th {\n",
       "    text-align: left;\n",
       "  }\n",
       "</style><div class='table-result-container'><table class='table-result'><thead style='background-color: white'><tr><th>duplicate_companies</th></tr></thead><tbody><tr><td>1</td></tr></tbody></table></div>"
      ]
     },
     "metadata": {
      "application/vnd.databricks.v1+output": {
       "addedWidgets": {},
       "aggData": [],
       "aggError": "",
       "aggOverflow": false,
       "aggSchema": [],
       "aggSeriesLimitReached": false,
       "aggType": "",
       "arguments": {},
       "columnCustomDisplayInfos": {},
       "data": [
        [
         1
        ]
       ],
       "datasetInfos": [],
       "dbfsResultPath": null,
       "isJsonSchema": true,
       "metadata": {
        "isDbfsCommandResult": false
       },
       "overflow": false,
       "plotOptions": {
        "customPlotOptions": {},
        "displayType": "table",
        "pivotAggregation": null,
        "pivotColumns": null,
        "xColumns": null,
        "yColumns": null
       },
       "removedWidgets": [],
       "schema": [
        {
         "metadata": "{}",
         "name": "duplicate_companies",
         "type": "\"long\""
        }
       ],
       "type": "table"
      }
     },
     "output_type": "display_data"
    }
   ],
   "source": [
    "%sql\n",
    "select count(distinct company_id) duplicate_companies\n",
    "from datalemur_q.job_listings\n",
    "group by company_id, title, description\n",
    "having count(1) >= 2"
   ]
  },
  {
   "cell_type": "markdown",
   "metadata": {
    "application/vnd.databricks.v1+cell": {
     "cellMetadata": {},
     "inputWidgets": {},
     "nuid": "f034d95e-4df3-463b-a4ae-ef8e44525089",
     "showTitle": false,
     "title": ""
    }
   },
   "source": [
    "#### Q9 : Cities with Completed Trades [Robinhood SQL Interview Question]"
   ]
  },
  {
   "cell_type": "code",
   "execution_count": 0,
   "metadata": {
    "application/vnd.databricks.v1+cell": {
     "cellMetadata": {
      "byteLimit": 2048000,
      "rowLimit": 10000
     },
     "inputWidgets": {},
     "nuid": "2f82bba6-b0d0-41c5-9a33-468212f7c52b",
     "showTitle": false,
     "title": ""
    }
   },
   "outputs": [],
   "source": [
    "%sql\n",
    "-- Assume you're given the tables containing completed trade orders and user details in a Robinhood trading system\n",
    "\n",
    "-- write a query to retrive the top 3 cities that have the highest number of completed trade orders listed in descending order. output the city name and the corresponding number of completed trade orders\n",
    "\n",
    "-- https://datalemur.com/questions/completed-trades\n",
    "-- use the tables trades & users for this task"
   ]
  },
  {
   "cell_type": "code",
   "execution_count": 0,
   "metadata": {
    "application/vnd.databricks.v1+cell": {
     "cellMetadata": {
      "byteLimit": 2048000,
      "rowLimit": 10000
     },
     "inputWidgets": {},
     "nuid": "c8d5e642-5988-4fba-86ab-a2d4dbf37525",
     "showTitle": false,
     "title": ""
    }
   },
   "outputs": [
    {
     "output_type": "display_data",
     "data": {
      "text/html": [
       "<style scoped>\n",
       "  .table-result-container {\n",
       "    max-height: 300px;\n",
       "    overflow: auto;\n",
       "  }\n",
       "  table, th, td {\n",
       "    border: 1px solid black;\n",
       "    border-collapse: collapse;\n",
       "  }\n",
       "  th, td {\n",
       "    padding: 5px;\n",
       "  }\n",
       "  th {\n",
       "    text-align: left;\n",
       "  }\n",
       "</style><div class='table-result-container'><table class='table-result'><thead style='background-color: white'><tr><th>city</th><th>total_orders</th></tr></thead><tbody><tr><td>San Francisco</td><td>3</td></tr><tr><td>Boston</td><td>2</td></tr><tr><td>Denver</td><td>1</td></tr></tbody></table></div>"
      ]
     },
     "metadata": {
      "application/vnd.databricks.v1+output": {
       "addedWidgets": {},
       "aggData": [],
       "aggError": "",
       "aggOverflow": false,
       "aggSchema": [],
       "aggSeriesLimitReached": false,
       "aggType": "",
       "arguments": {},
       "columnCustomDisplayInfos": {},
       "data": [
        [
         "San Francisco",
         3
        ],
        [
         "Boston",
         2
        ],
        [
         "Denver",
         1
        ]
       ],
       "datasetInfos": [],
       "dbfsResultPath": null,
       "isJsonSchema": true,
       "metadata": {
        "isDbfsCommandResult": false
       },
       "overflow": false,
       "plotOptions": {
        "customPlotOptions": {},
        "displayType": "table",
        "pivotAggregation": null,
        "pivotColumns": null,
        "xColumns": null,
        "yColumns": null
       },
       "removedWidgets": [],
       "schema": [
        {
         "metadata": "{}",
         "name": "city",
         "type": "\"string\""
        },
        {
         "metadata": "{}",
         "name": "total_orders",
         "type": "\"long\""
        }
       ],
       "type": "table"
      }
     },
     "output_type": "display_data"
    }
   ],
   "source": [
    "%sql\n",
    "select u.city , count(*) total_orders\n",
    "from datalemur_q.trades t\n",
    "  inner join datalemur_q.users u on t.user_id = u.user_id\n",
    "where t.status = 'Completed'\n",
    "group by u.city\n",
    "order by total_orders desc"
   ]
  },
  {
   "cell_type": "markdown",
   "metadata": {
    "application/vnd.databricks.v1+cell": {
     "cellMetadata": {},
     "inputWidgets": {},
     "nuid": "1101ca29-0639-4c1c-9bef-8a157acd21da",
     "showTitle": false,
     "title": ""
    }
   },
   "source": [
    "#### Q10 : Average Review Ratings [Amazon SQL Interview Questions]"
   ]
  },
  {
   "cell_type": "code",
   "execution_count": 0,
   "metadata": {
    "application/vnd.databricks.v1+cell": {
     "cellMetadata": {
      "byteLimit": 2048000,
      "rowLimit": 10000
     },
     "inputWidgets": {},
     "nuid": "a0c483ff-8dd9-4008-8ad4-a5b256702226",
     "showTitle": false,
     "title": ""
    }
   },
   "outputs": [],
   "source": [
    "%sql\n",
    "-- Given the reviews table, write a query to retrive the average star rating for each product, grouped by month. The output should display the month as a numerical value, product ID and average star rating rounded to 2 decimal places. sort the output first by month and then by product ID\n",
    "\n",
    "-- https://datalemur.com/questions/sql-avg-review-ratings\n",
    "-- use the table reviews for this task"
   ]
  },
  {
   "cell_type": "code",
   "execution_count": 0,
   "metadata": {
    "application/vnd.databricks.v1+cell": {
     "cellMetadata": {
      "byteLimit": 2048000,
      "rowLimit": 10000
     },
     "inputWidgets": {},
     "nuid": "58099a14-1914-40a5-8827-3c83dfeeca1c",
     "showTitle": false,
     "title": ""
    }
   },
   "outputs": [
    {
     "output_type": "display_data",
     "data": {
      "text/html": [
       "<style scoped>\n",
       "  .table-result-container {\n",
       "    max-height: 300px;\n",
       "    overflow: auto;\n",
       "  }\n",
       "  table, th, td {\n",
       "    border: 1px solid black;\n",
       "    border-collapse: collapse;\n",
       "  }\n",
       "  th, td {\n",
       "    padding: 5px;\n",
       "  }\n",
       "  th {\n",
       "    text-align: left;\n",
       "  }\n",
       "</style><div class='table-result-container'><table class='table-result'><thead style='background-color: white'><tr><th>mth</th><th>product_id</th><th>avg_stars</th></tr></thead><tbody><tr><td>6</td><td>50001</td><td>3.5</td></tr><tr><td>6</td><td>69852</td><td>4.0</td></tr><tr><td>7</td><td>69852</td><td>2.5</td></tr></tbody></table></div>"
      ]
     },
     "metadata": {
      "application/vnd.databricks.v1+output": {
       "addedWidgets": {},
       "aggData": [],
       "aggError": "",
       "aggOverflow": false,
       "aggSchema": [],
       "aggSeriesLimitReached": false,
       "aggType": "",
       "arguments": {},
       "columnCustomDisplayInfos": {},
       "data": [
        [
         6,
         50001,
         3.5
        ],
        [
         6,
         69852,
         4.0
        ],
        [
         7,
         69852,
         2.5
        ]
       ],
       "datasetInfos": [],
       "dbfsResultPath": null,
       "isJsonSchema": true,
       "metadata": {
        "isDbfsCommandResult": false
       },
       "overflow": false,
       "plotOptions": {
        "customPlotOptions": {},
        "displayType": "table",
        "pivotAggregation": null,
        "pivotColumns": null,
        "xColumns": null,
        "yColumns": null
       },
       "removedWidgets": [],
       "schema": [
        {
         "metadata": "{}",
         "name": "mth",
         "type": "\"integer\""
        },
        {
         "metadata": "{}",
         "name": "product_id",
         "type": "\"integer\""
        },
        {
         "metadata": "{}",
         "name": "avg_stars",
         "type": "\"double\""
        }
       ],
       "type": "table"
      }
     },
     "output_type": "display_data"
    }
   ],
   "source": [
    "%sql\n",
    "select month(from_unixtime(unix_timestamp(submit_date, 'MM/dd/yyyy HH:mm:ss'))) mth, product_id, round(avg(stars), 2) avg_stars\n",
    "from datalemur_q.reviews\n",
    "group by month(from_unixtime(unix_timestamp(submit_date, 'MM/dd/yyyy HH:mm:ss'))), product_id\n",
    "order by mth, product_id\n"
   ]
  },
  {
   "cell_type": "markdown",
   "metadata": {
    "application/vnd.databricks.v1+cell": {
     "cellMetadata": {},
     "inputWidgets": {},
     "nuid": "fda4a615-3c98-4f43-a98d-2c196d1bc386",
     "showTitle": false,
     "title": ""
    }
   },
   "source": [
    "#### Q11 : App Click-through Rate (CTR)[Facebook Interview Question]"
   ]
  },
  {
   "cell_type": "code",
   "execution_count": 0,
   "metadata": {
    "application/vnd.databricks.v1+cell": {
     "cellMetadata": {
      "byteLimit": 2048000,
      "rowLimit": 10000
     },
     "inputWidgets": {},
     "nuid": "80823827-c8e1-46f9-b623-74f942f1d71b",
     "showTitle": false,
     "title": ""
    }
   },
   "outputs": [],
   "source": [
    "%sql\n",
    "-- Assume you have an events table on facebook app analytics.\n",
    "-- write a query to calculate the click through rate (CTR) for the app in 2022 and round the results to 2 decimal places\n",
    "\n",
    "-- definition and note:\n",
    "-- percentage of Click Through Rate(CTR) = 100*NumberOfClicks/NumberOfImpressions\n",
    "-- To avoid Integer division multiply the CTR by 100.0, not 100\n",
    "\n",
    "-- https://datalemur.com/questions/click-through-rate\n",
    "-- use the table events for this task"
   ]
  },
  {
   "cell_type": "code",
   "execution_count": 0,
   "metadata": {
    "application/vnd.databricks.v1+cell": {
     "cellMetadata": {
      "byteLimit": 2048000,
      "rowLimit": 10000
     },
     "inputWidgets": {},
     "nuid": "64b4ed6d-8e41-4485-8134-c7045f87f1af",
     "showTitle": false,
     "title": ""
    }
   },
   "outputs": [
    {
     "output_type": "display_data",
     "data": {
      "text/html": [
       "<style scoped>\n",
       "  .table-result-container {\n",
       "    max-height: 300px;\n",
       "    overflow: auto;\n",
       "  }\n",
       "  table, th, td {\n",
       "    border: 1px solid black;\n",
       "    border-collapse: collapse;\n",
       "  }\n",
       "  th, td {\n",
       "    padding: 5px;\n",
       "  }\n",
       "  th {\n",
       "    text-align: left;\n",
       "  }\n",
       "</style><div class='table-result-container'><table class='table-result'><thead style='background-color: white'><tr><th>app_id</th><th>ctr</th></tr></thead><tbody><tr><td>234</td><td>100.0</td></tr><tr><td>123</td><td>50.0</td></tr></tbody></table></div>"
      ]
     },
     "metadata": {
      "application/vnd.databricks.v1+output": {
       "addedWidgets": {},
       "aggData": [],
       "aggError": "",
       "aggOverflow": false,
       "aggSchema": [],
       "aggSeriesLimitReached": false,
       "aggType": "",
       "arguments": {},
       "columnCustomDisplayInfos": {},
       "data": [
        [
         234,
         100.0
        ],
        [
         123,
         50.0
        ]
       ],
       "datasetInfos": [],
       "dbfsResultPath": null,
       "isJsonSchema": true,
       "metadata": {
        "isDbfsCommandResult": false
       },
       "overflow": false,
       "plotOptions": {
        "customPlotOptions": {},
        "displayType": "table",
        "pivotAggregation": null,
        "pivotColumns": null,
        "xColumns": null,
        "yColumns": null
       },
       "removedWidgets": [],
       "schema": [
        {
         "metadata": "{}",
         "name": "app_id",
         "type": "\"integer\""
        },
        {
         "metadata": "{}",
         "name": "ctr",
         "type": "\"double\""
        }
       ],
       "type": "table"
      }
     },
     "output_type": "display_data"
    }
   ],
   "source": [
    "%sql\n",
    "select app_id, (sum(case when event_type='click' then 1 else 0 end) / sum(case when event_type='impression' then 1 else 0 end) * 100.0) ctr \n",
    "from datalemur_q.events\n",
    "group by app_id"
   ]
  },
  {
   "cell_type": "markdown",
   "metadata": {
    "application/vnd.databricks.v1+cell": {
     "cellMetadata": {},
     "inputWidgets": {},
     "nuid": "7560f6cf-7caf-4fa5-ac9c-b1065c612f12",
     "showTitle": false,
     "title": ""
    }
   },
   "source": [
    "#### Q12 : Second Day Confirmation [TikTok SQL Interview Question]"
   ]
  },
  {
   "cell_type": "code",
   "execution_count": 0,
   "metadata": {
    "application/vnd.databricks.v1+cell": {
     "cellMetadata": {
      "byteLimit": 2048000,
      "rowLimit": 10000
     },
     "inputWidgets": {},
     "nuid": "826e44a5-2805-4994-af6f-3208e1ac59f0",
     "showTitle": false,
     "title": ""
    }
   },
   "outputs": [],
   "source": [
    "%sql\n",
    "-- Assume you're given tables with information about tiktok user sign-ups and confirmations through email and text. new users on tik tok sign up using their email addresses and upon sign-up, each user receives a text message confirmation to activate their account\n",
    "-- write a query to display the user IDs of those who did not confirm their sign-ups on the first day, but confirmed on second day\n",
    "\n",
    "-- definition:\n",
    "-- action_date refers to the date when users activated their accounts and confirmed their sign-ups through text messages\n",
    "\n",
    "-- https://datalemur.com/questions/second-day-confirmation\n",
    "-- use the table emails, texts for this task"
   ]
  },
  {
   "cell_type": "code",
   "execution_count": 0,
   "metadata": {
    "application/vnd.databricks.v1+cell": {
     "cellMetadata": {
      "byteLimit": 2048000,
      "rowLimit": 10000
     },
     "inputWidgets": {},
     "nuid": "4829a219-5378-4393-90ff-f9ba410107b9",
     "showTitle": false,
     "title": ""
    }
   },
   "outputs": [
    {
     "output_type": "display_data",
     "data": {
      "text/html": [
       "<style scoped>\n",
       "  .table-result-container {\n",
       "    max-height: 300px;\n",
       "    overflow: auto;\n",
       "  }\n",
       "  table, th, td {\n",
       "    border: 1px solid black;\n",
       "    border-collapse: collapse;\n",
       "  }\n",
       "  th, td {\n",
       "    padding: 5px;\n",
       "  }\n",
       "  th {\n",
       "    text-align: left;\n",
       "  }\n",
       "</style><div class='table-result-container'><table class='table-result'><thead style='background-color: white'><tr><th>email_id</th><th>user_id</th><th>signup_date</th></tr></thead><tbody><tr><td>125</td><td>7771</td><td>06/14/2022 00:00:00</td></tr><tr><td>433</td><td>1052</td><td>07/09/2022 00:00:00</td></tr></tbody></table></div>"
      ]
     },
     "metadata": {
      "application/vnd.databricks.v1+output": {
       "addedWidgets": {},
       "aggData": [],
       "aggError": "",
       "aggOverflow": false,
       "aggSchema": [],
       "aggSeriesLimitReached": false,
       "aggType": "",
       "arguments": {},
       "columnCustomDisplayInfos": {},
       "data": [
        [
         125,
         7771,
         "06/14/2022 00:00:00"
        ],
        [
         433,
         1052,
         "07/09/2022 00:00:00"
        ]
       ],
       "datasetInfos": [],
       "dbfsResultPath": null,
       "isJsonSchema": true,
       "metadata": {
        "isDbfsCommandResult": false
       },
       "overflow": false,
       "plotOptions": {
        "customPlotOptions": {},
        "displayType": "table",
        "pivotAggregation": null,
        "pivotColumns": null,
        "xColumns": null,
        "yColumns": null
       },
       "removedWidgets": [],
       "schema": [
        {
         "metadata": "{}",
         "name": "email_id",
         "type": "\"integer\""
        },
        {
         "metadata": "{}",
         "name": "user_id",
         "type": "\"integer\""
        },
        {
         "metadata": "{}",
         "name": "signup_date",
         "type": "\"string\""
        }
       ],
       "type": "table"
      }
     },
     "output_type": "display_data"
    }
   ],
   "source": [
    "%sql\n",
    "select * from datalemur_q.emails"
   ]
  },
  {
   "cell_type": "code",
   "execution_count": 0,
   "metadata": {
    "application/vnd.databricks.v1+cell": {
     "cellMetadata": {
      "byteLimit": 2048000,
      "rowLimit": 10000
     },
     "inputWidgets": {},
     "nuid": "4c0c84c5-b7c4-4ef8-abaa-1375ef2b91c0",
     "showTitle": false,
     "title": ""
    }
   },
   "outputs": [
    {
     "output_type": "display_data",
     "data": {
      "text/html": [
       "<style scoped>\n",
       "  .table-result-container {\n",
       "    max-height: 300px;\n",
       "    overflow: auto;\n",
       "  }\n",
       "  table, th, td {\n",
       "    border: 1px solid black;\n",
       "    border-collapse: collapse;\n",
       "  }\n",
       "  th, td {\n",
       "    padding: 5px;\n",
       "  }\n",
       "  th {\n",
       "    text-align: left;\n",
       "  }\n",
       "</style><div class='table-result-container'><table class='table-result'><thead style='background-color: white'><tr><th>text_id</th><th>email_id</th><th>signup_action</th><th>action_date</th></tr></thead><tbody><tr><td>6878</td><td>125</td><td>Confirmed</td><td>06/14/2022 00:00:00</td></tr><tr><td>6997</td><td>433</td><td>Not Confirmed</td><td>07/09/2022 00:00:00</td></tr><tr><td>7000</td><td>433</td><td>Confirmed</td><td>07/10/2022 00:00:00</td></tr></tbody></table></div>"
      ]
     },
     "metadata": {
      "application/vnd.databricks.v1+output": {
       "addedWidgets": {},
       "aggData": [],
       "aggError": "",
       "aggOverflow": false,
       "aggSchema": [],
       "aggSeriesLimitReached": false,
       "aggType": "",
       "arguments": {},
       "columnCustomDisplayInfos": {},
       "data": [
        [
         6878,
         125,
         "Confirmed",
         "06/14/2022 00:00:00"
        ],
        [
         6997,
         433,
         "Not Confirmed",
         "07/09/2022 00:00:00"
        ],
        [
         7000,
         433,
         "Confirmed",
         "07/10/2022 00:00:00"
        ]
       ],
       "datasetInfos": [],
       "dbfsResultPath": null,
       "isJsonSchema": true,
       "metadata": {
        "isDbfsCommandResult": false
       },
       "overflow": false,
       "plotOptions": {
        "customPlotOptions": {},
        "displayType": "table",
        "pivotAggregation": null,
        "pivotColumns": null,
        "xColumns": null,
        "yColumns": null
       },
       "removedWidgets": [],
       "schema": [
        {
         "metadata": "{}",
         "name": "text_id",
         "type": "\"integer\""
        },
        {
         "metadata": "{}",
         "name": "email_id",
         "type": "\"integer\""
        },
        {
         "metadata": "{}",
         "name": "signup_action",
         "type": "\"string\""
        },
        {
         "metadata": "{}",
         "name": "action_date",
         "type": "\"string\""
        }
       ],
       "type": "table"
      }
     },
     "output_type": "display_data"
    }
   ],
   "source": [
    "%sql\n",
    "select * from datalemur_q.texts"
   ]
  },
  {
   "cell_type": "code",
   "execution_count": 0,
   "metadata": {
    "application/vnd.databricks.v1+cell": {
     "cellMetadata": {
      "byteLimit": 2048000,
      "rowLimit": 10000
     },
     "inputWidgets": {},
     "nuid": "c3e47eb6-bef2-4f2d-aca9-4e052f95524c",
     "showTitle": false,
     "title": ""
    }
   },
   "outputs": [
    {
     "output_type": "display_data",
     "data": {
      "text/html": [
       "<style scoped>\n",
       "  .table-result-container {\n",
       "    max-height: 300px;\n",
       "    overflow: auto;\n",
       "  }\n",
       "  table, th, td {\n",
       "    border: 1px solid black;\n",
       "    border-collapse: collapse;\n",
       "  }\n",
       "  th, td {\n",
       "    padding: 5px;\n",
       "  }\n",
       "  th {\n",
       "    text-align: left;\n",
       "  }\n",
       "</style><div class='table-result-container'><table class='table-result'><thead style='background-color: white'><tr><th>user_id</th></tr></thead><tbody><tr><td>1052</td></tr></tbody></table></div>"
      ]
     },
     "metadata": {
      "application/vnd.databricks.v1+output": {
       "addedWidgets": {},
       "aggData": [],
       "aggError": "",
       "aggOverflow": false,
       "aggSchema": [],
       "aggSeriesLimitReached": false,
       "aggType": "",
       "arguments": {},
       "columnCustomDisplayInfos": {},
       "data": [
        [
         1052
        ]
       ],
       "datasetInfos": [],
       "dbfsResultPath": null,
       "isJsonSchema": true,
       "metadata": {
        "isDbfsCommandResult": false
       },
       "overflow": false,
       "plotOptions": {
        "customPlotOptions": {},
        "displayType": "table",
        "pivotAggregation": null,
        "pivotColumns": null,
        "xColumns": null,
        "yColumns": null
       },
       "removedWidgets": [],
       "schema": [
        {
         "metadata": "{}",
         "name": "user_id",
         "type": "\"integer\""
        }
       ],
       "type": "table"
      }
     },
     "output_type": "display_data"
    }
   ],
   "source": [
    "%sql\n",
    "select e.user_id \n",
    "--e.email_id, e.user_id, from_unixtime(unix_timestamp(e.signup_date, 'MM/dd/yyyy HH:mm:ss')) signup_date,t.signup_action, from_unixtime(unix_timestamp(t.action_date, 'MM/dd/yyyy HH:mm:ss')) action_date\n",
    "from datalemur_q.emails e\n",
    "  inner join texts t on (e.email_id = t.email_id)\n",
    "where signup_action = 'Confirmed' and date_diff(from_unixtime(unix_timestamp(t.action_date, 'MM/dd/yyyy HH:mm:ss')), from_unixtime(unix_timestamp(e.signup_date, 'MM/dd/yyyy HH:mm:ss'))) = 1"
   ]
  },
  {
   "cell_type": "markdown",
   "metadata": {
    "application/vnd.databricks.v1+cell": {
     "cellMetadata": {},
     "inputWidgets": {},
     "nuid": "4f51d3c4-a6c2-441a-8b8a-b5be38f69d01",
     "showTitle": false,
     "title": ""
    }
   },
   "source": [
    "#### Q13 : Cards Issued Difference [JPMorgan Chase SQL Interview Question]"
   ]
  },
  {
   "cell_type": "code",
   "execution_count": 0,
   "metadata": {
    "application/vnd.databricks.v1+cell": {
     "cellMetadata": {
      "byteLimit": 2048000,
      "rowLimit": 10000
     },
     "inputWidgets": {},
     "nuid": "bead04c7-1303-48c0-83c6-980da7c18e51",
     "showTitle": false,
     "title": ""
    }
   },
   "outputs": [],
   "source": [
    "%sql\n",
    "-- Your Team at JPMorgan chase is preparing to launch a new credit cards and to gain some insights, you're analyzing how many credit cards were issued each month\n",
    "-- write a query that outputs the name of each credit card and the difference in the number of issued cards between the month with the highest issuance cards and the lowest issuance. arrange the results based on the largest disparity.\n",
    "\n",
    "-- https://datalemur.com/questions/cards-issued-difference\n",
    "-- use the table monthly_cards_issued for this task"
   ]
  },
  {
   "cell_type": "code",
   "execution_count": 0,
   "metadata": {
    "application/vnd.databricks.v1+cell": {
     "cellMetadata": {
      "byteLimit": 2048000,
      "rowLimit": 10000
     },
     "inputWidgets": {},
     "nuid": "5f57af01-d93f-4db6-9094-be9ec9fe2b62",
     "showTitle": false,
     "title": ""
    }
   },
   "outputs": [
    {
     "output_type": "display_data",
     "data": {
      "text/html": [
       "<style scoped>\n",
       "  .table-result-container {\n",
       "    max-height: 300px;\n",
       "    overflow: auto;\n",
       "  }\n",
       "  table, th, td {\n",
       "    border: 1px solid black;\n",
       "    border-collapse: collapse;\n",
       "  }\n",
       "  th, td {\n",
       "    padding: 5px;\n",
       "  }\n",
       "  th {\n",
       "    text-align: left;\n",
       "  }\n",
       "</style><div class='table-result-container'><table class='table-result'><thead style='background-color: white'><tr><th>card_name</th><th>difference</th></tr></thead><tbody><tr><td>Chase Freedom Flex</td><td>15000</td></tr><tr><td>Chase Sapphire Reserve</td><td>10000</td></tr></tbody></table></div>"
      ]
     },
     "metadata": {
      "application/vnd.databricks.v1+output": {
       "addedWidgets": {},
       "aggData": [],
       "aggError": "",
       "aggOverflow": false,
       "aggSchema": [],
       "aggSeriesLimitReached": false,
       "aggType": "",
       "arguments": {},
       "columnCustomDisplayInfos": {},
       "data": [
        [
         "Chase Freedom Flex",
         15000
        ],
        [
         "Chase Sapphire Reserve",
         10000
        ]
       ],
       "datasetInfos": [],
       "dbfsResultPath": null,
       "isJsonSchema": true,
       "metadata": {
        "isDbfsCommandResult": false
       },
       "overflow": false,
       "plotOptions": {
        "customPlotOptions": {},
        "displayType": "table",
        "pivotAggregation": null,
        "pivotColumns": null,
        "xColumns": null,
        "yColumns": null
       },
       "removedWidgets": [],
       "schema": [
        {
         "metadata": "{}",
         "name": "card_name",
         "type": "\"string\""
        },
        {
         "metadata": "{}",
         "name": "difference",
         "type": "\"integer\""
        }
       ],
       "type": "table"
      }
     },
     "output_type": "display_data"
    }
   ],
   "source": [
    "%sql\n",
    "select card_name, (max(issued_amount) - min(issued_amount)) difference\n",
    "from datalemur_q.monthly_cards_issued\n",
    "group by card_name\n",
    "order by difference desc"
   ]
  },
  {
   "cell_type": "markdown",
   "metadata": {
    "application/vnd.databricks.v1+cell": {
     "cellMetadata": {},
     "inputWidgets": {},
     "nuid": "54ec555d-d2ee-4364-8a86-0f2bb3f13824",
     "showTitle": false,
     "title": ""
    }
   },
   "source": [
    "#### Q14 : Compressed Mean [Alibaba SQL Interview Queston]"
   ]
  },
  {
   "cell_type": "code",
   "execution_count": 0,
   "metadata": {
    "application/vnd.databricks.v1+cell": {
     "cellMetadata": {
      "byteLimit": 2048000,
      "rowLimit": 10000
     },
     "inputWidgets": {},
     "nuid": "fa475eed-057e-4656-a1f7-50aab5122600",
     "showTitle": false,
     "title": ""
    }
   },
   "outputs": [],
   "source": [
    "%sql\n",
    "-- you're trying to find the mean number of items per order on alibaba, rounded to 1 decimal place using tables which includes information on the count of items in each order (item_count_table) and the corresponding number of orders for each item count(order_occurances table)\n",
    "\n",
    "-- https://datalemur.com/questions/alibaba-compressed-mean\n",
    "-- use the table items_per_order\n",
    "-- total items / total orders"
   ]
  },
  {
   "cell_type": "code",
   "execution_count": 0,
   "metadata": {
    "application/vnd.databricks.v1+cell": {
     "cellMetadata": {
      "byteLimit": 2048000,
      "rowLimit": 10000
     },
     "inputWidgets": {},
     "nuid": "962ada9e-ac55-46e9-b5ed-abea9c204141",
     "showTitle": false,
     "title": ""
    }
   },
   "outputs": [
    {
     "output_type": "display_data",
     "data": {
      "text/html": [
       "<style scoped>\n",
       "  .table-result-container {\n",
       "    max-height: 300px;\n",
       "    overflow: auto;\n",
       "  }\n",
       "  table, th, td {\n",
       "    border: 1px solid black;\n",
       "    border-collapse: collapse;\n",
       "  }\n",
       "  th, td {\n",
       "    padding: 5px;\n",
       "  }\n",
       "  th {\n",
       "    text-align: left;\n",
       "  }\n",
       "</style><div class='table-result-container'><table class='table-result'><thead style='background-color: white'><tr><th>mean</th></tr></thead><tbody><tr><td>2.7</td></tr></tbody></table></div>"
      ]
     },
     "metadata": {
      "application/vnd.databricks.v1+output": {
       "addedWidgets": {},
       "aggData": [],
       "aggError": "",
       "aggOverflow": false,
       "aggSchema": [],
       "aggSeriesLimitReached": false,
       "aggType": "",
       "arguments": {},
       "columnCustomDisplayInfos": {},
       "data": [
        [
         2.7
        ]
       ],
       "datasetInfos": [],
       "dbfsResultPath": null,
       "isJsonSchema": true,
       "metadata": {
        "isDbfsCommandResult": false
       },
       "overflow": false,
       "plotOptions": {
        "customPlotOptions": {},
        "displayType": "table",
        "pivotAggregation": null,
        "pivotColumns": null,
        "xColumns": null,
        "yColumns": null
       },
       "removedWidgets": [],
       "schema": [
        {
         "metadata": "{}",
         "name": "mean",
         "type": "\"double\""
        }
       ],
       "type": "table"
      }
     },
     "output_type": "display_data"
    }
   ],
   "source": [
    "%sql\n",
    "select round(sum(item_count*order_occurrences)/sum(order_occurrences), 2) mean\n",
    "from datalemur_q.items_per_order"
   ]
  },
  {
   "cell_type": "markdown",
   "metadata": {
    "application/vnd.databricks.v1+cell": {
     "cellMetadata": {},
     "inputWidgets": {},
     "nuid": "7bed3ab7-b3b4-4495-97f9-7f0b373092f8",
     "showTitle": false,
     "title": ""
    }
   },
   "source": [
    "#### Q15 : Pharmacy Analytics (Part1) [CVS Health SQL Interview Question]"
   ]
  },
  {
   "cell_type": "code",
   "execution_count": 0,
   "metadata": {
    "application/vnd.databricks.v1+cell": {
     "cellMetadata": {
      "byteLimit": 2048000,
      "rowLimit": 10000
     },
     "inputWidgets": {},
     "nuid": "3c924b4a-5777-428e-93dc-2071c1bdfc9f",
     "showTitle": false,
     "title": ""
    }
   },
   "outputs": [],
   "source": [
    "%sql\n",
    "-- CVS Health is trying to better understand its pharmacy sales and how well different products are selling. each drug can only be produced by 1 manufacturer\n",
    "\n",
    "-- write a query to find the top 3 most profitable drugs sold, and how much profit they made. assume that there are no ties in the profits. display the result from highest to the lowest total profit\n",
    "\n",
    "-- definition:\n",
    "-- cogs stands for the cost of goods sold which is the direct cost associated with producing the drug\n",
    "-- total profit = total sales - cost of goods sold\n",
    "\n",
    "-- https://datalemur.com/questions/top-profitable-drugs\n",
    "-- use the table pharmacy_sales for this task"
   ]
  },
  {
   "cell_type": "code",
   "execution_count": 0,
   "metadata": {
    "application/vnd.databricks.v1+cell": {
     "cellMetadata": {
      "byteLimit": 2048000,
      "rowLimit": 10000
     },
     "inputWidgets": {},
     "nuid": "b077fd4b-40f1-4235-9dea-bba819ab3a0c",
     "showTitle": false,
     "title": ""
    }
   },
   "outputs": [
    {
     "output_type": "display_data",
     "data": {
      "text/html": [
       "<style scoped>\n",
       "  .table-result-container {\n",
       "    max-height: 300px;\n",
       "    overflow: auto;\n",
       "  }\n",
       "  table, th, td {\n",
       "    border: 1px solid black;\n",
       "    border-collapse: collapse;\n",
       "  }\n",
       "  th, td {\n",
       "    padding: 5px;\n",
       "  }\n",
       "  th {\n",
       "    text-align: left;\n",
       "  }\n",
       "</style><div class='table-result-container'><table class='table-result'><thead style='background-color: white'><tr><th>drug</th><th>total_profit</th></tr></thead><tbody><tr><td>Zyprexa</td><td>84576.516</td></tr><tr><td>Varicose Relief</td><td>80926.66</td></tr><tr><td>Surmontil</td><td>79815.03</td></tr></tbody></table></div>"
      ]
     },
     "metadata": {
      "application/vnd.databricks.v1+output": {
       "addedWidgets": {},
       "aggData": [],
       "aggError": "",
       "aggOverflow": false,
       "aggSchema": [],
       "aggSeriesLimitReached": false,
       "aggType": "",
       "arguments": {},
       "columnCustomDisplayInfos": {},
       "data": [
        [
         "Zyprexa",
         84576.516
        ],
        [
         "Varicose Relief",
         80926.66
        ],
        [
         "Surmontil",
         79815.03
        ]
       ],
       "datasetInfos": [],
       "dbfsResultPath": null,
       "isJsonSchema": true,
       "metadata": {
        "isDbfsCommandResult": false
       },
       "overflow": false,
       "plotOptions": {
        "customPlotOptions": {},
        "displayType": "table",
        "pivotAggregation": null,
        "pivotColumns": null,
        "xColumns": null,
        "yColumns": null
       },
       "removedWidgets": [],
       "schema": [
        {
         "metadata": "{}",
         "name": "drug",
         "type": "\"string\""
        },
        {
         "metadata": "{}",
         "name": "total_profit",
         "type": "\"float\""
        }
       ],
       "type": "table"
      }
     },
     "output_type": "display_data"
    }
   ],
   "source": [
    "%sql\n",
    "select drug, (total_sales - cogs) total_profit \n",
    "from datalemur_q.pharmacy_sales_p1\n",
    "order by total_profit desc\n",
    "limit 3"
   ]
  },
  {
   "cell_type": "markdown",
   "metadata": {
    "application/vnd.databricks.v1+cell": {
     "cellMetadata": {},
     "inputWidgets": {},
     "nuid": "ea71f770-48ae-4659-8cc1-6cc01f8674f0",
     "showTitle": false,
     "title": ""
    }
   },
   "source": [
    "#### Q16 : Pharmacy Analytics (Part2) [CVS Health SQL Interview Question]"
   ]
  },
  {
   "cell_type": "code",
   "execution_count": 0,
   "metadata": {
    "application/vnd.databricks.v1+cell": {
     "cellMetadata": {
      "byteLimit": 2048000,
      "rowLimit": 10000
     },
     "inputWidgets": {},
     "nuid": "73fc71a2-b9cf-464d-a376-73af05d6fdf1",
     "showTitle": false,
     "title": ""
    }
   },
   "outputs": [],
   "source": [
    "%sql\n",
    "-- CVS Health is trying to better understand its pharmacy sales and how well different products are selling. each drug can only be produced by 1 manufacturer\n",
    "\n",
    "-- write a query to identify the manufactures assosiated with drugs that resulted in loses for CVS health and calculate the total amount of loses incurred\n",
    "\n",
    "-- output the manufacturer's name, number of drugs assosiated with losses, and the total losses in absolute value. display the resuls sorted in descending order with the highest losses displayed at the top\n",
    "\n",
    "-- https://datalemur.com/questions/non-profitable-drugs\n",
    "-- use the table pharmacy_sales_p2 for this task"
   ]
  },
  {
   "cell_type": "code",
   "execution_count": 0,
   "metadata": {
    "application/vnd.databricks.v1+cell": {
     "cellMetadata": {
      "byteLimit": 2048000,
      "rowLimit": 10000
     },
     "inputWidgets": {},
     "nuid": "3d16b4d1-cd9e-4cc3-ba8a-16366033f11e",
     "showTitle": false,
     "title": ""
    }
   },
   "outputs": [
    {
     "output_type": "display_data",
     "data": {
      "text/html": [
       "<style scoped>\n",
       "  .table-result-container {\n",
       "    max-height: 300px;\n",
       "    overflow: auto;\n",
       "  }\n",
       "  table, th, td {\n",
       "    border: 1px solid black;\n",
       "    border-collapse: collapse;\n",
       "  }\n",
       "  th, td {\n",
       "    padding: 5px;\n",
       "  }\n",
       "  th {\n",
       "    text-align: left;\n",
       "  }\n",
       "</style><div class='table-result-container'><table class='table-result'><thead style='background-color: white'><tr><th>manufacturer</th><th>drug_count</th><th>total_profit_loss</th></tr></thead><tbody><tr><td>Biogen</td><td>1</td><td>-297324.75</td></tr><tr><td>AbbVie</td><td>1</td><td>-221429.25</td></tr><tr><td>Eli Lilly</td><td>1</td><td>-221422.25</td></tr></tbody></table></div>"
      ]
     },
     "metadata": {
      "application/vnd.databricks.v1+output": {
       "addedWidgets": {},
       "aggData": [],
       "aggError": "",
       "aggOverflow": false,
       "aggSchema": [],
       "aggSeriesLimitReached": false,
       "aggType": "",
       "arguments": {},
       "columnCustomDisplayInfos": {},
       "data": [
        [
         "Biogen",
         1,
         -297324.75
        ],
        [
         "AbbVie",
         1,
         -221429.25
        ],
        [
         "Eli Lilly",
         1,
         -221422.25
        ]
       ],
       "datasetInfos": [],
       "dbfsResultPath": null,
       "isJsonSchema": true,
       "metadata": {
        "isDbfsCommandResult": false
       },
       "overflow": false,
       "plotOptions": {
        "customPlotOptions": {},
        "displayType": "table",
        "pivotAggregation": null,
        "pivotColumns": null,
        "xColumns": null,
        "yColumns": null
       },
       "removedWidgets": [],
       "schema": [
        {
         "metadata": "{}",
         "name": "manufacturer",
         "type": "\"string\""
        },
        {
         "metadata": "{}",
         "name": "drug_count",
         "type": "\"long\""
        },
        {
         "metadata": "{}",
         "name": "total_profit_loss",
         "type": "\"double\""
        }
       ],
       "type": "table"
      }
     },
     "output_type": "display_data"
    }
   ],
   "source": [
    "%sql\n",
    "select manufacturer, count(*) drug_count, sum(total_sales - cogs) total_profit_loss\n",
    "from datalemur_q.pharmacy_sales_p2\n",
    "where (total_sales - cogs) < 0\n",
    "group by manufacturer\n",
    "order by total_profit_loss asc"
   ]
  },
  {
   "cell_type": "markdown",
   "metadata": {
    "application/vnd.databricks.v1+cell": {
     "cellMetadata": {},
     "inputWidgets": {},
     "nuid": "fe6232bd-c718-41b0-ab8f-3fb2d92f7410",
     "showTitle": false,
     "title": ""
    }
   },
   "source": [
    "#### Q17 : Pharmacy Analytics (Part2) [CVS Health SQL Interview Question]"
   ]
  },
  {
   "cell_type": "code",
   "execution_count": 0,
   "metadata": {
    "application/vnd.databricks.v1+cell": {
     "cellMetadata": {
      "byteLimit": 2048000,
      "rowLimit": 10000
     },
     "inputWidgets": {},
     "nuid": "ca9da9cb-e147-43ca-81d4-3c36ffe89f53",
     "showTitle": false,
     "title": ""
    }
   },
   "outputs": [],
   "source": [
    "%sql\n",
    "-- CVS Health wants to gain a clearer understanding of its pharmacy sales and the performance of various products\n",
    "\n",
    "-- write a query to calculate the total drug sales for each manufacturer. round the answer to the nearest million and report your results in descending order of total sales. in case of any duplicates, sort them alphabetically by the manufacturer name.\n",
    "\n",
    "-- since this data will be displayed on a dashboard viewed by the business stakeholders, please format your results as fallows \"$36 million\"\n",
    "\n",
    "-- https://datalemur.com/questions/total-drugs-sales\n",
    "-- use the table pharmacy_sales_p3 for this task"
   ]
  },
  {
   "cell_type": "code",
   "execution_count": 0,
   "metadata": {
    "application/vnd.databricks.v1+cell": {
     "cellMetadata": {
      "byteLimit": 2048000,
      "rowLimit": 10000
     },
     "inputWidgets": {},
     "nuid": "20607076-ea70-4e6e-9a52-f81a13ed28b8",
     "showTitle": false,
     "title": ""
    }
   },
   "outputs": [
    {
     "output_type": "display_data",
     "data": {
      "text/html": [
       "<style scoped>\n",
       "  .table-result-container {\n",
       "    max-height: 300px;\n",
       "    overflow: auto;\n",
       "  }\n",
       "  table, th, td {\n",
       "    border: 1px solid black;\n",
       "    border-collapse: collapse;\n",
       "  }\n",
       "  th, td {\n",
       "    padding: 5px;\n",
       "  }\n",
       "  th {\n",
       "    text-align: left;\n",
       "  }\n",
       "</style><div class='table-result-container'><table class='table-result'><thead style='background-color: white'><tr><th>manufacturer</th><th>sale</th></tr></thead><tbody><tr><td>Biogen</td><td>$4 million</td></tr><tr><td>Eli Lilly</td><td>$3 million</td></tr></tbody></table></div>"
      ]
     },
     "metadata": {
      "application/vnd.databricks.v1+output": {
       "addedWidgets": {},
       "aggData": [],
       "aggError": "",
       "aggOverflow": false,
       "aggSchema": [],
       "aggSeriesLimitReached": false,
       "aggType": "",
       "arguments": {},
       "columnCustomDisplayInfos": {},
       "data": [
        [
         "Biogen",
         "$4 million"
        ],
        [
         "Eli Lilly",
         "$3 million"
        ]
       ],
       "datasetInfos": [],
       "dbfsResultPath": null,
       "isJsonSchema": true,
       "metadata": {
        "isDbfsCommandResult": false
       },
       "overflow": false,
       "plotOptions": {
        "customPlotOptions": {},
        "displayType": "table",
        "pivotAggregation": null,
        "pivotColumns": null,
        "xColumns": null,
        "yColumns": null
       },
       "removedWidgets": [],
       "schema": [
        {
         "metadata": "{}",
         "name": "manufacturer",
         "type": "\"string\""
        },
        {
         "metadata": "{}",
         "name": "sale",
         "type": "\"string\""
        }
       ],
       "type": "table"
      }
     },
     "output_type": "display_data"
    }
   ],
   "source": [
    "%sql\n",
    "select manufacturer, '$' || ceil(round(sum(total_sales)/1000000, 2)) || ' million' sale\n",
    "from datalemur_q.pharmacy_sales_p3\n",
    "group by manufacturer"
   ]
  },
  {
   "cell_type": "markdown",
   "metadata": {
    "application/vnd.databricks.v1+cell": {
     "cellMetadata": {},
     "inputWidgets": {},
     "nuid": "f5777708-0eaa-43b2-bdff-8a2b700c8ce6",
     "showTitle": false,
     "title": ""
    }
   },
   "source": [
    "## Questions in SQL(Medium)"
   ]
  },
  {
   "cell_type": "markdown",
   "metadata": {
    "application/vnd.databricks.v1+cell": {
     "cellMetadata": {},
     "inputWidgets": {},
     "nuid": "0fafa91b-b875-43e0-8288-8a327d645d2e",
     "showTitle": false,
     "title": ""
    }
   },
   "source": [
    "#### Q1 : User's Third Transaction [Uber SQL Interview Question]"
   ]
  },
  {
   "cell_type": "code",
   "execution_count": 0,
   "metadata": {
    "application/vnd.databricks.v1+cell": {
     "cellMetadata": {
      "byteLimit": 2048000,
      "rowLimit": 10000
     },
     "inputWidgets": {},
     "nuid": "f17c6f98-30ef-4bd5-96d4-cb5618d004b0",
     "showTitle": false,
     "title": ""
    }
   },
   "outputs": [],
   "source": [
    "%sql\n",
    "-- Assume you are given the table below on Uber transactions made by users. Write a query to obtain the third transaction of every user. Output the user id, spend and transaction date.\n",
    "\n",
    "-- use transactions table for this task\n",
    "-- https://datalemur.com/questions/sql-third-transaction"
   ]
  },
  {
   "cell_type": "code",
   "execution_count": 0,
   "metadata": {
    "application/vnd.databricks.v1+cell": {
     "cellMetadata": {
      "byteLimit": 2048000,
      "rowLimit": 10000
     },
     "inputWidgets": {},
     "nuid": "b09a605d-a9c3-4a30-ba85-94adce29990a",
     "showTitle": false,
     "title": ""
    }
   },
   "outputs": [
    {
     "output_type": "display_data",
     "data": {
      "text/html": [
       "<style scoped>\n",
       "  .table-result-container {\n",
       "    max-height: 300px;\n",
       "    overflow: auto;\n",
       "  }\n",
       "  table, th, td {\n",
       "    border: 1px solid black;\n",
       "    border-collapse: collapse;\n",
       "  }\n",
       "  th, td {\n",
       "    padding: 5px;\n",
       "  }\n",
       "  th {\n",
       "    text-align: left;\n",
       "  }\n",
       "</style><div class='table-result-container'><table class='table-result'><thead style='background-color: white'><tr><th>user_id</th><th>spend</th><th>transaction_date</th></tr></thead><tbody><tr><td>111</td><td>89.6</td><td>2022-02-05T12:00:00.000+0000</td></tr></tbody></table></div>"
      ]
     },
     "metadata": {
      "application/vnd.databricks.v1+output": {
       "addedWidgets": {},
       "aggData": [],
       "aggError": "",
       "aggOverflow": false,
       "aggSchema": [],
       "aggSeriesLimitReached": false,
       "aggType": "",
       "arguments": {},
       "columnCustomDisplayInfos": {},
       "data": [
        [
         111,
         89.6,
         "2022-02-05T12:00:00.000+0000"
        ]
       ],
       "datasetInfos": [],
       "dbfsResultPath": null,
       "isJsonSchema": true,
       "metadata": {
        "isDbfsCommandResult": false
       },
       "overflow": false,
       "plotOptions": {
        "customPlotOptions": {},
        "displayType": "table",
        "pivotAggregation": null,
        "pivotColumns": null,
        "xColumns": null,
        "yColumns": null
       },
       "removedWidgets": [],
       "schema": [
        {
         "metadata": "{}",
         "name": "user_id",
         "type": "\"integer\""
        },
        {
         "metadata": "{}",
         "name": "spend",
         "type": "\"double\""
        },
        {
         "metadata": "{}",
         "name": "transaction_date",
         "type": "\"timestamp\""
        }
       ],
       "type": "table"
      }
     },
     "output_type": "display_data"
    }
   ],
   "source": [
    "%sql\n",
    "with tb1 as (\n",
    "  select *, row_number() over (partition by user_id order by transaction_date asc) rn\n",
    "  from datalemur_q.transactions\n",
    ") select user_id,spend, transaction_date\n",
    "from tb1 where rn = 3"
   ]
  },
  {
   "cell_type": "markdown",
   "metadata": {
    "application/vnd.databricks.v1+cell": {
     "cellMetadata": {},
     "inputWidgets": {},
     "nuid": "4c4dd2a9-78b8-46aa-abaf-aa152c0de7b4",
     "showTitle": false,
     "title": ""
    }
   },
   "source": [
    "#### Q2 : Sending vs. Opening Snaps [Snapchat SQL Interview Question]"
   ]
  },
  {
   "cell_type": "code",
   "execution_count": 0,
   "metadata": {
    "application/vnd.databricks.v1+cell": {
     "cellMetadata": {
      "byteLimit": 2048000,
      "rowLimit": 10000
     },
     "inputWidgets": {},
     "nuid": "7cef65d9-5a7a-4d16-8924-687c10c7c1e1",
     "showTitle": false,
     "title": ""
    }
   },
   "outputs": [],
   "source": [
    "%sql\n",
    "-- Assume you're given tables with information on Snapchat users, including their ages and time spent sending and opening snaps.\n",
    "\n",
    "-- Write a query to obtain a breakdown of the time spent sending vs. opening snaps as a percentage of total time spent on these activities grouped by age group. Round the percentage to 2 decimal places in the output.\n",
    "\n",
    "-- Notes:\n",
    "\n",
    "-- Calculate the following percentages:\n",
    "-- time spent sending / (Time spent sending + Time spent opening)\n",
    "-- Time spent opening / (Time spent sending + Time spent opening)\n",
    "-- To avoid integer division in percentages, multiply by 100.0 and not 100.\n",
    "\n",
    "-- use the tables activities, age_breakdown for this task\n",
    "-- https://datalemur.com/questions/time-spent-snaps"
   ]
  },
  {
   "cell_type": "code",
   "execution_count": 0,
   "metadata": {
    "application/vnd.databricks.v1+cell": {
     "cellMetadata": {
      "byteLimit": 2048000,
      "rowLimit": 10000
     },
     "inputWidgets": {},
     "nuid": "2af42c18-e9f1-461d-95fa-17d8b0c3c64c",
     "showTitle": false,
     "title": ""
    }
   },
   "outputs": [
    {
     "output_type": "display_data",
     "data": {
      "text/html": [
       "<style scoped>\n",
       "  .table-result-container {\n",
       "    max-height: 300px;\n",
       "    overflow: auto;\n",
       "  }\n",
       "  table, th, td {\n",
       "    border: 1px solid black;\n",
       "    border-collapse: collapse;\n",
       "  }\n",
       "  th, td {\n",
       "    padding: 5px;\n",
       "  }\n",
       "  th {\n",
       "    text-align: left;\n",
       "  }\n",
       "</style><div class='table-result-container'><table class='table-result'><thead style='background-color: white'><tr><th>age_bucket</th><th>send_perc</th><th>open_perc</th></tr></thead><tbody><tr><td>31-35</td><td>43.75</td><td>56.25</td></tr><tr><td>26-30</td><td>65.4</td><td>34.6</td></tr></tbody></table></div>"
      ]
     },
     "metadata": {
      "application/vnd.databricks.v1+output": {
       "addedWidgets": {},
       "aggData": [],
       "aggError": "",
       "aggOverflow": false,
       "aggSchema": [],
       "aggSeriesLimitReached": false,
       "aggType": "",
       "arguments": {},
       "columnCustomDisplayInfos": {},
       "data": [
        [
         "31-35",
         43.75,
         56.25
        ],
        [
         "26-30",
         65.4,
         34.6
        ]
       ],
       "datasetInfos": [],
       "dbfsResultPath": null,
       "isJsonSchema": true,
       "metadata": {
        "isDbfsCommandResult": false
       },
       "overflow": false,
       "plotOptions": {
        "customPlotOptions": {},
        "displayType": "table",
        "pivotAggregation": null,
        "pivotColumns": null,
        "xColumns": null,
        "yColumns": null
       },
       "removedWidgets": [],
       "schema": [
        {
         "metadata": "{}",
         "name": "age_bucket",
         "type": "\"string\""
        },
        {
         "metadata": "{}",
         "name": "send_perc",
         "type": "\"double\""
        },
        {
         "metadata": "{}",
         "name": "open_perc",
         "type": "\"double\""
        }
       ],
       "type": "table"
      }
     },
     "output_type": "display_data"
    }
   ],
   "source": [
    "%sql\n",
    "with tb1 as (\n",
    "  select b.age_bucket, \n",
    "    sum(case when a.activity_type = 'send' then a.time_spent else 0 end) / ( sum(case when a.activity_type = 'send' then a.time_spent else 0 end) + sum(case when a.activity_type = 'open' then a.time_spent else 0 end) )*100.0 send_perc,\n",
    "    sum(case when a.activity_type = 'open' then a.time_spent else 0 end) / ( sum(case when a.activity_type = 'send' then a.time_spent else 0 end) + sum(case when a.activity_type = 'open' then a.time_spent else 0 end) )*100.0 open_perc\n",
    "    -- sum() open_perc\n",
    "  from datalemur_q.activities a\n",
    "  inner join datalemur_q.age_breakdown b on (a.user_id = b.user_id)\n",
    "  group by b.age_bucket\n",
    ") select age_bucket, round(send_perc, 2 )send_perc, round(open_perc, 2) open_perc\n",
    "from tb1\n",
    "where ((send_perc is not null) or (open_perc is not null))"
   ]
  },
  {
   "cell_type": "markdown",
   "metadata": {
    "application/vnd.databricks.v1+cell": {
     "cellMetadata": {},
     "inputWidgets": {},
     "nuid": "dc22fcbe-7f6a-4483-a423-2d8ce1d04844",
     "showTitle": false,
     "title": ""
    }
   },
   "source": [
    "#### Q3 : Tweets' Rolling Averages [Twitter SQL Interview Question]"
   ]
  },
  {
   "cell_type": "code",
   "execution_count": 0,
   "metadata": {
    "application/vnd.databricks.v1+cell": {
     "cellMetadata": {
      "byteLimit": 2048000,
      "rowLimit": 10000
     },
     "inputWidgets": {},
     "nuid": "e2cd11a6-6768-4c9e-842b-f6b87b2f8dbc",
     "showTitle": false,
     "title": ""
    }
   },
   "outputs": [],
   "source": [
    "%sql\n",
    "-- Given a table of tweet data over a specified time period, calculate the 3-day rolling average of tweets for each user. Output the user ID, tweet date, and rolling averages rounded to 2 decimal places.\n",
    "\n",
    "-- Notes:\n",
    "\n",
    "-- A rolling average, also known as a moving average or running mean is a time-series technique that examines trends in data over a specified period of time.\n",
    "-- In this case, we want to determine how the tweet count for each user changes over a 3-day period.\n",
    "\n",
    "-- https://datalemur.com/questions/rolling-average-tweets\n",
    "\n",
    "-- use the table tweets_hd for this task"
   ]
  },
  {
   "cell_type": "code",
   "execution_count": 0,
   "metadata": {
    "application/vnd.databricks.v1+cell": {
     "cellMetadata": {
      "byteLimit": 2048000,
      "rowLimit": 10000
     },
     "inputWidgets": {},
     "nuid": "fd34d9f6-cbd1-4d04-ab3b-839f6a5d600f",
     "showTitle": false,
     "title": ""
    }
   },
   "outputs": [
    {
     "output_type": "display_data",
     "data": {
      "text/html": [
       "<style scoped>\n",
       "  .table-result-container {\n",
       "    max-height: 300px;\n",
       "    overflow: auto;\n",
       "  }\n",
       "  table, th, td {\n",
       "    border: 1px solid black;\n",
       "    border-collapse: collapse;\n",
       "  }\n",
       "  th, td {\n",
       "    padding: 5px;\n",
       "  }\n",
       "  th {\n",
       "    text-align: left;\n",
       "  }\n",
       "</style><div class='table-result-container'><table class='table-result'><thead style='background-color: white'><tr><th>user_id</th><th>tweet_date</th><th>tweet_count</th><th>rolling_avg</th></tr></thead><tbody><tr><td>111</td><td>2022-06-01T00:00:00.000+0000</td><td>2</td><td>2.0</td></tr><tr><td>111</td><td>2022-06-02T00:00:00.000+0000</td><td>1</td><td>1.5</td></tr><tr><td>111</td><td>2022-06-03T00:00:00.000+0000</td><td>3</td><td>2.0</td></tr><tr><td>111</td><td>2022-06-04T00:00:00.000+0000</td><td>4</td><td>2.67</td></tr><tr><td>111</td><td>2022-06-05T00:00:00.000+0000</td><td>5</td><td>4.0</td></tr></tbody></table></div>"
      ]
     },
     "metadata": {
      "application/vnd.databricks.v1+output": {
       "addedWidgets": {},
       "aggData": [],
       "aggError": "",
       "aggOverflow": false,
       "aggSchema": [],
       "aggSeriesLimitReached": false,
       "aggType": "",
       "arguments": {},
       "columnCustomDisplayInfos": {},
       "data": [
        [
         111,
         "2022-06-01T00:00:00.000+0000",
         2,
         2.0
        ],
        [
         111,
         "2022-06-02T00:00:00.000+0000",
         1,
         1.5
        ],
        [
         111,
         "2022-06-03T00:00:00.000+0000",
         3,
         2.0
        ],
        [
         111,
         "2022-06-04T00:00:00.000+0000",
         4,
         2.67
        ],
        [
         111,
         "2022-06-05T00:00:00.000+0000",
         5,
         4.0
        ]
       ],
       "datasetInfos": [],
       "dbfsResultPath": null,
       "isJsonSchema": true,
       "metadata": {
        "isDbfsCommandResult": false
       },
       "overflow": false,
       "plotOptions": {
        "customPlotOptions": {},
        "displayType": "table",
        "pivotAggregation": null,
        "pivotColumns": null,
        "xColumns": null,
        "yColumns": null
       },
       "removedWidgets": [],
       "schema": [
        {
         "metadata": "{}",
         "name": "user_id",
         "type": "\"integer\""
        },
        {
         "metadata": "{}",
         "name": "tweet_date",
         "type": "\"timestamp\""
        },
        {
         "metadata": "{}",
         "name": "tweet_count",
         "type": "\"integer\""
        },
        {
         "metadata": "{}",
         "name": "rolling_avg",
         "type": "\"double\""
        }
       ],
       "type": "table"
      }
     },
     "output_type": "display_data"
    }
   ],
   "source": [
    "%sql\n",
    "select *, round(avg(tweet_count) over (order by tweet_date asc rows between 2 preceding and current row), 2)rolling_avg\n",
    "from datalemur_q.tweets_hd"
   ]
  },
  {
   "cell_type": "markdown",
   "metadata": {
    "application/vnd.databricks.v1+cell": {
     "cellMetadata": {},
     "inputWidgets": {},
     "nuid": "7c486334-26b6-4765-a0f4-ef999ced9944",
     "showTitle": false,
     "title": ""
    }
   },
   "source": [
    "#### Q4 : Highest-Grossing Items [Amazon SQL Interview Question]"
   ]
  },
  {
   "cell_type": "code",
   "execution_count": 0,
   "metadata": {
    "application/vnd.databricks.v1+cell": {
     "cellMetadata": {
      "byteLimit": 2048000,
      "rowLimit": 10000
     },
     "inputWidgets": {},
     "nuid": "83b92481-79b3-4a1f-b3ff-974719332c9d",
     "showTitle": false,
     "title": ""
    }
   },
   "outputs": [],
   "source": [
    "%sql\n",
    "-- Assume you're given a table containing data on Amazon customers and their spending on products in different category, write a query to identify the top two highest-grossing products within each category in the year 2022. The output should include the category, product, and total spend.\n",
    "\n",
    "-- https://datalemur.com/questions/sql-highest-grossing\n",
    "-- use the table product_spend for this task"
   ]
  },
  {
   "cell_type": "code",
   "execution_count": 0,
   "metadata": {
    "application/vnd.databricks.v1+cell": {
     "cellMetadata": {
      "byteLimit": 2048000,
      "rowLimit": 10000
     },
     "inputWidgets": {},
     "nuid": "b13ea133-6373-48e4-8183-3d06d72270df",
     "showTitle": false,
     "title": ""
    }
   },
   "outputs": [
    {
     "output_type": "display_data",
     "data": {
      "text/html": [
       "<style scoped>\n",
       "  .table-result-container {\n",
       "    max-height: 300px;\n",
       "    overflow: auto;\n",
       "  }\n",
       "  table, th, td {\n",
       "    border: 1px solid black;\n",
       "    border-collapse: collapse;\n",
       "  }\n",
       "  th, td {\n",
       "    padding: 5px;\n",
       "  }\n",
       "  th {\n",
       "    text-align: left;\n",
       "  }\n",
       "</style><div class='table-result-container'><table class='table-result'><thead style='background-color: white'><tr><th>category</th><th>product</th><th>total_spend</th><th>rn</th></tr></thead><tbody><tr><td>appliance</td><td>refrigerator</td><td>299.99</td><td>1</td></tr><tr><td>appliance</td><td>washing machine</td><td>219.8</td><td>2</td></tr><tr><td>electronics</td><td>vacuum</td><td>341.0</td><td>1</td></tr><tr><td>electronics</td><td>wireless headset</td><td>249.9</td><td>2</td></tr></tbody></table></div>"
      ]
     },
     "metadata": {
      "application/vnd.databricks.v1+output": {
       "addedWidgets": {},
       "aggData": [],
       "aggError": "",
       "aggOverflow": false,
       "aggSchema": [],
       "aggSeriesLimitReached": false,
       "aggType": "",
       "arguments": {},
       "columnCustomDisplayInfos": {},
       "data": [
        [
         "appliance",
         "refrigerator",
         299.99,
         1
        ],
        [
         "appliance",
         "washing machine",
         219.8,
         2
        ],
        [
         "electronics",
         "vacuum",
         341.0,
         1
        ],
        [
         "electronics",
         "wireless headset",
         249.9,
         2
        ]
       ],
       "datasetInfos": [],
       "dbfsResultPath": null,
       "isJsonSchema": true,
       "metadata": {
        "isDbfsCommandResult": false
       },
       "overflow": false,
       "plotOptions": {
        "customPlotOptions": {},
        "displayType": "table",
        "pivotAggregation": null,
        "pivotColumns": null,
        "xColumns": null,
        "yColumns": null
       },
       "removedWidgets": [],
       "schema": [
        {
         "metadata": "{}",
         "name": "category",
         "type": "\"string\""
        },
        {
         "metadata": "{}",
         "name": "product",
         "type": "\"string\""
        },
        {
         "metadata": "{}",
         "name": "total_spend",
         "type": "\"double\""
        },
        {
         "metadata": "{}",
         "name": "rn",
         "type": "\"integer\""
        }
       ],
       "type": "table"
      }
     },
     "output_type": "display_data"
    }
   ],
   "source": [
    "%sql\n",
    "with tb1 as (\n",
    "  select category, product, sum(spend) total_spend\n",
    "  from datalemur_q.product_spend\n",
    "  where year(transaction_date) = '2022'\n",
    "  group by category, product\n",
    "), tb2 as (\n",
    "  select *, row_number() over (partition by category order by total_spend desc) rn\n",
    "  from tb1\n",
    ") select * from tb2 where rn <= 2\n"
   ]
  },
  {
   "cell_type": "markdown",
   "metadata": {
    "application/vnd.databricks.v1+cell": {
     "cellMetadata": {},
     "inputWidgets": {},
     "nuid": "f3fd80da-b281-4569-a54a-6cfaa9e2a46c",
     "showTitle": false,
     "title": ""
    }
   },
   "source": [
    "#### Q5 : Top 5 Artists [Spotify SQL Interview Question]"
   ]
  },
  {
   "cell_type": "code",
   "execution_count": 0,
   "metadata": {
    "application/vnd.databricks.v1+cell": {
     "cellMetadata": {
      "byteLimit": 2048000,
      "rowLimit": 10000
     },
     "inputWidgets": {},
     "nuid": "2df8615b-7cd7-4cb4-9c5e-73f6d256105e",
     "showTitle": false,
     "title": ""
    }
   },
   "outputs": [],
   "source": [
    "%sql\n",
    "-- Assume there are three Spotify tables: artists, songs, and global_song_rank, which contain information about the artists, songs, and music charts, respectively.\n",
    "\n",
    "-- Write a query to find the top 5 artists whose songs appear most frequently in the Top 10 of the global_song_rank table. Display the top 5 artist names in ascending order, along with their song appearance ranking.\n",
    "\n",
    "-- If two or more artists have the same number of song appearances, they should be assigned the same ranking, and the rank numbers should be continuous (i.e. 1, 2, 2, 3, 4, 5). If you've never seen a rank order like this before, do the rank window function tutorial.\n",
    "\n",
    "-- https://datalemur.com/questions/top-fans-rank\n",
    "\n",
    "-- use the tables artists, songs, global_song_rank for this task"
   ]
  },
  {
   "cell_type": "code",
   "execution_count": 0,
   "metadata": {
    "application/vnd.databricks.v1+cell": {
     "cellMetadata": {
      "byteLimit": 2048000,
      "rowLimit": 10000
     },
     "inputWidgets": {},
     "nuid": "821e1630-6023-440f-b739-5f4debb5e397",
     "showTitle": false,
     "title": ""
    }
   },
   "outputs": [
    {
     "output_type": "display_data",
     "data": {
      "text/html": [
       "<style scoped>\n",
       "  .table-result-container {\n",
       "    max-height: 300px;\n",
       "    overflow: auto;\n",
       "  }\n",
       "  table, th, td {\n",
       "    border: 1px solid black;\n",
       "    border-collapse: collapse;\n",
       "  }\n",
       "  th, td {\n",
       "    padding: 5px;\n",
       "  }\n",
       "  th {\n",
       "    text-align: left;\n",
       "  }\n",
       "</style><div class='table-result-container'><table class='table-result'><thead style='background-color: white'><tr><th>artist_name</th><th>song_name</th><th>song_rank</th></tr></thead><tbody><tr><td>Drake</td><td>Hotline Bling</td><td>3</td></tr><tr><td>Ed Sheeran</td><td>Shape of You</td><td>5</td></tr><tr><td>Ed Sheeran</td><td>Shape of You</td><td>2</td></tr></tbody></table></div>"
      ]
     },
     "metadata": {
      "application/vnd.databricks.v1+output": {
       "addedWidgets": {},
       "aggData": [],
       "aggError": "",
       "aggOverflow": false,
       "aggSchema": [],
       "aggSeriesLimitReached": false,
       "aggType": "",
       "arguments": {},
       "columnCustomDisplayInfos": {},
       "data": [
        [
         "Drake",
         "Hotline Bling",
         3
        ],
        [
         "Ed Sheeran",
         "Shape of You",
         5
        ],
        [
         "Ed Sheeran",
         "Shape of You",
         2
        ]
       ],
       "datasetInfos": [],
       "dbfsResultPath": null,
       "isJsonSchema": true,
       "metadata": {
        "isDbfsCommandResult": false
       },
       "overflow": false,
       "plotOptions": {
        "customPlotOptions": {},
        "displayType": "table",
        "pivotAggregation": null,
        "pivotColumns": null,
        "xColumns": null,
        "yColumns": null
       },
       "removedWidgets": [],
       "schema": [
        {
         "metadata": "{}",
         "name": "artist_name",
         "type": "\"string\""
        },
        {
         "metadata": "{}",
         "name": "song_name",
         "type": "\"string\""
        },
        {
         "metadata": "{}",
         "name": "song_rank",
         "type": "\"integer\""
        }
       ],
       "type": "table"
      }
     },
     "output_type": "display_data"
    }
   ],
   "source": [
    "%sql\n",
    "with tb1 as (\n",
    "  select\n",
    "    a.artist_name, s.name, g.rank\n",
    "  from datalemur_q.artists a\n",
    "  inner join datalemur_q.songs s on (a.artist_id = s.artist_id)\n",
    "  inner join datalemur_q.global_song_rank g on (s.song_id = g.song_id)\n",
    "  where g.rank <= 10\n",
    "), tb2 as (\n",
    "  select *, rank() over (partition by artist_name order by rank desc) rk from tb1\n",
    ") select artist_name, name song_name, rank song_rank\n",
    "from tb2\n",
    "where rk <= 10"
   ]
  },
  {
   "cell_type": "code",
   "execution_count": 0,
   "metadata": {
    "application/vnd.databricks.v1+cell": {
     "cellMetadata": {
      "byteLimit": 2048000,
      "rowLimit": 10000
     },
     "inputWidgets": {},
     "nuid": "03105720-5e77-4e42-ad56-e757edbc6ece",
     "showTitle": false,
     "title": ""
    }
   },
   "outputs": [
    {
     "output_type": "display_data",
     "data": {
      "text/html": [
       "<style scoped>\n",
       "  .table-result-container {\n",
       "    max-height: 300px;\n",
       "    overflow: auto;\n",
       "  }\n",
       "  table, th, td {\n",
       "    border: 1px solid black;\n",
       "    border-collapse: collapse;\n",
       "  }\n",
       "  th, td {\n",
       "    padding: 5px;\n",
       "  }\n",
       "  th {\n",
       "    text-align: left;\n",
       "  }\n",
       "</style><div class='table-result-container'><table class='table-result'><thead style='background-color: white'><tr><th>song_id</th><th>artist_id</th><th>name</th></tr></thead><tbody><tr><td>55511</td><td>101</td><td>Perfect</td></tr><tr><td>45202</td><td>101</td><td>Shape of You</td></tr><tr><td>22222</td><td>120</td><td>One Dance</td></tr><tr><td>19960</td><td>120</td><td>Hotline Bling</td></tr></tbody></table></div>"
      ]
     },
     "metadata": {
      "application/vnd.databricks.v1+output": {
       "addedWidgets": {},
       "aggData": [],
       "aggError": "",
       "aggOverflow": false,
       "aggSchema": [],
       "aggSeriesLimitReached": false,
       "aggType": "",
       "arguments": {},
       "columnCustomDisplayInfos": {},
       "data": [
        [
         55511,
         101,
         "Perfect"
        ],
        [
         45202,
         101,
         "Shape of You"
        ],
        [
         22222,
         120,
         "One Dance"
        ],
        [
         19960,
         120,
         "Hotline Bling"
        ]
       ],
       "datasetInfos": [],
       "dbfsResultPath": null,
       "isJsonSchema": true,
       "metadata": {
        "isDbfsCommandResult": false
       },
       "overflow": false,
       "plotOptions": {
        "customPlotOptions": {},
        "displayType": "table",
        "pivotAggregation": null,
        "pivotColumns": null,
        "xColumns": null,
        "yColumns": null
       },
       "removedWidgets": [],
       "schema": [
        {
         "metadata": "{}",
         "name": "song_id",
         "type": "\"integer\""
        },
        {
         "metadata": "{}",
         "name": "artist_id",
         "type": "\"integer\""
        },
        {
         "metadata": "{}",
         "name": "name",
         "type": "\"string\""
        }
       ],
       "type": "table"
      }
     },
     "output_type": "display_data"
    }
   ],
   "source": [
    "%sql\n",
    "select * from datalemur_q.songs"
   ]
  },
  {
   "cell_type": "code",
   "execution_count": 0,
   "metadata": {
    "application/vnd.databricks.v1+cell": {
     "cellMetadata": {
      "byteLimit": 2048000,
      "rowLimit": 10000
     },
     "inputWidgets": {},
     "nuid": "94af7199-e0e0-4ddd-acdb-1cd5f3f5b4b7",
     "showTitle": false,
     "title": ""
    }
   },
   "outputs": [
    {
     "output_type": "display_data",
     "data": {
      "text/html": [
       "<style scoped>\n",
       "  .table-result-container {\n",
       "    max-height: 300px;\n",
       "    overflow: auto;\n",
       "  }\n",
       "  table, th, td {\n",
       "    border: 1px solid black;\n",
       "    border-collapse: collapse;\n",
       "  }\n",
       "  th, td {\n",
       "    padding: 5px;\n",
       "  }\n",
       "  th {\n",
       "    text-align: left;\n",
       "  }\n",
       "</style><div class='table-result-container'><table class='table-result'><thead style='background-color: white'><tr><th>day</th><th>song_id</th><th>rank</th></tr></thead><tbody><tr><td>1</td><td>45202</td><td>5</td></tr><tr><td>3</td><td>45202</td><td>2</td></tr><tr><td>1</td><td>19960</td><td>3</td></tr><tr><td>9</td><td>19960</td><td>15</td></tr></tbody></table></div>"
      ]
     },
     "metadata": {
      "application/vnd.databricks.v1+output": {
       "addedWidgets": {},
       "aggData": [],
       "aggError": "",
       "aggOverflow": false,
       "aggSchema": [],
       "aggSeriesLimitReached": false,
       "aggType": "",
       "arguments": {},
       "columnCustomDisplayInfos": {},
       "data": [
        [
         1,
         45202,
         5
        ],
        [
         3,
         45202,
         2
        ],
        [
         1,
         19960,
         3
        ],
        [
         9,
         19960,
         15
        ]
       ],
       "datasetInfos": [],
       "dbfsResultPath": null,
       "isJsonSchema": true,
       "metadata": {
        "isDbfsCommandResult": false
       },
       "overflow": false,
       "plotOptions": {
        "customPlotOptions": {},
        "displayType": "table",
        "pivotAggregation": null,
        "pivotColumns": null,
        "xColumns": null,
        "yColumns": null
       },
       "removedWidgets": [],
       "schema": [
        {
         "metadata": "{}",
         "name": "day",
         "type": "\"integer\""
        },
        {
         "metadata": "{}",
         "name": "song_id",
         "type": "\"integer\""
        },
        {
         "metadata": "{}",
         "name": "rank",
         "type": "\"integer\""
        }
       ],
       "type": "table"
      }
     },
     "output_type": "display_data"
    }
   ],
   "source": [
    "%sql\n",
    "select * from datalemur_q.global_song_rank"
   ]
  },
  {
   "cell_type": "code",
   "execution_count": 0,
   "metadata": {
    "application/vnd.databricks.v1+cell": {
     "cellMetadata": {},
     "inputWidgets": {},
     "nuid": "51ecf45f-a747-4bfa-b432-ff5b6a98d1c5",
     "showTitle": false,
     "title": ""
    }
   },
   "outputs": [],
   "source": []
  }
 ],
 "metadata": {
  "application/vnd.databricks.v1+notebook": {
   "dashboards": [],
   "language": "python",
   "notebookMetadata": {
    "mostRecentlyExecutedCommandWithImplicitDF": {
     "commandId": -1,
     "dataframes": [
      "_sqldf"
     ]
    },
    "pythonIndentUnit": 4
   },
   "notebookName": "DataLemur_SQL_Questions_Ans",
   "widgets": {}
  }
 },
 "nbformat": 4,
 "nbformat_minor": 0
}
