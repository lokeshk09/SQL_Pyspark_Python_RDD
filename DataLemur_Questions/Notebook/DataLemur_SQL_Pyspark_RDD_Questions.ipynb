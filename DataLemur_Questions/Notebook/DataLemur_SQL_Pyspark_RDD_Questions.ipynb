{
 "cells": [
  {
   "cell_type": "markdown",
   "metadata": {
    "application/vnd.databricks.v1+cell": {
     "cellMetadata": {},
     "inputWidgets": {},
     "nuid": "0072beb2-2276-46a7-92d3-4305611275fb",
     "showTitle": false,
     "title": ""
    }
   },
   "source": [
    "## Loading the Data"
   ]
  },
  {
   "cell_type": "code",
   "execution_count": 0,
   "metadata": {
    "application/vnd.databricks.v1+cell": {
     "cellMetadata": {
      "byteLimit": 2048000,
      "implicitDf": true,
      "rowLimit": 10000
     },
     "inputWidgets": {},
     "nuid": "495f8111-501c-4653-9840-a42608491c56",
     "showTitle": false,
     "title": ""
    }
   },
   "outputs": [],
   "source": [
    "# %sql\n",
    "# drop database datalemur_q cascade;"
   ]
  },
  {
   "cell_type": "code",
   "execution_count": 0,
   "metadata": {
    "application/vnd.databricks.v1+cell": {
     "cellMetadata": {
      "byteLimit": 2048000,
      "rowLimit": 10000
     },
     "inputWidgets": {},
     "nuid": "3f3f0d84-6871-403b-b500-3952a185f4af",
     "showTitle": false,
     "title": ""
    }
   },
   "outputs": [
    {
     "output_type": "display_data",
     "data": {
      "text/html": [
       "<style scoped>\n",
       "  .table-result-container {\n",
       "    max-height: 300px;\n",
       "    overflow: auto;\n",
       "  }\n",
       "  table, th, td {\n",
       "    border: 1px solid black;\n",
       "    border-collapse: collapse;\n",
       "  }\n",
       "  th, td {\n",
       "    padding: 5px;\n",
       "  }\n",
       "  th {\n",
       "    text-align: left;\n",
       "  }\n",
       "</style><div class='table-result-container'><table class='table-result'><thead style='background-color: white'><tr><th>num_affected_rows</th><th>num_inserted_rows</th></tr></thead><tbody><tr><td>5</td><td>5</td></tr></tbody></table></div>"
      ]
     },
     "metadata": {
      "application/vnd.databricks.v1+output": {
       "addedWidgets": {},
       "aggData": [],
       "aggError": "",
       "aggOverflow": false,
       "aggSchema": [],
       "aggSeriesLimitReached": false,
       "aggType": "",
       "arguments": {},
       "columnCustomDisplayInfos": {},
       "data": [
        [
         5,
         5
        ]
       ],
       "datasetInfos": [],
       "dbfsResultPath": null,
       "isJsonSchema": true,
       "metadata": {
        "isDbfsCommandResult": false
       },
       "overflow": false,
       "plotOptions": {
        "customPlotOptions": {},
        "displayType": "table",
        "pivotAggregation": null,
        "pivotColumns": null,
        "xColumns": null,
        "yColumns": null
       },
       "removedWidgets": [],
       "schema": [
        {
         "metadata": "{}",
         "name": "num_affected_rows",
         "type": "\"long\""
        },
        {
         "metadata": "{}",
         "name": "num_inserted_rows",
         "type": "\"long\""
        }
       ],
       "type": "table"
      }
     },
     "output_type": "display_data"
    }
   ],
   "source": [
    "%run ./DataLemur_DataLoad"
   ]
  },
  {
   "cell_type": "code",
   "execution_count": 0,
   "metadata": {
    "application/vnd.databricks.v1+cell": {
     "cellMetadata": {
      "byteLimit": 2048000,
      "rowLimit": 10000
     },
     "inputWidgets": {},
     "nuid": "4be84bae-6c98-4c92-8f62-d85ebdd1d379",
     "showTitle": false,
     "title": ""
    }
   },
   "outputs": [
    {
     "output_type": "display_data",
     "data": {
      "text/html": [
       "<style scoped>\n",
       "  .table-result-container {\n",
       "    max-height: 300px;\n",
       "    overflow: auto;\n",
       "  }\n",
       "  table, th, td {\n",
       "    border: 1px solid black;\n",
       "    border-collapse: collapse;\n",
       "  }\n",
       "  th, td {\n",
       "    padding: 5px;\n",
       "  }\n",
       "  th {\n",
       "    text-align: left;\n",
       "  }\n",
       "</style><div class='table-result-container'><table class='table-result'><thead style='background-color: white'><tr><th>database</th><th>tableName</th><th>isTemporary</th></tr></thead><tbody><tr><td>datalemur_q</td><td>candidates_skills</td><td>false</td></tr><tr><td>datalemur_q</td><td>emails</td><td>false</td></tr><tr><td>datalemur_q</td><td>events</td><td>false</td></tr><tr><td>datalemur_q</td><td>items_per_order</td><td>false</td></tr><tr><td>datalemur_q</td><td>job_listings</td><td>false</td></tr><tr><td>datalemur_q</td><td>messages</td><td>false</td></tr><tr><td>datalemur_q</td><td>monthly_cards_issued</td><td>false</td></tr><tr><td>datalemur_q</td><td>page_likes</td><td>false</td></tr><tr><td>datalemur_q</td><td>pages</td><td>false</td></tr><tr><td>datalemur_q</td><td>parts_assembly</td><td>false</td></tr><tr><td>datalemur_q</td><td>pharmacy_sales_p1</td><td>false</td></tr><tr><td>datalemur_q</td><td>pharmacy_sales_p2</td><td>false</td></tr><tr><td>datalemur_q</td><td>pharmacy_sales_p3</td><td>false</td></tr><tr><td>datalemur_q</td><td>posts</td><td>false</td></tr><tr><td>datalemur_q</td><td>reviews</td><td>false</td></tr><tr><td>datalemur_q</td><td>texts</td><td>false</td></tr><tr><td>datalemur_q</td><td>trades</td><td>false</td></tr><tr><td>datalemur_q</td><td>tweets</td><td>false</td></tr><tr><td>datalemur_q</td><td>users</td><td>false</td></tr><tr><td>datalemur_q</td><td>viewership</td><td>false</td></tr></tbody></table></div>"
      ]
     },
     "metadata": {
      "application/vnd.databricks.v1+output": {
       "addedWidgets": {},
       "aggData": [],
       "aggError": "",
       "aggOverflow": false,
       "aggSchema": [],
       "aggSeriesLimitReached": false,
       "aggType": "",
       "arguments": {},
       "columnCustomDisplayInfos": {},
       "data": [
        [
         "datalemur_q",
         "candidates_skills",
         false
        ],
        [
         "datalemur_q",
         "emails",
         false
        ],
        [
         "datalemur_q",
         "events",
         false
        ],
        [
         "datalemur_q",
         "items_per_order",
         false
        ],
        [
         "datalemur_q",
         "job_listings",
         false
        ],
        [
         "datalemur_q",
         "messages",
         false
        ],
        [
         "datalemur_q",
         "monthly_cards_issued",
         false
        ],
        [
         "datalemur_q",
         "page_likes",
         false
        ],
        [
         "datalemur_q",
         "pages",
         false
        ],
        [
         "datalemur_q",
         "parts_assembly",
         false
        ],
        [
         "datalemur_q",
         "pharmacy_sales_p1",
         false
        ],
        [
         "datalemur_q",
         "pharmacy_sales_p2",
         false
        ],
        [
         "datalemur_q",
         "pharmacy_sales_p3",
         false
        ],
        [
         "datalemur_q",
         "posts",
         false
        ],
        [
         "datalemur_q",
         "reviews",
         false
        ],
        [
         "datalemur_q",
         "texts",
         false
        ],
        [
         "datalemur_q",
         "trades",
         false
        ],
        [
         "datalemur_q",
         "tweets",
         false
        ],
        [
         "datalemur_q",
         "users",
         false
        ],
        [
         "datalemur_q",
         "viewership",
         false
        ]
       ],
       "datasetInfos": [],
       "dbfsResultPath": null,
       "isJsonSchema": true,
       "metadata": {
        "isDbfsCommandResult": false
       },
       "overflow": false,
       "plotOptions": {
        "customPlotOptions": {},
        "displayType": "table",
        "pivotAggregation": null,
        "pivotColumns": null,
        "xColumns": null,
        "yColumns": null
       },
       "removedWidgets": [],
       "schema": [
        {
         "metadata": "{}",
         "name": "database",
         "type": "\"string\""
        },
        {
         "metadata": "{}",
         "name": "tableName",
         "type": "\"string\""
        },
        {
         "metadata": "{}",
         "name": "isTemporary",
         "type": "\"boolean\""
        }
       ],
       "type": "table"
      }
     },
     "output_type": "display_data"
    }
   ],
   "source": [
    "from pyspark.sql import SparkSession, Window\n",
    "from pyspark.sql.functions import *\n",
    "from pyspark.sql.types import DateType\n",
    "import builtins\n",
    "\n",
    "spark = (\n",
    "    SparkSession\n",
    "    .builder\n",
    "    .appName(\"DataLemur Questions in Pyspark\")\n",
    "    .getOrCreate()\n",
    ")"
   ]
  },
  {
   "cell_type": "markdown",
   "metadata": {
    "application/vnd.databricks.v1+cell": {
     "cellMetadata": {},
     "inputWidgets": {},
     "nuid": "6cf3038c-19d3-4c0a-8039-b9d2547e9872",
     "showTitle": false,
     "title": ""
    }
   },
   "source": [
    "## Questions in Pyspark & RDD"
   ]
  },
  {
   "cell_type": "markdown",
   "metadata": {
    "application/vnd.databricks.v1+cell": {
     "cellMetadata": {},
     "inputWidgets": {},
     "nuid": "6b288681-d28d-42cc-9113-bad0aa8fb1b6",
     "showTitle": false,
     "title": ""
    }
   },
   "source": [
    "#### Q1 : Data Science Skills [LinkedIn SQL Interview Question]"
   ]
  },
  {
   "cell_type": "code",
   "execution_count": 0,
   "metadata": {
    "application/vnd.databricks.v1+cell": {
     "cellMetadata": {
      "byteLimit": 2048000,
      "rowLimit": 10000
     },
     "inputWidgets": {},
     "nuid": "cd669c18-ca5d-49d5-acb7-f3387e54292d",
     "showTitle": false,
     "title": ""
    }
   },
   "outputs": [],
   "source": [
    "# Given a table of candidates and their skills, you're tasked with finding the candidates best suited for an open Data Science job. You want to find candidates who are proficient in Python, Tableau, and PostgreSQL.\n",
    "\n",
    "# Write a query to list the candidates who possess all of the required skills for the job. Sort the output by candidate ID in ascending order.\n",
    "# use the table candidates_skills\n",
    "\n",
    "# https://datalemur.com/questions/matching-skills"
   ]
  },
  {
   "cell_type": "code",
   "execution_count": 0,
   "metadata": {
    "application/vnd.databricks.v1+cell": {
     "cellMetadata": {
      "byteLimit": 2048000,
      "implicitDf": true,
      "rowLimit": 10000
     },
     "inputWidgets": {},
     "nuid": "292a0d6c-fe13-4e24-98c4-fc76449e50c3",
     "showTitle": false,
     "title": ""
    }
   },
   "outputs": [
    {
     "output_type": "display_data",
     "data": {
      "text/html": [
       "<style scoped>\n",
       "  .table-result-container {\n",
       "    max-height: 300px;\n",
       "    overflow: auto;\n",
       "  }\n",
       "  table, th, td {\n",
       "    border: 1px solid black;\n",
       "    border-collapse: collapse;\n",
       "  }\n",
       "  th, td {\n",
       "    padding: 5px;\n",
       "  }\n",
       "  th {\n",
       "    text-align: left;\n",
       "  }\n",
       "</style><div class='table-result-container'><table class='table-result'><thead style='background-color: white'><tr><th>candidate_id</th></tr></thead><tbody><tr><td>123</td></tr></tbody></table></div>"
      ]
     },
     "metadata": {
      "application/vnd.databricks.v1+output": {
       "addedWidgets": {},
       "aggData": [],
       "aggError": "",
       "aggOverflow": false,
       "aggSchema": [],
       "aggSeriesLimitReached": false,
       "aggType": "",
       "arguments": {},
       "columnCustomDisplayInfos": {},
       "data": [
        [
         123
        ]
       ],
       "datasetInfos": [],
       "dbfsResultPath": null,
       "isJsonSchema": true,
       "metadata": {},
       "overflow": false,
       "plotOptions": {
        "customPlotOptions": {},
        "displayType": "table",
        "pivotAggregation": null,
        "pivotColumns": null,
        "xColumns": null,
        "yColumns": null
       },
       "removedWidgets": [],
       "schema": [
        {
         "metadata": "{}",
         "name": "candidate_id",
         "type": "\"integer\""
        }
       ],
       "type": "table"
      }
     },
     "output_type": "display_data"
    }
   ],
   "source": [
    "%sql\n",
    "select candidate_id\n",
    "from datalemur_q.candidates_skills\n",
    "where skill in ('Python', 'Tableau', 'PostgreSQL')\n",
    "group by candidate_id\n",
    "having count(candidate_id) = 3\n",
    "order by candidate_id"
   ]
  },
  {
   "cell_type": "code",
   "execution_count": 0,
   "metadata": {
    "application/vnd.databricks.v1+cell": {
     "cellMetadata": {
      "byteLimit": 2048000,
      "rowLimit": 10000
     },
     "inputWidgets": {},
     "nuid": "ee01400f-9426-4c77-8950-fe84b33c8375",
     "showTitle": false,
     "title": ""
    }
   },
   "outputs": [
    {
     "output_type": "display_data",
     "data": {
      "text/html": [
       "<style scoped>\n",
       "  .table-result-container {\n",
       "    max-height: 300px;\n",
       "    overflow: auto;\n",
       "  }\n",
       "  table, th, td {\n",
       "    border: 1px solid black;\n",
       "    border-collapse: collapse;\n",
       "  }\n",
       "  th, td {\n",
       "    padding: 5px;\n",
       "  }\n",
       "  th {\n",
       "    text-align: left;\n",
       "  }\n",
       "</style><div class='table-result-container'><table class='table-result'><thead style='background-color: white'><tr><th>candidate_id</th><th>count</th></tr></thead><tbody><tr><td>123</td><td>3</td></tr></tbody></table></div>"
      ]
     },
     "metadata": {
      "application/vnd.databricks.v1+output": {
       "addedWidgets": {},
       "aggData": [],
       "aggError": "",
       "aggOverflow": false,
       "aggSchema": [],
       "aggSeriesLimitReached": false,
       "aggType": "",
       "arguments": {},
       "columnCustomDisplayInfos": {},
       "data": [
        [
         123,
         3
        ]
       ],
       "datasetInfos": [],
       "dbfsResultPath": null,
       "isJsonSchema": true,
       "metadata": {},
       "overflow": false,
       "plotOptions": {
        "customPlotOptions": {},
        "displayType": "table",
        "pivotAggregation": null,
        "pivotColumns": null,
        "xColumns": null,
        "yColumns": null
       },
       "removedWidgets": [],
       "schema": [
        {
         "metadata": "{}",
         "name": "candidate_id",
         "type": "\"integer\""
        },
        {
         "metadata": "{}",
         "name": "count",
         "type": "\"long\""
        }
       ],
       "type": "table"
      }
     },
     "output_type": "display_data"
    }
   ],
   "source": [
    "# having clause is not directly available in pyspark so we can use groupBy and filter statements\n",
    "df_candidates_skills = spark.sql(\" select * from datalemur_q.candidates_skills \")\n",
    "\n",
    "# df_candidates_skills.show()\n",
    "\n",
    "display(\n",
    "    df_candidates_skills\n",
    "    .where(\" skill in ('Python', 'Tableau', 'PostgreSQL') \")\n",
    "    .groupBy(\"candidate_id\")\n",
    "    .agg(count(col('candidate_id')).alias('count'))\n",
    "    .filter(\"count = 3\")\n",
    ")"
   ]
  },
  {
   "cell_type": "code",
   "execution_count": 0,
   "metadata": {
    "application/vnd.databricks.v1+cell": {
     "cellMetadata": {
      "byteLimit": 2048000,
      "rowLimit": 10000
     },
     "inputWidgets": {},
     "nuid": "22aa97f9-6e75-4f26-9ed9-fdf01be968e4",
     "showTitle": false,
     "title": ""
    }
   },
   "outputs": [
    {
     "output_type": "stream",
     "name": "stdout",
     "output_type": "stream",
     "text": [
      "Out[27]: 123"
     ]
    }
   ],
   "source": [
    "df_candidates_skills_rdd = df_candidates_skills.rdd\n",
    "\n",
    "(\n",
    "    df_candidates_skills_rdd\n",
    "    .filter(lambda x: x['skill'] in ('Python', 'Tableau', 'PostgreSQL'))\n",
    "    .map(lambda x: (x[0], 1))\n",
    "    .reduceByKey(lambda x,y:x+y)\n",
    "    .filter(lambda x: x[1]==3)\n",
    "    .collect()\n",
    ")[0][0]"
   ]
  },
  {
   "cell_type": "markdown",
   "metadata": {
    "application/vnd.databricks.v1+cell": {
     "cellMetadata": {},
     "inputWidgets": {},
     "nuid": "b2b36ca9-a8e9-4e5a-8fb9-5a3a8049290b",
     "showTitle": false,
     "title": ""
    }
   },
   "source": [
    "#### Q2 : Histogram of Tweets [Twitter SQL Interview Question]"
   ]
  },
  {
   "cell_type": "code",
   "execution_count": 0,
   "metadata": {
    "application/vnd.databricks.v1+cell": {
     "cellMetadata": {
      "byteLimit": 2048000,
      "rowLimit": 10000
     },
     "inputWidgets": {},
     "nuid": "a86b3346-3a87-403b-b825-638087036611",
     "showTitle": false,
     "title": ""
    }
   },
   "outputs": [],
   "source": [
    "\n",
    "# Assume you're given a table Twitter tweet data, write a query to obtain a histogram of tweets posted per user in 2022. Output the tweet count per user as the bucket and the number of Twitter users who fall into that bucket.\n",
    "\n",
    "# In other words, group the users by the number of tweets they posted in 2022 and count the number of users in each group.\n",
    "\n",
    "# use tweets table for this exercise\n",
    "# question from datalemur\n",
    "# https://datalemur.com/questions/sql-histogram-tweets"
   ]
  },
  {
   "cell_type": "code",
   "execution_count": 0,
   "metadata": {
    "application/vnd.databricks.v1+cell": {
     "cellMetadata": {
      "byteLimit": 2048000,
      "implicitDf": true,
      "rowLimit": 10000
     },
     "inputWidgets": {},
     "nuid": "ac8ca707-0181-430f-a2ea-d0ec41ede71c",
     "showTitle": false,
     "title": ""
    }
   },
   "outputs": [
    {
     "output_type": "display_data",
     "data": {
      "text/html": [
       "<style scoped>\n",
       "  .table-result-container {\n",
       "    max-height: 300px;\n",
       "    overflow: auto;\n",
       "  }\n",
       "  table, th, td {\n",
       "    border: 1px solid black;\n",
       "    border-collapse: collapse;\n",
       "  }\n",
       "  th, td {\n",
       "    padding: 5px;\n",
       "  }\n",
       "  th {\n",
       "    text-align: left;\n",
       "  }\n",
       "</style><div class='table-result-container'><table class='table-result'><thead style='background-color: white'><tr><th>tweet_bucket</th><th>users_num</th></tr></thead><tbody><tr><td>1</td><td>2</td></tr><tr><td>2</td><td>1</td></tr></tbody></table></div>"
      ]
     },
     "metadata": {
      "application/vnd.databricks.v1+output": {
       "addedWidgets": {},
       "aggData": [],
       "aggError": "",
       "aggOverflow": false,
       "aggSchema": [],
       "aggSeriesLimitReached": false,
       "aggType": "",
       "arguments": {},
       "columnCustomDisplayInfos": {},
       "data": [
        [
         1,
         2
        ],
        [
         2,
         1
        ]
       ],
       "datasetInfos": [],
       "dbfsResultPath": null,
       "isJsonSchema": true,
       "metadata": {},
       "overflow": false,
       "plotOptions": {
        "customPlotOptions": {},
        "displayType": "table",
        "pivotAggregation": null,
        "pivotColumns": null,
        "xColumns": null,
        "yColumns": null
       },
       "removedWidgets": [],
       "schema": [
        {
         "metadata": "{}",
         "name": "tweet_bucket",
         "type": "\"long\""
        },
        {
         "metadata": "{}",
         "name": "users_num",
         "type": "\"long\""
        }
       ],
       "type": "table"
      }
     },
     "output_type": "display_data"
    }
   ],
   "source": [
    "%sql\n",
    "with tb1 as (\n",
    "  select user_id, count(*) tweet_bucket\n",
    "  from datalemur_q.tweets\n",
    "  where year(from_unixtime(unix_timestamp(tweet_date, 'MM/dd/yyyy HH:mm:ss'))) = '2022'\n",
    "  group by user_id\n",
    ")\n",
    "select tweet_bucket, count(*) users_num from tb1\n",
    "group by tweet_bucket"
   ]
  },
  {
   "cell_type": "code",
   "execution_count": 0,
   "metadata": {
    "application/vnd.databricks.v1+cell": {
     "cellMetadata": {
      "byteLimit": 2048000,
      "rowLimit": 10000
     },
     "inputWidgets": {},
     "nuid": "badc9e13-de74-4c3b-8fcb-ec7be6dc3427",
     "showTitle": false,
     "title": ""
    }
   },
   "outputs": [
    {
     "output_type": "display_data",
     "data": {
      "text/html": [
       "<style scoped>\n",
       "  .table-result-container {\n",
       "    max-height: 300px;\n",
       "    overflow: auto;\n",
       "  }\n",
       "  table, th, td {\n",
       "    border: 1px solid black;\n",
       "    border-collapse: collapse;\n",
       "  }\n",
       "  th, td {\n",
       "    padding: 5px;\n",
       "  }\n",
       "  th {\n",
       "    text-align: left;\n",
       "  }\n",
       "</style><div class='table-result-container'><table class='table-result'><thead style='background-color: white'><tr><th>tweet_bucket</th><th>users_num</th></tr></thead><tbody><tr><td>1</td><td>2</td></tr><tr><td>2</td><td>1</td></tr></tbody></table></div>"
      ]
     },
     "metadata": {
      "application/vnd.databricks.v1+output": {
       "addedWidgets": {},
       "aggData": [],
       "aggError": "",
       "aggOverflow": false,
       "aggSchema": [],
       "aggSeriesLimitReached": false,
       "aggType": "",
       "arguments": {},
       "columnCustomDisplayInfos": {},
       "data": [
        [
         1,
         2
        ],
        [
         2,
         1
        ]
       ],
       "datasetInfos": [],
       "dbfsResultPath": null,
       "isJsonSchema": true,
       "metadata": {},
       "overflow": false,
       "plotOptions": {
        "customPlotOptions": {},
        "displayType": "table",
        "pivotAggregation": null,
        "pivotColumns": null,
        "xColumns": null,
        "yColumns": null
       },
       "removedWidgets": [],
       "schema": [
        {
         "metadata": "{}",
         "name": "tweet_bucket",
         "type": "\"long\""
        },
        {
         "metadata": "{}",
         "name": "users_num",
         "type": "\"long\""
        }
       ],
       "type": "table"
      }
     },
     "output_type": "display_data"
    }
   ],
   "source": [
    "df_tweets = spark.sql(\" select * from datalemur_q.tweets \")\n",
    "\n",
    "display(\n",
    "    df_tweets\n",
    "    .where(year(to_timestamp(col('tweet_date'), 'MM/dd/yyyy HH:mm:ss'))=='2022')\n",
    "    .groupBy(\"user_id\")\n",
    "    .agg(count(col('user_id')).alias('tweet_bucket'))\n",
    "    .groupBy('tweet_bucket')\n",
    "    .agg(count(col('tweet_bucket')).alias('users_num'))\n",
    ")"
   ]
  },
  {
   "cell_type": "code",
   "execution_count": 0,
   "metadata": {
    "application/vnd.databricks.v1+cell": {
     "cellMetadata": {
      "byteLimit": 2048000,
      "rowLimit": 10000
     },
     "inputWidgets": {},
     "nuid": "cd5cf306-43a4-4168-9721-8d95505eaa59",
     "showTitle": false,
     "title": ""
    }
   },
   "outputs": [
    {
     "output_type": "display_data",
     "data": {
      "text/html": [
       "<style scoped>\n",
       "  .table-result-container {\n",
       "    max-height: 300px;\n",
       "    overflow: auto;\n",
       "  }\n",
       "  table, th, td {\n",
       "    border: 1px solid black;\n",
       "    border-collapse: collapse;\n",
       "  }\n",
       "  th, td {\n",
       "    padding: 5px;\n",
       "  }\n",
       "  th {\n",
       "    text-align: left;\n",
       "  }\n",
       "</style><div class='table-result-container'><table class='table-result'><thead style='background-color: white'><tr><th>tweet_bucket</th><th>users_num</th></tr></thead><tbody><tr><td>2</td><td>1</td></tr><tr><td>1</td><td>2</td></tr></tbody></table></div>"
      ]
     },
     "metadata": {
      "application/vnd.databricks.v1+output": {
       "addedWidgets": {},
       "aggData": [],
       "aggError": "",
       "aggOverflow": false,
       "aggSchema": [],
       "aggSeriesLimitReached": false,
       "aggType": "",
       "arguments": {},
       "columnCustomDisplayInfos": {},
       "data": [
        [
         2,
         1
        ],
        [
         1,
         2
        ]
       ],
       "datasetInfos": [],
       "dbfsResultPath": null,
       "isJsonSchema": true,
       "metadata": {},
       "overflow": false,
       "plotOptions": {
        "customPlotOptions": {},
        "displayType": "table",
        "pivotAggregation": null,
        "pivotColumns": null,
        "xColumns": null,
        "yColumns": null
       },
       "removedWidgets": [],
       "schema": [
        {
         "metadata": "{}",
         "name": "tweet_bucket",
         "type": "\"long\""
        },
        {
         "metadata": "{}",
         "name": "users_num",
         "type": "\"long\""
        }
       ],
       "type": "table"
      }
     },
     "output_type": "display_data"
    }
   ],
   "source": [
    "df_tweets_rdd = df_tweets.rdd\n",
    "from datetime import datetime\n",
    "\n",
    "display(\n",
    "    df_tweets_rdd\n",
    "    .filter(lambda x: datetime.strptime(x['tweet_date'], '%m/%d/%Y %H:%M:%S').strftime('%Y')=='2022') # filtering the tweets for the year 2022\n",
    "    .map(lambda x: (x['user_id'], 1)) # formatting to (k,1) to get the number of users -- similar to groupBy user_id\n",
    "    .reduceByKey(lambda x,y:x+y) # getting the count of each user_id and the number of tweets they have made\n",
    "    # .toDF(['user_id', 'tweet_bucket'])\n",
    "    .map(lambda x: (x[1], 1)) # formatting to (k, 1) to get the number of tweets made and number of users in that tweet bucket -- we are using tweets made by users obtained from the line 8\n",
    "    .reduceByKey(lambda x,y:x+y)\n",
    "    .toDF(['tweet_bucket', 'users_num'])\n",
    ")"
   ]
  },
  {
   "cell_type": "markdown",
   "metadata": {
    "application/vnd.databricks.v1+cell": {
     "cellMetadata": {},
     "inputWidgets": {},
     "nuid": "3e789ebe-5b61-413a-9094-db40ac4eb23b",
     "showTitle": false,
     "title": ""
    }
   },
   "source": [
    "#### Q3 : Page With No Likes [Facebook SQL Interview Question]"
   ]
  },
  {
   "cell_type": "code",
   "execution_count": 0,
   "metadata": {
    "application/vnd.databricks.v1+cell": {
     "cellMetadata": {
      "byteLimit": 2048000,
      "rowLimit": 10000
     },
     "inputWidgets": {},
     "nuid": "40a5df44-27e5-495c-b5db-d021bcf477a0",
     "showTitle": false,
     "title": ""
    }
   },
   "outputs": [],
   "source": [
    "# Assume you're given two tables containing data about Facebook Pages and their respective likes (as in \"Like a Facebook Page\").\n",
    "\n",
    "# Write a query to return the IDs of the Facebook pages that have zero likes. The output should be sorted in ascending order based on the page IDs.\n",
    "\n",
    "# https://datalemur.com/questions/sql-page-with-no-likes\n",
    "\n",
    "# use pages & page_likes table for this task"
   ]
  },
  {
   "cell_type": "code",
   "execution_count": 0,
   "metadata": {
    "application/vnd.databricks.v1+cell": {
     "cellMetadata": {
      "byteLimit": 2048000,
      "implicitDf": true,
      "rowLimit": 10000
     },
     "inputWidgets": {},
     "nuid": "683fb155-b841-4169-af0b-7897271ce5b5",
     "showTitle": false,
     "title": ""
    }
   },
   "outputs": [
    {
     "output_type": "display_data",
     "data": {
      "text/html": [
       "<style scoped>\n",
       "  .table-result-container {\n",
       "    max-height: 300px;\n",
       "    overflow: auto;\n",
       "  }\n",
       "  table, th, td {\n",
       "    border: 1px solid black;\n",
       "    border-collapse: collapse;\n",
       "  }\n",
       "  th, td {\n",
       "    padding: 5px;\n",
       "  }\n",
       "  th {\n",
       "    text-align: left;\n",
       "  }\n",
       "</style><div class='table-result-container'><table class='table-result'><thead style='background-color: white'><tr><th>page_id</th></tr></thead><tbody><tr><td>20701</td></tr></tbody></table></div>"
      ]
     },
     "metadata": {
      "application/vnd.databricks.v1+output": {
       "addedWidgets": {},
       "aggData": [],
       "aggError": "",
       "aggOverflow": false,
       "aggSchema": [],
       "aggSeriesLimitReached": false,
       "aggType": "",
       "arguments": {},
       "columnCustomDisplayInfos": {},
       "data": [
        [
         20701
        ]
       ],
       "datasetInfos": [],
       "dbfsResultPath": null,
       "isJsonSchema": true,
       "metadata": {},
       "overflow": false,
       "plotOptions": {
        "customPlotOptions": {},
        "displayType": "table",
        "pivotAggregation": null,
        "pivotColumns": null,
        "xColumns": null,
        "yColumns": null
       },
       "removedWidgets": [],
       "schema": [
        {
         "metadata": "{}",
         "name": "page_id",
         "type": "\"integer\""
        }
       ],
       "type": "table"
      }
     },
     "output_type": "display_data"
    }
   ],
   "source": [
    "%sql\n",
    "with tb1 as (\n",
    "  select p.page_id, pl.liked_date\n",
    "  from datalemur_q.pages p\n",
    "  left join datalemur_q.page_likes pl on (p.page_id = pl.page_id)\n",
    "  where pl.liked_date is NULL\n",
    ")\n",
    "select page_id from tb1 ORDER BY page_id"
   ]
  },
  {
   "cell_type": "code",
   "execution_count": 0,
   "metadata": {
    "application/vnd.databricks.v1+cell": {
     "cellMetadata": {
      "byteLimit": 2048000,
      "rowLimit": 10000
     },
     "inputWidgets": {},
     "nuid": "575eaad7-bc3e-4712-afd3-56dfc8c7d15c",
     "showTitle": false,
     "title": ""
    }
   },
   "outputs": [
    {
     "output_type": "display_data",
     "data": {
      "text/html": [
       "<style scoped>\n",
       "  .table-result-container {\n",
       "    max-height: 300px;\n",
       "    overflow: auto;\n",
       "  }\n",
       "  table, th, td {\n",
       "    border: 1px solid black;\n",
       "    border-collapse: collapse;\n",
       "  }\n",
       "  th, td {\n",
       "    padding: 5px;\n",
       "  }\n",
       "  th {\n",
       "    text-align: left;\n",
       "  }\n",
       "</style><div class='table-result-container'><table class='table-result'><thead style='background-color: white'><tr><th>page_id</th></tr></thead><tbody><tr><td>20701</td></tr></tbody></table></div>"
      ]
     },
     "metadata": {
      "application/vnd.databricks.v1+output": {
       "addedWidgets": {},
       "aggData": [],
       "aggError": "",
       "aggOverflow": false,
       "aggSchema": [],
       "aggSeriesLimitReached": false,
       "aggType": "",
       "arguments": {},
       "columnCustomDisplayInfos": {},
       "data": [
        [
         20701
        ]
       ],
       "datasetInfos": [],
       "dbfsResultPath": null,
       "isJsonSchema": true,
       "metadata": {},
       "overflow": false,
       "plotOptions": {
        "customPlotOptions": {},
        "displayType": "table",
        "pivotAggregation": null,
        "pivotColumns": null,
        "xColumns": null,
        "yColumns": null
       },
       "removedWidgets": [],
       "schema": [
        {
         "metadata": "{}",
         "name": "page_id",
         "type": "\"integer\""
        }
       ],
       "type": "table"
      }
     },
     "output_type": "display_data"
    }
   ],
   "source": [
    "df_pages = spark.sql(\" select * from datalemur_q.pages\")\n",
    "df_page_likes = spark.sql(\" select * from datalemur_q.page_likes\")\n",
    "display(\n",
    "    df_pages\n",
    "    .join(df_page_likes, on='page_id', how='outer')\n",
    "    .filter(\"liked_date is null\")\n",
    "    .select('page_id')\n",
    ")"
   ]
  },
  {
   "cell_type": "code",
   "execution_count": 0,
   "metadata": {
    "application/vnd.databricks.v1+cell": {
     "cellMetadata": {
      "byteLimit": 2048000,
      "rowLimit": 10000
     },
     "inputWidgets": {},
     "nuid": "04815d78-8f0e-4289-b681-e4af0b246540",
     "showTitle": false,
     "title": ""
    }
   },
   "outputs": [],
   "source": [
    "df_pages_rdd = df_pages.rdd\n",
    "df_page_likes_rdd = df_page_likes.rdd\n",
    "\n",
    "df_pages_rdd_m = (\n",
    "    df_pages_rdd\n",
    "    .map(lambda x: (x['page_id'], x['page_name']) )\n",
    "    # .collect()\n",
    ")\n",
    "\n",
    "df_page_likes_rdd_m = (\n",
    "    df_page_likes_rdd\n",
    "    .map(lambda x: (x['page_id'], x['liked_date']) )\n",
    "    # .collect()\n",
    ")"
   ]
  },
  {
   "cell_type": "code",
   "execution_count": 0,
   "metadata": {
    "application/vnd.databricks.v1+cell": {
     "cellMetadata": {
      "byteLimit": 2048000,
      "rowLimit": 10000
     },
     "inputWidgets": {},
     "nuid": "c8743b0b-7a44-4285-831e-fc2fb064be44",
     "showTitle": false,
     "title": ""
    }
   },
   "outputs": [
    {
     "output_type": "stream",
     "name": "stdout",
     "output_type": "stream",
     "text": [
      "Out[77]: 20701"
     ]
    }
   ],
   "source": [
    "(\n",
    "    df_pages_rdd_m\n",
    "    .leftOuterJoin(df_page_likes_rdd_m)\n",
    "    .filter(lambda x: x[1][1] is None) # ['04/08/2022 00:00:00', '07/25/2022 00:00:00', '03/12/2022 00:00:00', None]\n",
    "    .collect()\n",
    ")[0][0]"
   ]
  },
  {
   "cell_type": "markdown",
   "metadata": {
    "application/vnd.databricks.v1+cell": {
     "cellMetadata": {
      "byteLimit": 2048000,
      "rowLimit": 10000
     },
     "inputWidgets": {},
     "nuid": "00e50dc5-8efb-4e0f-a0aa-e0ecccc4a158",
     "showTitle": false,
     "title": ""
    }
   },
   "source": [
    "\n",
    "#### Q4 : Unfinished Parts [Tesla SQL Interview Question]"
   ]
  },
  {
   "cell_type": "code",
   "execution_count": 0,
   "metadata": {
    "application/vnd.databricks.v1+cell": {
     "cellMetadata": {
      "byteLimit": 2048000,
      "rowLimit": 10000
     },
     "inputWidgets": {},
     "nuid": "a9ca2eea-de7a-4c1c-b799-1e9ef9bc0991",
     "showTitle": false,
     "title": ""
    }
   },
   "outputs": [],
   "source": [
    "# Tesla is investigating production bottlenecks and they need your help to extract the relevant data. Write a query to determine which parts have begun the assembly process but are not yet finished.\n",
    "\n",
    "# Assumptions:\n",
    "\n",
    "# parts_assembly table contains all parts currently in production, each at varying stages of the assembly process.\n",
    "# An unfinished part is one that lacks a finish_date.\n",
    "# This question is straightforward, so let's approach it with simplicity in both thinking and solution.\n",
    "\n",
    "# Effective April 11th 2023, the problem statement and assumptions were updated to enhance clarity.\n",
    "\n",
    "# https://datalemur.com/questions/tesla-unfinished-parts\n",
    "# use the table parts_assembly for this task"
   ]
  },
  {
   "cell_type": "code",
   "execution_count": 0,
   "metadata": {
    "application/vnd.databricks.v1+cell": {
     "cellMetadata": {
      "byteLimit": 2048000,
      "implicitDf": true,
      "rowLimit": 10000
     },
     "inputWidgets": {},
     "nuid": "32da8816-1acf-456f-892e-3d7c86b9b6f0",
     "showTitle": false,
     "title": ""
    }
   },
   "outputs": [
    {
     "output_type": "display_data",
     "data": {
      "text/html": [
       "<style scoped>\n",
       "  .table-result-container {\n",
       "    max-height: 300px;\n",
       "    overflow: auto;\n",
       "  }\n",
       "  table, th, td {\n",
       "    border: 1px solid black;\n",
       "    border-collapse: collapse;\n",
       "  }\n",
       "  th, td {\n",
       "    padding: 5px;\n",
       "  }\n",
       "  th {\n",
       "    text-align: left;\n",
       "  }\n",
       "</style><div class='table-result-container'><table class='table-result'><thead style='background-color: white'><tr><th>part</th><th>assembly_step</th></tr></thead><tbody><tr><td>bumper</td><td>3</td></tr><tr><td>bumper</td><td>4</td></tr></tbody></table></div>"
      ]
     },
     "metadata": {
      "application/vnd.databricks.v1+output": {
       "addedWidgets": {},
       "aggData": [],
       "aggError": "",
       "aggOverflow": false,
       "aggSchema": [],
       "aggSeriesLimitReached": false,
       "aggType": "",
       "arguments": {},
       "columnCustomDisplayInfos": {},
       "data": [
        [
         "bumper",
         3
        ],
        [
         "bumper",
         4
        ]
       ],
       "datasetInfos": [],
       "dbfsResultPath": null,
       "isJsonSchema": true,
       "metadata": {},
       "overflow": false,
       "plotOptions": {
        "customPlotOptions": {},
        "displayType": "table",
        "pivotAggregation": null,
        "pivotColumns": null,
        "xColumns": null,
        "yColumns": null
       },
       "removedWidgets": [],
       "schema": [
        {
         "metadata": "{}",
         "name": "part",
         "type": "\"string\""
        },
        {
         "metadata": "{}",
         "name": "assembly_step",
         "type": "\"integer\""
        }
       ],
       "type": "table"
      }
     },
     "output_type": "display_data"
    }
   ],
   "source": [
    "%sql\n",
    "select part, assembly_step from datalemur_q.parts_assembly where finish_date is null"
   ]
  },
  {
   "cell_type": "code",
   "execution_count": 0,
   "metadata": {
    "application/vnd.databricks.v1+cell": {
     "cellMetadata": {
      "byteLimit": 2048000,
      "rowLimit": 10000
     },
     "inputWidgets": {},
     "nuid": "93dfc12a-e775-41a1-b3af-6afdd9eba256",
     "showTitle": false,
     "title": ""
    }
   },
   "outputs": [
    {
     "output_type": "display_data",
     "data": {
      "text/html": [
       "<style scoped>\n",
       "  .table-result-container {\n",
       "    max-height: 300px;\n",
       "    overflow: auto;\n",
       "  }\n",
       "  table, th, td {\n",
       "    border: 1px solid black;\n",
       "    border-collapse: collapse;\n",
       "  }\n",
       "  th, td {\n",
       "    padding: 5px;\n",
       "  }\n",
       "  th {\n",
       "    text-align: left;\n",
       "  }\n",
       "</style><div class='table-result-container'><table class='table-result'><thead style='background-color: white'><tr><th>part</th><th>assembly_step</th></tr></thead><tbody><tr><td>bumper</td><td>3</td></tr><tr><td>bumper</td><td>4</td></tr></tbody></table></div>"
      ]
     },
     "metadata": {
      "application/vnd.databricks.v1+output": {
       "addedWidgets": {},
       "aggData": [],
       "aggError": "",
       "aggOverflow": false,
       "aggSchema": [],
       "aggSeriesLimitReached": false,
       "aggType": "",
       "arguments": {},
       "columnCustomDisplayInfos": {},
       "data": [
        [
         "bumper",
         3
        ],
        [
         "bumper",
         4
        ]
       ],
       "datasetInfos": [],
       "dbfsResultPath": null,
       "isJsonSchema": true,
       "metadata": {},
       "overflow": false,
       "plotOptions": {
        "customPlotOptions": {},
        "displayType": "table",
        "pivotAggregation": null,
        "pivotColumns": null,
        "xColumns": null,
        "yColumns": null
       },
       "removedWidgets": [],
       "schema": [
        {
         "metadata": "{}",
         "name": "part",
         "type": "\"string\""
        },
        {
         "metadata": "{}",
         "name": "assembly_step",
         "type": "\"integer\""
        }
       ],
       "type": "table"
      }
     },
     "output_type": "display_data"
    }
   ],
   "source": [
    "df_parts_assembly = spark.sql(\" select * from datalemur_q.parts_assembly\")\n",
    "\n",
    "display(\n",
    "    df_parts_assembly\n",
    "    .where(\"finish_date is null\")\n",
    "    .select(\"part\", \"assembly_step\")\n",
    ")"
   ]
  },
  {
   "cell_type": "code",
   "execution_count": 0,
   "metadata": {
    "application/vnd.databricks.v1+cell": {
     "cellMetadata": {
      "byteLimit": 2048000,
      "rowLimit": 10000
     },
     "inputWidgets": {},
     "nuid": "1958ae37-5919-44d3-a68f-c9624ca70a60",
     "showTitle": false,
     "title": ""
    }
   },
   "outputs": [
    {
     "output_type": "display_data",
     "data": {
      "text/html": [
       "<style scoped>\n",
       "  .table-result-container {\n",
       "    max-height: 300px;\n",
       "    overflow: auto;\n",
       "  }\n",
       "  table, th, td {\n",
       "    border: 1px solid black;\n",
       "    border-collapse: collapse;\n",
       "  }\n",
       "  th, td {\n",
       "    padding: 5px;\n",
       "  }\n",
       "  th {\n",
       "    text-align: left;\n",
       "  }\n",
       "</style><div class='table-result-container'><table class='table-result'><thead style='background-color: white'><tr><th>part</th><th>assembly_step</th></tr></thead><tbody><tr><td>bumper</td><td>3</td></tr><tr><td>bumper</td><td>4</td></tr></tbody></table></div>"
      ]
     },
     "metadata": {
      "application/vnd.databricks.v1+output": {
       "addedWidgets": {},
       "aggData": [],
       "aggError": "",
       "aggOverflow": false,
       "aggSchema": [],
       "aggSeriesLimitReached": false,
       "aggType": "",
       "arguments": {},
       "columnCustomDisplayInfos": {},
       "data": [
        [
         "bumper",
         3
        ],
        [
         "bumper",
         4
        ]
       ],
       "datasetInfos": [],
       "dbfsResultPath": null,
       "isJsonSchema": true,
       "metadata": {},
       "overflow": false,
       "plotOptions": {
        "customPlotOptions": {},
        "displayType": "table",
        "pivotAggregation": null,
        "pivotColumns": null,
        "xColumns": null,
        "yColumns": null
       },
       "removedWidgets": [],
       "schema": [
        {
         "metadata": "{}",
         "name": "part",
         "type": "\"string\""
        },
        {
         "metadata": "{}",
         "name": "assembly_step",
         "type": "\"long\""
        }
       ],
       "type": "table"
      }
     },
     "output_type": "display_data"
    }
   ],
   "source": [
    "df_parts_assembly_rdd = df_parts_assembly.rdd\n",
    "\n",
    "display(\n",
    "    df_parts_assembly_rdd\n",
    "    .filter(lambda x: x['finish_date'] is None)\n",
    "    .map(lambda x: (x['part'], x['assembly_step']))\n",
    "    .toDF(['part', 'assembly_step'])\n",
    ")"
   ]
  },
  {
   "cell_type": "markdown",
   "metadata": {
    "application/vnd.databricks.v1+cell": {
     "cellMetadata": {},
     "inputWidgets": {},
     "nuid": "015871df-cc13-4066-9972-6baf4b020cc3",
     "showTitle": false,
     "title": ""
    }
   },
   "source": [
    "#### Q5 : Laptop vs. Mobile Viewership [New York Times SQL Interview Question]"
   ]
  },
  {
   "cell_type": "code",
   "execution_count": 0,
   "metadata": {
    "application/vnd.databricks.v1+cell": {
     "cellMetadata": {
      "byteLimit": 2048000,
      "rowLimit": 10000
     },
     "inputWidgets": {},
     "nuid": "80927e7a-c807-4e30-bbad-4748d9fc1c18",
     "showTitle": false,
     "title": ""
    }
   },
   "outputs": [],
   "source": [
    "%sql\n",
    "-- Assume you're given the table on user viewership categorised by device type where the three types are laptop, tablet, and phone.\n",
    "\n",
    "-- Write a query that calculates the total viewership for laptops and mobile devices where mobile is defined as the sum of tablet and phone viewership. Output the total viewership for laptops as laptop_reviews and the total viewership for mobile devices as mobile_views.\n",
    "\n",
    "-- use viewership table for this task\n",
    "\n",
    "-- https://datalemur.com/questions/laptop-mobile-viewership"
   ]
  },
  {
   "cell_type": "code",
   "execution_count": 0,
   "metadata": {
    "application/vnd.databricks.v1+cell": {
     "cellMetadata": {
      "byteLimit": 2048000,
      "implicitDf": true,
      "rowLimit": 10000
     },
     "inputWidgets": {},
     "nuid": "69de1d99-31c0-4028-9f90-96501db94fea",
     "showTitle": false,
     "title": ""
    }
   },
   "outputs": [
    {
     "output_type": "display_data",
     "data": {
      "text/html": [
       "<style scoped>\n",
       "  .table-result-container {\n",
       "    max-height: 300px;\n",
       "    overflow: auto;\n",
       "  }\n",
       "  table, th, td {\n",
       "    border: 1px solid black;\n",
       "    border-collapse: collapse;\n",
       "  }\n",
       "  th, td {\n",
       "    padding: 5px;\n",
       "  }\n",
       "  th {\n",
       "    text-align: left;\n",
       "  }\n",
       "</style><div class='table-result-container'><table class='table-result'><thead style='background-color: white'><tr><th>laptop_views</th><th>mobile_views</th></tr></thead><tbody><tr><td>2</td><td>3</td></tr></tbody></table></div>"
      ]
     },
     "metadata": {
      "application/vnd.databricks.v1+output": {
       "addedWidgets": {},
       "aggData": [],
       "aggError": "",
       "aggOverflow": false,
       "aggSchema": [],
       "aggSeriesLimitReached": false,
       "aggType": "",
       "arguments": {},
       "columnCustomDisplayInfos": {},
       "data": [
        [
         2,
         3
        ]
       ],
       "datasetInfos": [],
       "dbfsResultPath": null,
       "isJsonSchema": true,
       "metadata": {},
       "overflow": false,
       "plotOptions": {
        "customPlotOptions": {},
        "displayType": "table",
        "pivotAggregation": null,
        "pivotColumns": null,
        "xColumns": null,
        "yColumns": null
       },
       "removedWidgets": [],
       "schema": [
        {
         "metadata": "{}",
         "name": "laptop_views",
         "type": "\"long\""
        },
        {
         "metadata": "{}",
         "name": "mobile_views",
         "type": "\"long\""
        }
       ],
       "type": "table"
      }
     },
     "output_type": "display_data"
    }
   ],
   "source": [
    "%sql\n",
    "select sum(case when device_type = 'laptop' then 1 else 0 end) laptop_views,\n",
    "  sum(case when device_type = 'laptop' then 0 else 1 end) mobile_views\n",
    "from datalemur_q.viewership"
   ]
  },
  {
   "cell_type": "code",
   "execution_count": 0,
   "metadata": {
    "application/vnd.databricks.v1+cell": {
     "cellMetadata": {
      "byteLimit": 2048000,
      "rowLimit": 10000
     },
     "inputWidgets": {},
     "nuid": "d0fb7591-b5f1-4301-8b1b-529395bbd6a3",
     "showTitle": false,
     "title": ""
    }
   },
   "outputs": [
    {
     "output_type": "display_data",
     "data": {
      "text/html": [
       "<style scoped>\n",
       "  .table-result-container {\n",
       "    max-height: 300px;\n",
       "    overflow: auto;\n",
       "  }\n",
       "  table, th, td {\n",
       "    border: 1px solid black;\n",
       "    border-collapse: collapse;\n",
       "  }\n",
       "  th, td {\n",
       "    padding: 5px;\n",
       "  }\n",
       "  th {\n",
       "    text-align: left;\n",
       "  }\n",
       "</style><div class='table-result-container'><table class='table-result'><thead style='background-color: white'><tr><th>laptop_views</th><th>mobile_views</th></tr></thead><tbody><tr><td>2</td><td>3</td></tr></tbody></table></div>"
      ]
     },
     "metadata": {
      "application/vnd.databricks.v1+output": {
       "addedWidgets": {},
       "aggData": [],
       "aggError": "",
       "aggOverflow": false,
       "aggSchema": [],
       "aggSeriesLimitReached": false,
       "aggType": "",
       "arguments": {},
       "columnCustomDisplayInfos": {},
       "data": [
        [
         2,
         3
        ]
       ],
       "datasetInfos": [],
       "dbfsResultPath": null,
       "isJsonSchema": true,
       "metadata": {},
       "overflow": false,
       "plotOptions": {
        "customPlotOptions": {},
        "displayType": "table",
        "pivotAggregation": null,
        "pivotColumns": null,
        "xColumns": null,
        "yColumns": null
       },
       "removedWidgets": [],
       "schema": [
        {
         "metadata": "{}",
         "name": "laptop_views",
         "type": "\"long\""
        },
        {
         "metadata": "{}",
         "name": "mobile_views",
         "type": "\"long\""
        }
       ],
       "type": "table"
      }
     },
     "output_type": "display_data"
    }
   ],
   "source": [
    "df_viewership = spark.sql(\" select * from datalemur_q.viewership \")\n",
    "\n",
    "display(\n",
    "    df_viewership\n",
    "    .select(sum(when(col('device_type')== 'laptop', 1).otherwise(0)).alias('laptop_views'),\n",
    "            sum(when(col('device_type')== 'laptop', 0).otherwise(1)).alias('mobile_views'))\n",
    ")"
   ]
  },
  {
   "cell_type": "code",
   "execution_count": 0,
   "metadata": {
    "application/vnd.databricks.v1+cell": {
     "cellMetadata": {
      "byteLimit": 2048000,
      "rowLimit": 10000
     },
     "inputWidgets": {},
     "nuid": "39654b53-9eac-417e-bb18-a87879a3a69c",
     "showTitle": false,
     "title": ""
    }
   },
   "outputs": [
    {
     "output_type": "stream",
     "name": "stdout",
     "output_type": "stream",
     "text": [
      "[(1, 2), (2, 3), (3, 4), (4, 5), (5, 6)]\nOut[135]: (1, 2, 2, 3, 0, 3, 4, 0, 4, 5, 0, 5, 6, 0)"
     ]
    }
   ],
   "source": [
    "# example on how,reduce works\n",
    "numbers_rdd = sc.parallelize([(1, 2), (2, 3), (3, 4), (4, 5), (5, 6)])\n",
    "\n",
    "print(numbers_rdd.collect())\n",
    "\n",
    "(\n",
    "    numbers_rdd\n",
    "    .reduce(lambda x,y: x+y+(0,)) # takes first 2 elements and then performs the lambda functions and then takes next element and then performs the lambda function again till the result is obtained \n",
    "    # .collect()\n",
    ")"
   ]
  },
  {
   "cell_type": "code",
   "execution_count": 0,
   "metadata": {
    "application/vnd.databricks.v1+cell": {
     "cellMetadata": {
      "byteLimit": 2048000,
      "rowLimit": 10000
     },
     "inputWidgets": {},
     "nuid": "557eaf5c-0e57-4f72-9416-675b11ffcf4b",
     "showTitle": false,
     "title": ""
    }
   },
   "outputs": [
    {
     "output_type": "stream",
     "name": "stdout",
     "output_type": "stream",
     "text": [
      "+-------+-----------+-------------------+\n|user_id|device_type|          view_time|\n+-------+-----------+-------------------+\n|    123|     tablet|01/02/2022 00:00:00|\n|    125|     laptop|01/07/2022 00:00:00|\n|    128|     laptop|02/09/2022 00:00:00|\n|    129|      phone|02/09/2022 00:00:00|\n|    145|     tablet|02/24/2022 00:00:00|\n+-------+-----------+-------------------+\n\nNone\nOut[118]: [(0, 1), (1, 0), (1, 0), (0, 1), (0, 1)]"
     ]
    }
   ],
   "source": [
    "df_viewership_rdd = df_viewership.rdd\n",
    "\n",
    "print(df_viewership.show())\n",
    "\n",
    "(\n",
    "    df_viewership_rdd\n",
    "    .map(lambda row: (1 if row['device_type']=='laptop' else 0, 0 if row['device_type']=='laptop' else 1))\n",
    "    # .toDF(['laptopViews', 'mobileViews'])\n",
    "    .collect()\n",
    ")"
   ]
  },
  {
   "cell_type": "code",
   "execution_count": 0,
   "metadata": {
    "application/vnd.databricks.v1+cell": {
     "cellMetadata": {
      "byteLimit": 2048000,
      "rowLimit": 10000
     },
     "inputWidgets": {},
     "nuid": "484c76ca-8fd0-4773-8080-9652fe14db16",
     "showTitle": false,
     "title": ""
    }
   },
   "outputs": [
    {
     "output_type": "stream",
     "name": "stdout",
     "output_type": "stream",
     "text": [
      "+------------+------------+\n|laptop_views|mobile_views|\n+------------+------------+\n|           2|           3|\n+------------+------------+\n\n"
     ]
    }
   ],
   "source": [
    "res = (\n",
    "    df_viewership_rdd\n",
    "    .map(lambda row: (1 if row['device_type']=='laptop' else 0, 0 if row['device_type']=='laptop' else 1))\n",
    "    .reduce(lambda x,y: (x[0] + y[0], x[1] + y[1]) )\n",
    "    # .collect()\n",
    ")\n",
    "\n",
    "col = ['laptop_views', 'mobile_views']\n",
    "\n",
    "res_dct = dict(zip(col, res))\n",
    "\n",
    "res_rdd = sc.parallelize([res_dct])\n",
    "\n",
    "res_rdd.toDF().show()"
   ]
  },
  {
   "cell_type": "markdown",
   "metadata": {
    "application/vnd.databricks.v1+cell": {
     "cellMetadata": {},
     "inputWidgets": {},
     "nuid": "e0db3729-3d59-4d2e-aefb-bf8016c38429",
     "showTitle": false,
     "title": ""
    }
   },
   "source": [
    "#### Q6 : Average Post Hiatus (Part 1) [Facebook SQL Interview Question]"
   ]
  },
  {
   "cell_type": "code",
   "execution_count": 0,
   "metadata": {
    "application/vnd.databricks.v1+cell": {
     "cellMetadata": {
      "byteLimit": 2048000,
      "rowLimit": 10000
     },
     "inputWidgets": {},
     "nuid": "3397fea9-4964-45a4-a369-81c7f2c5c36a",
     "showTitle": false,
     "title": ""
    }
   },
   "outputs": [],
   "source": [
    "# Given a table of Facebook posts, for each user who posted at least twice in 2021, write a query to find the number of days between each user’s first post of the year and last post of the year in the year 2021. Output the user and number of the days between each user's first and last post.\n",
    "\n",
    "# use posts table for this task\n",
    "\n",
    "# https://datalemur.com/questions/sql-average-post-hiatus-1"
   ]
  },
  {
   "cell_type": "code",
   "execution_count": 0,
   "metadata": {
    "application/vnd.databricks.v1+cell": {
     "cellMetadata": {
      "byteLimit": 2048000,
      "implicitDf": true,
      "rowLimit": 10000
     },
     "inputWidgets": {},
     "nuid": "c0d4b192-a564-45a6-a384-174e7cf4d783",
     "showTitle": false,
     "title": ""
    }
   },
   "outputs": [
    {
     "output_type": "display_data",
     "data": {
      "text/html": [
       "<style scoped>\n",
       "  .table-result-container {\n",
       "    max-height: 300px;\n",
       "    overflow: auto;\n",
       "  }\n",
       "  table, th, td {\n",
       "    border: 1px solid black;\n",
       "    border-collapse: collapse;\n",
       "  }\n",
       "  th, td {\n",
       "    padding: 5px;\n",
       "  }\n",
       "  th {\n",
       "    text-align: left;\n",
       "  }\n",
       "</style><div class='table-result-container'><table class='table-result'><thead style='background-color: white'><tr><th>user_id</th><th>days_between</th></tr></thead><tbody><tr><td>151652</td><td>2</td></tr><tr><td>661093</td><td>21</td></tr></tbody></table></div>"
      ]
     },
     "metadata": {
      "application/vnd.databricks.v1+output": {
       "addedWidgets": {},
       "aggData": [],
       "aggError": "",
       "aggOverflow": false,
       "aggSchema": [],
       "aggSeriesLimitReached": false,
       "aggType": "",
       "arguments": {},
       "columnCustomDisplayInfos": {},
       "data": [
        [
         151652,
         2
        ],
        [
         661093,
         21
        ]
       ],
       "datasetInfos": [],
       "dbfsResultPath": null,
       "isJsonSchema": true,
       "metadata": {},
       "overflow": false,
       "plotOptions": {
        "customPlotOptions": {},
        "displayType": "table",
        "pivotAggregation": null,
        "pivotColumns": null,
        "xColumns": null,
        "yColumns": null
       },
       "removedWidgets": [],
       "schema": [
        {
         "metadata": "{}",
         "name": "user_id",
         "type": "\"integer\""
        },
        {
         "metadata": "{}",
         "name": "days_between",
         "type": "\"integer\""
        }
       ],
       "type": "table"
      }
     },
     "output_type": "display_data"
    }
   ],
   "source": [
    "%sql\n",
    "with tb1 as (\n",
    "  select user_id, from_unixtime(unix_timestamp(post_date, 'MM/dd/yyyy HH:mm:ss')) days_between\n",
    "  from datalemur_q.posts order by user_id, days_between asc  \n",
    ") select user_id, datediff(max(days_between), min(days_between)) days_between\n",
    "from tb1\n",
    "group by user_id\n",
    "having count(user_id) >= 2"
   ]
  },
  {
   "cell_type": "code",
   "execution_count": 0,
   "metadata": {
    "application/vnd.databricks.v1+cell": {
     "cellMetadata": {
      "byteLimit": 2048000,
      "rowLimit": 10000
     },
     "inputWidgets": {},
     "nuid": "00db0263-91c6-4800-9a4d-b2c7523371cb",
     "showTitle": false,
     "title": ""
    }
   },
   "outputs": [
    {
     "output_type": "display_data",
     "data": {
      "text/html": [
       "<style scoped>\n",
       "  .table-result-container {\n",
       "    max-height: 300px;\n",
       "    overflow: auto;\n",
       "  }\n",
       "  table, th, td {\n",
       "    border: 1px solid black;\n",
       "    border-collapse: collapse;\n",
       "  }\n",
       "  th, td {\n",
       "    padding: 5px;\n",
       "  }\n",
       "  th {\n",
       "    text-align: left;\n",
       "  }\n",
       "</style><div class='table-result-container'><table class='table-result'><thead style='background-color: white'><tr><th>user_id</th><th>days_between</th></tr></thead><tbody><tr><td>151652</td><td>2</td></tr><tr><td>661093</td><td>21</td></tr></tbody></table></div>"
      ]
     },
     "metadata": {
      "application/vnd.databricks.v1+output": {
       "addedWidgets": {},
       "aggData": [],
       "aggError": "",
       "aggOverflow": false,
       "aggSchema": [],
       "aggSeriesLimitReached": false,
       "aggType": "",
       "arguments": {},
       "columnCustomDisplayInfos": {},
       "data": [
        [
         151652,
         2
        ],
        [
         661093,
         21
        ]
       ],
       "datasetInfos": [],
       "dbfsResultPath": null,
       "isJsonSchema": true,
       "metadata": {},
       "overflow": false,
       "plotOptions": {
        "customPlotOptions": {},
        "displayType": "table",
        "pivotAggregation": null,
        "pivotColumns": null,
        "xColumns": null,
        "yColumns": null
       },
       "removedWidgets": [],
       "schema": [
        {
         "metadata": "{}",
         "name": "user_id",
         "type": "\"integer\""
        },
        {
         "metadata": "{}",
         "name": "days_between",
         "type": "\"integer\""
        }
       ],
       "type": "table"
      }
     },
     "output_type": "display_data"
    }
   ],
   "source": [
    "df_posts = spark.sql(\"select * from datalemur_q.posts \")\n",
    "\n",
    "display(\n",
    "    df_posts\n",
    "    .withColumn('post_date', to_date(to_timestamp('post_date', 'MM/dd/yyyy HH:mm:ss')))\n",
    "    .groupBy('user_id')\n",
    "    .agg(datediff(max('post_date'), min('post_date')).alias('days_between'))\n",
    "    .where('days_between <> 0')\n",
    ")"
   ]
  },
  {
   "cell_type": "code",
   "execution_count": 0,
   "metadata": {
    "application/vnd.databricks.v1+cell": {
     "cellMetadata": {
      "byteLimit": 2048000,
      "rowLimit": 10000
     },
     "inputWidgets": {},
     "nuid": "87bfbf40-c7b8-4f5e-9caf-8270b95f27f9",
     "showTitle": false,
     "title": ""
    }
   },
   "outputs": [],
   "source": [
    "# we can use mapValues to solve above query"
   ]
  },
  {
   "cell_type": "code",
   "execution_count": 0,
   "metadata": {
    "application/vnd.databricks.v1+cell": {
     "cellMetadata": {
      "byteLimit": 2048000,
      "rowLimit": 10000
     },
     "inputWidgets": {},
     "nuid": "21fae710-6a61-4729-80a6-1571ad8bcadf",
     "showTitle": false,
     "title": ""
    }
   },
   "outputs": [
    {
     "output_type": "display_data",
     "data": {
      "text/html": [
       "<style scoped>\n",
       "  .table-result-container {\n",
       "    max-height: 300px;\n",
       "    overflow: auto;\n",
       "  }\n",
       "  table, th, td {\n",
       "    border: 1px solid black;\n",
       "    border-collapse: collapse;\n",
       "  }\n",
       "  th, td {\n",
       "    padding: 5px;\n",
       "  }\n",
       "  th {\n",
       "    text-align: left;\n",
       "  }\n",
       "</style><div class='table-result-container'><table class='table-result'><thead style='background-color: white'><tr><th>user_id</th><th>days_between</th></tr></thead><tbody><tr><td>151652</td><td>2</td></tr><tr><td>661093</td><td>20</td></tr></tbody></table></div>"
      ]
     },
     "metadata": {
      "application/vnd.databricks.v1+output": {
       "addedWidgets": {},
       "aggData": [],
       "aggError": "",
       "aggOverflow": false,
       "aggSchema": [],
       "aggSeriesLimitReached": false,
       "aggType": "",
       "arguments": {},
       "columnCustomDisplayInfos": {},
       "data": [
        [
         151652,
         2
        ],
        [
         661093,
         20
        ]
       ],
       "datasetInfos": [],
       "dbfsResultPath": null,
       "isJsonSchema": true,
       "metadata": {},
       "overflow": false,
       "plotOptions": {
        "customPlotOptions": {},
        "displayType": "table",
        "pivotAggregation": null,
        "pivotColumns": null,
        "xColumns": null,
        "yColumns": null
       },
       "removedWidgets": [],
       "schema": [
        {
         "metadata": "{}",
         "name": "user_id",
         "type": "\"long\""
        },
        {
         "metadata": "{}",
         "name": "days_between",
         "type": "\"long\""
        }
       ],
       "type": "table"
      }
     },
     "output_type": "display_data"
    }
   ],
   "source": [
    "df_posts_rdd = df_posts.rdd\n",
    "# '%m/%d/%Y %H:%M:%S'\n",
    "from datetime import datetime\n",
    "\n",
    "display(\n",
    "    df_posts_rdd\n",
    "    .map(lambda row: (row['user_id'], datetime.strptime(row['post_date'], '%m/%d/%Y %H:%M:%S')) )\n",
    "    .groupByKey()\n",
    "    .map(lambda row: (row[0], (builtins.max(row[1]) - builtins.min(row[1])).days ) )\n",
    "    .filter(lambda row: row[1] != 0)\n",
    "    .toDF(['user_id', 'days_between'])\n",
    ")"
   ]
  },
  {
   "cell_type": "markdown",
   "metadata": {
    "application/vnd.databricks.v1+cell": {
     "cellMetadata": {},
     "inputWidgets": {},
     "nuid": "768f83d4-1319-47a9-91ca-53779d9726c3",
     "showTitle": false,
     "title": ""
    }
   },
   "source": [
    "#### Q7 : Teams Power Users [Microsoft SQL Interview Question]"
   ]
  },
  {
   "cell_type": "code",
   "execution_count": 0,
   "metadata": {
    "application/vnd.databricks.v1+cell": {
     "cellMetadata": {
      "byteLimit": 2048000,
      "rowLimit": 10000
     },
     "inputWidgets": {},
     "nuid": "e093bf17-284b-4077-813b-468ea0ecb75f",
     "showTitle": false,
     "title": ""
    }
   },
   "outputs": [],
   "source": [
    "%sql\n",
    "-- write a Query to identify the top 2 Power Users who sent the highest number of messages on Microsoft Teams in August 2022. Display the IDs of these 2 users along with the total number of messages they sent. Output the results in descending order based on the count of messages.\n",
    "-- Assumption:\n",
    "-- No 2 users have semt the same number of messages in August2022\n",
    "-- https://datalemur.com/questions/teams-power-users\n",
    "-- use messages table for this task"
   ]
  },
  {
   "cell_type": "code",
   "execution_count": 0,
   "metadata": {
    "application/vnd.databricks.v1+cell": {
     "cellMetadata": {
      "byteLimit": 2048000,
      "implicitDf": true,
      "rowLimit": 10000
     },
     "inputWidgets": {},
     "nuid": "67074c25-92e8-45d3-8ec5-e3825cb9398e",
     "showTitle": false,
     "title": ""
    }
   },
   "outputs": [
    {
     "output_type": "display_data",
     "data": {
      "text/html": [
       "<style scoped>\n",
       "  .table-result-container {\n",
       "    max-height: 300px;\n",
       "    overflow: auto;\n",
       "  }\n",
       "  table, th, td {\n",
       "    border: 1px solid black;\n",
       "    border-collapse: collapse;\n",
       "  }\n",
       "  th, td {\n",
       "    padding: 5px;\n",
       "  }\n",
       "  th {\n",
       "    text-align: left;\n",
       "  }\n",
       "</style><div class='table-result-container'><table class='table-result'><thead style='background-color: white'><tr><th>sender_id</th><th>messages_sent</th></tr></thead><tbody><tr><td>3601</td><td>2</td></tr><tr><td>4500</td><td>1</td></tr></tbody></table></div>"
      ]
     },
     "metadata": {
      "application/vnd.databricks.v1+output": {
       "addedWidgets": {},
       "aggData": [],
       "aggError": "",
       "aggOverflow": false,
       "aggSchema": [],
       "aggSeriesLimitReached": false,
       "aggType": "",
       "arguments": {},
       "columnCustomDisplayInfos": {},
       "data": [
        [
         3601,
         2
        ],
        [
         4500,
         1
        ]
       ],
       "datasetInfos": [],
       "dbfsResultPath": null,
       "isJsonSchema": true,
       "metadata": {},
       "overflow": false,
       "plotOptions": {
        "customPlotOptions": {},
        "displayType": "table",
        "pivotAggregation": null,
        "pivotColumns": null,
        "xColumns": null,
        "yColumns": null
       },
       "removedWidgets": [],
       "schema": [
        {
         "metadata": "{}",
         "name": "sender_id",
         "type": "\"integer\""
        },
        {
         "metadata": "{}",
         "name": "messages_sent",
         "type": "\"long\""
        }
       ],
       "type": "table"
      }
     },
     "output_type": "display_data"
    }
   ],
   "source": [
    "%sql\n",
    "select sender_id, count(*) messages_sent from datalemur_q.messages\n",
    "where month(from_unixtime(unix_timestamp(sent_date, 'MM/dd/yyyy HH:mm:ss')) ) = '08'\n",
    "group by sender_id"
   ]
  },
  {
   "cell_type": "code",
   "execution_count": 0,
   "metadata": {
    "application/vnd.databricks.v1+cell": {
     "cellMetadata": {
      "byteLimit": 2048000,
      "rowLimit": 10000
     },
     "inputWidgets": {},
     "nuid": "4e5d49e2-419a-4d81-b425-af70671c69c3",
     "showTitle": false,
     "title": ""
    }
   },
   "outputs": [
    {
     "output_type": "display_data",
     "data": {
      "text/html": [
       "<style scoped>\n",
       "  .table-result-container {\n",
       "    max-height: 300px;\n",
       "    overflow: auto;\n",
       "  }\n",
       "  table, th, td {\n",
       "    border: 1px solid black;\n",
       "    border-collapse: collapse;\n",
       "  }\n",
       "  th, td {\n",
       "    padding: 5px;\n",
       "  }\n",
       "  th {\n",
       "    text-align: left;\n",
       "  }\n",
       "</style><div class='table-result-container'><table class='table-result'><thead style='background-color: white'><tr><th>sender_id</th><th>messages_sent</th></tr></thead><tbody><tr><td>3601</td><td>2</td></tr><tr><td>4500</td><td>1</td></tr></tbody></table></div>"
      ]
     },
     "metadata": {
      "application/vnd.databricks.v1+output": {
       "addedWidgets": {},
       "aggData": [],
       "aggError": "",
       "aggOverflow": false,
       "aggSchema": [],
       "aggSeriesLimitReached": false,
       "aggType": "",
       "arguments": {},
       "columnCustomDisplayInfos": {},
       "data": [
        [
         3601,
         2
        ],
        [
         4500,
         1
        ]
       ],
       "datasetInfos": [],
       "dbfsResultPath": null,
       "isJsonSchema": true,
       "metadata": {},
       "overflow": false,
       "plotOptions": {
        "customPlotOptions": {},
        "displayType": "table",
        "pivotAggregation": null,
        "pivotColumns": null,
        "xColumns": null,
        "yColumns": null
       },
       "removedWidgets": [],
       "schema": [
        {
         "metadata": "{}",
         "name": "sender_id",
         "type": "\"integer\""
        },
        {
         "metadata": "{}",
         "name": "messages_sent",
         "type": "\"long\""
        }
       ],
       "type": "table"
      }
     },
     "output_type": "display_data"
    }
   ],
   "source": [
    "df_messages = spark.sql(\"select * from datalemur_q.messages\")\n",
    "\n",
    "display(\n",
    "    df_messages\n",
    "    .filter(month(to_timestamp(col('sent_date'), 'MM/dd/yyyy HH:mm:ss'))=='08')\n",
    "    .groupBy('sender_id')\n",
    "    .agg(count('sender_id').alias('messages_sent'))\n",
    ")"
   ]
  },
  {
   "cell_type": "code",
   "execution_count": 0,
   "metadata": {
    "application/vnd.databricks.v1+cell": {
     "cellMetadata": {
      "byteLimit": 2048000,
      "rowLimit": 10000
     },
     "inputWidgets": {},
     "nuid": "5f782eb0-3546-4327-8408-16603f143c15",
     "showTitle": false,
     "title": ""
    }
   },
   "outputs": [
    {
     "output_type": "display_data",
     "data": {
      "text/html": [
       "<style scoped>\n",
       "  .table-result-container {\n",
       "    max-height: 300px;\n",
       "    overflow: auto;\n",
       "  }\n",
       "  table, th, td {\n",
       "    border: 1px solid black;\n",
       "    border-collapse: collapse;\n",
       "  }\n",
       "  th, td {\n",
       "    padding: 5px;\n",
       "  }\n",
       "  th {\n",
       "    text-align: left;\n",
       "  }\n",
       "</style><div class='table-result-container'><table class='table-result'><thead style='background-color: white'><tr><th>sender_id</th><th>messages_sent</th></tr></thead><tbody><tr><td>3601</td><td>2</td></tr><tr><td>4500</td><td>1</td></tr></tbody></table></div>"
      ]
     },
     "metadata": {
      "application/vnd.databricks.v1+output": {
       "addedWidgets": {},
       "aggData": [],
       "aggError": "",
       "aggOverflow": false,
       "aggSchema": [],
       "aggSeriesLimitReached": false,
       "aggType": "",
       "arguments": {},
       "columnCustomDisplayInfos": {},
       "data": [
        [
         3601,
         2
        ],
        [
         4500,
         1
        ]
       ],
       "datasetInfos": [],
       "dbfsResultPath": null,
       "isJsonSchema": true,
       "metadata": {},
       "overflow": false,
       "plotOptions": {
        "customPlotOptions": {},
        "displayType": "table",
        "pivotAggregation": null,
        "pivotColumns": null,
        "xColumns": null,
        "yColumns": null
       },
       "removedWidgets": [],
       "schema": [
        {
         "metadata": "{}",
         "name": "sender_id",
         "type": "\"long\""
        },
        {
         "metadata": "{}",
         "name": "messages_sent",
         "type": "\"long\""
        }
       ],
       "type": "table"
      }
     },
     "output_type": "display_data"
    }
   ],
   "source": [
    "df_messages_rdd = df_messages.rdd\n",
    "\n",
    "display(\n",
    "    df_messages_rdd\n",
    "    .map(lambda row: (row['sender_id'], datetime.strptime(row['sent_date'], '%m/%d/%Y %H:%M:%S').strftime('%m')  ) )\n",
    "    .filter(lambda row: row[1] == '08')\n",
    "    .map(lambda x: (x[0], 1))\n",
    "    .reduceByKey(lambda x,y:x+y)\n",
    "    .toDF(['sender_id', 'messages_sent'])\n",
    ")"
   ]
  },
  {
   "cell_type": "markdown",
   "metadata": {
    "application/vnd.databricks.v1+cell": {
     "cellMetadata": {
      "byteLimit": 2048000,
      "rowLimit": 10000
     },
     "inputWidgets": {},
     "nuid": "232f8516-da44-44fa-b571-004c553a2947",
     "showTitle": false,
     "title": ""
    }
   },
   "source": [
    "#### Q8 : Duplicate Job Listings [Linkedin SQL Interview Question]"
   ]
  },
  {
   "cell_type": "code",
   "execution_count": 0,
   "metadata": {
    "application/vnd.databricks.v1+cell": {
     "cellMetadata": {
      "byteLimit": 2048000,
      "rowLimit": 10000
     },
     "inputWidgets": {},
     "nuid": "08234d89-2ab9-4d01-8a73-750d325f251d",
     "showTitle": false,
     "title": ""
    }
   },
   "outputs": [],
   "source": [
    "%sql\n",
    "-- Assume you're given a table containing the job postings from various companies on the Linkedin Platform. write a query to retrive the count of companies that have posted duplicate job postings\n",
    "\n",
    "-- Definition:\n",
    "-- Duplicate job postings are defined as 2 job listings within the same company that share identical titles and descriptions\n",
    "\n",
    "-- https://datalemur.com/questions/teams-power-users\n",
    "-- use the table job_listings for this task"
   ]
  },
  {
   "cell_type": "code",
   "execution_count": 0,
   "metadata": {
    "application/vnd.databricks.v1+cell": {
     "cellMetadata": {
      "byteLimit": 2048000,
      "implicitDf": true,
      "rowLimit": 10000
     },
     "inputWidgets": {},
     "nuid": "0b0f8766-73c9-4a48-9a80-842699713e2e",
     "showTitle": false,
     "title": ""
    }
   },
   "outputs": [
    {
     "output_type": "display_data",
     "data": {
      "text/html": [
       "<style scoped>\n",
       "  .table-result-container {\n",
       "    max-height: 300px;\n",
       "    overflow: auto;\n",
       "  }\n",
       "  table, th, td {\n",
       "    border: 1px solid black;\n",
       "    border-collapse: collapse;\n",
       "  }\n",
       "  th, td {\n",
       "    padding: 5px;\n",
       "  }\n",
       "  th {\n",
       "    text-align: left;\n",
       "  }\n",
       "</style><div class='table-result-container'><table class='table-result'><thead style='background-color: white'><tr><th>duplicate_companies</th></tr></thead><tbody><tr><td>1</td></tr></tbody></table></div>"
      ]
     },
     "metadata": {
      "application/vnd.databricks.v1+output": {
       "addedWidgets": {},
       "aggData": [],
       "aggError": "",
       "aggOverflow": false,
       "aggSchema": [],
       "aggSeriesLimitReached": false,
       "aggType": "",
       "arguments": {},
       "columnCustomDisplayInfos": {},
       "data": [
        [
         1
        ]
       ],
       "datasetInfos": [],
       "dbfsResultPath": null,
       "isJsonSchema": true,
       "metadata": {},
       "overflow": false,
       "plotOptions": {
        "customPlotOptions": {},
        "displayType": "table",
        "pivotAggregation": null,
        "pivotColumns": null,
        "xColumns": null,
        "yColumns": null
       },
       "removedWidgets": [],
       "schema": [
        {
         "metadata": "{}",
         "name": "duplicate_companies",
         "type": "\"long\""
        }
       ],
       "type": "table"
      }
     },
     "output_type": "display_data"
    }
   ],
   "source": [
    "%sql\n",
    "select count(distinct company_id) duplicate_companies\n",
    "from datalemur_q.job_listings\n",
    "group by company_id, title, description\n",
    "having count(1) >= 2"
   ]
  },
  {
   "cell_type": "code",
   "execution_count": 0,
   "metadata": {
    "application/vnd.databricks.v1+cell": {
     "cellMetadata": {
      "byteLimit": 2048000,
      "rowLimit": 10000
     },
     "inputWidgets": {},
     "nuid": "25a2ba38-366e-4618-8526-7027f6ad1bea",
     "showTitle": false,
     "title": ""
    }
   },
   "outputs": [
    {
     "output_type": "stream",
     "name": "stdout",
     "output_type": "stream",
     "text": [
      "1"
     ]
    }
   ],
   "source": [
    "df_job_listings = spark.sql(\" select * from datalemur_q.job_listings \")\n",
    "\n",
    "display(\n",
    "    df_job_listings\n",
    "    .groupBy('company_id', 'title', 'description')\n",
    "    .count()\n",
    "    .filter('count >= 2')\n",
    "    .count()\n",
    ")"
   ]
  },
  {
   "cell_type": "code",
   "execution_count": 0,
   "metadata": {
    "application/vnd.databricks.v1+cell": {
     "cellMetadata": {
      "byteLimit": 2048000,
      "rowLimit": 10000
     },
     "inputWidgets": {},
     "nuid": "884ff368-e793-4951-bab7-3a21411ea7aa",
     "showTitle": false,
     "title": ""
    }
   },
   "outputs": [
    {
     "output_type": "stream",
     "name": "stdout",
     "output_type": "stream",
     "text": [
      "Out[105]: 1"
     ]
    }
   ],
   "source": [
    "df_job_listings_rdd = df_job_listings.rdd\n",
    "\n",
    "(\n",
    "    df_job_listings_rdd\n",
    "    .map(lambda x: ( (x['company_id'], x['title'], x['description']), 1 ) )\n",
    "    .reduceByKey(lambda x,y:x+y)\n",
    "    .filter(lambda x: x[1] >= 2 )\n",
    "    .count()\n",
    ")"
   ]
  },
  {
   "cell_type": "markdown",
   "metadata": {
    "application/vnd.databricks.v1+cell": {
     "cellMetadata": {},
     "inputWidgets": {},
     "nuid": "f034d95e-4df3-463b-a4ae-ef8e44525089",
     "showTitle": false,
     "title": ""
    }
   },
   "source": [
    "#### Q9 : Cities with Completed Trades [Robinhood SQL Interview Question]"
   ]
  },
  {
   "cell_type": "code",
   "execution_count": 0,
   "metadata": {
    "application/vnd.databricks.v1+cell": {
     "cellMetadata": {
      "byteLimit": 2048000,
      "rowLimit": 10000
     },
     "inputWidgets": {},
     "nuid": "2f82bba6-b0d0-41c5-9a33-468212f7c52b",
     "showTitle": false,
     "title": ""
    }
   },
   "outputs": [],
   "source": [
    "%sql\n",
    "-- Assume you're given the tables containing completed trade orders and user details in a Robinhood trading system\n",
    "\n",
    "-- write a query to retrive the top 3 cities that have the highest number of completed trade orders listed in descending order. output the city name and the corresponding number of completed trade orders\n",
    "\n",
    "-- https://datalemur.com/questions/completed-trades\n",
    "-- use the tables trades & users for this task"
   ]
  },
  {
   "cell_type": "code",
   "execution_count": 0,
   "metadata": {
    "application/vnd.databricks.v1+cell": {
     "cellMetadata": {
      "byteLimit": 2048000,
      "rowLimit": 10000
     },
     "inputWidgets": {},
     "nuid": "c8d5e642-5988-4fba-86ab-a2d4dbf37525",
     "showTitle": false,
     "title": ""
    }
   },
   "outputs": [
    {
     "output_type": "display_data",
     "data": {
      "text/html": [
       "<style scoped>\n",
       "  .table-result-container {\n",
       "    max-height: 300px;\n",
       "    overflow: auto;\n",
       "  }\n",
       "  table, th, td {\n",
       "    border: 1px solid black;\n",
       "    border-collapse: collapse;\n",
       "  }\n",
       "  th, td {\n",
       "    padding: 5px;\n",
       "  }\n",
       "  th {\n",
       "    text-align: left;\n",
       "  }\n",
       "</style><div class='table-result-container'><table class='table-result'><thead style='background-color: white'><tr><th>city</th><th>total_orders</th></tr></thead><tbody><tr><td>San Francisco</td><td>3</td></tr><tr><td>Boston</td><td>2</td></tr><tr><td>Denver</td><td>1</td></tr></tbody></table></div>"
      ]
     },
     "metadata": {
      "application/vnd.databricks.v1+output": {
       "addedWidgets": {},
       "aggData": [],
       "aggError": "",
       "aggOverflow": false,
       "aggSchema": [],
       "aggSeriesLimitReached": false,
       "aggType": "",
       "arguments": {},
       "columnCustomDisplayInfos": {},
       "data": [
        [
         "San Francisco",
         3
        ],
        [
         "Boston",
         2
        ],
        [
         "Denver",
         1
        ]
       ],
       "datasetInfos": [],
       "dbfsResultPath": null,
       "isJsonSchema": true,
       "metadata": {
        "isDbfsCommandResult": false
       },
       "overflow": false,
       "plotOptions": {
        "customPlotOptions": {},
        "displayType": "table",
        "pivotAggregation": null,
        "pivotColumns": null,
        "xColumns": null,
        "yColumns": null
       },
       "removedWidgets": [],
       "schema": [
        {
         "metadata": "{}",
         "name": "city",
         "type": "\"string\""
        },
        {
         "metadata": "{}",
         "name": "total_orders",
         "type": "\"long\""
        }
       ],
       "type": "table"
      }
     },
     "output_type": "display_data"
    }
   ],
   "source": [
    "%sql\n",
    "select u.city , count(*) total_orders\n",
    "from datalemur_q.trades t\n",
    "  inner join datalemur_q.users u on t.user_id = u.user_id\n",
    "where t.status = 'Completed'\n",
    "group by u.city\n",
    "order by total_orders desc"
   ]
  },
  {
   "cell_type": "code",
   "execution_count": 0,
   "metadata": {
    "application/vnd.databricks.v1+cell": {
     "cellMetadata": {
      "byteLimit": 2048000,
      "rowLimit": 10000
     },
     "inputWidgets": {},
     "nuid": "0642ada3-39ca-4059-a0bb-7fee189c7dfd",
     "showTitle": false,
     "title": ""
    }
   },
   "outputs": [
    {
     "output_type": "display_data",
     "data": {
      "text/html": [
       "<style scoped>\n",
       "  .table-result-container {\n",
       "    max-height: 300px;\n",
       "    overflow: auto;\n",
       "  }\n",
       "  table, th, td {\n",
       "    border: 1px solid black;\n",
       "    border-collapse: collapse;\n",
       "  }\n",
       "  th, td {\n",
       "    padding: 5px;\n",
       "  }\n",
       "  th {\n",
       "    text-align: left;\n",
       "  }\n",
       "</style><div class='table-result-container'><table class='table-result'><thead style='background-color: white'><tr><th>city</th><th>total_orders</th></tr></thead><tbody><tr><td>San Francisco</td><td>3</td></tr><tr><td>Boston</td><td>2</td></tr><tr><td>Denver</td><td>1</td></tr></tbody></table></div>"
      ]
     },
     "metadata": {
      "application/vnd.databricks.v1+output": {
       "addedWidgets": {},
       "aggData": [],
       "aggError": "",
       "aggOverflow": false,
       "aggSchema": [],
       "aggSeriesLimitReached": false,
       "aggType": "",
       "arguments": {},
       "columnCustomDisplayInfos": {},
       "data": [
        [
         "San Francisco",
         3
        ],
        [
         "Boston",
         2
        ],
        [
         "Denver",
         1
        ]
       ],
       "datasetInfos": [],
       "dbfsResultPath": null,
       "isJsonSchema": true,
       "metadata": {},
       "overflow": false,
       "plotOptions": {
        "customPlotOptions": {},
        "displayType": "table",
        "pivotAggregation": null,
        "pivotColumns": null,
        "xColumns": null,
        "yColumns": null
       },
       "removedWidgets": [],
       "schema": [
        {
         "metadata": "{}",
         "name": "city",
         "type": "\"string\""
        },
        {
         "metadata": "{}",
         "name": "total_orders",
         "type": "\"long\""
        }
       ],
       "type": "table"
      }
     },
     "output_type": "display_data"
    }
   ],
   "source": [
    "df_trades = spark.sql(\"select * from datalemur_q.trades\")\n",
    "df_users = spark.sql(\"select * from datalemur_q.users\")\n",
    "\n",
    "display(\n",
    "    df_trades\n",
    "    .join(df_users, on='user_id', how='inner')\n",
    "    .filter(\"status = 'Completed'\")\n",
    "    .select('user_id', 'city')\n",
    "    .groupBy('city')\n",
    "    .agg(count('city').alias('total_orders'))\n",
    "    .orderBy(desc('total_orders'))\n",
    ")"
   ]
  },
  {
   "cell_type": "code",
   "execution_count": 0,
   "metadata": {
    "application/vnd.databricks.v1+cell": {
     "cellMetadata": {
      "byteLimit": 2048000,
      "rowLimit": 10000
     },
     "inputWidgets": {},
     "nuid": "72535350-610f-47b3-b511-c2afe79fd916",
     "showTitle": false,
     "title": ""
    }
   },
   "outputs": [
    {
     "output_type": "display_data",
     "data": {
      "text/html": [
       "<style scoped>\n",
       "  .table-result-container {\n",
       "    max-height: 300px;\n",
       "    overflow: auto;\n",
       "  }\n",
       "  table, th, td {\n",
       "    border: 1px solid black;\n",
       "    border-collapse: collapse;\n",
       "  }\n",
       "  th, td {\n",
       "    padding: 5px;\n",
       "  }\n",
       "  th {\n",
       "    text-align: left;\n",
       "  }\n",
       "</style><div class='table-result-container'><table class='table-result'><thead style='background-color: white'><tr><th>city</th><th>total_orders</th></tr></thead><tbody><tr><td>San Francisco</td><td>3</td></tr><tr><td>Boston</td><td>2</td></tr><tr><td>Denver</td><td>1</td></tr></tbody></table></div>"
      ]
     },
     "metadata": {
      "application/vnd.databricks.v1+output": {
       "addedWidgets": {},
       "aggData": [],
       "aggError": "",
       "aggOverflow": false,
       "aggSchema": [],
       "aggSeriesLimitReached": false,
       "aggType": "",
       "arguments": {},
       "columnCustomDisplayInfos": {},
       "data": [
        [
         "San Francisco",
         3
        ],
        [
         "Boston",
         2
        ],
        [
         "Denver",
         1
        ]
       ],
       "datasetInfos": [],
       "dbfsResultPath": null,
       "isJsonSchema": true,
       "metadata": {},
       "overflow": false,
       "plotOptions": {
        "customPlotOptions": {},
        "displayType": "table",
        "pivotAggregation": null,
        "pivotColumns": null,
        "xColumns": null,
        "yColumns": null
       },
       "removedWidgets": [],
       "schema": [
        {
         "metadata": "{}",
         "name": "city",
         "type": "\"string\""
        },
        {
         "metadata": "{}",
         "name": "total_orders",
         "type": "\"long\""
        }
       ],
       "type": "table"
      }
     },
     "output_type": "display_data"
    }
   ],
   "source": [
    "df_trades_rdd = df_trades.rdd\n",
    "df_users_rdd = df_users.rdd\n",
    "\n",
    "df_trades_rdd_filt = (\n",
    "    df_trades_rdd\n",
    "    .map(lambda x: (x['user_id'], x['status']) )\n",
    "    # .collect()\n",
    ")\n",
    "\n",
    "df_users_rdd_filt = (\n",
    "    df_users_rdd\n",
    "    .map(lambda x: (x['user_id'], x['city']) )\n",
    "    # .collect()\n",
    ")\n",
    "\n",
    "display(\n",
    "    df_trades_rdd_filt\n",
    "    .join(df_users_rdd_filt)\n",
    "    .map(lambda x: x[1])\n",
    "    .filter(lambda x: x[0] == 'Completed')\n",
    "    .map(lambda x: (x[1], 1))\n",
    "    .reduceByKey(lambda x,y: x+y)\n",
    "    .toDF(['city', 'total_orders'])\n",
    ")"
   ]
  },
  {
   "cell_type": "markdown",
   "metadata": {
    "application/vnd.databricks.v1+cell": {
     "cellMetadata": {},
     "inputWidgets": {},
     "nuid": "1101ca29-0639-4c1c-9bef-8a157acd21da",
     "showTitle": false,
     "title": ""
    }
   },
   "source": [
    "#### Q10 : Average Review Ratings [Amazon SQL Interview Questions]"
   ]
  },
  {
   "cell_type": "code",
   "execution_count": 0,
   "metadata": {
    "application/vnd.databricks.v1+cell": {
     "cellMetadata": {
      "byteLimit": 2048000,
      "rowLimit": 10000
     },
     "inputWidgets": {},
     "nuid": "a0c483ff-8dd9-4008-8ad4-a5b256702226",
     "showTitle": false,
     "title": ""
    }
   },
   "outputs": [],
   "source": [
    "%sql\n",
    "-- Given the reviews table, write a query to retrive the average star rating for each product, grouped by month. The output should display the month as a numerical value, product ID and average star rating rounded to 2 decimal places. sort the output first by month and then by product ID\n",
    "\n",
    "-- https://datalemur.com/questions/sql-avg-review-ratings\n",
    "-- use the table reviews for this task"
   ]
  },
  {
   "cell_type": "code",
   "execution_count": 0,
   "metadata": {
    "application/vnd.databricks.v1+cell": {
     "cellMetadata": {
      "byteLimit": 2048000,
      "rowLimit": 10000
     },
     "inputWidgets": {},
     "nuid": "58099a14-1914-40a5-8827-3c83dfeeca1c",
     "showTitle": false,
     "title": ""
    }
   },
   "outputs": [
    {
     "output_type": "display_data",
     "data": {
      "text/html": [
       "<style scoped>\n",
       "  .table-result-container {\n",
       "    max-height: 300px;\n",
       "    overflow: auto;\n",
       "  }\n",
       "  table, th, td {\n",
       "    border: 1px solid black;\n",
       "    border-collapse: collapse;\n",
       "  }\n",
       "  th, td {\n",
       "    padding: 5px;\n",
       "  }\n",
       "  th {\n",
       "    text-align: left;\n",
       "  }\n",
       "</style><div class='table-result-container'><table class='table-result'><thead style='background-color: white'><tr><th>mth</th><th>product_id</th><th>avg_stars</th></tr></thead><tbody><tr><td>6</td><td>50001</td><td>3.5</td></tr><tr><td>6</td><td>69852</td><td>4.0</td></tr><tr><td>7</td><td>69852</td><td>2.5</td></tr></tbody></table></div>"
      ]
     },
     "metadata": {
      "application/vnd.databricks.v1+output": {
       "addedWidgets": {},
       "aggData": [],
       "aggError": "",
       "aggOverflow": false,
       "aggSchema": [],
       "aggSeriesLimitReached": false,
       "aggType": "",
       "arguments": {},
       "columnCustomDisplayInfos": {},
       "data": [
        [
         6,
         50001,
         3.5
        ],
        [
         6,
         69852,
         4.0
        ],
        [
         7,
         69852,
         2.5
        ]
       ],
       "datasetInfos": [],
       "dbfsResultPath": null,
       "isJsonSchema": true,
       "metadata": {
        "isDbfsCommandResult": false
       },
       "overflow": false,
       "plotOptions": {
        "customPlotOptions": {},
        "displayType": "table",
        "pivotAggregation": null,
        "pivotColumns": null,
        "xColumns": null,
        "yColumns": null
       },
       "removedWidgets": [],
       "schema": [
        {
         "metadata": "{}",
         "name": "mth",
         "type": "\"integer\""
        },
        {
         "metadata": "{}",
         "name": "product_id",
         "type": "\"integer\""
        },
        {
         "metadata": "{}",
         "name": "avg_stars",
         "type": "\"double\""
        }
       ],
       "type": "table"
      }
     },
     "output_type": "display_data"
    }
   ],
   "source": [
    "%sql\n",
    "select month(from_unixtime(unix_timestamp(submit_date, 'MM/dd/yyyy HH:mm:ss'))) mth, product_id, round(avg(stars), 2) avg_stars\n",
    "from datalemur_q.reviews\n",
    "group by month(from_unixtime(unix_timestamp(submit_date, 'MM/dd/yyyy HH:mm:ss'))), product_id\n",
    "order by mth, product_id\n"
   ]
  },
  {
   "cell_type": "code",
   "execution_count": 0,
   "metadata": {
    "application/vnd.databricks.v1+cell": {
     "cellMetadata": {
      "byteLimit": 2048000,
      "rowLimit": 10000
     },
     "inputWidgets": {},
     "nuid": "0700c70a-9287-4b57-8cf3-9b2c0225ca12",
     "showTitle": false,
     "title": ""
    }
   },
   "outputs": [
    {
     "output_type": "display_data",
     "data": {
      "text/html": [
       "<style scoped>\n",
       "  .table-result-container {\n",
       "    max-height: 300px;\n",
       "    overflow: auto;\n",
       "  }\n",
       "  table, th, td {\n",
       "    border: 1px solid black;\n",
       "    border-collapse: collapse;\n",
       "  }\n",
       "  th, td {\n",
       "    padding: 5px;\n",
       "  }\n",
       "  th {\n",
       "    text-align: left;\n",
       "  }\n",
       "</style><div class='table-result-container'><table class='table-result'><thead style='background-color: white'><tr><th>product_id</th><th>mth</th><th>avg_stars</th></tr></thead><tbody><tr><td>50001</td><td>6</td><td>3.5</td></tr><tr><td>69852</td><td>6</td><td>4.0</td></tr><tr><td>69852</td><td>7</td><td>2.5</td></tr></tbody></table></div>"
      ]
     },
     "metadata": {
      "application/vnd.databricks.v1+output": {
       "addedWidgets": {},
       "aggData": [],
       "aggError": "",
       "aggOverflow": false,
       "aggSchema": [],
       "aggSeriesLimitReached": false,
       "aggType": "",
       "arguments": {},
       "columnCustomDisplayInfos": {},
       "data": [
        [
         50001,
         6,
         3.5
        ],
        [
         69852,
         6,
         4.0
        ],
        [
         69852,
         7,
         2.5
        ]
       ],
       "datasetInfos": [],
       "dbfsResultPath": null,
       "isJsonSchema": true,
       "metadata": {},
       "overflow": false,
       "plotOptions": {
        "customPlotOptions": {},
        "displayType": "table",
        "pivotAggregation": null,
        "pivotColumns": null,
        "xColumns": null,
        "yColumns": null
       },
       "removedWidgets": [],
       "schema": [
        {
         "metadata": "{}",
         "name": "product_id",
         "type": "\"integer\""
        },
        {
         "metadata": "{}",
         "name": "mth",
         "type": "\"integer\""
        },
        {
         "metadata": "{}",
         "name": "avg_stars",
         "type": "\"double\""
        }
       ],
       "type": "table"
      }
     },
     "output_type": "display_data"
    }
   ],
   "source": [
    "df_reviews = spark.sql(\" select * from datalemur_q.reviews \")\n",
    "\n",
    "display(\n",
    "    df_reviews\n",
    "    .withColumn('mth', month(to_timestamp('submit_date', 'MM/dd/yyyy HH:mm:ss')))\n",
    "    .groupBy('product_id', 'mth')\n",
    "    .agg(avg('stars').alias('avg_stars'))\n",
    "    .orderBy('mth', 'product_id')\n",
    ")"
   ]
  },
  {
   "cell_type": "code",
   "execution_count": 0,
   "metadata": {
    "application/vnd.databricks.v1+cell": {
     "cellMetadata": {
      "byteLimit": 2048000,
      "rowLimit": 10000
     },
     "inputWidgets": {},
     "nuid": "5d4e5a31-fad1-4692-9901-98b189f3e93a",
     "showTitle": false,
     "title": ""
    }
   },
   "outputs": [],
   "source": [
    "# how to use aggregateByKey, mapValues"
   ]
  },
  {
   "cell_type": "code",
   "execution_count": 0,
   "metadata": {
    "application/vnd.databricks.v1+cell": {
     "cellMetadata": {
      "byteLimit": 2048000,
      "rowLimit": 10000
     },
     "inputWidgets": {},
     "nuid": "dcf2a6c9-19c0-43ab-ace4-d7d0c45f5d35",
     "showTitle": false,
     "title": ""
    }
   },
   "outputs": [
    {
     "output_type": "stream",
     "name": "stdout",
     "output_type": "stream",
     "text": [
      "[('B', [4, 2]), ('A', [3, 5, 4])]\nOut[158]: [('B', 6), ('A', 12)]"
     ]
    }
   ],
   "source": [
    "data = [(\"A\", 3), (\"B\", 4), (\"A\", 5), (\"B\", 2), (\"A\", 4)]\n",
    "rdd = sc.parallelize(data)\n",
    "\n",
    "print(\n",
    "    rdd\n",
    "    .groupByKey()\n",
    "    .map(lambda x: (x[0], [i for i in x[1]]) )\n",
    "    .collect()\n",
    ")\n",
    "init_val = 0\n",
    "seq_func = lambda x,y:x+y # grouping the data by keys and applying the lambda function \n",
    "comb_func = lambda x,y:x+y # combining the data from accross the partitions \n",
    "\n",
    "(\n",
    "    rdd\n",
    "    .aggregateByKey(0, seq_func, comb_func)\n",
    "    .collect()\n",
    ")"
   ]
  },
  {
   "cell_type": "code",
   "execution_count": 0,
   "metadata": {
    "application/vnd.databricks.v1+cell": {
     "cellMetadata": {
      "byteLimit": 2048000,
      "rowLimit": 10000
     },
     "inputWidgets": {},
     "nuid": "cfb80078-cd25-4d39-a044-9476814711e5",
     "showTitle": false,
     "title": ""
    }
   },
   "outputs": [
    {
     "output_type": "display_data",
     "data": {
      "text/html": [
       "<style scoped>\n",
       "  .table-result-container {\n",
       "    max-height: 300px;\n",
       "    overflow: auto;\n",
       "  }\n",
       "  table, th, td {\n",
       "    border: 1px solid black;\n",
       "    border-collapse: collapse;\n",
       "  }\n",
       "  th, td {\n",
       "    padding: 5px;\n",
       "  }\n",
       "  th {\n",
       "    text-align: left;\n",
       "  }\n",
       "</style><div class='table-result-container'><table class='table-result'><thead style='background-color: white'><tr><th>product_id</th><th>mnth</th><th>avg_stars</th></tr></thead><tbody><tr><td>50001</td><td>06</td><td>3.5</td></tr><tr><td>69852</td><td>06</td><td>4.0</td></tr><tr><td>69852</td><td>07</td><td>2.5</td></tr></tbody></table></div>"
      ]
     },
     "metadata": {
      "application/vnd.databricks.v1+output": {
       "addedWidgets": {},
       "aggData": [],
       "aggError": "",
       "aggOverflow": false,
       "aggSchema": [],
       "aggSeriesLimitReached": false,
       "aggType": "",
       "arguments": {},
       "columnCustomDisplayInfos": {},
       "data": [
        [
         50001,
         "06",
         3.5
        ],
        [
         69852,
         "06",
         4.0
        ],
        [
         69852,
         "07",
         2.5
        ]
       ],
       "datasetInfos": [],
       "dbfsResultPath": null,
       "isJsonSchema": true,
       "metadata": {},
       "overflow": false,
       "plotOptions": {
        "customPlotOptions": {},
        "displayType": "table",
        "pivotAggregation": null,
        "pivotColumns": null,
        "xColumns": null,
        "yColumns": null
       },
       "removedWidgets": [],
       "schema": [
        {
         "metadata": "{}",
         "name": "product_id",
         "type": "\"long\""
        },
        {
         "metadata": "{}",
         "name": "mnth",
         "type": "\"string\""
        },
        {
         "metadata": "{}",
         "name": "avg_stars",
         "type": "\"double\""
        }
       ],
       "type": "table"
      }
     },
     "output_type": "display_data"
    }
   ],
   "source": [
    "df_reviews_rdd = df_reviews.rdd\n",
    "\n",
    "display(\n",
    "    df_reviews_rdd\n",
    "    .map(lambda x: ((x['product_id'], datetime.strptime(x['submit_date'], '%m/%d/%Y %H:%M:%S').strftime('%m')), x['stars']) )\n",
    "    .groupByKey()\n",
    "    .map(lambda x: (x[0], [i for i in x[1]]) )\n",
    "    .mapValues(lambda x: builtins.sum(x)/builtins.len(x))\n",
    "    .map(lambda x: (x[0][0], x[0][1], x[1]))\n",
    "    .sortBy(lambda x: (x[1], x[0]))\n",
    "    .toDF(['product_id', 'mnth', 'avg_stars'])\n",
    ")"
   ]
  },
  {
   "cell_type": "markdown",
   "metadata": {
    "application/vnd.databricks.v1+cell": {
     "cellMetadata": {},
     "inputWidgets": {},
     "nuid": "fda4a615-3c98-4f43-a98d-2c196d1bc386",
     "showTitle": false,
     "title": ""
    }
   },
   "source": [
    "#### Q11 : App Click-through Rate (CTR)[Facebook Interview Question]"
   ]
  },
  {
   "cell_type": "code",
   "execution_count": 0,
   "metadata": {
    "application/vnd.databricks.v1+cell": {
     "cellMetadata": {
      "byteLimit": 2048000,
      "rowLimit": 10000
     },
     "inputWidgets": {},
     "nuid": "80823827-c8e1-46f9-b623-74f942f1d71b",
     "showTitle": false,
     "title": ""
    }
   },
   "outputs": [],
   "source": [
    "%sql\n",
    "-- Assume you have an events table on facebook app analytics.\n",
    "-- write a query to calculate the click through rate (CTR) for the app in 2022 and round the results to 2 decimal places\n",
    "\n",
    "-- definition and note:\n",
    "-- percentage of Click Through Rate(CTR) = 100*NumberOfClicks/NumberOfImpressions\n",
    "-- To avoid Integer division multiply the CTR by 100.0, not 100\n",
    "\n",
    "-- https://datalemur.com/questions/click-through-rate\n",
    "-- use the table events for this task"
   ]
  },
  {
   "cell_type": "code",
   "execution_count": 0,
   "metadata": {
    "application/vnd.databricks.v1+cell": {
     "cellMetadata": {
      "byteLimit": 2048000,
      "implicitDf": true,
      "rowLimit": 10000
     },
     "inputWidgets": {},
     "nuid": "64b4ed6d-8e41-4485-8134-c7045f87f1af",
     "showTitle": false,
     "title": ""
    }
   },
   "outputs": [
    {
     "output_type": "display_data",
     "data": {
      "text/html": [
       "<style scoped>\n",
       "  .table-result-container {\n",
       "    max-height: 300px;\n",
       "    overflow: auto;\n",
       "  }\n",
       "  table, th, td {\n",
       "    border: 1px solid black;\n",
       "    border-collapse: collapse;\n",
       "  }\n",
       "  th, td {\n",
       "    padding: 5px;\n",
       "  }\n",
       "  th {\n",
       "    text-align: left;\n",
       "  }\n",
       "</style><div class='table-result-container'><table class='table-result'><thead style='background-color: white'><tr><th>app_id</th><th>ctr</th></tr></thead><tbody><tr><td>234</td><td>100.0</td></tr><tr><td>123</td><td>50.0</td></tr></tbody></table></div>"
      ]
     },
     "metadata": {
      "application/vnd.databricks.v1+output": {
       "addedWidgets": {},
       "aggData": [],
       "aggError": "",
       "aggOverflow": false,
       "aggSchema": [],
       "aggSeriesLimitReached": false,
       "aggType": "",
       "arguments": {},
       "columnCustomDisplayInfos": {},
       "data": [
        [
         234,
         100.0
        ],
        [
         123,
         50.0
        ]
       ],
       "datasetInfos": [],
       "dbfsResultPath": null,
       "isJsonSchema": true,
       "metadata": {},
       "overflow": false,
       "plotOptions": {
        "customPlotOptions": {},
        "displayType": "table",
        "pivotAggregation": null,
        "pivotColumns": null,
        "xColumns": null,
        "yColumns": null
       },
       "removedWidgets": [],
       "schema": [
        {
         "metadata": "{}",
         "name": "app_id",
         "type": "\"integer\""
        },
        {
         "metadata": "{}",
         "name": "ctr",
         "type": "\"double\""
        }
       ],
       "type": "table"
      }
     },
     "output_type": "display_data"
    }
   ],
   "source": [
    "%sql\n",
    "select app_id, (sum(case when event_type='click' then 1 else 0 end) / sum(case when event_type='impression' then 1 else 0 end) * 100.0) ctr \n",
    "from datalemur_q.events\n",
    "group by app_id"
   ]
  },
  {
   "cell_type": "code",
   "execution_count": 0,
   "metadata": {
    "application/vnd.databricks.v1+cell": {
     "cellMetadata": {
      "byteLimit": 2048000,
      "rowLimit": 10000
     },
     "inputWidgets": {},
     "nuid": "88ed24e4-0573-4c94-b683-331d7b2d258c",
     "showTitle": false,
     "title": ""
    }
   },
   "outputs": [
    {
     "output_type": "display_data",
     "data": {
      "text/html": [
       "<style scoped>\n",
       "  .table-result-container {\n",
       "    max-height: 300px;\n",
       "    overflow: auto;\n",
       "  }\n",
       "  table, th, td {\n",
       "    border: 1px solid black;\n",
       "    border-collapse: collapse;\n",
       "  }\n",
       "  th, td {\n",
       "    padding: 5px;\n",
       "  }\n",
       "  th {\n",
       "    text-align: left;\n",
       "  }\n",
       "</style><div class='table-result-container'><table class='table-result'><thead style='background-color: white'><tr><th>app_id</th><th>ctr</th></tr></thead><tbody><tr><td>234</td><td>100.0</td></tr><tr><td>123</td><td>50.0</td></tr></tbody></table></div>"
      ]
     },
     "metadata": {
      "application/vnd.databricks.v1+output": {
       "addedWidgets": {},
       "aggData": [],
       "aggError": "",
       "aggOverflow": false,
       "aggSchema": [],
       "aggSeriesLimitReached": false,
       "aggType": "",
       "arguments": {},
       "columnCustomDisplayInfos": {},
       "data": [
        [
         234,
         100.0
        ],
        [
         123,
         50.0
        ]
       ],
       "datasetInfos": [],
       "dbfsResultPath": null,
       "isJsonSchema": true,
       "metadata": {},
       "overflow": false,
       "plotOptions": {
        "customPlotOptions": {},
        "displayType": "table",
        "pivotAggregation": null,
        "pivotColumns": null,
        "xColumns": null,
        "yColumns": null
       },
       "removedWidgets": [],
       "schema": [
        {
         "metadata": "{}",
         "name": "app_id",
         "type": "\"integer\""
        },
        {
         "metadata": "{}",
         "name": "ctr",
         "type": "\"double\""
        }
       ],
       "type": "table"
      }
     },
     "output_type": "display_data"
    }
   ],
   "source": [
    "df_events = spark.sql(\"select * from datalemur_q.events \")\n",
    "\n",
    "display(\n",
    "    df_events\n",
    "    .groupBy('app_id')\n",
    "    .agg(\n",
    "        (\n",
    "            ( sum( when(col('event_type') == 'click', 1).otherwise(0) ) /\n",
    "            sum( when(col('event_type') == 'impression', 1).otherwise(0) ) )*100\n",
    "        ).alias('ctr')\n",
    "    )\n",
    ")"
   ]
  },
  {
   "cell_type": "code",
   "execution_count": 0,
   "metadata": {
    "application/vnd.databricks.v1+cell": {
     "cellMetadata": {
      "byteLimit": 2048000,
      "rowLimit": 10000
     },
     "inputWidgets": {},
     "nuid": "41d004b5-ba73-4283-983c-990b80f49fd5",
     "showTitle": false,
     "title": ""
    }
   },
   "outputs": [
    {
     "output_type": "stream",
     "name": "stdout",
     "output_type": "stream",
     "text": [
      "Out[148]: [(123, 50.0), (234, 100.0)]"
     ]
    }
   ],
   "source": [
    "df_events_rdd = df_events.rdd\n",
    "\n",
    "(\n",
    "    df_events_rdd\n",
    "    .map(lambda x: (x[0], x[1]))\n",
    "    .groupByKey()\n",
    "    .map(lambda x: (x[0], ([i for i in x[1]].count('click')/[i for i in x[1]].count('impression'))*100 ))\n",
    "    .collect()\n",
    ")"
   ]
  },
  {
   "cell_type": "markdown",
   "metadata": {
    "application/vnd.databricks.v1+cell": {
     "cellMetadata": {},
     "inputWidgets": {},
     "nuid": "7560f6cf-7caf-4fa5-ac9c-b1065c612f12",
     "showTitle": false,
     "title": ""
    }
   },
   "source": [
    "#### Q12 : Second Day Confirmation [TikTok SQL Interview Question]"
   ]
  },
  {
   "cell_type": "code",
   "execution_count": 0,
   "metadata": {
    "application/vnd.databricks.v1+cell": {
     "cellMetadata": {
      "byteLimit": 2048000,
      "rowLimit": 10000
     },
     "inputWidgets": {},
     "nuid": "826e44a5-2805-4994-af6f-3208e1ac59f0",
     "showTitle": false,
     "title": ""
    }
   },
   "outputs": [],
   "source": [
    "%sql\n",
    "-- Assume you're given tables with information about tiktok user sign-ups and confirmations through email and text. new users on tik tok sign up using their email addresses and upon sign-up, each user receives a text message confirmation to activate their account\n",
    "-- write a query to display the user IDs of those who did not confirm their sign-ups on the first day, but confirmed on second day\n",
    "\n",
    "-- definition:\n",
    "-- action_date refers to the date when users activated their accounts and confirmed their sign-ups through text messages\n",
    "\n",
    "-- https://datalemur.com/questions/second-day-confirmation\n",
    "-- use the table emails, texts for this task"
   ]
  },
  {
   "cell_type": "code",
   "execution_count": 0,
   "metadata": {
    "application/vnd.databricks.v1+cell": {
     "cellMetadata": {
      "byteLimit": 2048000,
      "implicitDf": true,
      "rowLimit": 10000
     },
     "inputWidgets": {},
     "nuid": "c3e47eb6-bef2-4f2d-aca9-4e052f95524c",
     "showTitle": false,
     "title": ""
    }
   },
   "outputs": [
    {
     "output_type": "display_data",
     "data": {
      "text/html": [
       "<style scoped>\n",
       "  .table-result-container {\n",
       "    max-height: 300px;\n",
       "    overflow: auto;\n",
       "  }\n",
       "  table, th, td {\n",
       "    border: 1px solid black;\n",
       "    border-collapse: collapse;\n",
       "  }\n",
       "  th, td {\n",
       "    padding: 5px;\n",
       "  }\n",
       "  th {\n",
       "    text-align: left;\n",
       "  }\n",
       "</style><div class='table-result-container'><table class='table-result'><thead style='background-color: white'><tr><th>user_id</th></tr></thead><tbody><tr><td>1052</td></tr></tbody></table></div>"
      ]
     },
     "metadata": {
      "application/vnd.databricks.v1+output": {
       "addedWidgets": {},
       "aggData": [],
       "aggError": "",
       "aggOverflow": false,
       "aggSchema": [],
       "aggSeriesLimitReached": false,
       "aggType": "",
       "arguments": {},
       "columnCustomDisplayInfos": {},
       "data": [
        [
         1052
        ]
       ],
       "datasetInfos": [],
       "dbfsResultPath": null,
       "isJsonSchema": true,
       "metadata": {},
       "overflow": false,
       "plotOptions": {
        "customPlotOptions": {},
        "displayType": "table",
        "pivotAggregation": null,
        "pivotColumns": null,
        "xColumns": null,
        "yColumns": null
       },
       "removedWidgets": [],
       "schema": [
        {
         "metadata": "{}",
         "name": "user_id",
         "type": "\"integer\""
        }
       ],
       "type": "table"
      }
     },
     "output_type": "display_data"
    }
   ],
   "source": [
    "%sql\n",
    "select e.user_id \n",
    "--e.email_id, e.user_id, from_unixtime(unix_timestamp(e.signup_date, 'MM/dd/yyyy HH:mm:ss')) signup_date,t.signup_action, from_unixtime(unix_timestamp(t.action_date, 'MM/dd/yyyy HH:mm:ss')) action_date\n",
    "from datalemur_q.emails e\n",
    "  inner join texts t on (e.email_id = t.email_id)\n",
    "where signup_action = 'Confirmed' and date_diff(from_unixtime(unix_timestamp(t.action_date, 'MM/dd/yyyy HH:mm:ss')), from_unixtime(unix_timestamp(e.signup_date, 'MM/dd/yyyy HH:mm:ss'))) = 1"
   ]
  },
  {
   "cell_type": "code",
   "execution_count": 0,
   "metadata": {
    "application/vnd.databricks.v1+cell": {
     "cellMetadata": {
      "byteLimit": 2048000,
      "rowLimit": 10000
     },
     "inputWidgets": {},
     "nuid": "5f6f8cae-af75-4a3c-b037-8e4dca0dd658",
     "showTitle": false,
     "title": ""
    }
   },
   "outputs": [
    {
     "output_type": "display_data",
     "data": {
      "text/html": [
       "<style scoped>\n",
       "  .table-result-container {\n",
       "    max-height: 300px;\n",
       "    overflow: auto;\n",
       "  }\n",
       "  table, th, td {\n",
       "    border: 1px solid black;\n",
       "    border-collapse: collapse;\n",
       "  }\n",
       "  th, td {\n",
       "    padding: 5px;\n",
       "  }\n",
       "  th {\n",
       "    text-align: left;\n",
       "  }\n",
       "</style><div class='table-result-container'><table class='table-result'><thead style='background-color: white'><tr><th>user_id</th></tr></thead><tbody><tr><td>1052</td></tr></tbody></table></div>"
      ]
     },
     "metadata": {
      "application/vnd.databricks.v1+output": {
       "addedWidgets": {},
       "aggData": [],
       "aggError": "",
       "aggOverflow": false,
       "aggSchema": [],
       "aggSeriesLimitReached": false,
       "aggType": "",
       "arguments": {},
       "columnCustomDisplayInfos": {},
       "data": [
        [
         1052
        ]
       ],
       "datasetInfos": [],
       "dbfsResultPath": null,
       "isJsonSchema": true,
       "metadata": {},
       "overflow": false,
       "plotOptions": {
        "customPlotOptions": {},
        "displayType": "table",
        "pivotAggregation": null,
        "pivotColumns": null,
        "xColumns": null,
        "yColumns": null
       },
       "removedWidgets": [],
       "schema": [
        {
         "metadata": "{}",
         "name": "user_id",
         "type": "\"integer\""
        }
       ],
       "type": "table"
      }
     },
     "output_type": "display_data"
    }
   ],
   "source": [
    "df_emails = spark.sql(\" select * from datalemur_q.emails \")\n",
    "df_texts = spark.sql(\" select * from datalemur_q.texts \")\n",
    "\n",
    "display(\n",
    "    df_emails\n",
    "    .join(df_texts, on='email_id', how='inner')\n",
    "    .filter(\"signup_action = 'Confirmed'\")\n",
    "    .select('user_id', 'signup_date', 'signup_action', 'action_date')\n",
    "    .filter(datediff( to_timestamp('action_date', 'MM/dd/yyyy HH:mm:ss'), to_timestamp('signup_date', 'MM/dd/yyyy HH:mm:ss') )==1)\n",
    "    .select('user_id')\n",
    ")"
   ]
  },
  {
   "cell_type": "code",
   "execution_count": 0,
   "metadata": {
    "application/vnd.databricks.v1+cell": {
     "cellMetadata": {
      "byteLimit": 2048000,
      "rowLimit": 10000
     },
     "inputWidgets": {},
     "nuid": "6771d001-33a6-47bd-88d5-6b6f5c8d66a5",
     "showTitle": false,
     "title": ""
    }
   },
   "outputs": [
    {
     "output_type": "stream",
     "name": "stdout",
     "output_type": "stream",
     "text": [
      "Out[312]: [(1052, 1)]"
     ]
    }
   ],
   "source": [
    "df_emails_rdd = df_emails.rdd\n",
    "df_texts_rdd = df_texts.rdd\n",
    "\n",
    "df_emails_rdd_filt = (\n",
    "    df_emails_rdd\n",
    "    .map(lambda x: (x['email_id'], (x['user_id'], datetime.strptime(x['signup_date'], '%m/%d/%Y %H:%M:%S')) ) )\n",
    "    # .collect()\n",
    ")\n",
    "\n",
    "df_texts_rdd_filt = (\n",
    "    df_texts_rdd\n",
    "    .filter(lambda x: x['signup_action'] == 'Confirmed')\n",
    "    .map(lambda x: (x['email_id'], datetime.strptime(x['action_date'], '%m/%d/%Y %H:%M:%S')) )\n",
    "    # .collect()\n",
    ")\n",
    "\n",
    "(\n",
    "    df_emails_rdd_filt\n",
    "    .join(df_texts_rdd_filt)\n",
    "    # .map(lambda x: x[1] )\n",
    "    .map(lambda x: (x[1][0][0], (x[1][0][1], x[1][1]) ))\n",
    "    .map(lambda x: (x[0], (builtins.max(x[1]) - builtins.min(x[1]) ).days ))\n",
    "    .filter(lambda x: x[1]==1)\n",
    "    .collect()\n",
    ")\n"
   ]
  },
  {
   "cell_type": "markdown",
   "metadata": {
    "application/vnd.databricks.v1+cell": {
     "cellMetadata": {},
     "inputWidgets": {},
     "nuid": "4f51d3c4-a6c2-441a-8b8a-b5be38f69d01",
     "showTitle": false,
     "title": ""
    }
   },
   "source": [
    "#### Q13 : Cards Issued Difference [JPMorgan Chase SQL Interview Question]"
   ]
  },
  {
   "cell_type": "code",
   "execution_count": 0,
   "metadata": {
    "application/vnd.databricks.v1+cell": {
     "cellMetadata": {
      "byteLimit": 2048000,
      "rowLimit": 10000
     },
     "inputWidgets": {},
     "nuid": "bead04c7-1303-48c0-83c6-980da7c18e51",
     "showTitle": false,
     "title": ""
    }
   },
   "outputs": [],
   "source": [
    "%sql\n",
    "-- Your Team at JPMorgan chase is preparing to launch a new credit cards and to gain some insights, you're analyzing how many credit cards were issued each month\n",
    "-- write a query that outputs the name of each credit card and the difference in the number of issued cards between the month with the highest issuance cards and the lowest issuance. arrange the results based on the largest disparity.\n",
    "\n",
    "-- https://datalemur.com/questions/cards-issued-difference\n",
    "-- use the table monthly_cards_issued for this task"
   ]
  },
  {
   "cell_type": "code",
   "execution_count": 0,
   "metadata": {
    "application/vnd.databricks.v1+cell": {
     "cellMetadata": {
      "byteLimit": 2048000,
      "implicitDf": true,
      "rowLimit": 10000
     },
     "inputWidgets": {},
     "nuid": "5f57af01-d93f-4db6-9094-be9ec9fe2b62",
     "showTitle": false,
     "title": ""
    }
   },
   "outputs": [
    {
     "output_type": "display_data",
     "data": {
      "text/html": [
       "<style scoped>\n",
       "  .table-result-container {\n",
       "    max-height: 300px;\n",
       "    overflow: auto;\n",
       "  }\n",
       "  table, th, td {\n",
       "    border: 1px solid black;\n",
       "    border-collapse: collapse;\n",
       "  }\n",
       "  th, td {\n",
       "    padding: 5px;\n",
       "  }\n",
       "  th {\n",
       "    text-align: left;\n",
       "  }\n",
       "</style><div class='table-result-container'><table class='table-result'><thead style='background-color: white'><tr><th>card_name</th><th>difference</th></tr></thead><tbody><tr><td>Chase Freedom Flex</td><td>15000</td></tr><tr><td>Chase Sapphire Reserve</td><td>10000</td></tr></tbody></table></div>"
      ]
     },
     "metadata": {
      "application/vnd.databricks.v1+output": {
       "addedWidgets": {},
       "aggData": [],
       "aggError": "",
       "aggOverflow": false,
       "aggSchema": [],
       "aggSeriesLimitReached": false,
       "aggType": "",
       "arguments": {},
       "columnCustomDisplayInfos": {},
       "data": [
        [
         "Chase Freedom Flex",
         15000
        ],
        [
         "Chase Sapphire Reserve",
         10000
        ]
       ],
       "datasetInfos": [],
       "dbfsResultPath": null,
       "isJsonSchema": true,
       "metadata": {},
       "overflow": false,
       "plotOptions": {
        "customPlotOptions": {},
        "displayType": "table",
        "pivotAggregation": null,
        "pivotColumns": null,
        "xColumns": null,
        "yColumns": null
       },
       "removedWidgets": [],
       "schema": [
        {
         "metadata": "{}",
         "name": "card_name",
         "type": "\"string\""
        },
        {
         "metadata": "{}",
         "name": "difference",
         "type": "\"integer\""
        }
       ],
       "type": "table"
      }
     },
     "output_type": "display_data"
    }
   ],
   "source": [
    "%sql\n",
    "select card_name, (max(issued_amount) - min(issued_amount)) difference\n",
    "from datalemur_q.monthly_cards_issued\n",
    "group by card_name\n",
    "order by difference desc"
   ]
  },
  {
   "cell_type": "code",
   "execution_count": 0,
   "metadata": {
    "application/vnd.databricks.v1+cell": {
     "cellMetadata": {
      "byteLimit": 2048000,
      "rowLimit": 10000
     },
     "inputWidgets": {},
     "nuid": "dd900b14-14eb-4b7a-839e-6bdc1e6f6e6d",
     "showTitle": false,
     "title": ""
    }
   },
   "outputs": [
    {
     "output_type": "display_data",
     "data": {
      "text/html": [
       "<style scoped>\n",
       "  .table-result-container {\n",
       "    max-height: 300px;\n",
       "    overflow: auto;\n",
       "  }\n",
       "  table, th, td {\n",
       "    border: 1px solid black;\n",
       "    border-collapse: collapse;\n",
       "  }\n",
       "  th, td {\n",
       "    padding: 5px;\n",
       "  }\n",
       "  th {\n",
       "    text-align: left;\n",
       "  }\n",
       "</style><div class='table-result-container'><table class='table-result'><thead style='background-color: white'><tr><th>card_name</th><th>difference</th></tr></thead><tbody><tr><td>Chase Freedom Flex</td><td>15000</td></tr><tr><td>Chase Sapphire Reserve</td><td>10000</td></tr></tbody></table></div>"
      ]
     },
     "metadata": {
      "application/vnd.databricks.v1+output": {
       "addedWidgets": {},
       "aggData": [],
       "aggError": "",
       "aggOverflow": false,
       "aggSchema": [],
       "aggSeriesLimitReached": false,
       "aggType": "",
       "arguments": {},
       "columnCustomDisplayInfos": {},
       "data": [
        [
         "Chase Freedom Flex",
         15000
        ],
        [
         "Chase Sapphire Reserve",
         10000
        ]
       ],
       "datasetInfos": [],
       "dbfsResultPath": null,
       "isJsonSchema": true,
       "metadata": {},
       "overflow": false,
       "plotOptions": {
        "customPlotOptions": {},
        "displayType": "table",
        "pivotAggregation": null,
        "pivotColumns": null,
        "xColumns": null,
        "yColumns": null
       },
       "removedWidgets": [],
       "schema": [
        {
         "metadata": "{}",
         "name": "card_name",
         "type": "\"string\""
        },
        {
         "metadata": "{}",
         "name": "difference",
         "type": "\"integer\""
        }
       ],
       "type": "table"
      }
     },
     "output_type": "display_data"
    }
   ],
   "source": [
    "df_mth_crd_issd = spark.sql(\" select * from datalemur_q.monthly_cards_issued \")\n",
    "\n",
    "display(\n",
    "    df_mth_crd_issd\n",
    "    .groupBy('card_name')\n",
    "    .agg((max('issued_amount')-min('issued_amount')).alias('difference'))\n",
    ")"
   ]
  },
  {
   "cell_type": "code",
   "execution_count": 0,
   "metadata": {
    "application/vnd.databricks.v1+cell": {
     "cellMetadata": {
      "byteLimit": 2048000,
      "rowLimit": 10000
     },
     "inputWidgets": {},
     "nuid": "0e89f8e0-57cd-4e90-9728-81d035121227",
     "showTitle": false,
     "title": ""
    }
   },
   "outputs": [
    {
     "output_type": "stream",
     "name": "stdout",
     "output_type": "stream",
     "text": [
      "Out[19]: [('Chase Freedom Flex', 15000), ('Chase Sapphire Reserve', 10000)]"
     ]
    }
   ],
   "source": [
    "df_mth_crd_issd_rdd = df_mth_crd_issd.rdd\n",
    "\n",
    "(\n",
    "    df_mth_crd_issd_rdd\n",
    "    .map(lambda x: (x['card_name'], x['issued_amount']) )\n",
    "    .groupByKey()\n",
    "    .map(lambda x: (x[0], [i for i in x[1]]) )\n",
    "    .map(lambda x: (x[0], (builtins.max(x[1]) - builtins.min(x[1])) ))\n",
    "    .collect()\n",
    ")"
   ]
  },
  {
   "cell_type": "markdown",
   "metadata": {
    "application/vnd.databricks.v1+cell": {
     "cellMetadata": {},
     "inputWidgets": {},
     "nuid": "54ec555d-d2ee-4364-8a86-0f2bb3f13824",
     "showTitle": false,
     "title": ""
    }
   },
   "source": [
    "#### Q14 : Compressed Mean [Alibaba SQL Interview Queston]"
   ]
  },
  {
   "cell_type": "code",
   "execution_count": 0,
   "metadata": {
    "application/vnd.databricks.v1+cell": {
     "cellMetadata": {
      "byteLimit": 2048000,
      "rowLimit": 10000
     },
     "inputWidgets": {},
     "nuid": "fa475eed-057e-4656-a1f7-50aab5122600",
     "showTitle": false,
     "title": ""
    }
   },
   "outputs": [],
   "source": [
    "%sql\n",
    "-- you're trying to find the mean number of items per order on alibaba, rounded to 1 decimal place using tables which includes information on the count of items in each order (item_count_table) and the corresponding number of orders for each item count(order_occurances table)\n",
    "\n",
    "-- https://datalemur.com/questions/alibaba-compressed-mean\n",
    "-- use the table items_per_order\n",
    "-- total items / total orders"
   ]
  },
  {
   "cell_type": "code",
   "execution_count": 0,
   "metadata": {
    "application/vnd.databricks.v1+cell": {
     "cellMetadata": {
      "byteLimit": 2048000,
      "rowLimit": 10000
     },
     "inputWidgets": {},
     "nuid": "962ada9e-ac55-46e9-b5ed-abea9c204141",
     "showTitle": false,
     "title": ""
    }
   },
   "outputs": [
    {
     "output_type": "display_data",
     "data": {
      "text/html": [
       "<style scoped>\n",
       "  .table-result-container {\n",
       "    max-height: 300px;\n",
       "    overflow: auto;\n",
       "  }\n",
       "  table, th, td {\n",
       "    border: 1px solid black;\n",
       "    border-collapse: collapse;\n",
       "  }\n",
       "  th, td {\n",
       "    padding: 5px;\n",
       "  }\n",
       "  th {\n",
       "    text-align: left;\n",
       "  }\n",
       "</style><div class='table-result-container'><table class='table-result'><thead style='background-color: white'><tr><th>mean</th></tr></thead><tbody><tr><td>2.7</td></tr></tbody></table></div>"
      ]
     },
     "metadata": {
      "application/vnd.databricks.v1+output": {
       "addedWidgets": {},
       "aggData": [],
       "aggError": "",
       "aggOverflow": false,
       "aggSchema": [],
       "aggSeriesLimitReached": false,
       "aggType": "",
       "arguments": {},
       "columnCustomDisplayInfos": {},
       "data": [
        [
         2.7
        ]
       ],
       "datasetInfos": [],
       "dbfsResultPath": null,
       "isJsonSchema": true,
       "metadata": {
        "isDbfsCommandResult": false
       },
       "overflow": false,
       "plotOptions": {
        "customPlotOptions": {},
        "displayType": "table",
        "pivotAggregation": null,
        "pivotColumns": null,
        "xColumns": null,
        "yColumns": null
       },
       "removedWidgets": [],
       "schema": [
        {
         "metadata": "{}",
         "name": "mean",
         "type": "\"double\""
        }
       ],
       "type": "table"
      }
     },
     "output_type": "display_data"
    }
   ],
   "source": [
    "%sql\n",
    "select round(sum(item_count*order_occurrences)/sum(order_occurrences), 2) mean\n",
    "from datalemur_q.items_per_order"
   ]
  },
  {
   "cell_type": "code",
   "execution_count": 0,
   "metadata": {
    "application/vnd.databricks.v1+cell": {
     "cellMetadata": {
      "byteLimit": 2048000,
      "rowLimit": 10000
     },
     "inputWidgets": {},
     "nuid": "b9fe0c1a-a193-4995-90c2-305dbcfb5702",
     "showTitle": false,
     "title": ""
    }
   },
   "outputs": [
    {
     "output_type": "display_data",
     "data": {
      "text/html": [
       "<style scoped>\n",
       "  .table-result-container {\n",
       "    max-height: 300px;\n",
       "    overflow: auto;\n",
       "  }\n",
       "  table, th, td {\n",
       "    border: 1px solid black;\n",
       "    border-collapse: collapse;\n",
       "  }\n",
       "  th, td {\n",
       "    padding: 5px;\n",
       "  }\n",
       "  th {\n",
       "    text-align: left;\n",
       "  }\n",
       "</style><div class='table-result-container'><table class='table-result'><thead style='background-color: white'><tr><th>mean</th></tr></thead><tbody><tr><td>2.7</td></tr></tbody></table></div>"
      ]
     },
     "metadata": {
      "application/vnd.databricks.v1+output": {
       "addedWidgets": {},
       "aggData": [],
       "aggError": "",
       "aggOverflow": false,
       "aggSchema": [],
       "aggSeriesLimitReached": false,
       "aggType": "",
       "arguments": {},
       "columnCustomDisplayInfos": {},
       "data": [
        [
         2.7
        ]
       ],
       "datasetInfos": [],
       "dbfsResultPath": null,
       "isJsonSchema": true,
       "metadata": {},
       "overflow": false,
       "plotOptions": {
        "customPlotOptions": {},
        "displayType": "table",
        "pivotAggregation": null,
        "pivotColumns": null,
        "xColumns": null,
        "yColumns": null
       },
       "removedWidgets": [],
       "schema": [
        {
         "metadata": "{}",
         "name": "mean",
         "type": "\"double\""
        }
       ],
       "type": "table"
      }
     },
     "output_type": "display_data"
    }
   ],
   "source": [
    "df_items_per_order = spark.sql(\" select * from datalemur_q.items_per_order \")\n",
    "\n",
    "display(\n",
    "    df_items_per_order\n",
    "    .agg( round((sum(col('item_count')*col('order_occurrences'))/sum(col('order_occurrences'))), 2).alias('mean') )\n",
    ")"
   ]
  },
  {
   "cell_type": "code",
   "execution_count": 0,
   "metadata": {
    "application/vnd.databricks.v1+cell": {
     "cellMetadata": {
      "byteLimit": 2048000,
      "rowLimit": 10000
     },
     "inputWidgets": {},
     "nuid": "e8b40709-a805-4290-bac4-0d3347355fc1",
     "showTitle": false,
     "title": ""
    }
   },
   "outputs": [
    {
     "output_type": "stream",
     "name": "stdout",
     "output_type": "stream",
     "text": [
      "Out[74]: 2.7"
     ]
    }
   ],
   "source": [
    "df_items_per_order_rdd = df_items_per_order.rdd\n",
    "\n",
    "temp = (\n",
    "    df_items_per_order_rdd\n",
    "    .map(lambda x: (x[0]*x[1], x[1]) )\n",
    "    .reduce(lambda x,y: (x[0]+y[0], x[1]+y[1]))\n",
    ")\n",
    "\n",
    "builtins.round((temp[0]/temp[1]), 2)"
   ]
  },
  {
   "cell_type": "markdown",
   "metadata": {
    "application/vnd.databricks.v1+cell": {
     "cellMetadata": {},
     "inputWidgets": {},
     "nuid": "7bed3ab7-b3b4-4495-97f9-7f0b373092f8",
     "showTitle": false,
     "title": ""
    }
   },
   "source": [
    "#### Q15 : Pharmacy Analytics (Part1) [CVS Health SQL Interview Question]"
   ]
  },
  {
   "cell_type": "code",
   "execution_count": 0,
   "metadata": {
    "application/vnd.databricks.v1+cell": {
     "cellMetadata": {
      "byteLimit": 2048000,
      "rowLimit": 10000
     },
     "inputWidgets": {},
     "nuid": "3c924b4a-5777-428e-93dc-2071c1bdfc9f",
     "showTitle": false,
     "title": ""
    }
   },
   "outputs": [],
   "source": [
    "%sql\n",
    "-- CVS Health is trying to better understand its pharmacy sales and how well different products are selling. each drug can only be produced by 1 manufacturer\n",
    "\n",
    "-- write a query to find the top 3 most profitable drugs sold, and how much profit they made. assume that there are no ties in the profits. display the result from highest to the lowest total profit\n",
    "\n",
    "-- definition:\n",
    "-- cogs stands for the cost of goods sold which is the direct cost associated with producing the drug\n",
    "-- total profit = total sales - cost of goods sold\n",
    "\n",
    "-- https://datalemur.com/questions/top-profitable-drugs\n",
    "-- use the table pharmacy_sales for this task"
   ]
  },
  {
   "cell_type": "code",
   "execution_count": 0,
   "metadata": {
    "application/vnd.databricks.v1+cell": {
     "cellMetadata": {
      "byteLimit": 2048000,
      "rowLimit": 10000
     },
     "inputWidgets": {},
     "nuid": "b077fd4b-40f1-4235-9dea-bba819ab3a0c",
     "showTitle": false,
     "title": ""
    }
   },
   "outputs": [
    {
     "output_type": "display_data",
     "data": {
      "text/html": [
       "<style scoped>\n",
       "  .table-result-container {\n",
       "    max-height: 300px;\n",
       "    overflow: auto;\n",
       "  }\n",
       "  table, th, td {\n",
       "    border: 1px solid black;\n",
       "    border-collapse: collapse;\n",
       "  }\n",
       "  th, td {\n",
       "    padding: 5px;\n",
       "  }\n",
       "  th {\n",
       "    text-align: left;\n",
       "  }\n",
       "</style><div class='table-result-container'><table class='table-result'><thead style='background-color: white'><tr><th>drug</th><th>total_profit</th></tr></thead><tbody><tr><td>Zyprexa</td><td>84576.516</td></tr><tr><td>Varicose Relief</td><td>80926.66</td></tr><tr><td>Surmontil</td><td>79815.03</td></tr></tbody></table></div>"
      ]
     },
     "metadata": {
      "application/vnd.databricks.v1+output": {
       "addedWidgets": {},
       "aggData": [],
       "aggError": "",
       "aggOverflow": false,
       "aggSchema": [],
       "aggSeriesLimitReached": false,
       "aggType": "",
       "arguments": {},
       "columnCustomDisplayInfos": {},
       "data": [
        [
         "Zyprexa",
         84576.516
        ],
        [
         "Varicose Relief",
         80926.66
        ],
        [
         "Surmontil",
         79815.03
        ]
       ],
       "datasetInfos": [],
       "dbfsResultPath": null,
       "isJsonSchema": true,
       "metadata": {
        "isDbfsCommandResult": false
       },
       "overflow": false,
       "plotOptions": {
        "customPlotOptions": {},
        "displayType": "table",
        "pivotAggregation": null,
        "pivotColumns": null,
        "xColumns": null,
        "yColumns": null
       },
       "removedWidgets": [],
       "schema": [
        {
         "metadata": "{}",
         "name": "drug",
         "type": "\"string\""
        },
        {
         "metadata": "{}",
         "name": "total_profit",
         "type": "\"float\""
        }
       ],
       "type": "table"
      }
     },
     "output_type": "display_data"
    }
   ],
   "source": [
    "%sql\n",
    "select drug, (total_sales - cogs) total_profit \n",
    "from datalemur_q.pharmacy_sales_p1\n",
    "order by total_profit desc\n",
    "limit 3"
   ]
  },
  {
   "cell_type": "code",
   "execution_count": 0,
   "metadata": {
    "application/vnd.databricks.v1+cell": {
     "cellMetadata": {
      "byteLimit": 2048000,
      "rowLimit": 10000
     },
     "inputWidgets": {},
     "nuid": "f83ff08d-f0eb-496b-bf6c-5e901137decf",
     "showTitle": false,
     "title": ""
    }
   },
   "outputs": [
    {
     "output_type": "display_data",
     "data": {
      "text/html": [
       "<style scoped>\n",
       "  .table-result-container {\n",
       "    max-height: 300px;\n",
       "    overflow: auto;\n",
       "  }\n",
       "  table, th, td {\n",
       "    border: 1px solid black;\n",
       "    border-collapse: collapse;\n",
       "  }\n",
       "  th, td {\n",
       "    padding: 5px;\n",
       "  }\n",
       "  th {\n",
       "    text-align: left;\n",
       "  }\n",
       "</style><div class='table-result-container'><table class='table-result'><thead style='background-color: white'><tr><th>drug</th><th>total_profit</th></tr></thead><tbody><tr><td>Zyprexa</td><td>84576.516</td></tr><tr><td>Varicose Relief</td><td>80926.66</td></tr><tr><td>Surmontil</td><td>79815.03</td></tr></tbody></table></div>"
      ]
     },
     "metadata": {
      "application/vnd.databricks.v1+output": {
       "addedWidgets": {},
       "aggData": [],
       "aggError": "",
       "aggOverflow": false,
       "aggSchema": [],
       "aggSeriesLimitReached": false,
       "aggType": "",
       "arguments": {},
       "columnCustomDisplayInfos": {},
       "data": [
        [
         "Zyprexa",
         84576.516
        ],
        [
         "Varicose Relief",
         80926.66
        ],
        [
         "Surmontil",
         79815.03
        ]
       ],
       "datasetInfos": [],
       "dbfsResultPath": null,
       "isJsonSchema": true,
       "metadata": {},
       "overflow": false,
       "plotOptions": {
        "customPlotOptions": {},
        "displayType": "table",
        "pivotAggregation": null,
        "pivotColumns": null,
        "xColumns": null,
        "yColumns": null
       },
       "removedWidgets": [],
       "schema": [
        {
         "metadata": "{}",
         "name": "drug",
         "type": "\"string\""
        },
        {
         "metadata": "{}",
         "name": "total_profit",
         "type": "\"float\""
        }
       ],
       "type": "table"
      }
     },
     "output_type": "display_data"
    }
   ],
   "source": [
    "df_pharm_sales_p1 = spark.sql(\" select * from datalemur_q.pharmacy_sales_p1 \")\n",
    "\n",
    "display(\n",
    "    df_pharm_sales_p1\n",
    "    .select('drug', (col('total_sales') - col('cogs')).alias('total_profit') )\n",
    "    .orderBy(desc('total_profit'))\n",
    "    .limit(3)\n",
    ")"
   ]
  },
  {
   "cell_type": "code",
   "execution_count": 0,
   "metadata": {
    "application/vnd.databricks.v1+cell": {
     "cellMetadata": {
      "byteLimit": 2048000,
      "rowLimit": 10000
     },
     "inputWidgets": {},
     "nuid": "d11ebbc3-60e6-4bc7-b6b6-1ae8666975b3",
     "showTitle": false,
     "title": ""
    }
   },
   "outputs": [
    {
     "output_type": "stream",
     "name": "stdout",
     "output_type": "stream",
     "text": [
      "Out[84]: [('Zyprexa', 84576.515625),\n ('Varicose Relief', 80926.65625),\n ('Surmontil', 79815.03125)]"
     ]
    }
   ],
   "source": [
    "df_pharm_sales_p1_rdd = df_pharm_sales_p1.rdd\n",
    "\n",
    "(\n",
    "    df_pharm_sales_p1_rdd\n",
    "    .map(lambda x: (x['drug'], (x['total_sales'] - x['cogs'])))\n",
    "    .sortBy(lambda x: -x[1])\n",
    "    .take(3)\n",
    ")"
   ]
  },
  {
   "cell_type": "markdown",
   "metadata": {
    "application/vnd.databricks.v1+cell": {
     "cellMetadata": {},
     "inputWidgets": {},
     "nuid": "ea71f770-48ae-4659-8cc1-6cc01f8674f0",
     "showTitle": false,
     "title": ""
    }
   },
   "source": [
    "#### Q16 : Pharmacy Analytics (Part2) [CVS Health SQL Interview Question]"
   ]
  },
  {
   "cell_type": "code",
   "execution_count": 0,
   "metadata": {
    "application/vnd.databricks.v1+cell": {
     "cellMetadata": {
      "byteLimit": 2048000,
      "rowLimit": 10000
     },
     "inputWidgets": {},
     "nuid": "73fc71a2-b9cf-464d-a376-73af05d6fdf1",
     "showTitle": false,
     "title": ""
    }
   },
   "outputs": [],
   "source": [
    "%sql\n",
    "-- CVS Health is trying to better understand its pharmacy sales and how well different products are selling. each drug can only be produced by 1 manufacturer\n",
    "\n",
    "-- write a query to identify the manufactures assosiated with drugs that resulted in loses for CVS health and calculate the total amount of loses incurred\n",
    "\n",
    "-- output the manufacturer's name, number of drugs assosiated with losses, and the total losses in absolute value. display the resuls sorted in descending order with the highest losses displayed at the top\n",
    "\n",
    "-- https://datalemur.com/questions/non-profitable-drugs\n",
    "-- use the table pharmacy_sales_p2 for this task"
   ]
  },
  {
   "cell_type": "code",
   "execution_count": 0,
   "metadata": {
    "application/vnd.databricks.v1+cell": {
     "cellMetadata": {
      "byteLimit": 2048000,
      "rowLimit": 10000
     },
     "inputWidgets": {},
     "nuid": "3d16b4d1-cd9e-4cc3-ba8a-16366033f11e",
     "showTitle": false,
     "title": ""
    }
   },
   "outputs": [
    {
     "output_type": "display_data",
     "data": {
      "text/html": [
       "<style scoped>\n",
       "  .table-result-container {\n",
       "    max-height: 300px;\n",
       "    overflow: auto;\n",
       "  }\n",
       "  table, th, td {\n",
       "    border: 1px solid black;\n",
       "    border-collapse: collapse;\n",
       "  }\n",
       "  th, td {\n",
       "    padding: 5px;\n",
       "  }\n",
       "  th {\n",
       "    text-align: left;\n",
       "  }\n",
       "</style><div class='table-result-container'><table class='table-result'><thead style='background-color: white'><tr><th>manufacturer</th><th>drug_count</th><th>total_profit_loss</th></tr></thead><tbody><tr><td>Biogen</td><td>1</td><td>-297324.75</td></tr><tr><td>AbbVie</td><td>1</td><td>-221429.25</td></tr><tr><td>Eli Lilly</td><td>1</td><td>-221422.25</td></tr></tbody></table></div>"
      ]
     },
     "metadata": {
      "application/vnd.databricks.v1+output": {
       "addedWidgets": {},
       "aggData": [],
       "aggError": "",
       "aggOverflow": false,
       "aggSchema": [],
       "aggSeriesLimitReached": false,
       "aggType": "",
       "arguments": {},
       "columnCustomDisplayInfos": {},
       "data": [
        [
         "Biogen",
         1,
         -297324.75
        ],
        [
         "AbbVie",
         1,
         -221429.25
        ],
        [
         "Eli Lilly",
         1,
         -221422.25
        ]
       ],
       "datasetInfos": [],
       "dbfsResultPath": null,
       "isJsonSchema": true,
       "metadata": {
        "isDbfsCommandResult": false
       },
       "overflow": false,
       "plotOptions": {
        "customPlotOptions": {},
        "displayType": "table",
        "pivotAggregation": null,
        "pivotColumns": null,
        "xColumns": null,
        "yColumns": null
       },
       "removedWidgets": [],
       "schema": [
        {
         "metadata": "{}",
         "name": "manufacturer",
         "type": "\"string\""
        },
        {
         "metadata": "{}",
         "name": "drug_count",
         "type": "\"long\""
        },
        {
         "metadata": "{}",
         "name": "total_profit_loss",
         "type": "\"double\""
        }
       ],
       "type": "table"
      }
     },
     "output_type": "display_data"
    }
   ],
   "source": [
    "%sql\n",
    "select manufacturer, count(*) drug_count, sum(total_sales - cogs) total_profit_loss\n",
    "from datalemur_q.pharmacy_sales_p2\n",
    "where (total_sales - cogs) < 0\n",
    "group by manufacturer\n",
    "order by total_profit_loss asc"
   ]
  },
  {
   "cell_type": "code",
   "execution_count": 0,
   "metadata": {
    "application/vnd.databricks.v1+cell": {
     "cellMetadata": {
      "byteLimit": 2048000,
      "rowLimit": 10000
     },
     "inputWidgets": {},
     "nuid": "cf8e9ae8-e397-4bec-ac9b-dd1b3c9587e8",
     "showTitle": false,
     "title": ""
    }
   },
   "outputs": [
    {
     "output_type": "display_data",
     "data": {
      "text/html": [
       "<style scoped>\n",
       "  .table-result-container {\n",
       "    max-height: 300px;\n",
       "    overflow: auto;\n",
       "  }\n",
       "  table, th, td {\n",
       "    border: 1px solid black;\n",
       "    border-collapse: collapse;\n",
       "  }\n",
       "  th, td {\n",
       "    padding: 5px;\n",
       "  }\n",
       "  th {\n",
       "    text-align: left;\n",
       "  }\n",
       "</style><div class='table-result-container'><table class='table-result'><thead style='background-color: white'><tr><th>manufacturer</th><th>drug_count</th><th>total_profit_loss</th></tr></thead><tbody><tr><td>Biogen</td><td>1</td><td>-297324.75</td></tr><tr><td>AbbVie</td><td>1</td><td>-221429.25</td></tr><tr><td>Eli Lilly</td><td>1</td><td>-221422.25</td></tr></tbody></table></div>"
      ]
     },
     "metadata": {
      "application/vnd.databricks.v1+output": {
       "addedWidgets": {},
       "aggData": [],
       "aggError": "",
       "aggOverflow": false,
       "aggSchema": [],
       "aggSeriesLimitReached": false,
       "aggType": "",
       "arguments": {},
       "columnCustomDisplayInfos": {},
       "data": [
        [
         "Biogen",
         1,
         -297324.75
        ],
        [
         "AbbVie",
         1,
         -221429.25
        ],
        [
         "Eli Lilly",
         1,
         -221422.25
        ]
       ],
       "datasetInfos": [],
       "dbfsResultPath": null,
       "isJsonSchema": true,
       "metadata": {},
       "overflow": false,
       "plotOptions": {
        "customPlotOptions": {},
        "displayType": "table",
        "pivotAggregation": null,
        "pivotColumns": null,
        "xColumns": null,
        "yColumns": null
       },
       "removedWidgets": [],
       "schema": [
        {
         "metadata": "{}",
         "name": "manufacturer",
         "type": "\"string\""
        },
        {
         "metadata": "{}",
         "name": "drug_count",
         "type": "\"long\""
        },
        {
         "metadata": "{}",
         "name": "total_profit_loss",
         "type": "\"double\""
        }
       ],
       "type": "table"
      }
     },
     "output_type": "display_data"
    }
   ],
   "source": [
    "df_pharm_sales_p2 = spark.sql(\" select * from datalemur_q.pharmacy_sales_p2 \")\n",
    "\n",
    "display(\n",
    "    df_pharm_sales_p2\n",
    "    .select(\"*\", (col('total_sales') - col('cogs')).alias('total_profit_loss') )\n",
    "    .filter(\"total_profit_loss < 0\")\n",
    "    .groupBy('manufacturer')\n",
    "    .agg(count('manufacturer').alias('drug_count'), sum('total_profit_loss').alias('total_profit_loss'))\n",
    "    .orderBy(asc('total_profit_loss'))\n",
    ")"
   ]
  },
  {
   "cell_type": "code",
   "execution_count": 0,
   "metadata": {
    "application/vnd.databricks.v1+cell": {
     "cellMetadata": {
      "byteLimit": 2048000,
      "rowLimit": 10000
     },
     "inputWidgets": {},
     "nuid": "e40e47df-00eb-4eee-bfc2-03ee4a704d56",
     "showTitle": false,
     "title": ""
    }
   },
   "outputs": [
    {
     "output_type": "stream",
     "name": "stdout",
     "output_type": "stream",
     "text": [
      "Out[95]: [('Biogen', 1, [-297324.75]),\n ('AbbVie', 1, [-221429.25]),\n ('Eli Lilly', 1, [-221422.25])]"
     ]
    }
   ],
   "source": [
    "df_pharm_sales_p2_rdd = df_pharm_sales_p2.rdd\n",
    "\n",
    "(\n",
    "    df_pharm_sales_p2_rdd\n",
    "    .map(lambda x: (x['manufacturer'], x['total_sales'] - x['cogs']) )\n",
    "    .filter(lambda x: x[1]<0)\n",
    "    .groupByKey()\n",
    "    .map(lambda x: (x[0], builtins.len([i for i in x[1]]), [i for i in x[1]]) )\n",
    "    .collect()\n",
    ")"
   ]
  },
  {
   "cell_type": "markdown",
   "metadata": {
    "application/vnd.databricks.v1+cell": {
     "cellMetadata": {},
     "inputWidgets": {},
     "nuid": "fe6232bd-c718-41b0-ab8f-3fb2d92f7410",
     "showTitle": false,
     "title": ""
    }
   },
   "source": [
    "#### Q17 : Pharmacy Analytics (Part2) [CVS Health SQL Interview Question]"
   ]
  },
  {
   "cell_type": "code",
   "execution_count": 0,
   "metadata": {
    "application/vnd.databricks.v1+cell": {
     "cellMetadata": {
      "byteLimit": 2048000,
      "rowLimit": 10000
     },
     "inputWidgets": {},
     "nuid": "ca9da9cb-e147-43ca-81d4-3c36ffe89f53",
     "showTitle": false,
     "title": ""
    }
   },
   "outputs": [],
   "source": [
    "%sql\n",
    "-- CVS Health wants to gain a clearer understanding of its pharmacy sales and the performance of various products\n",
    "\n",
    "-- write a query to calculate the total drug sales for each manufacturer. round the answer to the nearest million and report your results in descending order of total sales. in case of any duplicates, sort them alphabetically by the manufacturer name.\n",
    "\n",
    "-- since this data will be displayed on a dashboard viewed by the business stakeholders, please format your results as fallows \"$36 million\"\n",
    "\n",
    "-- https://datalemur.com/questions/total-drugs-sales\n",
    "-- use the table pharmacy_sales_p3 for this task"
   ]
  },
  {
   "cell_type": "code",
   "execution_count": 0,
   "metadata": {
    "application/vnd.databricks.v1+cell": {
     "cellMetadata": {
      "byteLimit": 2048000,
      "rowLimit": 10000
     },
     "inputWidgets": {},
     "nuid": "20607076-ea70-4e6e-9a52-f81a13ed28b8",
     "showTitle": false,
     "title": ""
    }
   },
   "outputs": [
    {
     "output_type": "display_data",
     "data": {
      "text/html": [
       "<style scoped>\n",
       "  .table-result-container {\n",
       "    max-height: 300px;\n",
       "    overflow: auto;\n",
       "  }\n",
       "  table, th, td {\n",
       "    border: 1px solid black;\n",
       "    border-collapse: collapse;\n",
       "  }\n",
       "  th, td {\n",
       "    padding: 5px;\n",
       "  }\n",
       "  th {\n",
       "    text-align: left;\n",
       "  }\n",
       "</style><div class='table-result-container'><table class='table-result'><thead style='background-color: white'><tr><th>manufacturer</th><th>sale</th></tr></thead><tbody><tr><td>Biogen</td><td>$4 million</td></tr><tr><td>Eli Lilly</td><td>$3 million</td></tr></tbody></table></div>"
      ]
     },
     "metadata": {
      "application/vnd.databricks.v1+output": {
       "addedWidgets": {},
       "aggData": [],
       "aggError": "",
       "aggOverflow": false,
       "aggSchema": [],
       "aggSeriesLimitReached": false,
       "aggType": "",
       "arguments": {},
       "columnCustomDisplayInfos": {},
       "data": [
        [
         "Biogen",
         "$4 million"
        ],
        [
         "Eli Lilly",
         "$3 million"
        ]
       ],
       "datasetInfos": [],
       "dbfsResultPath": null,
       "isJsonSchema": true,
       "metadata": {
        "isDbfsCommandResult": false
       },
       "overflow": false,
       "plotOptions": {
        "customPlotOptions": {},
        "displayType": "table",
        "pivotAggregation": null,
        "pivotColumns": null,
        "xColumns": null,
        "yColumns": null
       },
       "removedWidgets": [],
       "schema": [
        {
         "metadata": "{}",
         "name": "manufacturer",
         "type": "\"string\""
        },
        {
         "metadata": "{}",
         "name": "sale",
         "type": "\"string\""
        }
       ],
       "type": "table"
      }
     },
     "output_type": "display_data"
    }
   ],
   "source": [
    "%sql\n",
    "select manufacturer, '$' || ceil(round(sum(total_sales)/1000000, 2)) || ' million' sale\n",
    "from datalemur_q.pharmacy_sales_p3\n",
    "group by manufacturer"
   ]
  },
  {
   "cell_type": "code",
   "execution_count": 0,
   "metadata": {
    "application/vnd.databricks.v1+cell": {
     "cellMetadata": {
      "byteLimit": 2048000,
      "rowLimit": 10000
     },
     "inputWidgets": {},
     "nuid": "d3e07206-bea4-4c89-a098-06b8f5f3d9c9",
     "showTitle": false,
     "title": ""
    }
   },
   "outputs": [
    {
     "output_type": "display_data",
     "data": {
      "text/html": [
       "<style scoped>\n",
       "  .table-result-container {\n",
       "    max-height: 300px;\n",
       "    overflow: auto;\n",
       "  }\n",
       "  table, th, td {\n",
       "    border: 1px solid black;\n",
       "    border-collapse: collapse;\n",
       "  }\n",
       "  th, td {\n",
       "    padding: 5px;\n",
       "  }\n",
       "  th {\n",
       "    text-align: left;\n",
       "  }\n",
       "</style><div class='table-result-container'><table class='table-result'><thead style='background-color: white'><tr><th>manufacturer</th><th>sale</th></tr></thead><tbody><tr><td>Biogen</td><td>$4 billion</td></tr><tr><td>Eli Lilly</td><td>$3 billion</td></tr></tbody></table></div>"
      ]
     },
     "metadata": {
      "application/vnd.databricks.v1+output": {
       "addedWidgets": {},
       "aggData": [],
       "aggError": "",
       "aggOverflow": false,
       "aggSchema": [],
       "aggSeriesLimitReached": false,
       "aggType": "",
       "arguments": {},
       "columnCustomDisplayInfos": {},
       "data": [
        [
         "Biogen",
         "$4 billion"
        ],
        [
         "Eli Lilly",
         "$3 billion"
        ]
       ],
       "datasetInfos": [],
       "dbfsResultPath": null,
       "isJsonSchema": true,
       "metadata": {},
       "overflow": false,
       "plotOptions": {
        "customPlotOptions": {},
        "displayType": "table",
        "pivotAggregation": null,
        "pivotColumns": null,
        "xColumns": null,
        "yColumns": null
       },
       "removedWidgets": [],
       "schema": [
        {
         "metadata": "{}",
         "name": "manufacturer",
         "type": "\"string\""
        },
        {
         "metadata": "{}",
         "name": "sale",
         "type": "\"string\""
        }
       ],
       "type": "table"
      }
     },
     "output_type": "display_data"
    }
   ],
   "source": [
    "df_pharm_sales_p3 = spark.sql(\" select * from datalemur_q.pharmacy_sales_p3 \")\n",
    "\n",
    "display(\n",
    "    df_pharm_sales_p3\n",
    "    .groupBy('manufacturer')\n",
    "    .agg(ceil(round((sum('total_sales')/1000000), 2)).alias('sale'))\n",
    "    # .withColumn('sale', concat(lit('$'), 'sale', lit(' billion')))\n",
    "    .selectExpr('manufacturer', \"'$'||sale||' billion' sale\")\n",
    ")"
   ]
  },
  {
   "cell_type": "code",
   "execution_count": 0,
   "metadata": {
    "application/vnd.databricks.v1+cell": {
     "cellMetadata": {
      "byteLimit": 2048000,
      "rowLimit": 10000
     },
     "inputWidgets": {},
     "nuid": "8802da1e-e9f0-4e1a-ac72-4ad1d2b20f96",
     "showTitle": false,
     "title": ""
    }
   },
   "outputs": [
    {
     "output_type": "display_data",
     "data": {
      "text/plain": [
       "\u001B[0;31m---------------------------------------------------------------------------\u001B[0m\n",
       "\u001B[0;31mNameError\u001B[0m                                 Traceback (most recent call last)\n",
       "File \u001B[0;32m<command-3388736842139654>:1\u001B[0m\n",
       "\u001B[0;32m----> 1\u001B[0m df_pharm_sales_p3_rdd \u001B[38;5;241m=\u001B[39m df_pharm_sales_p3\u001B[38;5;241m.\u001B[39mrdd\n",
       "\u001B[1;32m      2\u001B[0m \u001B[38;5;28;01mimport\u001B[39;00m \u001B[38;5;21;01mmath\u001B[39;00m \u001B[38;5;28;01mas\u001B[39;00m \u001B[38;5;21;01mm\u001B[39;00m\n",
       "\u001B[1;32m      4\u001B[0m (\n",
       "\u001B[1;32m      5\u001B[0m     df_pharm_sales_p3_rdd\n",
       "\u001B[1;32m      6\u001B[0m     \u001B[38;5;241m.\u001B[39mmap(\u001B[38;5;28;01mlambda\u001B[39;00m x: (x[\u001B[38;5;124m'\u001B[39m\u001B[38;5;124mmanufacturer\u001B[39m\u001B[38;5;124m'\u001B[39m], x[\u001B[38;5;124m'\u001B[39m\u001B[38;5;124mtotal_sales\u001B[39m\u001B[38;5;124m'\u001B[39m]) )\n",
       "\u001B[0;32m   (...)\u001B[0m\n",
       "\u001B[1;32m     10\u001B[0m     \u001B[38;5;241m.\u001B[39mcollect()\n",
       "\u001B[1;32m     11\u001B[0m )\n",
       "\n",
       "\u001B[0;31mNameError\u001B[0m: name 'df_pharm_sales_p3' is not defined"
      ]
     },
     "metadata": {
      "application/vnd.databricks.v1+output": {
       "arguments": {},
       "data": "\u001B[0;31m---------------------------------------------------------------------------\u001B[0m\n\u001B[0;31mNameError\u001B[0m                                 Traceback (most recent call last)\nFile \u001B[0;32m<command-3388736842139654>:1\u001B[0m\n\u001B[0;32m----> 1\u001B[0m df_pharm_sales_p3_rdd \u001B[38;5;241m=\u001B[39m df_pharm_sales_p3\u001B[38;5;241m.\u001B[39mrdd\n\u001B[1;32m      2\u001B[0m \u001B[38;5;28;01mimport\u001B[39;00m \u001B[38;5;21;01mmath\u001B[39;00m \u001B[38;5;28;01mas\u001B[39;00m \u001B[38;5;21;01mm\u001B[39;00m\n\u001B[1;32m      4\u001B[0m (\n\u001B[1;32m      5\u001B[0m     df_pharm_sales_p3_rdd\n\u001B[1;32m      6\u001B[0m     \u001B[38;5;241m.\u001B[39mmap(\u001B[38;5;28;01mlambda\u001B[39;00m x: (x[\u001B[38;5;124m'\u001B[39m\u001B[38;5;124mmanufacturer\u001B[39m\u001B[38;5;124m'\u001B[39m], x[\u001B[38;5;124m'\u001B[39m\u001B[38;5;124mtotal_sales\u001B[39m\u001B[38;5;124m'\u001B[39m]) )\n\u001B[0;32m   (...)\u001B[0m\n\u001B[1;32m     10\u001B[0m     \u001B[38;5;241m.\u001B[39mcollect()\n\u001B[1;32m     11\u001B[0m )\n\n\u001B[0;31mNameError\u001B[0m: name 'df_pharm_sales_p3' is not defined",
       "errorSummary": "<span class='ansi-red-fg'>NameError</span>: name 'df_pharm_sales_p3' is not defined",
       "errorTraceType": "ansi",
       "metadata": {},
       "type": "ipynbError"
      }
     },
     "output_type": "display_data"
    }
   ],
   "source": [
    "df_pharm_sales_p3_rdd = df_pharm_sales_p3.rdd\n",
    "import math as m\n",
    "\n",
    "(\n",
    "    df_pharm_sales_p3_rdd\n",
    "    .map(lambda x: (x['manufacturer'], x['total_sales']) )\n",
    "    .groupByKey()\n",
    "    .map(lambda x: (x[0], m.ceil(builtins.round(builtins.sum([i for i in x[1]])/1000000, 2)) ) )\n",
    "    .map(lambda x: (x[0], '$' + builtins.str(x[1]) + ' billion') )\n",
    "    .collect()\n",
    ")"
   ]
  },
  {
   "cell_type": "code",
   "execution_count": 0,
   "metadata": {
    "application/vnd.databricks.v1+cell": {
     "cellMetadata": {},
     "inputWidgets": {},
     "nuid": "3bb53483-c66c-4441-a7ec-6315ed14c0f2",
     "showTitle": false,
     "title": ""
    }
   },
   "outputs": [],
   "source": []
  },
  {
   "cell_type": "markdown",
   "metadata": {
    "application/vnd.databricks.v1+cell": {
     "cellMetadata": {},
     "inputWidgets": {},
     "nuid": "d1d712e5-a2cb-4769-a9f3-a945c21c3fcb",
     "showTitle": false,
     "title": ""
    }
   },
   "source": [
    "## Questions in SQL(Medium)"
   ]
  },
  {
   "cell_type": "markdown",
   "metadata": {
    "application/vnd.databricks.v1+cell": {
     "cellMetadata": {},
     "inputWidgets": {},
     "nuid": "70f9e0d6-a735-4631-b092-d039dbd8a303",
     "showTitle": false,
     "title": ""
    }
   },
   "source": [
    "#### Q1 : User's Third Transaction [Uber SQL Interview Question]"
   ]
  },
  {
   "cell_type": "code",
   "execution_count": 0,
   "metadata": {
    "application/vnd.databricks.v1+cell": {
     "cellMetadata": {
      "byteLimit": 2048000,
      "rowLimit": 10000
     },
     "inputWidgets": {},
     "nuid": "878ab374-33f5-47d9-8e02-855b45b5aafe",
     "showTitle": false,
     "title": ""
    }
   },
   "outputs": [],
   "source": [
    "# -- Assume you are given the table below on Uber transactions made by users. Write a query to obtain the third transaction of every user. Output the user id, spend and transaction date.\n",
    "\n",
    "# -- use transactions table for this task\n",
    "# -- https://datalemur.com/questions/sql-third-transaction"
   ]
  },
  {
   "cell_type": "code",
   "execution_count": 0,
   "metadata": {
    "application/vnd.databricks.v1+cell": {
     "cellMetadata": {
      "byteLimit": 2048000,
      "implicitDf": true,
      "rowLimit": 10000
     },
     "inputWidgets": {},
     "nuid": "c22c3e88-80bb-4bd9-bc4f-55b1c98a6fd8",
     "showTitle": false,
     "title": ""
    }
   },
   "outputs": [
    {
     "output_type": "display_data",
     "data": {
      "text/html": [
       "<style scoped>\n",
       "  .table-result-container {\n",
       "    max-height: 300px;\n",
       "    overflow: auto;\n",
       "  }\n",
       "  table, th, td {\n",
       "    border: 1px solid black;\n",
       "    border-collapse: collapse;\n",
       "  }\n",
       "  th, td {\n",
       "    padding: 5px;\n",
       "  }\n",
       "  th {\n",
       "    text-align: left;\n",
       "  }\n",
       "</style><div class='table-result-container'><table class='table-result'><thead style='background-color: white'><tr><th>user_id</th><th>spend</th><th>transaction_date</th></tr></thead><tbody><tr><td>111</td><td>89.6</td><td>2022-02-05T12:00:00.000+0000</td></tr></tbody></table></div>"
      ]
     },
     "metadata": {
      "application/vnd.databricks.v1+output": {
       "addedWidgets": {},
       "aggData": [],
       "aggError": "",
       "aggOverflow": false,
       "aggSchema": [],
       "aggSeriesLimitReached": false,
       "aggType": "",
       "arguments": {},
       "columnCustomDisplayInfos": {},
       "data": [
        [
         111,
         89.6,
         "2022-02-05T12:00:00.000+0000"
        ]
       ],
       "datasetInfos": [],
       "dbfsResultPath": null,
       "isJsonSchema": true,
       "metadata": {},
       "overflow": false,
       "plotOptions": {
        "customPlotOptions": {},
        "displayType": "table",
        "pivotAggregation": null,
        "pivotColumns": null,
        "xColumns": null,
        "yColumns": null
       },
       "removedWidgets": [],
       "schema": [
        {
         "metadata": "{}",
         "name": "user_id",
         "type": "\"integer\""
        },
        {
         "metadata": "{}",
         "name": "spend",
         "type": "\"double\""
        },
        {
         "metadata": "{}",
         "name": "transaction_date",
         "type": "\"timestamp\""
        }
       ],
       "type": "table"
      }
     },
     "output_type": "display_data"
    }
   ],
   "source": [
    "%sql\n",
    "with tb1 as (\n",
    "  select *, row_number() over (partition by user_id order by transaction_date asc) rn\n",
    "  from datalemur_q.transactions\n",
    ") select user_id,spend, transaction_date\n",
    "from tb1 where rn = 3"
   ]
  },
  {
   "cell_type": "code",
   "execution_count": 0,
   "metadata": {
    "application/vnd.databricks.v1+cell": {
     "cellMetadata": {
      "byteLimit": 2048000,
      "rowLimit": 10000
     },
     "inputWidgets": {},
     "nuid": "df403f12-1c64-4510-9113-d5098b1e6f6c",
     "showTitle": false,
     "title": ""
    }
   },
   "outputs": [
    {
     "output_type": "display_data",
     "data": {
      "text/html": [
       "<style scoped>\n",
       "  .table-result-container {\n",
       "    max-height: 300px;\n",
       "    overflow: auto;\n",
       "  }\n",
       "  table, th, td {\n",
       "    border: 1px solid black;\n",
       "    border-collapse: collapse;\n",
       "  }\n",
       "  th, td {\n",
       "    padding: 5px;\n",
       "  }\n",
       "  th {\n",
       "    text-align: left;\n",
       "  }\n",
       "</style><div class='table-result-container'><table class='table-result'><thead style='background-color: white'><tr><th>user_id</th><th>spend</th><th>transaction_date</th></tr></thead><tbody><tr><td>111</td><td>89.6</td><td>2022-02-05T12:00:00.000+0000</td></tr></tbody></table></div>"
      ]
     },
     "metadata": {
      "application/vnd.databricks.v1+output": {
       "addedWidgets": {},
       "aggData": [],
       "aggError": "",
       "aggOverflow": false,
       "aggSchema": [],
       "aggSeriesLimitReached": false,
       "aggType": "",
       "arguments": {},
       "columnCustomDisplayInfos": {},
       "data": [
        [
         111,
         89.6,
         "2022-02-05T12:00:00.000+0000"
        ]
       ],
       "datasetInfos": [],
       "dbfsResultPath": null,
       "isJsonSchema": true,
       "metadata": {},
       "overflow": false,
       "plotOptions": {
        "customPlotOptions": {},
        "displayType": "table",
        "pivotAggregation": null,
        "pivotColumns": null,
        "xColumns": null,
        "yColumns": null
       },
       "removedWidgets": [],
       "schema": [
        {
         "metadata": "{}",
         "name": "user_id",
         "type": "\"integer\""
        },
        {
         "metadata": "{}",
         "name": "spend",
         "type": "\"double\""
        },
        {
         "metadata": "{}",
         "name": "transaction_date",
         "type": "\"timestamp\""
        }
       ],
       "type": "table"
      }
     },
     "output_type": "display_data"
    }
   ],
   "source": [
    "df_transactons = spark.sql(\" select * from datalemur_q.transactions \")\n",
    "# df_transactons.show()\n",
    "window_transac = Window.partitionBy(col('user_id')).orderBy(asc('transaction_date'))\n",
    "\n",
    "display(\n",
    "    df_transactons\n",
    "    .withColumn('rn', row_number().over(window_transac))\n",
    "    .filter(\"rn == 3\")\n",
    "    .drop(\"rn\")\n",
    ")"
   ]
  },
  {
   "cell_type": "code",
   "execution_count": 0,
   "metadata": {
    "application/vnd.databricks.v1+cell": {
     "cellMetadata": {},
     "inputWidgets": {},
     "nuid": "3dda169d-10ab-497c-997d-50ee79f156bc",
     "showTitle": false,
     "title": ""
    }
   },
   "outputs": [],
   "source": []
  },
  {
   "cell_type": "markdown",
   "metadata": {
    "application/vnd.databricks.v1+cell": {
     "cellMetadata": {},
     "inputWidgets": {},
     "nuid": "d65116d9-91df-4ede-8ffc-0445dd365594",
     "showTitle": false,
     "title": ""
    }
   },
   "source": [
    "#### Q2 : Sending vs. Opening Snaps [Snapchat SQL Interview Question]"
   ]
  },
  {
   "cell_type": "code",
   "execution_count": 0,
   "metadata": {
    "application/vnd.databricks.v1+cell": {
     "cellMetadata": {
      "byteLimit": 2048000,
      "rowLimit": 10000
     },
     "inputWidgets": {},
     "nuid": "49174e6c-0e0a-47a6-bb03-f597617dd558",
     "showTitle": false,
     "title": ""
    }
   },
   "outputs": [],
   "source": [
    "# -- Assume you're given tables with information on Snapchat users, including their ages and time spent sending and opening snaps.\n",
    "\n",
    "# -- Write a query to obtain a breakdown of the time spent sending vs. opening snaps as a percentage of total time spent on these activities grouped by age group. Round the percentage to 2 decimal places in the output.\n",
    "\n",
    "# -- Notes:\n",
    "\n",
    "# -- Calculate the following percentages:\n",
    "# -- time spent sending / (Time spent sending + Time spent opening)\n",
    "# -- Time spent opening / (Time spent sending + Time spent opening)\n",
    "# -- To avoid integer division in percentages, multiply by 100.0 and not 100.\n",
    "\n",
    "# -- use the tables activities, age_breakdown for this task\n",
    "# -- https://datalemur.com/questions/time-spent-snaps"
   ]
  },
  {
   "cell_type": "code",
   "execution_count": 0,
   "metadata": {
    "application/vnd.databricks.v1+cell": {
     "cellMetadata": {
      "byteLimit": 2048000,
      "implicitDf": true,
      "rowLimit": 10000
     },
     "inputWidgets": {},
     "nuid": "ccf65e0c-1b0c-4ac4-a6d1-06fa389da969",
     "showTitle": false,
     "title": ""
    }
   },
   "outputs": [
    {
     "output_type": "display_data",
     "data": {
      "text/html": [
       "<style scoped>\n",
       "  .table-result-container {\n",
       "    max-height: 300px;\n",
       "    overflow: auto;\n",
       "  }\n",
       "  table, th, td {\n",
       "    border: 1px solid black;\n",
       "    border-collapse: collapse;\n",
       "  }\n",
       "  th, td {\n",
       "    padding: 5px;\n",
       "  }\n",
       "  th {\n",
       "    text-align: left;\n",
       "  }\n",
       "</style><div class='table-result-container'><table class='table-result'><thead style='background-color: white'><tr><th>age_bucket</th><th>send_perc</th><th>open_perc</th></tr></thead><tbody><tr><td>31-35</td><td>43.75</td><td>56.25</td></tr><tr><td>26-30</td><td>65.4</td><td>34.6</td></tr></tbody></table></div>"
      ]
     },
     "metadata": {
      "application/vnd.databricks.v1+output": {
       "addedWidgets": {},
       "aggData": [],
       "aggError": "",
       "aggOverflow": false,
       "aggSchema": [],
       "aggSeriesLimitReached": false,
       "aggType": "",
       "arguments": {},
       "columnCustomDisplayInfos": {},
       "data": [
        [
         "31-35",
         43.75,
         56.25
        ],
        [
         "26-30",
         65.4,
         34.6
        ]
       ],
       "datasetInfos": [],
       "dbfsResultPath": null,
       "isJsonSchema": true,
       "metadata": {},
       "overflow": false,
       "plotOptions": {
        "customPlotOptions": {},
        "displayType": "table",
        "pivotAggregation": null,
        "pivotColumns": null,
        "xColumns": null,
        "yColumns": null
       },
       "removedWidgets": [],
       "schema": [
        {
         "metadata": "{}",
         "name": "age_bucket",
         "type": "\"string\""
        },
        {
         "metadata": "{}",
         "name": "send_perc",
         "type": "\"double\""
        },
        {
         "metadata": "{}",
         "name": "open_perc",
         "type": "\"double\""
        }
       ],
       "type": "table"
      }
     },
     "output_type": "display_data"
    }
   ],
   "source": [
    "%sql\n",
    "with tb1 as (\n",
    "  select b.age_bucket, \n",
    "    sum(case when a.activity_type = 'send' then a.time_spent else 0 end) / ( sum(case when a.activity_type = 'send' then a.time_spent else 0 end) + sum(case when a.activity_type = 'open' then a.time_spent else 0 end) )*100.0 send_perc,\n",
    "    sum(case when a.activity_type = 'open' then a.time_spent else 0 end) / ( sum(case when a.activity_type = 'send' then a.time_spent else 0 end) + sum(case when a.activity_type = 'open' then a.time_spent else 0 end) )*100.0 open_perc\n",
    "  from datalemur_q.activities a\n",
    "  inner join datalemur_q.age_breakdown b on (a.user_id = b.user_id)\n",
    "  group by b.age_bucket\n",
    ") select age_bucket, round(send_perc, 2 )send_perc, round(open_perc, 2) open_perc\n",
    "from tb1\n",
    "where ((send_perc is not null) or (open_perc is not null))"
   ]
  },
  {
   "cell_type": "code",
   "execution_count": 0,
   "metadata": {
    "application/vnd.databricks.v1+cell": {
     "cellMetadata": {
      "byteLimit": 2048000,
      "rowLimit": 10000
     },
     "inputWidgets": {},
     "nuid": "9257d3ec-84e7-4c2f-94aa-7eb71e15f121",
     "showTitle": false,
     "title": ""
    }
   },
   "outputs": [
    {
     "output_type": "display_data",
     "data": {
      "text/html": [
       "<style scoped>\n",
       "  .table-result-container {\n",
       "    max-height: 300px;\n",
       "    overflow: auto;\n",
       "  }\n",
       "  table, th, td {\n",
       "    border: 1px solid black;\n",
       "    border-collapse: collapse;\n",
       "  }\n",
       "  th, td {\n",
       "    padding: 5px;\n",
       "  }\n",
       "  th {\n",
       "    text-align: left;\n",
       "  }\n",
       "</style><div class='table-result-container'><table class='table-result'><thead style='background-color: white'><tr><th>age_bucket</th><th>send_perc</th><th>open_perc</th></tr></thead><tbody><tr><td>31-35</td><td>43.75</td><td>56.25</td></tr><tr><td>26-30</td><td>65.4</td><td>34.6</td></tr></tbody></table></div>"
      ]
     },
     "metadata": {
      "application/vnd.databricks.v1+output": {
       "addedWidgets": {},
       "aggData": [],
       "aggError": "",
       "aggOverflow": false,
       "aggSchema": [],
       "aggSeriesLimitReached": false,
       "aggType": "",
       "arguments": {},
       "columnCustomDisplayInfos": {},
       "data": [
        [
         "31-35",
         43.75,
         56.25
        ],
        [
         "26-30",
         65.4,
         34.6
        ]
       ],
       "datasetInfos": [],
       "dbfsResultPath": null,
       "isJsonSchema": true,
       "metadata": {},
       "overflow": false,
       "plotOptions": {
        "customPlotOptions": {},
        "displayType": "table",
        "pivotAggregation": null,
        "pivotColumns": null,
        "xColumns": null,
        "yColumns": null
       },
       "removedWidgets": [],
       "schema": [
        {
         "metadata": "{}",
         "name": "age_bucket",
         "type": "\"string\""
        },
        {
         "metadata": "{}",
         "name": "send_perc",
         "type": "\"double\""
        },
        {
         "metadata": "{}",
         "name": "open_perc",
         "type": "\"double\""
        }
       ],
       "type": "table"
      }
     },
     "output_type": "display_data"
    }
   ],
   "source": [
    "df_act = spark.sql(\" select * from datalemur_q.activities \")\n",
    "df_age_break = spark.sql(\" select * from datalemur_q.age_breakdown \")\n",
    "\n",
    "display(\n",
    "    df_act\n",
    "    .join(df_age_break, on='user_id', how='inner')\n",
    "    .groupBy('age_bucket')\n",
    "    .agg(\n",
    "        (\n",
    "            round(sum(when(col('activity_type') == 'send', col('time_spent')).otherwise(0)) / \n",
    "                  ( sum(when(col('activity_type') == 'send', col('time_spent')).otherwise(0)) + sum(when(col('activity_type') == 'open', col('time_spent')).otherwise(0)) )*100.0, 2)\n",
    "        ).alias('send_perc'),\n",
    "        (\n",
    "            round(sum(when(col('activity_type') == 'open', col('time_spent')).otherwise(0)) / \n",
    "                  ( sum(when(col('activity_type') == 'send', col('time_spent')).otherwise(0)) + sum(when(col('activity_type') == 'open', col('time_spent')).otherwise(0)) )*100.0, 2)\n",
    "        ).alias('open_perc')\n",
    "    )\n",
    "    .filter(\"((send_perc is not null) or (open_perc is not null))\")\n",
    ")"
   ]
  },
  {
   "cell_type": "code",
   "execution_count": 0,
   "metadata": {
    "application/vnd.databricks.v1+cell": {
     "cellMetadata": {},
     "inputWidgets": {},
     "nuid": "aa13ddd5-4bcf-4c50-9342-49cff4cc0f2d",
     "showTitle": false,
     "title": ""
    }
   },
   "outputs": [],
   "source": []
  },
  {
   "cell_type": "markdown",
   "metadata": {
    "application/vnd.databricks.v1+cell": {
     "cellMetadata": {},
     "inputWidgets": {},
     "nuid": "bb946691-444e-4e65-98d4-07ecae05a0ec",
     "showTitle": false,
     "title": ""
    }
   },
   "source": [
    "#### Q3 : Tweets' Rolling Averages [Twitter SQL Interview Question]"
   ]
  },
  {
   "cell_type": "code",
   "execution_count": 0,
   "metadata": {
    "application/vnd.databricks.v1+cell": {
     "cellMetadata": {
      "byteLimit": 2048000,
      "rowLimit": 10000
     },
     "inputWidgets": {},
     "nuid": "10678241-4a66-4e0e-ab2c-910093db296b",
     "showTitle": false,
     "title": ""
    }
   },
   "outputs": [],
   "source": [
    "# -- Given a table of tweet data over a specified time period, calculate the 3-day rolling average of tweets for each user. Output the user ID, tweet date, and rolling averages rounded to 2 decimal places.\n",
    "\n",
    "# -- Notes:\n",
    "\n",
    "# -- A rolling average, also known as a moving average or running mean is a time-series technique that examines trends in data over a specified period of time.\n",
    "# -- In this case, we want to determine how the tweet count for each user changes over a 3-day period.\n",
    "\n",
    "# -- https://datalemur.com/questions/rolling-average-tweets\n",
    "\n",
    "# -- use the table tweets_hd for this task"
   ]
  },
  {
   "cell_type": "code",
   "execution_count": 0,
   "metadata": {
    "application/vnd.databricks.v1+cell": {
     "cellMetadata": {
      "byteLimit": 2048000,
      "implicitDf": true,
      "rowLimit": 10000
     },
     "inputWidgets": {},
     "nuid": "b7876cb4-b18d-4577-871d-f066299f05f9",
     "showTitle": false,
     "title": ""
    }
   },
   "outputs": [
    {
     "output_type": "display_data",
     "data": {
      "text/html": [
       "<style scoped>\n",
       "  .table-result-container {\n",
       "    max-height: 300px;\n",
       "    overflow: auto;\n",
       "  }\n",
       "  table, th, td {\n",
       "    border: 1px solid black;\n",
       "    border-collapse: collapse;\n",
       "  }\n",
       "  th, td {\n",
       "    padding: 5px;\n",
       "  }\n",
       "  th {\n",
       "    text-align: left;\n",
       "  }\n",
       "</style><div class='table-result-container'><table class='table-result'><thead style='background-color: white'><tr><th>user_id</th><th>tweet_date</th><th>tweet_count</th><th>rolling_avg</th></tr></thead><tbody><tr><td>111</td><td>2022-06-01T00:00:00.000+0000</td><td>2</td><td>2.0</td></tr><tr><td>111</td><td>2022-06-02T00:00:00.000+0000</td><td>1</td><td>1.5</td></tr><tr><td>111</td><td>2022-06-03T00:00:00.000+0000</td><td>3</td><td>2.0</td></tr><tr><td>111</td><td>2022-06-04T00:00:00.000+0000</td><td>4</td><td>2.67</td></tr><tr><td>111</td><td>2022-06-05T00:00:00.000+0000</td><td>5</td><td>4.0</td></tr></tbody></table></div>"
      ]
     },
     "metadata": {
      "application/vnd.databricks.v1+output": {
       "addedWidgets": {},
       "aggData": [],
       "aggError": "",
       "aggOverflow": false,
       "aggSchema": [],
       "aggSeriesLimitReached": false,
       "aggType": "",
       "arguments": {},
       "columnCustomDisplayInfos": {},
       "data": [
        [
         111,
         "2022-06-01T00:00:00.000+0000",
         2,
         2.0
        ],
        [
         111,
         "2022-06-02T00:00:00.000+0000",
         1,
         1.5
        ],
        [
         111,
         "2022-06-03T00:00:00.000+0000",
         3,
         2.0
        ],
        [
         111,
         "2022-06-04T00:00:00.000+0000",
         4,
         2.67
        ],
        [
         111,
         "2022-06-05T00:00:00.000+0000",
         5,
         4.0
        ]
       ],
       "datasetInfos": [],
       "dbfsResultPath": null,
       "isJsonSchema": true,
       "metadata": {},
       "overflow": false,
       "plotOptions": {
        "customPlotOptions": {},
        "displayType": "table",
        "pivotAggregation": null,
        "pivotColumns": null,
        "xColumns": null,
        "yColumns": null
       },
       "removedWidgets": [],
       "schema": [
        {
         "metadata": "{}",
         "name": "user_id",
         "type": "\"integer\""
        },
        {
         "metadata": "{}",
         "name": "tweet_date",
         "type": "\"timestamp\""
        },
        {
         "metadata": "{}",
         "name": "tweet_count",
         "type": "\"integer\""
        },
        {
         "metadata": "{}",
         "name": "rolling_avg",
         "type": "\"double\""
        }
       ],
       "type": "table"
      }
     },
     "output_type": "display_data"
    }
   ],
   "source": [
    "%sql\n",
    "select *, round(avg(tweet_count) over (order by tweet_date asc rows between 2 preceding and current row), 2)rolling_avg\n",
    "from datalemur_q.tweets_hd"
   ]
  },
  {
   "cell_type": "markdown",
   "metadata": {
    "application/vnd.databricks.v1+cell": {
     "cellMetadata": {},
     "inputWidgets": {},
     "nuid": "2996fcc8-5271-457a-9c19-9c274e3897fb",
     "showTitle": false,
     "title": ""
    }
   },
   "source": [
    "#### Q4 : Highest-Grossing Items [Amazon SQL Interview Question]"
   ]
  },
  {
   "cell_type": "code",
   "execution_count": 0,
   "metadata": {
    "application/vnd.databricks.v1+cell": {
     "cellMetadata": {
      "byteLimit": 2048000,
      "rowLimit": 10000
     },
     "inputWidgets": {},
     "nuid": "f29e07b0-d2bf-4154-9436-0e8d1b7bec8a",
     "showTitle": false,
     "title": ""
    }
   },
   "outputs": [],
   "source": [
    "# -- Assume you're given a table containing data on Amazon customers and their spending on products in different category, write a query to identify the top two highest-grossing products within each category in the year 2022. The output should include the category, product, and total spend.\n",
    "\n",
    "# -- https://datalemur.com/questions/sql-highest-grossing\n",
    "# -- use the table product_spend for this task"
   ]
  },
  {
   "cell_type": "code",
   "execution_count": 0,
   "metadata": {
    "application/vnd.databricks.v1+cell": {
     "cellMetadata": {
      "byteLimit": 2048000,
      "implicitDf": true,
      "rowLimit": 10000
     },
     "inputWidgets": {},
     "nuid": "16a8affa-399b-4130-b2b9-023e4fb192d6",
     "showTitle": false,
     "title": ""
    }
   },
   "outputs": [
    {
     "output_type": "display_data",
     "data": {
      "text/html": [
       "<style scoped>\n",
       "  .table-result-container {\n",
       "    max-height: 300px;\n",
       "    overflow: auto;\n",
       "  }\n",
       "  table, th, td {\n",
       "    border: 1px solid black;\n",
       "    border-collapse: collapse;\n",
       "  }\n",
       "  th, td {\n",
       "    padding: 5px;\n",
       "  }\n",
       "  th {\n",
       "    text-align: left;\n",
       "  }\n",
       "</style><div class='table-result-container'><table class='table-result'><thead style='background-color: white'><tr><th>category</th><th>product</th><th>total_spend</th><th>rn</th></tr></thead><tbody><tr><td>appliance</td><td>refrigerator</td><td>299.99</td><td>1</td></tr><tr><td>appliance</td><td>washing machine</td><td>219.8</td><td>2</td></tr><tr><td>electronics</td><td>vacuum</td><td>341.0</td><td>1</td></tr><tr><td>electronics</td><td>wireless headset</td><td>249.9</td><td>2</td></tr></tbody></table></div>"
      ]
     },
     "metadata": {
      "application/vnd.databricks.v1+output": {
       "addedWidgets": {},
       "aggData": [],
       "aggError": "",
       "aggOverflow": false,
       "aggSchema": [],
       "aggSeriesLimitReached": false,
       "aggType": "",
       "arguments": {},
       "columnCustomDisplayInfos": {},
       "data": [
        [
         "appliance",
         "refrigerator",
         299.99,
         1
        ],
        [
         "appliance",
         "washing machine",
         219.8,
         2
        ],
        [
         "electronics",
         "vacuum",
         341.0,
         1
        ],
        [
         "electronics",
         "wireless headset",
         249.9,
         2
        ]
       ],
       "datasetInfos": [],
       "dbfsResultPath": null,
       "isJsonSchema": true,
       "metadata": {},
       "overflow": false,
       "plotOptions": {
        "customPlotOptions": {},
        "displayType": "table",
        "pivotAggregation": null,
        "pivotColumns": null,
        "xColumns": null,
        "yColumns": null
       },
       "removedWidgets": [],
       "schema": [
        {
         "metadata": "{}",
         "name": "category",
         "type": "\"string\""
        },
        {
         "metadata": "{}",
         "name": "product",
         "type": "\"string\""
        },
        {
         "metadata": "{}",
         "name": "total_spend",
         "type": "\"double\""
        },
        {
         "metadata": "{}",
         "name": "rn",
         "type": "\"integer\""
        }
       ],
       "type": "table"
      }
     },
     "output_type": "display_data"
    }
   ],
   "source": [
    "%sql\n",
    "with tb1 as (\n",
    "  select category, product, sum(spend) total_spend\n",
    "  from datalemur_q.product_spend\n",
    "  where year(transaction_date) = '2022'\n",
    "  group by category, product\n",
    "), tb2 as (\n",
    "  select *, row_number() over (partition by category order by total_spend desc) rn\n",
    "  from tb1\n",
    ") select * from tb2 where rn <= 2\n"
   ]
  },
  {
   "cell_type": "markdown",
   "metadata": {
    "application/vnd.databricks.v1+cell": {
     "cellMetadata": {},
     "inputWidgets": {},
     "nuid": "9558653c-b702-4a24-93e8-79440eee9910",
     "showTitle": false,
     "title": ""
    }
   },
   "source": [
    "#### Q5 : Top 5 Artists [Spotify SQL Interview Question]"
   ]
  },
  {
   "cell_type": "code",
   "execution_count": 0,
   "metadata": {
    "application/vnd.databricks.v1+cell": {
     "cellMetadata": {
      "byteLimit": 2048000,
      "rowLimit": 10000
     },
     "inputWidgets": {},
     "nuid": "b178068a-0b70-43b9-93fc-9d939b379535",
     "showTitle": false,
     "title": ""
    }
   },
   "outputs": [],
   "source": [
    "# -- Assume there are three Spotify tables: artists, songs, and global_song_rank, which contain information about the artists, songs, and music charts, respectively.\n",
    "\n",
    "# -- Write a query to find the top 5 artists whose songs appear most frequently in the Top 10 of the global_song_rank table. Display the top 5 artist names in ascending order, along with their song appearance ranking.\n",
    "\n",
    "# -- If two or more artists have the same number of song appearances, they should be assigned the same ranking, and the rank numbers should be continuous (i.e. 1, 2, 2, 3, 4, 5). If you've never seen a rank order like this before, do the rank window function tutorial.\n",
    "\n",
    "# -- https://datalemur.com/questions/top-fans-rank\n",
    "\n",
    "# -- use the tables artists, songs, global_song_rank for this task"
   ]
  },
  {
   "cell_type": "code",
   "execution_count": 0,
   "metadata": {
    "application/vnd.databricks.v1+cell": {
     "cellMetadata": {
      "byteLimit": 2048000,
      "implicitDf": true,
      "rowLimit": 10000
     },
     "inputWidgets": {},
     "nuid": "c25aa9ff-646c-48b2-9794-185900ff0300",
     "showTitle": false,
     "title": ""
    }
   },
   "outputs": [
    {
     "output_type": "display_data",
     "data": {
      "text/html": [
       "<style scoped>\n",
       "  .table-result-container {\n",
       "    max-height: 300px;\n",
       "    overflow: auto;\n",
       "  }\n",
       "  table, th, td {\n",
       "    border: 1px solid black;\n",
       "    border-collapse: collapse;\n",
       "  }\n",
       "  th, td {\n",
       "    padding: 5px;\n",
       "  }\n",
       "  th {\n",
       "    text-align: left;\n",
       "  }\n",
       "</style><div class='table-result-container'><table class='table-result'><thead style='background-color: white'><tr><th>artist_name</th><th>song_name</th><th>song_rank</th></tr></thead><tbody><tr><td>Drake</td><td>Hotline Bling</td><td>3</td></tr><tr><td>Ed Sheeran</td><td>Shape of You</td><td>5</td></tr><tr><td>Ed Sheeran</td><td>Shape of You</td><td>2</td></tr></tbody></table></div>"
      ]
     },
     "metadata": {
      "application/vnd.databricks.v1+output": {
       "addedWidgets": {},
       "aggData": [],
       "aggError": "",
       "aggOverflow": false,
       "aggSchema": [],
       "aggSeriesLimitReached": false,
       "aggType": "",
       "arguments": {},
       "columnCustomDisplayInfos": {},
       "data": [
        [
         "Drake",
         "Hotline Bling",
         3
        ],
        [
         "Ed Sheeran",
         "Shape of You",
         5
        ],
        [
         "Ed Sheeran",
         "Shape of You",
         2
        ]
       ],
       "datasetInfos": [],
       "dbfsResultPath": null,
       "isJsonSchema": true,
       "metadata": {},
       "overflow": false,
       "plotOptions": {
        "customPlotOptions": {},
        "displayType": "table",
        "pivotAggregation": null,
        "pivotColumns": null,
        "xColumns": null,
        "yColumns": null
       },
       "removedWidgets": [],
       "schema": [
        {
         "metadata": "{}",
         "name": "artist_name",
         "type": "\"string\""
        },
        {
         "metadata": "{}",
         "name": "song_name",
         "type": "\"string\""
        },
        {
         "metadata": "{}",
         "name": "song_rank",
         "type": "\"integer\""
        }
       ],
       "type": "table"
      }
     },
     "output_type": "display_data"
    }
   ],
   "source": [
    "%sql\n",
    "with tb1 as (\n",
    "  select\n",
    "    a.artist_name, s.name, g.rank\n",
    "  from datalemur_q.artists a\n",
    "  inner join datalemur_q.songs s on (a.artist_id = s.artist_id)\n",
    "  inner join datalemur_q.global_song_rank g on (s.song_id = g.song_id)\n",
    "  where g.rank <= 10\n",
    "), tb2 as (\n",
    "  select *, rank() over (partition by artist_name order by rank desc) rk from tb1\n",
    ") select artist_name, name song_name, rank song_rank\n",
    "from tb2\n",
    "where rk <= 10"
   ]
  },
  {
   "cell_type": "code",
   "execution_count": 0,
   "metadata": {
    "application/vnd.databricks.v1+cell": {
     "cellMetadata": {},
     "inputWidgets": {},
     "nuid": "961d90bd-a236-4b19-9d72-f1fbf7a924eb",
     "showTitle": false,
     "title": ""
    }
   },
   "outputs": [],
   "source": []
  }
 ],
 "metadata": {
  "application/vnd.databricks.v1+notebook": {
   "dashboards": [],
   "language": "python",
   "notebookMetadata": {
    "mostRecentlyExecutedCommandWithImplicitDF": {
     "commandId": 4269408240805959,
     "dataframes": [
      "_sqldf"
     ]
    },
    "pythonIndentUnit": 4
   },
   "notebookName": "DataLemur_SQL_Pyspark_RDD_Questions",
   "widgets": {}
  }
 },
 "nbformat": 4,
 "nbformat_minor": 0
}
